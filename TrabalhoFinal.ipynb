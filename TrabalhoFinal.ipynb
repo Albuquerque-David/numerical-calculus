{
 "cells": [
  {
   "cell_type": "markdown",
   "metadata": {},
   "source": [
    "# Cálculo Numérico - 2021.2 - Tarefa 7 - Professor João Paixão\n",
    "## Realizado por: David Rodrigues Albuquerque - 120047390\n",
    "## Realizado com: Beatriz Almeida Ramos, Matheus Barroso"
   ]
  },
  {
   "cell_type": "code",
   "execution_count": null,
   "metadata": {},
   "outputs": [],
   "source": [
    "using Plots\n",
    "using LinearAlgebra\n",
    "using Random\n",
    "using Polynomials"
   ]
  },
  {
   "cell_type": "markdown",
   "metadata": {},
   "source": [
    "## 2) Achar valor aproximado da função usando derivadas"
   ]
  },
  {
   "cell_type": "markdown",
   "metadata": {},
   "source": [
    "### i)"
   ]
  },
  {
   "cell_type": "code",
   "execution_count": null,
   "metadata": {},
   "outputs": [],
   "source": [
    "# Entrada um valor qualquer x, um valor qualquer a, um vetor contendo as informações das derivadas em a, maior valor da n-derivada no intervalo \n",
    "# Saida o valor aproximado da função no ponto x e o erro máximo\n",
    "# Utiliza o teorema de Taylor de ordem zero para nos dar um valor aproximado de f(x)\n",
    "function Taylor0(x,a, derivadas, M)#x é o valor que será avaliado\n",
    "    E = M*(x-a)\n",
    "    f_a=derivadas[1] # como na primeira casa do vetor tem o valor da função no ponto a, podemos fazer essa atibuição.\n",
    "    return f_a, E\n",
    "end"
   ]
  },
  {
   "cell_type": "code",
   "execution_count": null,
   "metadata": {},
   "outputs": [],
   "source": [
    "# Exemplo 1\n",
    "#e^x x=0.1 a=0\n",
    "derivadas = [1]\n",
    "result, E =Taylor0(0.1, 0, derivadas, 10)\n",
    "print(abs(result-exp(0.1))< E)"
   ]
  },
  {
   "cell_type": "code",
   "execution_count": null,
   "metadata": {},
   "outputs": [],
   "source": [
    "# Exemplo 2\n",
    "#log(x) x=1.01 a=1\n",
    "derivadas = [0]\n",
    "result, E =Taylor0(1.01, 1, derivadas, 2)\n",
    "print(abs(result-log(1.01))<E)\n"
   ]
  },
  {
   "cell_type": "code",
   "execution_count": null,
   "metadata": {},
   "outputs": [],
   "source": [
    "# Exemplo 3\n",
    "\n",
    "function ex(x)\n",
    "return 7x^6 + 8*x^5 + 4*x^4 + x^3 -6x^2 +2*x + 1\n",
    "end    \n",
    "\n",
    "#7x^6 + 8*x^5 + 4*x^4 + x^3 -6x^2 +2*x + 1, x=2.1666666666, a=2\n",
    "derivadas = [757]\n",
    "result, E = Taylor0(2.166666666, 2, derivadas, 2630)\n",
    "print(abs(result-ex(2.166666666))<E)\n"
   ]
  },
  {
   "cell_type": "markdown",
   "metadata": {},
   "source": [
    "### ii)"
   ]
  },
  {
   "cell_type": "code",
   "execution_count": null,
   "metadata": {},
   "outputs": [],
   "source": [
    "# Entrada um valor qualquer x, um valor qualquer a, um vetor contendo as informações das derivadas em a, maior valor da segunda derivada no intervalo \n",
    "# Saida o valor aproximado da função no ponto x e o erro máximo\n",
    "# Utiliza o teorema de Taylor de ordem um para nos dar um valor aproximado de f(x)\n",
    "function Taylor1(x,a, derivadas, M)#x é o valor que será avaliado\n",
    "    E = (M*(x-a)^2)/2\n",
    "    f_a=derivadas[1] + derivadas[2]*(x-a)\n",
    "    return f_a, E\n",
    "end"
   ]
  },
  {
   "cell_type": "code",
   "execution_count": null,
   "metadata": {},
   "outputs": [],
   "source": [
    "# Exemplo 1\n",
    "#e^x x=0.1 a=0\n",
    "derivadas = [1, 1]\n",
    "result, E =Taylor1(0.1, 0, derivadas, 10)\n",
    "print(abs(result-exp(0.1))< E)"
   ]
  },
  {
   "cell_type": "code",
   "execution_count": null,
   "metadata": {},
   "outputs": [],
   "source": [
    "# Exemplo 2\n",
    "#log(x) x=1.01 a=1\n",
    "derivadas = [0, 1]\n",
    "result, E =Taylor1(1.01, 1, derivadas, 2)\n",
    "print(abs(result-log(1.01))<E)\n"
   ]
  },
  {
   "cell_type": "code",
   "execution_count": null,
   "metadata": {},
   "outputs": [],
   "source": [
    "# Exemplo 3\n",
    "\n",
    "function ex(x)\n",
    "    return 7x^6 + 8*x^5 + 4*x^4 + x^3 -6x^2 +2*x + 1\n",
    "    end    \n",
    "    \n",
    "function ex1(x)\n",
    "    return 42x^5 + 40*x^4 + 16*x^3 + 3*x^2 -12*x +2\n",
    "end   \n",
    "\n",
    "function ex2(x)\n",
    "    return 210x^4 + 160*x^3 + 48*x^2 + 6*x -12\n",
    "end       \n",
    "\n",
    "    #7x^6 + 8*x^5 + 4*x^4 + x^3 -6x^2 +2*x + 1, x=2.1666666666, a=2\n",
    "    derivadas = [757, 2102]\n",
    "    result, E = Taylor1(2.166666666, 2, derivadas, 6856)\n",
    "    \n",
    "    print(abs(result-ex(2.166666666))<E)\n",
    "   "
   ]
  },
  {
   "cell_type": "markdown",
   "metadata": {},
   "source": [
    "### iii)"
   ]
  },
  {
   "cell_type": "code",
   "execution_count": null,
   "metadata": {},
   "outputs": [],
   "source": [
    "# Entrada um valor qualquer x, um valor qualquer a, um vetor contendo as informações das derivadas em a, maior valor da terceira derivada no intervalo \n",
    "# Saida o valor aproximado da função no ponto x e o erro máximo\n",
    "# Utiliza o teorema de Taylor de ordem dois para nos dar um valor aproximado de f(x)\n",
    "function Taylor2(x,a, derivadas, M)#x é o valor que será avaliado\n",
    "    E = (M*(x-a)^3)/6\n",
    "    f_a=derivadas[1] + derivadas[2]*(x-a) +(derivadas[3]*(x-a)^2)/2\n",
    "    return f_a, E\n",
    "end"
   ]
  },
  {
   "cell_type": "code",
   "execution_count": null,
   "metadata": {},
   "outputs": [],
   "source": [
    "# Exemplo 1\n",
    "#e^x x=0.1 a=0\n",
    "derivadas = [1, 1, 1]\n",
    "result, E =Taylor2(0.1, 0, derivadas, 2)\n",
    "print(abs(result-exp(0.1))< E)"
   ]
  },
  {
   "cell_type": "code",
   "execution_count": null,
   "metadata": {},
   "outputs": [],
   "source": [
    "# Exemplo 2\n",
    "#log(x) x=1.01 a=1\n",
    "derivadas = [0, 1, -1]\n",
    "result, E =Taylor2(1.01, 1, derivadas, 3)\n",
    "print(abs(result-log(1.01))<E)\n"
   ]
  },
  {
   "cell_type": "code",
   "execution_count": null,
   "metadata": {},
   "outputs": [],
   "source": [
    "# Exemplo 3\n",
    "\n",
    "function ex(x)\n",
    "    return 7x^6 + 8*x^5 + 4*x^4 + x^3 -6x^2 +2*x + 1\n",
    "    end    \n",
    "    \n",
    "function ex1(x)\n",
    "    return 42x^5 + 40*x^4 + 16*x^3 + 3*x^2 -12*x +2\n",
    "end   \n",
    "\n",
    "function ex2(x)\n",
    "    return 210x^4 + 160*x^3 + 48*x^2 + 6*x -12\n",
    "end      \n",
    "\n",
    "function ex3(x)\n",
    "    return 840x^3 + 480*x^2 + 96*x + 6\n",
    "end   \n",
    "\n",
    "    #7x^6 + 8*x^5 + 4*x^4 + x^3 -6x^2 +2*x + 1, x=2.1666666666, a=2\n",
    "    derivadas = [757, 2102, 4832]\n",
    "    result, E = Taylor2(2.166666666, 2, derivadas, 11484)\n",
    "    \n",
    "    print(abs(result-ex(2.166666666))<E)\n",
    "   "
   ]
  },
  {
   "cell_type": "markdown",
   "metadata": {},
   "source": [
    "### iv)"
   ]
  },
  {
   "cell_type": "code",
   "execution_count": null,
   "metadata": {},
   "outputs": [],
   "source": [
    "# Entrada um valor qualquer x, um valor qualquer a, um vetor contendo as informações das derivadas em a, maior valor da n-derivada no intervalo \n",
    "# Saida o valor aproximado da função no ponto x e o erro máximo\n",
    "# Utiliza o teorema de Taylor de ordem n para nos dar um valor aproximado de f(x)\n",
    "function TaylorN(x,a, derivadas, M)#x é o valor que será avaliado\n",
    "    n, = size(derivadas)\n",
    "    #ordem n-1\n",
    "    E = (M*(x-a)^n)/(factorial(n-1))\n",
    "    soma=0\n",
    "    for i in 1:n\n",
    "        soma+= (derivadas[i]*(x-a)^(i-1))/factorial(i-1)\n",
    "    end\n",
    "    return soma, E\n",
    "end"
   ]
  },
  {
   "cell_type": "code",
   "execution_count": null,
   "metadata": {},
   "outputs": [],
   "source": [
    "# Exemplo 1\n",
    "#e^x x=0.1 a=0\n",
    "derivadas = [1, 1, 1, 1, 1, 1, 1, 1]\n",
    "result, E =TaylorN(0.1, 0, derivadas, 2)\n",
    "print(abs(result-exp(0.1))< E)"
   ]
  },
  {
   "cell_type": "code",
   "execution_count": null,
   "metadata": {},
   "outputs": [],
   "source": [
    "# Exemplo 2\n",
    "#log(x) x=1.01 a=1\n",
    "derivadas = [0, 1, -1, 2, -6]\n",
    "result, E =TaylorN(1.01, 1, derivadas, 7)\n",
    "print(abs(result-log(1.01))<E)\n"
   ]
  },
  {
   "cell_type": "code",
   "execution_count": null,
   "metadata": {},
   "outputs": [],
   "source": [
    "# Exemplo 3\n",
    "\n",
    "function ex(x)\n",
    "    return 7x^6 + 8*x^5 + 4*x^4 + x^3 -6x^2 +2*x + 1\n",
    "end    \n",
    "    \n",
    "function ex1(x)\n",
    "    return 42*x^5 + 40*x^4 + 16*x^3 + 3*x^2 -12*x +2\n",
    "end   \n",
    "\n",
    "function ex2(x)\n",
    "    return 210*x^4 + 160*x^3 + 48*x^2 + 6*x -12\n",
    "end      \n",
    "\n",
    "function ex3(x)\n",
    "    return 840*x^3 + 480*x^2 + 96*x + 6\n",
    "end   \n",
    "\n",
    "function ex4(x)\n",
    "    return 2520*x^2 + 960*x + 96\n",
    "end  \n",
    "\n",
    "function ex5(x)\n",
    "    return 5040*x + 960\n",
    "end  \n",
    "\n",
    "    #7x^6 + 8*x^5 + 4*x^4 + x^3 -6x^2 +2*x + 1, x=2.1666666666, a=2\n",
    "    derivadas = [757, 2102, 4832, 8838, 12096, 11040]\n",
    "    result, E = TaylorN(2.166666666, 2, derivadas, 5040)\n",
    "    \n",
    "    print(abs(result-ex(2.166666666))<E)"
   ]
  },
  {
   "cell_type": "markdown",
   "metadata": {},
   "source": [
    "## 3) Encontrar raízes aproximadas"
   ]
  },
  {
   "cell_type": "markdown",
   "metadata": {},
   "source": [
    "### i)"
   ]
  },
  {
   "cell_type": "code",
   "execution_count": null,
   "metadata": {},
   "outputs": [],
   "source": [
    "\n",
    "function média(x,y)#retorna a mádia entre x e y\n",
    "    return (x+y)/2\n",
    "end\n",
    "\n",
    "function tem_sinais_opostos(f,a,b) #função recebe f(a) e f(b) não nulos e retorna true se f(a) e f(b) possuem sinais opostos, e retorna false caso contrário\n",
    "    return f(a)*f(b) < 0\n",
    "end\n",
    "\n",
    "function é_raiz(f,a)#função que recebe uma função e um valor a, e verifica se o valor a é o zero da função\n",
    "    return f(a)==0\n",
    "end\n",
    "\n",
    "\n",
    "#função que recebe uma função f, um intervalo [a, b] e u erro máximo \n",
    "#a função retorna um valor aproximado do zero da finção com a condição \n",
    "#de que a diferença entre a aproximação e o valor real seja menor do que o erro\n",
    "function bissecao(f, a, b, erro) \n",
    "   \n",
    "        \n",
    "    if é_raiz(f,a)\n",
    "        return a\n",
    "    end\n",
    "    if é_raiz(f,b)\n",
    "        return b\n",
    "    end\n",
    "    if !(tem_sinais_opostos(f,a,b))\n",
    "        return \"Não tem sinais opostos\"\n",
    "    end    \n",
    "    iterações = floor(log2((b-a)/erro))+1\n",
    "    for i=1:iterações\n",
    "        m=média(a,b)\n",
    "        if é_raiz(f,m)\n",
    "            return m\n",
    "        end\n",
    "            \n",
    "        if tem_sinais_opostos(f,a,m)\n",
    "            b=m\n",
    "        else\n",
    "            a=m\n",
    "        end\n",
    "    end\n",
    "        \n",
    "    return média(a,b)\n",
    "end\n",
    "\n",
    " "
   ]
  },
  {
   "cell_type": "markdown",
   "metadata": {},
   "source": [
    "### ii)"
   ]
  },
  {
   "cell_type": "code",
   "execution_count": null,
   "metadata": {},
   "outputs": [],
   "source": [
    "# Entrada função, pontos a e, erro esperado\n",
    "# Saida true  se a matriz A eh quadrada e se o numero de linhas da matriz B eh o mesmo numero de colunas da matriz A. False, caso contrario\n",
    "# Verifica se a matriz A eh quadrada e se o numero de linhas da matriz B eh o mesmo numero de colunas da matriz A\n",
    "function newton(funcao, a, b, erro)#funcao que implementa o método de newton\n",
    "    \n",
    "    chute_inicial=ceil(bissecao(funcao, a, b, erro))\n",
    "    \n",
    "    t = derivar_centralizada1(chute_inicial, funcao, 0.01)\n",
    "    \n",
    "    a= funcao(chute_inicial)\n",
    "    \n",
    "    return chute_inicial - a/t(chute_inicial)\n",
    "end\n",
    "\n",
    "function g(x)\n",
    "    return x^2 - 4\n",
    "end\n",
    "\n",
    "newton(g, -0, 4, 0.1)"
   ]
  },
  {
   "cell_type": "markdown",
   "metadata": {},
   "source": [
    "## 4) Interpolação Polinomial\n"
   ]
  },
  {
   "cell_type": "markdown",
   "metadata": {},
   "source": [
    "### i) Interpolação Com Vandermonte"
   ]
  },
  {
   "cell_type": "code",
   "execution_count": null,
   "metadata": {},
   "outputs": [],
   "source": [
    "# Entrada: n pontos x e y\n",
    "# Saída: Um polinômio F(x), com grau no máximo n, tal que para todo 1<=i<=n, F(x_i)=y_i\n",
    "# A partir de x e y serã nos retornado uma nova função polinomial onde F(x_i)=y_i\n",
    "function interpolação(x,y)# função que calcula os coeficientes do polinomio interpolador, a partir da entrada de x e y\n",
    "    n, = size(x)\n",
    "    V=zeros(n, n)\n",
    "    for i in 1:n\n",
    "        for j in 1:n\n",
    "            V[i,j]=x[i]^(j-1)\n",
    "        end\n",
    "    end\n",
    "    c=inv(V)*y #resolver o sistema linear Vc=y\n",
    "    #vetor de coeficientes\n",
    "    function fp(t)\n",
    "        soma = 0\n",
    "        for i in 1:n\n",
    "            soma+=c[i]*t^(i-1)\n",
    "        end\n",
    "        return soma    \n",
    "    end\n",
    "    return fp\n",
    "end\n",
    "\n"
   ]
  },
  {
   "cell_type": "code",
   "execution_count": null,
   "metadata": {},
   "outputs": [],
   "source": [
    "# Exemplo 1\n",
    "x = [15.5; 16.5; 17.5]\n",
    "y = [34; 200; 25]\n",
    "fp=interpolação(x,y)\n",
    "scatter(x, y, c=:lightblue, ms=3, leg=false)\n",
    "plot!(fp)"
   ]
  },
  {
   "cell_type": "code",
   "execution_count": null,
   "metadata": {},
   "outputs": [],
   "source": [
    "# Exemplo 2\n",
    "x = rand(5)\n",
    "y = rand(5)\n",
    "fp=interpolação(x,y)\n",
    "scatter(x, y, c=:lightblue, ms=3, leg=false)\n",
    "plot!(fp)\n"
   ]
  },
  {
   "cell_type": "code",
   "execution_count": null,
   "metadata": {},
   "outputs": [],
   "source": [
    "function ex(x)\n",
    "    return 7x^6 + 8*x^5 + 4*x^4 + x^3 -6x^2 +2*x + 1\n",
    "end \n",
    "x = rand(7)*10\n",
    "y = ex.(x)\n",
    "fp=interpolação(x,y)\n",
    "scatter(x, y, c=:lightblue, ms=3, leg=false)\n",
    "plot!(fp)\n",
    "plot!(ex)"
   ]
  },
  {
   "cell_type": "markdown",
   "metadata": {},
   "source": [
    "\n",
    "### ii) Interpolação com Lagrange"
   ]
  },
  {
   "cell_type": "code",
   "execution_count": null,
   "metadata": {},
   "outputs": [],
   "source": [
    "#Entrada: Um conjunto de pares x e y\n",
    "#Saida: uma função que representa o polinômio interpolador, calculado utilizando o polinômio de Lagrange\n",
    "function interpolaçãoLagrange(x,y)# função que calcula os coeficientes do polinomio interpolador, a partir da entrada de x e y\n",
    "    n, = size(x)\n",
    "    L =zeros(n, 1)\n",
    "    \n",
    "    function f_ip(t)\n",
    "        expressao=0\n",
    "        for i in 1:n\n",
    "            numerador=1\n",
    "            denominador=1\n",
    "            for j in 1:n\n",
    "                if(i!=j)\n",
    "                    numerador*=(t-x[j])\n",
    "                    denominador*=(x[i] - x[j])\n",
    "                end  \n",
    "            end\n",
    "            L[i]=numerador/denominador\n",
    "            expressao+=L[i]*y[i]\n",
    "            \n",
    "        end\n",
    "        return expressao\n",
    "    end\n",
    "    \n",
    "    return f_ip\n",
    "end\n"
   ]
  },
  {
   "cell_type": "code",
   "execution_count": null,
   "metadata": {},
   "outputs": [],
   "source": [
    "# Exemplo 1\n",
    "x = [15.5; 16.5; 17.5]\n",
    "y = [34; 200; 25]\n",
    "fp=interpolaçãoLagrange(x,y)\n",
    "scatter(x, y, c=:lightblue, ms=3, leg=false)\n",
    "plot!(fp)"
   ]
  },
  {
   "cell_type": "code",
   "execution_count": null,
   "metadata": {},
   "outputs": [],
   "source": [
    "# Exemplo 2\n",
    "x = rand(5)\n",
    "y = rand(5)\n",
    "fp=interpolaçãoLagrange(x,y)\n",
    "scatter(x, y, c=:lightblue, ms=3, leg=false)\n",
    "plot!(fp)"
   ]
  },
  {
   "cell_type": "code",
   "execution_count": null,
   "metadata": {},
   "outputs": [],
   "source": [
    "# Exemplo 3\n",
    "function ex(x)\n",
    "    return 7x^6 + 8*x^5 + 4*x^4 + x^3 -6x^2 +2*x + 1\n",
    "end \n",
    "x = rand(7)*10\n",
    "y = ex.(x)\n",
    "fp=interpolaçãoLagrange(x,y)\n",
    "scatter(x, y, c=:lightblue, ms=3, leg=false)\n",
    "plot!(fp)\n",
    "plot!(ex)"
   ]
  },
  {
   "cell_type": "markdown",
   "metadata": {},
   "source": [
    "## 5) Regressão polinomial"
   ]
  },
  {
   "cell_type": "code",
   "execution_count": null,
   "metadata": {},
   "outputs": [],
   "source": [
    "# Entrada: um conjunto de pontos (x,y) quaisquer e o grau da regressão linear \n",
    "# Saida: um função polinomial do grau de entrada com a melhor aproximação para os pontos (x,y) dados\n",
    "# Utiliza a regressão na forma polinomial, resolvendo o sistema pelo método de mínimos quadrados\n",
    "function regressão(x,y,grau)\n",
    "    V=vandermonde(x,y,grau)\n",
    "    c=inv(V'*V)*(V'*y) #mínimos quadrados\n",
    "    #c=V\\y\n",
    "    return c, grau\n",
    "end\n",
    "\n",
    "function vandermonde(x,y,grau)\n",
    "    n,=size(y)\n",
    "    V=zeros(n,grau+1)\n",
    "    for i=1:n #linhas\n",
    "        for j=1:(grau+1)\n",
    "            V[i,j]=x[i]^(j-1)\n",
    "        end\n",
    "    end\n",
    "    return V\n",
    "end\n",
    "\n",
    "function plota_regressão(regressao, grau)\n",
    "    coefs = Float64[]\n",
    "    p = Any[]\n",
    "    for i=1:grau+1 #linhas\n",
    "        push!(coefs, regressao[i])\n",
    "        p = Polynomial(coefs)\n",
    "    end\n",
    "    return p\n",
    "end"
   ]
  },
  {
   "cell_type": "code",
   "execution_count": null,
   "metadata": {},
   "outputs": [],
   "source": [
    "# Exemplo 1\n",
    "Random.seed!(0)\n",
    "# Gerando dados fictícios para teste\n",
    "n = 30\n",
    "x = range(0, 2, length=n)\n",
    "\n",
    "f(x) = (x-1)^3\n",
    "\n",
    "y = f.(x) + randn(n)*0.05 #ruído\n",
    "scatter(x, y, c=:lightblue, ms=3, leg=false)\n",
    "c, grau = regressão(x,y,3)\n",
    "p3 = plota_regressão(c, 3)\n",
    "plot!(p3, 0, 2)"
   ]
  },
  {
   "cell_type": "code",
   "execution_count": null,
   "metadata": {},
   "outputs": [],
   "source": [
    "# Exemplo 2\n",
    "Random.seed!(0)\n",
    "# Gerando dados fictícios para teste\n",
    "n = 30\n",
    "x = range(0, 2, length=n)\n",
    "\n",
    "f(x) = (x-1)^4\n",
    "\n",
    "y = f.(x) + randn(n)*0.05 #ruído\n",
    "scatter(x, y, c=:lightblue, ms=3, leg=false)\n",
    "c, grau = regressão(x,y,4)\n",
    "p4 = plota_regressão(c, 4)\n",
    "plot!(p4, 0, 2)"
   ]
  },
  {
   "cell_type": "code",
   "execution_count": null,
   "metadata": {},
   "outputs": [],
   "source": [
    "# Exemplo 3\n",
    "Random.seed!(0)\n",
    "# Gerando dados fictícios para teste\n",
    "n = 30\n",
    "x = range(0, 2, length=n)\n",
    "\n",
    "f(x) = (x-1)^5\n",
    "\n",
    "y = f.(x) + randn(n)*0.05 #ruído\n",
    "scatter(x, y, c=:lightblue, ms=3, leg=false)\n",
    "c, grau = regressão(x,y,5)\n",
    "p5 = plota_regressão(c, 5)\n",
    "plot!(p5, 0, 2)"
   ]
  },
  {
   "cell_type": "markdown",
   "metadata": {},
   "source": [
    "## 6) Regressão com coeficientes lineares"
   ]
  },
  {
   "cell_type": "code",
   "execution_count": null,
   "metadata": {},
   "outputs": [],
   "source": [
    "# Entrada: um conjunto de pontos (x,y) quaisquer e um conjunto de funções\n",
    "# Saida: um função gerada utilizando as funções como coeficientes com a melhor aproximação para os pontos (x,y) dados\n",
    "# Utiliza a regressão na forma geral, resolvendo o sistema pelo método de mínimos quadrados\n",
    "function regressão_geral(x,y,funcoes)\n",
    "    V=vandermonde_geral(x,y,funcoes)\n",
    "    c=inv(V'*V)*(V'*y) #mínimos quadrados\n",
    "    #c=V\\y\n",
    "    return c\n",
    "end\n",
    "\n",
    "function vandermonde_geral(x,y,funcoes)\n",
    "    n,=size(y)\n",
    "    num_funcoes = size(funcoes)\n",
    "    V=zeros(n,num_funcoes[1])\n",
    "    for i=1:n #linhas\n",
    "        for j=1:(num_funcoes[1])\n",
    "            V[i,j]=funcoes[j](x[i])\n",
    "        end\n",
    "    end\n",
    "    return V\n",
    "end\n",
    "\n",
    "function plota_regressão_generalizada(regressao, funcoes)\n",
    "    num_funcoes = size(funcoes)\n",
    "    function fp(t)\n",
    "        p = 0\n",
    "        for i=1:num_funcoes[1]\n",
    "            p = p + regressao[i]*funcoes[i](t)\n",
    "        end\n",
    "        return p\n",
    "    end\n",
    "    return fp\n",
    "end"
   ]
  },
  {
   "cell_type": "code",
   "execution_count": null,
   "metadata": {},
   "outputs": [],
   "source": [
    "# Exemplo 1\n",
    "# Gerando dados fictícios para teste\n",
    "Random.seed!(0)\n",
    "n = 30\n",
    "x = range(0, 2, length=n)\n",
    "\n",
    "f(x) = (x-1)^3\n",
    "\n",
    "y = f.(x) + randn(n)*0.05 #ruído\n",
    "scatter(x, y, c=:lightblue, ms=3, leg=false)\n",
    "f1(x) = sin(2x)\n",
    "f2(x) = cos(4x)\n",
    "f3(x) = exp(3x)\n",
    "f4(x) = sin(x)\n",
    "funcoes = [f1;f2;f3;f4]\n",
    "c = regressão_geral(x,y,funcoes)\n",
    "p3 = plota_regressão_generalizada(c, funcoes)\n",
    "plot!(p3, 0, 2)"
   ]
  },
  {
   "cell_type": "code",
   "execution_count": null,
   "metadata": {},
   "outputs": [],
   "source": [
    "# Exemplo 2\n",
    "# Gerando dados fictícios para teste\n",
    "Random.seed!(0)\n",
    "n = 30\n",
    "x = range(0, 2, length=n)\n",
    "\n",
    "f(x) = (x-1)^4\n",
    "\n",
    "y = f.(x) + randn(n)*0.05 #ruído\n",
    "scatter(x, y, c=:lightblue, ms=3, leg=false)\n",
    "f1(x) = sin(2x)\n",
    "f2(x) = cos(4x)\n",
    "f3(x) = exp(3x)\n",
    "f4(x) = sin(x)\n",
    "funcoes = [f1;f2;f3;f4]\n",
    "c= regressão_geral(x,y,funcoes)\n",
    "p4 = plota_regressão_generalizada(c,funcoes)\n",
    "plot!(p4, 0, 2)"
   ]
  },
  {
   "cell_type": "code",
   "execution_count": null,
   "metadata": {},
   "outputs": [],
   "source": [
    "# Exemplo 3\n",
    "# Gerando dados fictícios para teste\n",
    "Random.seed!(0)\n",
    "n = 30\n",
    "x = range(0, 2, length=n)\n",
    "\n",
    "f(x) = (x-1)^8\n",
    "\n",
    "y = f.(x) + randn(n)*0.05 #ruído\n",
    "scatter(x, y, c=:lightblue, ms=3, leg=false)\n",
    "f1(x) = sin(2x)\n",
    "f2(x) = cos(4x)\n",
    "f3(x) = exp(3x)\n",
    "f4(x) = sin(x)\n",
    "funcoes = [f1;f2;f3;f4]\n",
    "c = regressão_geral(x,y,funcoes)\n",
    "p4 = plota_regressão_generalizada(c, funcoes)\n",
    "plot!(p4, 0, 2)"
   ]
  },
  {
   "cell_type": "markdown",
   "metadata": {},
   "source": [
    "## 7) Regressão com coeficientes não-lineares"
   ]
  },
  {
   "cell_type": "markdown",
   "metadata": {},
   "source": [
    "### Modelo exponencial\n",
    "\n",
    "Queremos encontrar $y$ tal que $y = c1*e^{c2x}$ \n",
    "\n",
    "Fazendo ln dos dois lados:\n",
    "\n",
    "$$ln(y) = ln(c1 \\times e^{c2x})$$\n",
    "$$ ln(y) = ln(c1) + ln(e^{c2x})$$\n",
    "$$ln(y) = ln(c1) + c2xln(e)$$\n",
    "$$ln(y) = ln(c1) + c2x$$\n",
    "\n",
    "Dicionário:\n",
    "\n",
    "$y\\_barra = ln(y);  c1\\_barra = ln(c1);  x\\_barra = x;  c2\\_barra = c2$"
   ]
  },
  {
   "cell_type": "code",
   "execution_count": null,
   "metadata": {},
   "outputs": [],
   "source": [
    "# Exemplo 1\n",
    "#y=2^x\n",
    "x=[1;2;3;4;5;6;7;8;9;10]\n",
    "y=[2;4;8;16;32;64;128;256;512+40;1024]\n",
    "ruido=randn(10)*0.05\n",
    "y=y+ruido\n",
    "\n",
    "# Dicionário (troca de variável) indo pro mundo barra\n",
    "x_barra=x\n",
    "y_barra=log.(y)\n",
    "V=vandermonde(x_barra,y_barra,1)\n",
    "c_barra, grau=regressão(x_barra,y_barra,1)\n",
    "c1=exp(c_barra[1])\n",
    "c2=c_barra[2]\n",
    "exponencial(x)=c1*exp(c2*x)\n",
    "\n",
    "scatter(x, y, c=:lightblue, ms=3, leg=false) #original\n",
    "plot!(exponencial) # com regressão"
   ]
  },
  {
   "cell_type": "code",
   "execution_count": null,
   "metadata": {},
   "outputs": [],
   "source": [
    "# Exemplo 2\n",
    "#y=3^x\n",
    "x = rand(10)\n",
    "f(x) = 3^x\n",
    "y = f.(x) + randn(10)*0.05 #ruído\n",
    "\n",
    "# Dicionário (troca de variável) indo pro mundo barra\n",
    "x_barra=x\n",
    "y_barra=log.(y)\n",
    "V=vandermonde(x_barra,y_barra,1)\n",
    "c_barra, grau=regressão(x_barra,y_barra,1)\n",
    "c1=exp(c_barra[1])\n",
    "c2=c_barra[2]\n",
    "exponencial(x)=c1*exp(c2*x)\n",
    "\n",
    "scatter(x, y, c=:lightblue, ms=3, leg=false) #original\n",
    "plot!(exponencial) # com regressão"
   ]
  },
  {
   "cell_type": "code",
   "execution_count": null,
   "metadata": {},
   "outputs": [],
   "source": [
    "# Exemplo 3\n",
    "#y=4^x\n",
    "x = rand(10)\n",
    "f(x) = 4^x\n",
    "y = f.(x) + randn(10)*0.05 #ruído\n",
    "\n",
    "# Dicionário (troca de variável) indo pro mundo barra\n",
    "x_barra=x\n",
    "y_barra=log.(y)\n",
    "V=vandermonde(x_barra,y_barra,1)\n",
    "c_barra, grau=regressão(x_barra,y_barra,1)\n",
    "c1=exp(c_barra[1])\n",
    "c2=c_barra[2]\n",
    "exponencial(x)=c1*exp(c2*x)\n",
    "\n",
    "scatter(x, y, c=:lightblue, ms=3, leg=false) #original\n",
    "plot!(exponencial) # com regressão"
   ]
  },
  {
   "cell_type": "markdown",
   "metadata": {},
   "source": [
    "### Modelo potência\n",
    "\n",
    "Queremos encontrar $y$ tal que $y = c0x^{c1}$\n",
    "\n",
    "Fazendo ln dos dois lados:\n",
    "\n",
    "$$ln(y) = ln(c0x^{c1})$$\n",
    "$$ln(y) = ln(c0) + ln(x^{c1})$$\n",
    "$$ln(y) = ln(c0) + c1ln(x)$$ \n",
    "\n",
    "Dicionário:\n",
    "\n",
    "$y\\_barra = ln(y);  c0\\_barra = ln(c0);  x\\_barra = ln(x);  c1\\_barra = c1$"
   ]
  },
  {
   "cell_type": "code",
   "execution_count": null,
   "metadata": {},
   "outputs": [],
   "source": [
    "# Exemplo 1\n",
    "x = [0.1; 0.2; 0.4; 0.8; 0.9]\n",
    "y = [22; 43; 84; 210; 320]\n",
    "# indo pro mundo barra, a partir do dicionário descrito acima\n",
    "y_barra = log.(y)\n",
    "x_barra = log.(x)\n",
    "\n",
    "# Regressão no Mundo barra\n",
    "V=vandermonde(x_barra,y_barra,1)\n",
    "c_barra, grau=regressão(x_barra,y_barra,1)\n",
    "\n",
    "# Dicionário (troca de variável) voltando pro mundo original, \n",
    "# lembrando que 𝑐0 barra = ln(c0); 𝑐1 barra= c1;\n",
    "c0=exp(c_barra[1])\n",
    "c1=c_barra[2]\n",
    "f(x) = c0*x^c1 \n",
    "\n",
    "scatter(x, y, c=:lightblue, ms=3, leg=false) #original\n",
    "plot!(f) # com regressão"
   ]
  },
  {
   "cell_type": "code",
   "execution_count": null,
   "metadata": {},
   "outputs": [],
   "source": [
    "# Exemplo 2\n",
    "x = rand(10)\n",
    "f(x) = 2^x\n",
    "y = f.(x) + randn(10)*0.05 #ruído\n",
    "# indo pro mundo barra, a partir do dicionário descrito acima\n",
    "y_barra = log.(y)\n",
    "x_barra = log.(x)\n",
    "\n",
    "# Regressão no Mundo barra\n",
    "V=vandermonde(x_barra,y_barra,1)\n",
    "c_barra, grau=regressão(x_barra,y_barra,1)\n",
    "\n",
    "# Dicionário (troca de variável) voltando pro mundo original, \n",
    "# lembrando que 𝑐0 barra = ln(c0); 𝑐1 barra= c1;\n",
    "c0=exp(c_barra[1])\n",
    "c1=c_barra[2]\n",
    "f(x) = c0*x^c1 \n",
    "\n",
    "scatter(x, y, c=:lightblue, ms=3, leg=false) #original\n",
    "plot!(f) # com regressão"
   ]
  },
  {
   "cell_type": "code",
   "execution_count": null,
   "metadata": {},
   "outputs": [],
   "source": [
    "# Exemplo 3\n",
    "x = rand(10)\n",
    "f(x) = 3^x\n",
    "y = f.(x) + randn(10)*0.05 #ruído\n",
    "# indo pro mundo barra, a partir do dicionário descrito acima\n",
    "y_barra = log.(y)\n",
    "x_barra = log.(x)\n",
    "\n",
    "# Regressão no Mundo barra\n",
    "V=vandermonde(x_barra,y_barra,1)\n",
    "c_barra, grau=regressão(x_barra,y_barra,1)\n",
    "\n",
    "# Dicionário (troca de variável) voltando pro mundo original, \n",
    "# lembrando que 𝑐0 barra = ln(c0); 𝑐1 barra= c1;\n",
    "c0=exp(c_barra[1])\n",
    "c1=c_barra[2]\n",
    "f(x) = c0*x^c1 \n",
    "\n",
    "scatter(x, y, c=:lightblue, ms=3, leg=false) #original\n",
    "plot!(f) # com regressão"
   ]
  },
  {
   "cell_type": "markdown",
   "metadata": {},
   "source": [
    "### Modelo geométrico\n",
    "\n",
    "Queremos encontrar $y$ tal que $y = \\dfrac{1}{c0+c1x}$\n",
    "\n",
    "Elevando ambos os lados a $-1$:\n",
    "\n",
    "$$y = \\dfrac{1}{c0+c1x}$$\n",
    "$$\\dfrac{1}{y} = \\dfrac{1}{c0+c1x}$$\n",
    "\n",
    "Dicionário:\n",
    "\n",
    "$y\\_barra = \\dfrac{1}{y};  c0\\_barra = c0;  x\\_barra = \\dfrac{1}{x};  c1\\_barra = c1$"
   ]
  },
  {
   "cell_type": "code",
   "execution_count": null,
   "metadata": {},
   "outputs": [],
   "source": [
    "# Exemplo 1\n",
    "#y=1/2x\n",
    "x=[1;2;3;4;5;6;7;8;9;10]\n",
    "y=[1/2;1/4;1/6;1/8;1/10;1/12;1/14;1/16;1/18;1/20]\n",
    "ruido=randn(10)*0.02\n",
    "y=y+ruido\n",
    "\n",
    "# Dicionário (troca de variável) indo pro mundo barra\n",
    "x_barra=(x)\n",
    "y_barra=inv.(y)\n",
    "V=vandermonde(x_barra,y_barra,1)\n",
    "c_barra, grau=regressão(x_barra,y_barra,1)\n",
    "c1=(c_barra[1])\n",
    "c2=(c_barra[2])\n",
    "geometrica(x)=(1/(c1+(c2*x)))\n",
    "\n",
    "scatter(x, y, c=:lightblue, ms=3, leg=false) #original\n",
    "plot!(geometrica) # com regressão"
   ]
  },
  {
   "cell_type": "code",
   "execution_count": null,
   "metadata": {},
   "outputs": [],
   "source": [
    "# Exemplo 2\n",
    "#y=3/-x\n",
    "x=[1;2;3;4;5;6;7;8;9;10]\n",
    "y=[-3;-3/2;-3/3;-3/4;-3/5;-3/6;-3/7;-3/8;-3/9;-3/10]\n",
    "ruido=randn(10)*0.1\n",
    "y=y+ruido\n",
    "\n",
    "# Dicionário (troca de variável) indo pro mundo barra\n",
    "x_barra=(x)\n",
    "y_barra=inv.(y)\n",
    "V=vandermonde(x_barra,y_barra,1)\n",
    "c_barra, grau=regressão(x_barra,y_barra,1)\n",
    "c1=(c_barra[1])\n",
    "c2=(c_barra[2])\n",
    "geometrica(x)=(1/(c1+(c2*x)))\n",
    "\n",
    "scatter(x, y, c=:lightblue, ms=3, leg=false) #original\n",
    "plot!(geometrica) # com regressão"
   ]
  },
  {
   "cell_type": "code",
   "execution_count": null,
   "metadata": {},
   "outputs": [],
   "source": [
    "# Exemplo 3\n",
    "#y=4/-3x\n",
    "x=[1;2;3;4;5;6;7;8;9;10]\n",
    "y=[-4/3;-4/6;-4/9;-4/12;-4/15;-4/18;-4/21;-4/24;-4/27;-4/30]\n",
    "ruido=randn(10)*0.1\n",
    "y=y+ruido\n",
    "\n",
    "# Dicionário (troca de variável) indo pro mundo barra\n",
    "x_barra=(x)\n",
    "y_barra=inv.(y)\n",
    "V=vandermonde(x_barra,y_barra,1)\n",
    "c_barra, grau=regressão(x_barra,y_barra,1)\n",
    "c1=(c_barra[1])\n",
    "c2=(c_barra[2])\n",
    "geometrica(x)=(1/(c1+(c2*x)))\n",
    "\n",
    "scatter(x, y, c=:lightblue, ms=3, leg=false) #original\n",
    "plot!(geometrica) # com regressão"
   ]
  },
  {
   "cell_type": "markdown",
   "metadata": {},
   "source": [
    "## 8) Interpolação 2D"
   ]
  },
  {
   "cell_type": "code",
   "execution_count": null,
   "metadata": {},
   "outputs": [],
   "source": [
    "x=[15; 16.5; 17.5; 8]\n",
    "y =[34; 30; 25; 16]\n",
    "function interpola(x,y,z)# função que calcula os coeficientes do polinomio interpolador, a partir da entrada de x e y\n",
    "    nx, = size(x)\n",
    "    ny, = size(y)\n",
    "    L =zeros(nx*ny, 1)\n",
    "    function f_interpolacao_2d(t, w)\n",
    "        expressao=0\n",
    "        for i in 1:n\n",
    "            numerador=1\n",
    "            denominador=1\n",
    "            \n",
    "            for j in 1:n\n",
    "                if(i!=j)\n",
    "                    numerador*=(t-x[j])\n",
    "                    denominador*=(x[i] - x[j])\n",
    "                end  \n",
    "            end\n",
    "\n",
    "            L[i]=numerador/denominador\n",
    "            expressao+=L[i]*y[i]\n",
    "            \n",
    "        end\n",
    "        return expressao\n",
    "    end\n",
    "    \n",
    "    return f_interpolacao_2d\n",
    "end\n",
    "\n",
    "\n",
    "x=[15.5; 16.5; 17.5]\n",
    "y =[34; 200; 25]\n",
    "f_interpolacao_2d=interpola(x,y)\n",
    "t =range(0, stop=10)\n",
    "plot(t,f)"
   ]
  },
  {
   "cell_type": "markdown",
   "metadata": {},
   "source": [
    "## 9) Cálculo da norma do vetor\n"
   ]
  },
  {
   "cell_type": "code",
   "execution_count": null,
   "metadata": {},
   "outputs": [],
   "source": [
    "# Entrada: um vetor v\n",
    "# Saída: um número z tal que z = sqrt(v_1^2 +v_2^2 + … + v_n^2)\n",
    "# A partir do vetor v nos é retornado sua norma\n",
    "function norma(v)\n",
    "    n, = size(v)\n",
    "    soma = 0\n",
    "    for i in 1:n\n",
    "        soma+=v[i]^2\n",
    "\n",
    "    end    \n",
    "    return sqrt(soma)\n",
    "end"
   ]
  },
  {
   "cell_type": "code",
   "execution_count": null,
   "metadata": {},
   "outputs": [],
   "source": [
    "# Exemplo 1\n",
    "x = rand(8)\n",
    "norma(x) - norm(x) == 0"
   ]
  },
  {
   "cell_type": "code",
   "execution_count": null,
   "metadata": {},
   "outputs": [],
   "source": [
    "# Exemplo 2\n",
    "v = [154, 238, 459, -100]\n",
    "norma(v) - norm(v) == 0"
   ]
  },
  {
   "cell_type": "code",
   "execution_count": null,
   "metadata": {},
   "outputs": [],
   "source": [
    "# Exemplo 3\n",
    "v = [-14, -143, 1442, 11, -199]\n",
    "norma(v)  - norm(v) == 0"
   ]
  },
  {
   "cell_type": "markdown",
   "metadata": {},
   "source": [
    "## 10) Resolver sistema linear denso"
   ]
  },
  {
   "cell_type": "code",
   "execution_count": null,
   "metadata": {},
   "outputs": [],
   "source": [
    "function sistema_Aprox(A,b)\n",
    "    A=A'*A\n",
    "    b=A'*b\n",
    "return inv(A)*b    \n",
    "end"
   ]
  },
  {
   "cell_type": "markdown",
   "metadata": {},
   "source": [
    "## 11) Resolver sistema linear denso"
   ]
  },
  {
   "cell_type": "code",
   "execution_count": null,
   "metadata": {},
   "outputs": [],
   "source": [
    "function sistema_denso(A,b)\n",
    "    #verificação de erro no tamanho das matrizes\n",
    "    if (!verifica_tamanho(A,b))\n",
    "        return \"ERRO\"\n",
    "    end\n",
    "\n",
    "    # chamamos a decomposicao de A em L e U\n",
    "    L,U=lu_decomposition(A)\n",
    "    \n",
    "    y=sistema_triangular_inferior(L,b)\n",
    "    x=sistema_triangular_superior(U,y)\n",
    "    return x\n",
    "end"
   ]
  },
  {
   "cell_type": "markdown",
   "metadata": {},
   "source": [
    "## 12) Sistema triangular superior"
   ]
  },
  {
   "cell_type": "code",
   "execution_count": null,
   "metadata": {},
   "outputs": [],
   "source": [
    "# Entrada matriz A e b\n",
    "# Saida true  se a matriz A eh quadrada e se o numero de linhas da matriz B eh o mesmo numero de colunas da matriz A. False, caso contrario\n",
    "# Verifica se a matriz A eh quadrada e se o numero de linhas da matriz B eh o mesmo numero de colunas da matriz A.\n",
    "function verifica_tamanho(A,b)\n",
    "    if (size(A)[1] != size(A)[2]) # Verificando se a matriz eh quadrada\n",
    "        println(\"ERRO! Matriz A nao eh quadrada\")\n",
    "        return false\n",
    "    end\n",
    "\n",
    "    if (size(b)[1] != size(A)[2]) # Verificando se o numero de linhas de B eh o mesmo que de colunas de A\n",
    "        println(\"ERRO! O numero de linhas da matriz B não eh o mesmo do numero de colunas da matriz A\")\n",
    "        return false\n",
    "    end\n",
    "    \n",
    "    return true\n",
    "end"
   ]
  },
  {
   "cell_type": "code",
   "execution_count": null,
   "metadata": {},
   "outputs": [],
   "source": [
    "# Entrada matriz A e b\n",
    "# Saída x tal que A * x = b\n",
    "# Onde A é triangular superior aonde os elementos da diagonal são diferentes de zero e a parte inferior, por sua vez, eh composta por zeros\n",
    "function sistema_triangular_superior(A,b) \n",
    "    # inicializacao de variaveis\n",
    "    n,=size(A) \n",
    "    x = zeros(n, 1)\n",
    "    #verificação de erro no tamanho das matrizes\n",
    "    if (!verifica_tamanho(A,b))\n",
    "      return \"ERRO\"\n",
    "    end\n",
    "  \n",
    "    for i in reverse(1:n) # comecamos da ultima linha da matriz, o percorrendo \"de baixo para cima\"\n",
    "      #na pratica isolamos a incognita da linha i, para descobrir o seu valor\n",
    "      #como comecamos na ultima linha, a variavel dessa linha ja tem seu valor conhecido\n",
    "      #a partir da penultima linha, as variaveis tem seus valores baseados na linha abaixo que áforam calculados. \n",
    "      soma = 0\n",
    "      for j in i+1:n\n",
    "          soma+=A[i, j]*x[j]\n",
    "      end \n",
    "      x[i] = (b[i] - soma)/(A[i,i])\n",
    "    end\n",
    "  return x\n",
    "  end\n",
    "  "
   ]
  },
  {
   "cell_type": "markdown",
   "metadata": {},
   "source": [
    "## 13) Sistema triangular inferior"
   ]
  },
  {
   "cell_type": "code",
   "execution_count": null,
   "metadata": {},
   "outputs": [],
   "source": [
    "# Entrada matriz A e b\n",
    "# Saida x tal que A * x = b\n",
    "# onde A eh triangular inferior aonde os elementos da diagonal sao diferentes de zero e a parte superior, por sua vez, eh composta de zeros\n",
    "function sistema_triangular_inferior(A,b) #\n",
    "    # inicializacao de variaveis\n",
    "    n,=size(A)\n",
    "    x = zeros(n, 1)\n",
    "  \n",
    "    if (!verifica_tamanho(A,b))\n",
    "      return \"ERRO\"\n",
    "    end\n",
    "  \n",
    "    for i in 1:n\n",
    "      soma = 0\n",
    "  \n",
    "      # comecamos da ultima linha da matriz, a percorrendo \"de baixo para cima\"\n",
    "      # na pratica isolamos a incognita da linha i, para descobrir o seu valor\n",
    "      # como comecamos na ultima linha, a variavel dessa linha ja tem seu valor conhecido\n",
    "      # a partir da penultima linha, as variaveis tem seus valores baseados na linha abaixo que já foram calculados.     \n",
    "      for j in 1:i-1\n",
    "          soma+=A[i, j]*x[j]\n",
    "      end \n",
    "      x[i] = (b[i] - soma)/(A[i,i])\n",
    "    end\n",
    "  return x\n",
    "  end"
   ]
  },
  {
   "cell_type": "markdown",
   "metadata": {},
   "source": [
    "## 14) Sistema diagonal"
   ]
  },
  {
   "cell_type": "code",
   "execution_count": null,
   "metadata": {},
   "outputs": [],
   "source": [
    "# Entrada matriz A e b\n",
    "# Saída x tal que A * x = b\n",
    "# Onde A é a matriz em que a diagonal principal tem elementos diferentes de 0 e o restante dos elementos\n",
    "# possuem valor 0, a funcao a seguir resolver esse caso.\n",
    "function sistema_diagonal(A,b)\n",
    "    # inicializacao de variaveis  \n",
    "    n,=size(A)\n",
    "    x = zeros(n, 1)\n",
    "  \n",
    "    if (!verifica_tamanho(A,b))\n",
    "      return \"ERRO\"\n",
    "    end\n",
    "    \n",
    "    for i in 1:n\n",
    "      x[i] = b[i]/A[i,i] # Expressao que calcula  A * x = b\n",
    "    end\n",
    "  return x\n",
    "  end"
   ]
  },
  {
   "cell_type": "markdown",
   "metadata": {},
   "source": [
    "## 15) Inversa da matriz"
   ]
  },
  {
   "cell_type": "code",
   "execution_count": null,
   "metadata": {},
   "outputs": [],
   "source": [
    "function matriz_inversa(A)\n",
    "    n,=size(A)\n",
    "    b = zeros(n, n)\n",
    "    inverse = zeros(n,n)\n",
    "\n",
    "    #verificação de erro no tamanho das matrizes\n",
    "    if (!verifica_tamanho(A,b))\n",
    "        return \"ERRO\"\n",
    "    end\n",
    "\n",
    "    for i in 1:n\n",
    "        b[i,i] = 1\n",
    "    end\n",
    "\n",
    "    # chamamos a decomposicao de A em L e U\n",
    "    L,U=lu_decomposition(A)\n",
    "    for i in 1:n\n",
    "        y=sistema_triangular_inferior(L,b[i,:])\n",
    "        x=sistema_triangular_superior(U,y)\n",
    "        inverse[[i],:]=x\n",
    "    end\n",
    "    \n",
    "    return inverse'\n",
    "end"
   ]
  },
  {
   "cell_type": "markdown",
   "metadata": {},
   "source": [
    "## 16) Decomposição LU"
   ]
  },
  {
   "cell_type": "code",
   "execution_count": null,
   "metadata": {},
   "outputs": [],
   "source": [
    "# Entrada: matriz A\n",
    "# Saida: L, matriz triangular inferior de A e U matriz triangular superior de A\n",
    "# Fazemos a decomposicao da matriz A em duas matrizes L e U, tal que A = L * U\n",
    "function lu_decomposition(A)\n",
    "    n,=size(A)\n",
    "    U = copy(A)\n",
    "    L = zeros(n, n)\n",
    "\n",
    "    for i in 1:n-1 # for por coluna\n",
    "        pivot = U[i,i]\n",
    "        L[i,i] = 1\n",
    "        for j in i+1:n # for da linha\n",
    "            fator = U[j,i]/pivot;\n",
    "            L[j,i] = fator\n",
    "            for k in 1:n # for pra calcular o valor da linha\n",
    "                U[j, k] -= fator * U[i,k] # calcula linha\n",
    "            end\n",
    "        end\n",
    "    end\n",
    "\n",
    "    L[n,n] = 1\n",
    "    \n",
    "    return L,U\n",
    "end\n",
    "\n",
    "            "
   ]
  },
  {
   "cell_type": "markdown",
   "metadata": {},
   "source": [
    "## 17) Problema do valor do contorno"
   ]
  },
  {
   "cell_type": "code",
   "execution_count": null,
   "metadata": {},
   "outputs": [],
   "source": [
    "function criação_da_matriz(n)\n",
    "    A=zeros(n,n)\n",
    "    \n",
    "    #\"manual\"\n",
    "    A[1,1]=-2\n",
    "    A[1,2]=1\n",
    "    A[n,n-1]=1\n",
    "    A[n,n]=-2\n",
    "    \n",
    "    #tridiagonal\n",
    "    for i= 2:(n-1)\n",
    "        A[i,i]=-2\n",
    "        A[i,i+1]=1\n",
    "        A[i,i-1]=1\n",
    "    end\n",
    "    return A\n",
    "end"
   ]
  },
  {
   "cell_type": "code",
   "execution_count": null,
   "metadata": {},
   "outputs": [],
   "source": [
    "# função para calcular a segunda derivda de forma que receba os coeficientes e seja igual a c_1+c_2y(x)+c_3\n",
    "function segunda_derivada(n, c_1, c_2, c_3, h, a)\n",
    "    sd=zeros(n,1) \n",
    "    x=zeros(n,1)\n",
    "    for i=1:(n)\n",
    "        x[i]=a+h*(i-1) # calculo de um x bom\n",
    "    end\n",
    "    # for a seguir preenchendo a segunda derivada dos ys do meio, ou seja. só vai até n-2, \n",
    "    # pois exclui o primeiro e ultimo y\n",
    "    for i=1:(n-2)\n",
    "        sd[i]=c_1 + c_2*4*x[i+1] # o indice de x é i+1 pois os \n",
    "        # cálculos sao feitos com as derivadas do y2 até yn-1, sendo 2 até n-1 os x2 até xn-2.\n",
    "        # como i vai de 1 até n-2, precisamos ir com o índice até i+1\n",
    "    end\n",
    "end"
   ]
  },
  {
   "cell_type": "code",
   "execution_count": null,
   "metadata": {},
   "outputs": [],
   "source": [
    "function diferenças_finitas(n,c_1,c_2,c_3,y_inicial,y_final,x_inicial,x_final)\n",
    "    h=(x_final-x_inicial)/(n-1)\n",
    "    \n",
    "    A=criação_da_matriz(n-2)\n",
    "    sd=segunda_derivada()\n",
    "    \n",
    "    b=zeros(n-2)\n",
    "    b[1]=sd[1]*2*h^2-y_inicial\n",
    "    \n",
    "    b[n-2]=sd[n-2]*2*h^2-y_final\n",
    "\n",
    "    for i=2:(n-3) #no meio\n",
    "        b[i]=sd[i]*2*h^2\n",
    "    end\n",
    "    \n",
    "    y_meio=A\\b\n",
    "    return y_meio  #valores da função no \"meio\"\n",
    "end"
   ]
  },
  {
   "cell_type": "code",
   "execution_count": null,
   "metadata": {},
   "outputs": [],
   "source": [
    "n=7\n",
    "y_a=5\n",
    "y_b=20\n",
    "a=0\n",
    "b=10\n",
    "\n",
    "x_bom=x\n",
    "y_meio=diferenças_finitas(n,sd,y_inicial,y_final,x_inicial, x_final)\n",
    "y_bom=[y_inicial;y_meio;y_final]"
   ]
  },
  {
   "cell_type": "markdown",
   "metadata": {},
   "source": [
    "## 18) Integração numérica com número de intervalos"
   ]
  },
  {
   "cell_type": "code",
   "execution_count": 2,
   "metadata": {},
   "outputs": [
    {
     "data": {
      "text/plain": [
       "trapezio (generic function with 1 method)"
      ]
     },
     "metadata": {},
     "output_type": "display_data"
    }
   ],
   "source": [
    "#Entrada: uma função f, numero de intervalos, e um intervalo [a,b]\n",
    "#A função irá utilizar o método do trapézio para calcular a integral da função enviada por parametro\n",
    "#no intervalo [a, b]\n",
    "#Saida: aproximação integral de f no intervalo a[a, b]\n",
    "function trapezio(f,n, a,b) #calcular a integral f(x) de a até b\n",
    "    h=(b-a)/n\n",
    "    S=0.0\n",
    "    for i=1:(n-1)  #calcula o \"meio\"\n",
    "        x=a+i*h\n",
    "        S+=2*f(x)\n",
    "    end\n",
    "    S=h/2*(S+f(a)+f(b)) #calcula \"as pontas\"\n",
    "    return S\n",
    "end\n"
   ]
  },
  {
   "cell_type": "code",
   "execution_count": null,
   "metadata": {},
   "outputs": [],
   "source": [
    "# Exemplo 1\n",
    "function circulo(x) \n",
    "    return 4*sqrt(1 - x^2)\n",
    "end\n",
    "resultado = trapezio(circulo, 1000000000, 0, 1)\n",
    "abs(MathConstants.pi - resultado) < 10^(-12)"
   ]
  },
  {
   "cell_type": "code",
   "execution_count": 10,
   "metadata": {},
   "outputs": [
    {
     "data": {
      "text/plain": [
       "true"
      ]
     },
     "metadata": {},
     "output_type": "display_data"
    }
   ],
   "source": [
    "# Exemplo 2\n",
    "#area do triangulo (0,3);(0,0);(4,0)\n",
    "function triangulo(x) \n",
    "    return (-3/4)*x + 3\n",
    "end\n",
    "resultado = trapezio(triangulo, 10^(7), 0, 4)\n",
    "abs((4*3)/2 - resultado) < 10^(-13)"
   ]
  },
  {
   "cell_type": "code",
   "execution_count": 21,
   "metadata": {},
   "outputs": [
    {
     "data": {
      "text/plain": [
       "true"
      ]
     },
     "metadata": {},
     "output_type": "display_data"
    }
   ],
   "source": [
    "# Exemplo 3\n",
    "#integral de 3*x^2\n",
    "function fa(x) \n",
    "    return 3*x^2\n",
    "end\n",
    "\n",
    "resultado = trapezio(fa, 10^(9), 2, 15)\n",
    "integralMatematica = ((15^3) - (2^3))\n",
    "abs((integralMatematica - resultado)) < 10^(-10)"
   ]
  },
  {
   "cell_type": "markdown",
   "metadata": {},
   "source": [
    "## 19) Integração numérica com erro"
   ]
  },
  {
   "cell_type": "code",
   "execution_count": 23,
   "metadata": {},
   "outputs": [
    {
     "data": {
      "text/plain": [
       "trapezioComErro (generic function with 1 method)"
      ]
     },
     "metadata": {},
     "output_type": "display_data"
    }
   ],
   "source": [
    "#Entrada: uma função f, tolerancia de erro entre o valor real e a aproximação,  um intervalo [a,b], e por fim o teto da segunda derivada no intervalo dado\n",
    "#A função irá utilizar o método do trapézio para calcular a aproximação integral da função enviada por parametro\n",
    "#no intervalo [a, b], com a condição de que a diferença entre o valor real e a aproximação seja menor que a tolerância de erro\n",
    "#Saida: aproximação integral de f no intervalo a[a, b]\n",
    "\n",
    "function trapezioComErro(f, tol, a,b, M) #calcular a integral f(x) de a até b\n",
    "    n=ceil(sqrt((M*(b-a)^3)/(12*tol)))\n",
    "    \n",
    "    h=(b-a)/n\n",
    "    S=0.0\n",
    "    for i=1:(n-1)  #calcula o \"meio\"\n",
    "        x=a+i*h\n",
    "        S+=2*f(x)\n",
    "    end\n",
    "    S=h/2*(S+f(a)+f(b)) #calcula \"as pontas\"\n",
    "    return S\n",
    "end\n"
   ]
  },
  {
   "cell_type": "code",
   "execution_count": 34,
   "metadata": {},
   "outputs": [
    {
     "data": {
      "text/plain": [
       "true"
      ]
     },
     "metadata": {},
     "output_type": "display_data"
    }
   ],
   "source": [
    "# Exemplo 1\n",
    "#area do triangulo (0,3);(0,0);(4,0)\n",
    "function triangulo(x) \n",
    "    return (-3/4)*x + 3\n",
    "end\n",
    "resultado = trapezioComErro(triangulo, 10^(-13), 0, 4, 0.1)\n",
    "abs((4*3)/2 - resultado) < 10^(-13)"
   ]
  },
  {
   "cell_type": "code",
   "execution_count": 31,
   "metadata": {},
   "outputs": [
    {
     "data": {
      "text/plain": [
       "true"
      ]
     },
     "metadata": {},
     "output_type": "display_data"
    }
   ],
   "source": [
    "# Exemplo 2\n",
    "#area do triangulo (0,3);(0,0);(4,0)\n",
    "function fa(x) \n",
    "    return 3*x^2\n",
    "end\n",
    "\n",
    "resultado = trapezioComErro(fa, 10^(-9), 2, 15, 6)\n",
    "integralMatematica = ((15^3) - (2^3))\n",
    "abs((integralMatematica - resultado)) <= 10^(-9)"
   ]
  },
  {
   "cell_type": "code",
   "execution_count": 33,
   "metadata": {},
   "outputs": [
    {
     "data": {
      "text/plain": [
       "true"
      ]
     },
     "metadata": {},
     "output_type": "display_data"
    }
   ],
   "source": [
    "# Exemplo 3\n",
    "#integral da função exponencial \n",
    "function exp1(x) \n",
    "    return MathConstants.e^x\n",
    "end\n",
    "\n",
    "resultado = trapezioComErro(exp1, 10^(-10), 2, 5, 149)\n",
    "integralMatematica = (exp1(5) - exp1(2))\n",
    "abs((integralMatematica - resultado)) <= 10^(-10)"
   ]
  },
  {
   "cell_type": "markdown",
   "metadata": {},
   "source": [
    "## 20) Integração dupla"
   ]
  },
  {
   "cell_type": "code",
   "execution_count": null,
   "metadata": {},
   "outputs": [],
   "source": [
    "# Entradas: f(x, y), g(y), h(y), b, a\n",
    "# Saída: Integral dupla de f(x,y) dxdy\n",
    "# A função calcula a integral de h(y) a g(y) de f(x,y) e a integral de a até b do resultado anterior, \n",
    "# por fim, nos retornando a integral dupla da função f recebida\n",
    "function trapezio(f,a,b,n) #calcular a integral f(x) de a até b utilizando o método de trapezio\n",
    "    h=(b-a)/n\n",
    "    S=0.0\n",
    "    for i=1:(n-1)  #calcula o \"meio\"\n",
    "        x=a+i*h\n",
    "        S+=2*f(x)\n",
    "    end\n",
    "    S=h/2*(S+f(a)+f(b)) #calcula \"as pontas\"\n",
    "    return S\n",
    "end\n",
    "\n",
    "function Integral(f,a,b)\n",
    "    return trapezio(f,a,b,1000)\n",
    "end\n",
    "\n",
    "function Integral_Dupla(h,a,b,c,d) #integral dupla de h(x,y) de a até b e de h(y) até g(y)\n",
    "    function g(y)\n",
    "        f(x) = h(x,y)\n",
    "        return Integral(f,c(y),d(y))\n",
    "    end\n",
    "    return Integral(g,a,b)\n",
    "end"
   ]
  },
  {
   "cell_type": "code",
   "execution_count": null,
   "metadata": {},
   "outputs": [],
   "source": [
    "# Exemplo 1\n",
    "h(x,y)=x^2*y\n",
    "z(y) = 2*y\n",
    "w(y) = 3*y\n",
    "a = 5\n",
    "b = 6\n",
    "Integral_Dupla(h,a,b,z,w)\n"
   ]
  },
  {
   "cell_type": "code",
   "execution_count": null,
   "metadata": {},
   "outputs": [],
   "source": [
    "\n",
    "# Exemplo 2\n",
    "h(x,y)=2-y\n",
    "z(y) = y^2\n",
    "w(y) = sqrt(y)\n",
    "a = 0\n",
    "b = 1\n",
    "Integral_Dupla(h,a,b,z,w)\n"
   ]
  },
  {
   "cell_type": "code",
   "execution_count": null,
   "metadata": {},
   "outputs": [],
   "source": [
    "\n",
    "# Exemplo 3\n",
    "h(x,y)=(y+x)^(-2)\n",
    "z(y) = 0\n",
    "w(y) = 1\n",
    "a = 1\n",
    "b = 2\n",
    "Integral_Dupla(h,a,b,z,w)"
   ]
  },
  {
   "cell_type": "markdown",
   "metadata": {},
   "source": [
    "## 21) Derivada numérica com função contínua"
   ]
  },
  {
   "cell_type": "markdown",
   "metadata": {},
   "source": [
    "### i)"
   ]
  },
  {
   "cell_type": "code",
   "execution_count": null,
   "metadata": {},
   "outputs": [],
   "source": [
    "function derivar_frente1(x, funcao, h)#funcao que calcula a derivada para frente\n",
    "    function z(x)\n",
    "        return (funcao(x+h)-funcao(x))/h\n",
    "\n",
    "    end    \n",
    "    return z\n",
    "end    \n",
    "    \n",
    "function r(x)\n",
    "    return x^3\n",
    "end\n",
    "\n",
    "d_f = derivar_frente1(2, r, 0.00001)\n",
    "d_f(7)\n"
   ]
  },
  {
   "cell_type": "markdown",
   "metadata": {},
   "source": [
    "### ii)"
   ]
  },
  {
   "cell_type": "code",
   "execution_count": null,
   "metadata": {},
   "outputs": [],
   "source": [
    "function derivar_tras1(x, funcao, h)#funcao que calcula a derivada para trás    \n",
    "    function z(x)\n",
    "        return (funcao(x)-funcao(x-h))/h\n",
    "    end    \n",
    "    \n",
    "    return z\n",
    "end  \n",
    "\n",
    "function r(x)\n",
    "    return x^2\n",
    "end\n",
    "\n",
    "d_t = derivar_tras1(2, r, 0.00001)\n",
    "print(exp(7))\n",
    "d_t(7)\n"
   ]
  },
  {
   "cell_type": "markdown",
   "metadata": {},
   "source": [
    "### iii)"
   ]
  },
  {
   "cell_type": "code",
   "execution_count": null,
   "metadata": {},
   "outputs": [],
   "source": [
    "function derivar_centralizada1(x, funcao, h)#funcao que calcula a derivada utilizando as duas funções derivadas, somando as duas e dividindo por dois, para garantir um resultado mais acertivo\n",
    "    function z(x)\n",
    "        return (funcao(x+h)-funcao(x-h))/(2*h)\n",
    "    end\n",
    "    return z\n",
    "end\n",
    "\n",
    "function r(x)\n",
    "    return x^2\n",
    "end\n",
    "\n",
    "d_c = derivar_centralizada1(2, r, 0.0000001)\n",
    "\n",
    "d_c(7)"
   ]
  },
  {
   "cell_type": "markdown",
   "metadata": {},
   "source": [
    "## 22) Derivada numérica com função discreta"
   ]
  },
  {
   "cell_type": "markdown",
   "metadata": {},
   "source": [
    "## i)"
   ]
  },
  {
   "cell_type": "code",
   "execution_count": null,
   "metadata": {},
   "outputs": [],
   "source": [
    "function derivar_frente2(f, x)#funcao que calcula a derivada para trás    \n",
    "    n,= size(x)\n",
    "    y=zeros(n-1,1)\n",
    "    for i in 1:n-1\n",
    "        y[i]=f[i+1]-f[i]\n",
    "    end    \n",
    "    return y\n",
    "end  \n",
    "\n",
    "f_df_2=[30000 32000 34000 36000 38000 40000 42000 44000 46000 48000 50000]\n",
    "x=[1, 2, 3, 4, 5, 6, 7, 8, 9, 10, 11]\n",
    "derivar_frente2(f_df_2, x)"
   ]
  },
  {
   "cell_type": "markdown",
   "metadata": {},
   "source": [
    "## ii)"
   ]
  },
  {
   "cell_type": "code",
   "execution_count": null,
   "metadata": {},
   "outputs": [],
   "source": [
    "function derivar_tras2(f, x)#funcao que calcula a derivada para trás    \n",
    "    n,= size(x)\n",
    "    y=zeros(n-1,1)\n",
    "    for i in reverse(2:n)\n",
    "        y[i-1]=f[i]-f[i-1]\n",
    "    end    \n",
    "    return y\n",
    "end  \n",
    "\n",
    "f_dt_2=[30000 32000 34000 36000 38000 40000 42000 44000 46000 48000 50000]\n",
    "x=[1, 2, 3, 4, 5, 6, 7, 8, 9, 10, 11]\n",
    "derivar_tras2(f_dt_2, x)"
   ]
  },
  {
   "cell_type": "markdown",
   "metadata": {},
   "source": [
    "### iii)"
   ]
  },
  {
   "cell_type": "code",
   "execution_count": null,
   "metadata": {},
   "outputs": [],
   "source": [
    "function derivar_centralizada2(f, x)#funcao que calcula a derivada utilizando as duas funções derivadas, somando as duas e dividindo por dois, para garantir um resultado mais acertivo\n",
    "    n,= size(x)\n",
    "    y=zeros(n-2,1)\n",
    "    for i in 2:n-1\n",
    "        y[i-1]=(f[i+1]-f[i-1])/2\n",
    "    end    \n",
    "    return y\n",
    "end\n",
    "\n",
    "f_dc_2=[30000 32000 34000 36000 38000 40000 42000 44000 46000 48000 50000]\n",
    "x=[1, 2, 3, 4, 5, 6, 7, 8, 9, 10, 11]\n",
    "derivar_centralizada2(f_dc_2, x)"
   ]
  }
 ],
 "metadata": {
  "kernelspec": {
   "display_name": "Julia 1.6.4",
   "language": "julia",
   "name": "julia-1.6"
  },
  "language_info": {
   "file_extension": ".jl",
   "mimetype": "application/julia",
   "name": "julia",
   "version": "1.6.4"
  }
 },
 "nbformat": 4,
 "nbformat_minor": 2
}
