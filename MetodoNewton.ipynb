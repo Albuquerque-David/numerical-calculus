{
 "cells": [
  {
   "cell_type": "code",
   "execution_count": 3,
   "metadata": {},
   "outputs": [
    {
     "data": {
      "text/plain": [
       "raiz_de_2 (generic function with 1 method)"
      ]
     },
     "execution_count": 3,
     "metadata": {},
     "output_type": "execute_result"
    }
   ],
   "source": [
    "# Exemplo de Metodo de Newton para achar raiz de dois\n",
    "function raiz_de_2(iteracoes, chute) # Número de iterações e chute inicial\n",
    "    for i=1:iteracoes\n",
    "        chute = chute - (chute*chute-2)/(2*chute) # Chute - f(chute)/f'(chute)\n",
    "    end\n",
    "    return chute # Aproximação do resultado. Quanto mais iterações, maior a precisão.\n",
    "end"
   ]
  },
  {
   "cell_type": "code",
   "execution_count": 9,
   "metadata": {},
   "outputs": [
    {
     "data": {
      "text/plain": [
       "1.4142135623730951"
      ]
     },
     "execution_count": 9,
     "metadata": {},
     "output_type": "execute_result"
    }
   ],
   "source": [
    "raiz_de_2(99,3)"
   ]
  },
  {
   "cell_type": "code",
   "execution_count": 41,
   "metadata": {},
   "outputs": [
    {
     "data": {
      "text/plain": [
       "raiz_cubica_43 (generic function with 1 method)"
      ]
     },
     "execution_count": 41,
     "metadata": {},
     "output_type": "execute_result"
    }
   ],
   "source": [
    "# Exercício 2.1. Encontrar aproximação para raiz cúbica de 43.\n",
    "# Para isto, usaremos que f(x) = x^3-43 e f'(x) = 3x^2\n",
    "function raiz_cubica_43(iteracoes, chute) # Número de iterações e chute inicial\n",
    "    for i=1:iteracoes\n",
    "        chute = chute - (chute^3-43)/(3*chute^2) # Chute - f(chute)/f'(chute)\n",
    "    end\n",
    "    return chute # Aproximação do resultado. Quanto mais iterações, maior a precisão.\n",
    "end"
   ]
  },
  {
   "cell_type": "code",
   "execution_count": 44,
   "metadata": {},
   "outputs": [
    {
     "data": {
      "text/plain": [
       "3.5625"
      ]
     },
     "execution_count": 44,
     "metadata": {},
     "output_type": "execute_result"
    }
   ],
   "source": [
    "raiz_cubica_43(1, 4)"
   ]
  },
  {
   "cell_type": "code",
   "execution_count": null,
   "metadata": {},
   "outputs": [],
   "source": []
  }
 ],
 "metadata": {
  "kernelspec": {
   "display_name": "Julia 1.6.4",
   "language": "julia",
   "name": "julia-1.6"
  },
  "language_info": {
   "file_extension": ".jl",
   "mimetype": "application/julia",
   "name": "julia",
   "version": "1.6.4"
  }
 },
 "nbformat": 4,
 "nbformat_minor": 4
}
