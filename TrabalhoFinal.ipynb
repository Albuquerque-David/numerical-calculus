{
 "cells": [
  {
   "cell_type": "code",
   "execution_count": 3,
   "metadata": {},
   "outputs": [],
   "source": [
    "using Plots\n",
    "using  LinearAlgebra"
   ]
  },
  {
   "cell_type": "markdown",
   "metadata": {},
   "source": [
    "## Interpolação Polinomial\n"
   ]
  },
  {
   "cell_type": "code",
   "execution_count": 19,
   "metadata": {},
   "outputs": [
    {
     "name": "stdout",
     "output_type": "stream",
     "text": [
      "nothing"
     ]
    }
   ],
   "source": [
    "function interpolação(x,y)# função que calcula os coeficientes do polinomio interpolador, a partir da entrada de x e y\n",
    "    n, = size(x)\n",
    "    V=zeros(n, n)\n",
    "    for i in 1:n\n",
    "        for j in 1:n\n",
    "            V[i,j]=x[i]^(j-1)\n",
    "        end\n",
    "    end\n",
    "    c=inv(V)*y #resolver o sistema linear Vc=y\n",
    "    #vetor de coeficientes\n",
    "    return c\n",
    "end\n",
    "\n",
    "x=[15; 16.5; 17.5; 8]\n",
    "y =[34; 30; 25; 16]\n",
    "c=interpolação(x,y)\n"
   ]
  }
 ],
 "metadata": {
  "kernelspec": {
   "display_name": "Julia 1.6.4",
   "language": "julia",
   "name": "julia-1.6"
  },
  "language_info": {
   "file_extension": ".jl",
   "mimetype": "application/julia",
   "name": "julia",
   "version": "1.6.4"
  },
  "orig_nbformat": 4
 },
 "nbformat": 4,
 "nbformat_minor": 2
}
