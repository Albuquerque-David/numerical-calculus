{
 "cells": [
  {
   "cell_type": "markdown",
   "metadata": {},
   "source": [
    "# Cálculo Numérico - 2021.2 - Tarefa 6 - Professor João Paixão\n",
    "## Realizado por: David Rodrigues Albuquerque - 120047390\n",
    "## Questões discutidas com: Beatriz Almeida Ramos, Matheus Barroso\n",
    "## Questões 1) e 3) realizadas com: Beatriz Almeira Ramos, Matheus Barroso"
   ]
  },
  {
   "cell_type": "code",
   "execution_count": 167,
   "metadata": {},
   "outputs": [],
   "source": [
    "using Plots\n",
    "using LinearAlgebra\n",
    "using Polynomials"
   ]
  },
  {
   "cell_type": "markdown",
   "metadata": {},
   "source": [
    "# Exercício 1)"
   ]
  },
  {
   "cell_type": "markdown",
   "metadata": {},
   "source": [
    "## I) Resolve_Diagonal"
   ]
  },
  {
   "cell_type": "code",
   "execution_count": 168,
   "metadata": {},
   "outputs": [
    {
     "data": {
      "text/plain": [
       "verifica_tamanho (generic function with 1 method)"
      ]
     },
     "metadata": {},
     "output_type": "display_data"
    }
   ],
   "source": [
    "# Entrada matriz A e b\n",
    "# Saida true  se a matriz A eh quadrada e se o numero de linhas da matriz B eh o mesmo numero de colunas da matriz A. False, caso contrario\n",
    "# Verifica se a matriz A eh quadrada e se o numero de linhas da matriz B eh o mesmo numero de colunas da matriz A.\n",
    "function verifica_tamanho(A,b)\n",
    "    if (size(A)[1] != size(A)[2]) # Verificando se a matriz eh quadrada\n",
    "        println(\"ERRO! Matriz A nao eh quadrada\")\n",
    "        return false\n",
    "    end\n",
    "\n",
    "    if (size(b)[1] != size(A)[2]) # Verificando se o numero de linhas de B eh o mesmo que de colunas de A\n",
    "        println(\"ERRO! O numero de linhas da matriz B não eh o mesmo do numero de colunas da matriz A\")\n",
    "        return false\n",
    "    end\n",
    "    \n",
    "    return true\n",
    "end"
   ]
  },
  {
   "cell_type": "code",
   "execution_count": 169,
   "metadata": {},
   "outputs": [
    {
     "data": {
      "text/plain": [
       "sistema_diagonal (generic function with 1 method)"
      ]
     },
     "metadata": {},
     "output_type": "display_data"
    }
   ],
   "source": [
    "# Entrada matriz A e b\n",
    "# Saída x tal que A * x = b\n",
    "# Onde A é a matriz em que a diagonal principal tem elementos diferentes de 0 e o restante dos elementos\n",
    "# possuem valor 0, a funcao a seguir resolver esse caso.\n",
    "function sistema_diagonal(A,b)\n",
    "    # inicializacao de variaveis  \n",
    "    n,=size(A)\n",
    "    x = zeros(n, 1)\n",
    "  \n",
    "    if (!verifica_tamanho(A,b))\n",
    "      return \"ERRO\"\n",
    "    end\n",
    "    \n",
    "    for i in 1:n\n",
    "      x[i] = b[i]/A[i,i] # Expressao que calcula  A * x = b\n",
    "    end\n",
    "  return x\n",
    "  end"
   ]
  },
  {
   "cell_type": "code",
   "execution_count": 170,
   "metadata": {},
   "outputs": [
    {
     "data": {
      "text/plain": [
       "true"
      ]
     },
     "metadata": {},
     "output_type": "display_data"
    }
   ],
   "source": [
    "# Exemplo 1\n",
    "A= [2 0 0;0 5 0;0 0 7]\n",
    "x_verdadeiro=randn(3,1)\n",
    "b=A*x_verdadeiro\n",
    "x_calculado=sistema_diagonal(A,b)\n",
    "norm(x_verdadeiro - x_calculado) < 10^-14\n"
   ]
  },
  {
   "cell_type": "code",
   "execution_count": 171,
   "metadata": {},
   "outputs": [
    {
     "data": {
      "text/plain": [
       "true"
      ]
     },
     "metadata": {},
     "output_type": "display_data"
    }
   ],
   "source": [
    "# Exemplo 2\n",
    "A= [342 0 0;0 12132 0;0 0 777]\n",
    "x_verdadeiro=randn(3,1)\n",
    "b=A*x_verdadeiro\n",
    "x_calculado=sistema_diagonal(A,b)\n",
    "norm(x_verdadeiro - x_calculado) < 10^-14"
   ]
  },
  {
   "cell_type": "code",
   "execution_count": 172,
   "metadata": {},
   "outputs": [
    {
     "data": {
      "text/plain": [
       "true"
      ]
     },
     "metadata": {},
     "output_type": "display_data"
    }
   ],
   "source": [
    "\n",
    "# Exemplo 3\n",
    "A= [423 0 0 0;0 4383 0 0;0 0 5 0; 0 0 0 9997]\n",
    "x_verdadeiro=randn(4,1)\n",
    "b=A*x_verdadeiro\n",
    "x_calculado=sistema_diagonal(A,b)\n",
    "norm(x_verdadeiro - x_calculado) < 10^-14"
   ]
  },
  {
   "cell_type": "markdown",
   "metadata": {},
   "source": [
    "## II) Resolve_Triangular_Superior"
   ]
  },
  {
   "cell_type": "code",
   "execution_count": 173,
   "metadata": {},
   "outputs": [
    {
     "data": {
      "text/plain": [
       "sistema_triangular_superior (generic function with 1 method)"
      ]
     },
     "metadata": {},
     "output_type": "display_data"
    }
   ],
   "source": [
    "# Entrada matriz A e b\n",
    "# Saída x tal que A * x = b\n",
    "# Onde A é triangular superior aonde os elementos da diagonal são diferentes de zero e a parte inferior, por sua vez, eh composta por zeros\n",
    "function sistema_triangular_superior(A,b) \n",
    "  # inicializacao de variaveis\n",
    "  n,=size(A) \n",
    "  x = zeros(n, 1)\n",
    "  #verificação de erro no tamanho das matrizes\n",
    "  if (!verifica_tamanho(A,b))\n",
    "    return \"ERRO\"\n",
    "  end\n",
    "\n",
    "  for i in reverse(1:n) # comecamos da ultima linha da matriz, o percorrendo \"de baixo para cima\"\n",
    "    #na pratica isolamos a incognita da linha i, para descobrir o seu valor\n",
    "    #como comecamos na ultima linha, a variavel dessa linha ja tem seu valor conhecido\n",
    "    #a partir da penultima linha, as variaveis tem seus valores baseados na linha abaixo que áforam calculados. \n",
    "    soma = 0\n",
    "    for j in i+1:n\n",
    "        soma+=A[i, j]*x[j]\n",
    "    end \n",
    "    x[i] = (b[i] - soma)/(A[i,i])\n",
    "  end\n",
    "return x\n",
    "end\n"
   ]
  },
  {
   "cell_type": "code",
   "execution_count": 174,
   "metadata": {},
   "outputs": [
    {
     "data": {
      "text/plain": [
       "true"
      ]
     },
     "metadata": {},
     "output_type": "display_data"
    }
   ],
   "source": [
    "# Exemplo 1\n",
    "A= [2 3 4;0 5 7;0 0 9]\n",
    "x_verdadeiro=randn(3,1)\n",
    "b=A*x_verdadeiro\n",
    "x_calculado=sistema_triangular_superior(A,b)\n",
    "norm(x_verdadeiro - x_calculado) < 10^-14\n"
   ]
  },
  {
   "cell_type": "code",
   "execution_count": 175,
   "metadata": {},
   "outputs": [
    {
     "data": {
      "text/plain": [
       "true"
      ]
     },
     "metadata": {},
     "output_type": "display_data"
    }
   ],
   "source": [
    "# Exemplo 2\n",
    "A= [342 455 555;0 121 733;0 0 777]\n",
    "x_verdadeiro=randn(3,1)\n",
    "b=A*x_verdadeiro\n",
    "x_calculado=sistema_triangular_superior(A,b)\n",
    "norm(x_verdadeiro - x_calculado) < 10^-14"
   ]
  },
  {
   "cell_type": "code",
   "execution_count": 176,
   "metadata": {},
   "outputs": [
    {
     "data": {
      "text/plain": [
       "true"
      ]
     },
     "metadata": {},
     "output_type": "display_data"
    }
   ],
   "source": [
    "\n",
    "# Exemplo 3\n",
    "A= [423 834 -342 545;0 72 12 -14;0 0 4 5; 0 0 0 1]\n",
    "x_verdadeiro=randn(4,1)\n",
    "b=A*x_verdadeiro\n",
    "x_calculado=sistema_triangular_superior(A,b)\n",
    "norm(x_verdadeiro - x_calculado) < 10^-14"
   ]
  },
  {
   "cell_type": "markdown",
   "metadata": {},
   "source": [
    "## III) Resolve_Triangular_Inferior"
   ]
  },
  {
   "cell_type": "code",
   "execution_count": 177,
   "metadata": {},
   "outputs": [
    {
     "data": {
      "text/plain": [
       "sistema_triangular_inferior (generic function with 1 method)"
      ]
     },
     "metadata": {},
     "output_type": "display_data"
    }
   ],
   "source": [
    "# Entrada matriz A e b\n",
    "# Saida x tal que A * x = b\n",
    "# onde A eh triangular inferior aonde os elementos da diagonal sao diferentes de zero e a parte superior, por sua vez, eh composta de zeros\n",
    "function sistema_triangular_inferior(A,b) #\n",
    "  # inicializacao de variaveis\n",
    "  n,=size(A)\n",
    "  x = zeros(n, 1)\n",
    "\n",
    "  if (!verifica_tamanho(A,b))\n",
    "    return \"ERRO\"\n",
    "  end\n",
    "\n",
    "  for i in 1:n\n",
    "    soma = 0\n",
    "\n",
    "    # comecamos da ultima linha da matriz, a percorrendo \"de baixo para cima\"\n",
    "    #na pratica isolamos a incognita da linha i, para descobrir o seu valor\n",
    "    #como comecamos na ultima linha, a variavel dessa linha ja tem seu valor conhecido\n",
    "    #a partir da penultima linha, as variaveis tem seus valores baseados na linha abaixo que já foram calculados.     \n",
    "    for j in 1:i-1\n",
    "        soma+=A[i, j]*x[j]\n",
    "    end \n",
    "    x[i] = (b[i] - soma)/(A[i,i])\n",
    "  end\n",
    "return x\n",
    "end"
   ]
  },
  {
   "cell_type": "code",
   "execution_count": 178,
   "metadata": {},
   "outputs": [
    {
     "data": {
      "text/plain": [
       "true"
      ]
     },
     "metadata": {},
     "output_type": "display_data"
    }
   ],
   "source": [
    "# Exemplo 1\n",
    "A= [4 0 0;5 7 0;2 3 9]\n",
    "x_verdadeiro=randn(3,1)\n",
    "b=A*x_verdadeiro\n",
    "x_calculado=sistema_triangular_inferior(A,b)\n",
    "norm(x_verdadeiro - x_calculado) < 10^-14\n"
   ]
  },
  {
   "cell_type": "code",
   "execution_count": 179,
   "metadata": {},
   "outputs": [
    {
     "data": {
      "text/plain": [
       "true"
      ]
     },
     "metadata": {},
     "output_type": "display_data"
    }
   ],
   "source": [
    "# Exemplo 2\n",
    "A= [342 0 0;645 121 0;455 666 777]\n",
    "x_verdadeiro=randn(3,1)\n",
    "b=A*x_verdadeiro\n",
    "x_calculado=sistema_triangular_inferior(A,b)\n",
    "norm(x_verdadeiro - x_calculado) < 10^-14"
   ]
  },
  {
   "cell_type": "code",
   "execution_count": 180,
   "metadata": {},
   "outputs": [
    {
     "data": {
      "text/plain": [
       "true"
      ]
     },
     "metadata": {},
     "output_type": "display_data"
    }
   ],
   "source": [
    "# Exemplo 3\n",
    "A= [423 0 0 0;150 72 0 0;42 24 543 0; 143 1312 10 11]\n",
    "x_verdadeiro=randn(4,1)\n",
    "b=A*x_verdadeiro\n",
    "x_calculado=sistema_triangular_inferior(A,b)\n",
    "norm(x_verdadeiro - x_calculado) < 10^-14"
   ]
  },
  {
   "cell_type": "markdown",
   "metadata": {},
   "source": [
    "## IV) Decomposição_LU"
   ]
  },
  {
   "cell_type": "code",
   "execution_count": 181,
   "metadata": {},
   "outputs": [
    {
     "data": {
      "text/plain": [
       "lu (generic function with 1 method)"
      ]
     },
     "metadata": {},
     "output_type": "display_data"
    }
   ],
   "source": [
    "# Entrada: matriz A\n",
    "# Saida: L, matriz triangular inferior de A e U matriz triangular superior de A\n",
    "# Fazemos a decomposicao da matriz A em duas matrizes L e U, tal que A = L * U\n",
    "function lu(A)\n",
    "    n,=size(A)\n",
    "    U = copy(A)\n",
    "    L = zeros(n, n)\n",
    "\n",
    "    for i in 1:n-1 # for por coluna\n",
    "        pivot = U[i,i]\n",
    "        L[i,i] = 1\n",
    "        for j in i+1:n # for da linha\n",
    "            fator = U[j,i]/pivot;\n",
    "            L[j,i] = fator\n",
    "            for k in 1:n # for pra calcular o valor da linha\n",
    "                U[j, k] -= fator * U[i,k] # calcula linha\n",
    "            end\n",
    "        end\n",
    "    end\n",
    "\n",
    "    L[n,n] = 1\n",
    "    \n",
    "    return L,U\n",
    "end\n",
    "\n",
    "            "
   ]
  },
  {
   "cell_type": "code",
   "execution_count": 182,
   "metadata": {},
   "outputs": [
    {
     "data": {
      "text/plain": [
       "sistema_denso (generic function with 1 method)"
      ]
     },
     "metadata": {},
     "output_type": "display_data"
    }
   ],
   "source": [
    "function sistema_denso(A,b)\n",
    "    #verificação de erro no tamanho das matrizes\n",
    "    if (!verifica_tamanho(A,b))\n",
    "        return \"ERRO\"\n",
    "    end\n",
    "\n",
    "    # chamamos a decomposicao de A em L e U\n",
    "    L,U=lu(A)\n",
    "    \n",
    "    y=sistema_triangular_inferior(L,b)\n",
    "    x=sistema_triangular_superior(U,y)\n",
    "    return x\n",
    "end"
   ]
  },
  {
   "cell_type": "code",
   "execution_count": 183,
   "metadata": {},
   "outputs": [
    {
     "data": {
      "text/plain": [
       "([1.0 0.0 0.0; 2.0 1.0 0.0; 3.0 3.0 1.0], [2.0 4.0 3.0; 0.0 2.0 3.0; 0.0 0.0 4.0])"
      ]
     },
     "metadata": {},
     "output_type": "display_data"
    }
   ],
   "source": [
    "# Exemplo 1\n",
    "A = [2.0 4.0 3.0; 4.0 10.0 9.0; 6.0 18.0 22.0]\n",
    "lu(A)"
   ]
  },
  {
   "cell_type": "code",
   "execution_count": 184,
   "metadata": {},
   "outputs": [
    {
     "data": {
      "text/plain": [
       "([1.0 0.0 0.0; 2.1904761904761907 1.0 0.0; 3.238095238095238 1.4444444444444444 1.0], [21.0 48.0 34.0; -7.105427357601002e-15 -95.14285714285715 16.52380952380952; 1.0263395072090336e-14 0.0 -108.96296296296296])"
      ]
     },
     "metadata": {},
     "output_type": "display_data"
    }
   ],
   "source": [
    "# Exemplo 2\n",
    "A = [21.0 48.0 34.0; 46.0 10.0 91.0; 68.0 18.0 25.0]\n",
    "lu(A)"
   ]
  },
  {
   "cell_type": "code",
   "execution_count": 185,
   "metadata": {},
   "outputs": [
    {
     "data": {
      "text/plain": [
       "([1.0 0.0 0.0; 5.0 1.0 0.0; 3.0 0.6153846153846154 1.0], [2.0 23.0 41.0; 0.0 -104.0 -193.0; 0.0 0.0 -3.2307692307692264])"
      ]
     },
     "metadata": {},
     "output_type": "display_data"
    }
   ],
   "source": [
    "# Exemplo 3\n",
    "A = [2.0 23.0 41.0; 10.0 11.0 12.0; 6.0 5.0 1.0]\n",
    "lu(A)"
   ]
  },
  {
   "cell_type": "code",
   "execution_count": 186,
   "metadata": {},
   "outputs": [
    {
     "data": {
      "text/plain": [
       "true"
      ]
     },
     "metadata": {},
     "output_type": "display_data"
    }
   ],
   "source": [
    "# Exemplo 1\n",
    "A = [2.0 4.0 3.0; 4.0 10.0 9.0; 6.0 18.0 22.0]\n",
    "x_verdadeiro=randn(3,1)\n",
    "b=A*x_verdadeiro\n",
    "x_calculado = sistema_denso(A,b)\n",
    "norm(x_verdadeiro - x_calculado) < 10^-14"
   ]
  },
  {
   "cell_type": "code",
   "execution_count": 187,
   "metadata": {},
   "outputs": [
    {
     "data": {
      "text/plain": [
       "true"
      ]
     },
     "metadata": {},
     "output_type": "display_data"
    }
   ],
   "source": [
    "# Exemplo 2\n",
    "A = [21.0 48.0 34.0; 46.0 10.0 91.0; 68.0 18.0 25.0]\n",
    "x_verdadeiro=randn(3,1)\n",
    "b=A*x_verdadeiro\n",
    "x_calculado = sistema_denso(A,b)\n",
    "norm(x_verdadeiro - x_calculado) < 10^-14"
   ]
  },
  {
   "cell_type": "code",
   "execution_count": 188,
   "metadata": {},
   "outputs": [
    {
     "data": {
      "text/plain": [
       "false"
      ]
     },
     "metadata": {},
     "output_type": "display_data"
    }
   ],
   "source": [
    "# Exemplo 3\n",
    "A = [2.0 23.0 41.0; 10.0 11.0 12.0; 6.0 5.0 1.0]\n",
    "x_verdadeiro=randn(3,1)\n",
    "b=A*x_verdadeiro\n",
    "x_calculado = sistema_denso(A,b)\n",
    "norm(x_verdadeiro - x_calculado) < 10^-14"
   ]
  },
  {
   "cell_type": "markdown",
   "metadata": {},
   "source": [
    "## V) Inversa + Complexidade"
   ]
  },
  {
   "cell_type": "markdown",
   "metadata": {},
   "source": [
    "Ao resolvemos o sistema de equações, b normalmente é tratado como um vetor\n",
    "\n",
    "Sabemos, por definição, que\n",
    "\n",
    "$$Ax = b$$\n",
    "$$LUx = (Ux) = b$$\n",
    "\n",
    "Sabemos também que, ao multiplicarmos uma matriz pela sua matriz inversa, obtemos a matriz identidade. Portanto, se colocarmos no algoritmo para resolver o sistema denso que a matriz $A$ e $b$, a matriz identidade, o $x$ retornado será uma coluna da matriz inversa de $A$. Com isto, como para cada linha da matriz de $b$, podemos iterar as linhas da matriz $b$ para obtermos cada coluna da matriz inversa $x$.\n",
    "\n",
    "A complexidade do algoritmo é O de n³. Isso porque fazemos um for até n para passar por cada linha da matriz identidade e a passamos para o sitema triangular inferior, que por sua vez tem complexidade o n², assim temos n*n² igual a n³. "
   ]
  },
  {
   "cell_type": "code",
   "execution_count": 189,
   "metadata": {},
   "outputs": [
    {
     "data": {
      "text/plain": [
       "matriz_inversa (generic function with 1 method)"
      ]
     },
     "metadata": {},
     "output_type": "display_data"
    }
   ],
   "source": [
    "function matriz_inversa(A)\n",
    "    n,=size(A)\n",
    "    b = zeros(n, n)\n",
    "    inverse = zeros(n,n)\n",
    "\n",
    "    #verificação de erro no tamanho das matrizes\n",
    "    if (!verifica_tamanho(A,b))\n",
    "        return \"ERRO\"\n",
    "    end\n",
    "\n",
    "    for i in 1:n\n",
    "        b[i,i] = 1\n",
    "    end\n",
    "\n",
    "    # chamamos a decomposicao de A em L e U\n",
    "    L,U=lu(A)\n",
    "    for i in 1:n\n",
    "        y=sistema_triangular_inferior(L,b[i,:])\n",
    "        x=sistema_triangular_superior(U,y)\n",
    "        inverse[[i],:]=x\n",
    "    end\n",
    "    \n",
    "    return inverse'\n",
    "end"
   ]
  },
  {
   "cell_type": "code",
   "execution_count": 190,
   "metadata": {},
   "outputs": [
    {
     "data": {
      "text/plain": [
       "3×3 Adjoint{Float64,Array{Float64,2}}:\n",
       " -1.0  -0.666667   0.666667\n",
       "  2.0  -1.66667    0.666667\n",
       " -1.0   2.0       -1.0"
      ]
     },
     "metadata": {},
     "output_type": "display_data"
    }
   ],
   "source": [
    "# Exemplo 1\n",
    "A = [1.0 2.0 2.0; 4.0 5.0 6.0; 7.0 8.0 9.0]\n",
    "x_calculado = matriz_inversa(A)"
   ]
  },
  {
   "cell_type": "code",
   "execution_count": 191,
   "metadata": {},
   "outputs": [
    {
     "data": {
      "text/plain": [
       "3×3 Adjoint{Float64,Array{Float64,2}}:\n",
       "  1.47458   -1.94915    0.322034\n",
       " -2.9661     4.4322    -0.762712\n",
       "  0.152542  -0.305085   0.0677966"
      ]
     },
     "metadata": {},
     "output_type": "display_data"
    }
   ],
   "source": [
    "# Exemplo 2\n",
    "A = [8.0 4.0 7.0; 10.0 6.0 20.0; 27.0 18.0 89.0]\n",
    "x_calculado = matriz_inversa(A)"
   ]
  },
  {
   "cell_type": "code",
   "execution_count": 192,
   "metadata": {},
   "outputs": [
    {
     "data": {
      "text/plain": [
       "3×3 Adjoint{Float64,Array{Float64,2}}:\n",
       "  0.325203  -0.138211   -0.00813008\n",
       " -0.745257   0.108401    0.143631\n",
       "  0.276423   0.0325203  -0.0569106"
      ]
     },
     "metadata": {},
     "output_type": "display_data"
    }
   ],
   "source": [
    "# Exemplo 3\n",
    "A = [4.0 3.0 7.0; 1.0 6.0 15.0; 20.0 18.0 25.0]\n",
    "x_calculado = matriz_inversa(A)"
   ]
  },
  {
   "cell_type": "markdown",
   "metadata": {},
   "source": [
    "# Exercício 2a)\n",
    "\n",
    "Dado o PVC $y''(x) = 4x$, $y(0) = 5$ e $y(10) = 20$, devemos determinar um sistema linear que aproxima pelo método de diferenças finitas com 6 intervalos ($n = 6$). Com isto, como já possuímos os valores das pontas, devemos montar um sistema $5x5$ para descobrir os valores $y_{2}, y_{3}, y_{4}, y_{5}$ e $y_{6}$.\n",
    "\n",
    "\n",
    "Desta forma, teremos que\n",
    "\n",
    "$$y'' = 4x$$\n",
    "$$x_{2} = 4x = 4x_{2} \\approx \\dfrac{y_{3} - 2y_{2} + y_{1}}{2h^2}$$\n",
    "$$x_{3} = 4x = 4x_{2} \\approx \\dfrac{y_{4} - 2y_{3} + y_{2}}{2h^2}$$\n",
    "$$x_{4} = 4x = 4x_{2} \\approx \\dfrac{y_{5} - 2y_{4} + y_{3}}{2h^2}$$\n",
    "$$x_{5} = 4x = 4x_{2} \\approx \\dfrac{y_{6} - 2y_{5} + y_{4}}{2h^2}$$\n",
    "$$x_{6} = 4x = 4x_{2} \\approx \\dfrac{y_{7} - 2y_{6} + y_{5}}{2h^2}$$\n",
    "\n",
    "Podemos então descrever o seguinte sistema\n",
    "\n",
    "$$\n",
    "\\begin{cases}\n",
    "y_{3} - 2y_{2} = y''_{2} * 2h^2 - y_{1} \\\\\n",
    "y_{4} - 2y_{3} + y''_{3} * y_{2} = 2h^2 \\\\\n",
    "y_{5} - 2y_{4} + y''_{4} * y_{3} = 2h^2 \\\\\n",
    "y_{6} - 2y_{5} + y''_{5} * y_{4} = 2h^2 \\\\\n",
    "-2y_{6} + y_{5} = y''_{6} * 2h^2 - y_{7} \\\\\n",
    "\\end{cases}\n",
    "$$\n",
    "\n",
    "Desta forma, teremos que resolver tal que\n",
    "\n",
    "$$\n",
    "\\begin{bmatrix}\n",
    "-2 & 1 & 0 & 0 & 0 \\\\\n",
    "1 & -2 & 1 & 0 & 0 \\\\\n",
    "0 & 1 & -2 & 1 & 0 \\\\\n",
    "0 & 0 & 1 & -2 & 1 \\\\\n",
    "0 & 0 & 0 & 1 & -2 \\\\\n",
    "\\end{bmatrix} \n",
    "\\begin{bmatrix}\n",
    "y_{2} \\\\\n",
    "y_{3} \\\\\n",
    "y_{4} \\\\\n",
    "y_{5} \\\\\n",
    "y_{6} \\\\\n",
    "\\end{bmatrix} \n",
    "=\n",
    "\\begin{bmatrix}\n",
    "y''_{2} * 2h^2 - y_{1} \\\\\n",
    "y''_{3} * 2h^2 \\\\\n",
    "y''_{4} * 2h^2 \\\\\n",
    "y''_{5} * 2h^2 \\\\\n",
    "y''_{6} * 2h^2 - y_{7}\\\\\n",
    "\\end{bmatrix}\n",
    "$$\n",
    "\n"
   ]
  },
  {
   "cell_type": "markdown",
   "metadata": {},
   "source": [
    "# Exercício 2b)\n",
    "\n",
    "Com o sistema em mãos, tal que\n",
    "\n",
    "$$\n",
    "\\begin{bmatrix}\n",
    "-2 & 1 & 0 & 0 & 0 \\\\\n",
    "1 & -2 & 1 & 0 & 0 \\\\\n",
    "0 & 1 & -2 & 1 & 0 \\\\\n",
    "0 & 0 & 1 & -2 & 1 \\\\\n",
    "0 & 0 & 0 & 1 & -2 \\\\\n",
    "\\end{bmatrix} \n",
    "\\begin{bmatrix}\n",
    "y_{2} \\\\\n",
    "y_{3} \\\\\n",
    "y_{4} \\\\\n",
    "y_{5} \\\\\n",
    "y_{6} \\\\\n",
    "\\end{bmatrix} \n",
    "=\n",
    "\\begin{bmatrix}\n",
    "y''_{2} * 2h^2 - y_{1} \\\\\n",
    "y''_{3} * 2h^2 \\\\\n",
    "y''_{4} * 2h^2 \\\\\n",
    "y''_{5} * 2h^2 \\\\\n",
    "y''_{6} * 2h^2 - y_{7}\\\\\n",
    "\\end{bmatrix}\n",
    "$$\n",
    "\n",
    "podemos chamar o método dsa diferenças finitas construído em aula com os parâmetros do exercício."
   ]
  },
  {
   "cell_type": "code",
   "execution_count": 193,
   "metadata": {},
   "outputs": [
    {
     "data": {
      "text/plain": [
       "criação_da_matriz (generic function with 1 method)"
      ]
     },
     "metadata": {},
     "output_type": "display_data"
    }
   ],
   "source": [
    "# Função para criar a primeira matriz\n",
    "function criação_da_matriz(n)\n",
    "    A=zeros(n,n)\n",
    "    \n",
    "    #\"manual\"\n",
    "    A[1,1]=-2\n",
    "    A[1,2]=1\n",
    "    A[n,n-1]=1\n",
    "    A[n,n]=-2\n",
    "    \n",
    "    #tridiagonal\n",
    "    for i= 2:(n-1)\n",
    "        A[i,i]=-2\n",
    "        A[i,i+1]=1\n",
    "        A[i,i-1]=1\n",
    "    end\n",
    "    return A\n",
    "end"
   ]
  },
  {
   "cell_type": "code",
   "execution_count": 194,
   "metadata": {},
   "outputs": [
    {
     "data": {
      "text/plain": [
       "diferenças_finitas (generic function with 1 method)"
      ]
     },
     "metadata": {},
     "output_type": "display_data"
    }
   ],
   "source": [
    "# Método das diferenças finitas para calcular os valores dos y\n",
    "function diferenças_finitas(n,sd,y_inicial,y_final,x_inicial,x_final)\n",
    "    h=(x_final-x_inicial)/(n-1)\n",
    "    \n",
    "    A=criação_da_matriz(n-2)\n",
    "    \n",
    "    \n",
    "    b=zeros(n-2)\n",
    "    b[1]=sd[1]*2*h^2-y_inicial\n",
    "    \n",
    "    b[n-2]=sd[n-2]*2*h^2-y_final\n",
    "    \n",
    "    for i=2:(n-3) #no meio\n",
    "        b[i]=sd[i]*2*h^2\n",
    "    end\n",
    "    \n",
    "    y_meio=A\\b\n",
    "    return y_meio  #valores da função no \"meio\"\n",
    "end"
   ]
  },
  {
   "cell_type": "code",
   "execution_count": 195,
   "metadata": {},
   "outputs": [
    {
     "data": {
      "image/png": "[encoded data removed]",
      "image/svg+xml": "<?xml version=\"1.0\" encoding=\"utf-8\"?>\n<svg xmlns=\"http://www.w3.org/2000/svg\" xmlns:xlink=\"http://www.w3.org/1999/xlink\" width=\"600\" height=\"400\" viewBox=\"0 0 2400 1600\">\n<defs>\n  <clipPath id=\"clip930\">\n    <rect x=\"0\" y=\"0\" width=\"2400\" height=\"1600\"/>\n  </clipPath>\n</defs>\n<path clip-path=\"url(#clip930)\" d=\"\nM0 1600 L2400 1600 L2400 0 L0 0  Z\n  \" fill=\"#ffffff\" fill-rule=\"evenodd\" fill-opacity=\"1\"/>\n<defs>\n  <clipPath id=\"clip931\">\n    <rect x=\"480\" y=\"0\" width=\"1681\" height=\"1600\"/>\n  </clipPath>\n</defs>\n<path clip-path=\"url(#clip930)\" d=\"\nM198.195 1486.45 L2352.76 1486.45 L2352.76 47.2441 L198.195 47.2441  Z\n  \" fill=\"#ffffff\" fill-rule=\"evenodd\" fill-opacity=\"1\"/>\n<defs>\n  <clipPath id=\"clip932\">\n    <rect x=\"198\" y=\"47\" width=\"2156\" height=\"1440\"/>\n  </clipPath>\n</defs>\n<polyline clip-path=\"url(#clip932)\" style=\"stroke:#000000; stroke-width:2; stroke-opacity:0.1; fill:none\" points=\"\n  259.173,1486.45 259.173,47.2441 \n  \"/>\n<polyline clip-path=\"url(#clip932)\" style=\"stroke:#000000; stroke-width:2; stroke-opacity:0.1; fill:none\" points=\"\n  767.324,1486.45 767.324,47.2441 \n  \"/>\n<polyline clip-path=\"url(#clip932)\" style=\"stroke:#000000; stroke-width:2; stroke-opacity:0.1; fill:none\" points=\"\n  1275.48,1486.45 1275.48,47.2441 \n  \"/>\n<polyline clip-path=\"url(#clip932)\" style=\"stroke:#000000; stroke-width:2; stroke-opacity:0.1; fill:none\" points=\"\n  1783.63,1486.45 1783.63,47.2441 \n  \"/>\n<polyline clip-path=\"url(#clip932)\" style=\"stroke:#000000; stroke-width:2; stroke-opacity:0.1; fill:none\" points=\"\n  2291.78,1486.45 2291.78,47.2441 \n  \"/>\n<polyline clip-path=\"url(#clip930)\" style=\"stroke:#000000; stroke-width:4; stroke-opacity:1; fill:none\" points=\"\n  198.195,1486.45 2352.76,1486.45 \n  \"/>\n<polyline clip-path=\"url(#clip930)\" style=\"stroke:#000000; stroke-width:4; stroke-opacity:1; fill:none\" points=\"\n  259.173,1486.45 259.173,1469.18 \n  \"/>\n<polyline clip-path=\"url(#clip930)\" style=\"stroke:#000000; stroke-width:4; stroke-opacity:1; fill:none\" points=\"\n  767.324,1486.45 767.324,1469.18 \n  \"/>\n<polyline clip-path=\"url(#clip930)\" style=\"stroke:#000000; stroke-width:4; stroke-opacity:1; fill:none\" points=\"\n  1275.48,1486.45 1275.48,1469.18 \n  \"/>\n<polyline clip-path=\"url(#clip930)\" style=\"stroke:#000000; stroke-width:4; stroke-opacity:1; fill:none\" points=\"\n  1783.63,1486.45 1783.63,1469.18 \n  \"/>\n<polyline clip-path=\"url(#clip930)\" style=\"stroke:#000000; stroke-width:4; stroke-opacity:1; fill:none\" points=\"\n  2291.78,1486.45 2291.78,1469.18 \n  \"/>\n<path clip-path=\"url(#clip930)\" d=\"M 0 0 M240.69 1515.64 Q237.079 1515.64 235.25 1519.2 Q233.444 1522.75 233.444 1529.87 Q233.444 1536.98 235.25 1540.55 Q237.079 1544.09 240.69 1544.09 Q244.324 1544.09 246.129 1540.55 Q247.958 1536.98 247.958 1529.87 Q247.958 1522.75 246.129 1519.2 Q244.324 1515.64 240.69 1515.64 M240.69 1511.93 Q246.5 1511.93 249.555 1516.54 Q252.634 1521.12 252.634 1529.87 Q252.634 1538.6 249.555 1543.21 Q246.5 1547.79 240.69 1547.79 Q234.88 1547.79 231.801 1543.21 Q228.745 1538.6 228.745 1529.87 Q228.745 1521.12 231.801 1516.54 Q234.88 1511.93 240.69 1511.93 Z\" fill=\"#000000\" fill-rule=\"evenodd\" fill-opacity=\"1\" /><path clip-path=\"url(#clip930)\" d=\"M 0 0 M257.703 1541.24 L262.588 1541.24 L262.588 1547.12 L257.703 1547.12 L257.703 1541.24 Z\" fill=\"#000000\" fill-rule=\"evenodd\" fill-opacity=\"1\" /><path clip-path=\"url(#clip930)\" d=\"M 0 0 M277.657 1515.64 Q274.046 1515.64 272.217 1519.2 Q270.412 1522.75 270.412 1529.87 Q270.412 1536.98 272.217 1540.55 Q274.046 1544.09 277.657 1544.09 Q281.291 1544.09 283.097 1540.55 Q284.926 1536.98 284.926 1529.87 Q284.926 1522.75 283.097 1519.2 Q281.291 1515.64 277.657 1515.64 M277.657 1511.93 Q283.467 1511.93 286.523 1516.54 Q289.601 1521.12 289.601 1529.87 Q289.601 1538.6 286.523 1543.21 Q283.467 1547.79 277.657 1547.79 Q271.847 1547.79 268.768 1543.21 Q265.713 1538.6 265.713 1529.87 Q265.713 1521.12 268.768 1516.54 Q271.847 1511.93 277.657 1511.93 Z\" fill=\"#000000\" fill-rule=\"evenodd\" fill-opacity=\"1\" /><path clip-path=\"url(#clip930)\" d=\"M 0 0 M743.991 1543.18 L760.311 1543.18 L760.311 1547.12 L738.366 1547.12 L738.366 1543.18 Q741.028 1540.43 745.612 1535.8 Q750.218 1531.15 751.399 1529.81 Q753.644 1527.28 754.524 1525.55 Q755.426 1523.79 755.426 1522.1 Q755.426 1519.34 753.482 1517.61 Q751.561 1515.87 748.459 1515.87 Q746.26 1515.87 743.806 1516.63 Q741.376 1517.4 738.598 1518.95 L738.598 1514.23 Q741.422 1513.09 743.876 1512.51 Q746.329 1511.93 748.366 1511.93 Q753.737 1511.93 756.931 1514.62 Q760.125 1517.31 760.125 1521.8 Q760.125 1523.93 759.315 1525.85 Q758.528 1527.74 756.422 1530.34 Q755.843 1531.01 752.741 1534.23 Q749.639 1537.42 743.991 1543.18 Z\" fill=\"#000000\" fill-rule=\"evenodd\" fill-opacity=\"1\" /><path clip-path=\"url(#clip930)\" d=\"M 0 0 M765.38 1541.24 L770.264 1541.24 L770.264 1547.12 L765.38 1547.12 L765.38 1541.24 Z\" fill=\"#000000\" fill-rule=\"evenodd\" fill-opacity=\"1\" /><path clip-path=\"url(#clip930)\" d=\"M 0 0 M775.38 1512.56 L793.736 1512.56 L793.736 1516.5 L779.662 1516.5 L779.662 1524.97 Q780.681 1524.62 781.699 1524.46 Q782.718 1524.27 783.736 1524.27 Q789.523 1524.27 792.903 1527.44 Q796.283 1530.62 796.283 1536.03 Q796.283 1541.61 792.81 1544.71 Q789.338 1547.79 783.019 1547.79 Q780.843 1547.79 778.574 1547.42 Q776.329 1547.05 773.922 1546.31 L773.922 1541.61 Q776.005 1542.74 778.227 1543.3 Q780.449 1543.86 782.926 1543.86 Q786.931 1543.86 789.269 1541.75 Q791.607 1539.64 791.607 1536.03 Q791.607 1532.42 789.269 1530.31 Q786.931 1528.21 782.926 1528.21 Q781.051 1528.21 779.176 1528.62 Q777.324 1529.04 775.38 1529.92 L775.38 1512.56 Z\" fill=\"#000000\" fill-rule=\"evenodd\" fill-opacity=\"1\" /><path clip-path=\"url(#clip930)\" d=\"M 0 0 M1247.27 1512.56 L1265.63 1512.56 L1265.63 1516.5 L1251.55 1516.5 L1251.55 1524.97 Q1252.57 1524.62 1253.59 1524.46 Q1254.61 1524.27 1255.63 1524.27 Q1261.41 1524.27 1264.79 1527.44 Q1268.17 1530.62 1268.17 1536.03 Q1268.17 1541.61 1264.7 1544.71 Q1261.23 1547.79 1254.91 1547.79 Q1252.73 1547.79 1250.46 1547.42 Q1248.22 1547.05 1245.81 1546.31 L1245.81 1541.61 Q1247.89 1542.74 1250.12 1543.3 Q1252.34 1543.86 1254.82 1543.86 Q1258.82 1543.86 1261.16 1541.75 Q1263.5 1539.64 1263.5 1536.03 Q1263.5 1532.42 1261.16 1530.31 Q1258.82 1528.21 1254.82 1528.21 Q1252.94 1528.21 1251.07 1528.62 Q1249.21 1529.04 1247.27 1529.92 L1247.27 1512.56 Z\" fill=\"#000000\" fill-rule=\"evenodd\" fill-opacity=\"1\" /><path clip-path=\"url(#clip930)\" d=\"M 0 0 M1273.24 1541.24 L1278.13 1541.24 L1278.13 1547.12 L1273.24 1547.12 L1273.24 1541.24 Z\" fill=\"#000000\" fill-rule=\"evenodd\" fill-opacity=\"1\" /><path clip-path=\"url(#clip930)\" d=\"M 0 0 M1293.2 1515.64 Q1289.58 1515.64 1287.76 1519.2 Q1285.95 1522.75 1285.95 1529.87 Q1285.95 1536.98 1287.76 1540.55 Q1289.58 1544.09 1293.2 1544.09 Q1296.83 1544.09 1298.64 1540.55 Q1300.46 1536.98 1300.46 1529.87 Q1300.46 1522.75 1298.64 1519.2 Q1296.83 1515.64 1293.2 1515.64 M1293.2 1511.93 Q1299.01 1511.93 1302.06 1516.54 Q1305.14 1521.12 1305.14 1529.87 Q1305.14 1538.6 1302.06 1543.21 Q1299.01 1547.79 1293.2 1547.79 Q1287.39 1547.79 1284.31 1543.21 Q1281.25 1538.6 1281.25 1529.87 Q1281.25 1521.12 1284.31 1516.54 Q1287.39 1511.93 1293.2 1511.93 Z\" fill=\"#000000\" fill-rule=\"evenodd\" fill-opacity=\"1\" /><path clip-path=\"url(#clip930)\" d=\"M 0 0 M1754.53 1512.56 L1776.75 1512.56 L1776.75 1514.55 L1764.21 1547.12 L1759.32 1547.12 L1771.13 1516.5 L1754.53 1516.5 L1754.53 1512.56 Z\" fill=\"#000000\" fill-rule=\"evenodd\" fill-opacity=\"1\" /><path clip-path=\"url(#clip930)\" d=\"M 0 0 M1781.82 1541.24 L1786.71 1541.24 L1786.71 1547.12 L1781.82 1547.12 L1781.82 1541.24 Z\" fill=\"#000000\" fill-rule=\"evenodd\" fill-opacity=\"1\" /><path clip-path=\"url(#clip930)\" d=\"M 0 0 M1791.82 1512.56 L1810.18 1512.56 L1810.18 1516.5 L1796.1 1516.5 L1796.1 1524.97 Q1797.12 1524.62 1798.14 1524.46 Q1799.16 1524.27 1800.18 1524.27 Q1805.96 1524.27 1809.34 1527.44 Q1812.72 1530.62 1812.72 1536.03 Q1812.72 1541.61 1809.25 1544.71 Q1805.78 1547.79 1799.46 1547.79 Q1797.28 1547.79 1795.02 1547.42 Q1792.77 1547.05 1790.36 1546.31 L1790.36 1541.61 Q1792.45 1542.74 1794.67 1543.3 Q1796.89 1543.86 1799.37 1543.86 Q1803.37 1543.86 1805.71 1541.75 Q1808.05 1539.64 1808.05 1536.03 Q1808.05 1532.42 1805.71 1530.31 Q1803.37 1528.21 1799.37 1528.21 Q1797.49 1528.21 1795.62 1528.62 Q1793.77 1529.04 1791.82 1529.92 L1791.82 1512.56 Z\" fill=\"#000000\" fill-rule=\"evenodd\" fill-opacity=\"1\" /><path clip-path=\"url(#clip930)\" d=\"M 0 0 M2250.17 1543.18 L2257.81 1543.18 L2257.81 1516.82 L2249.5 1518.49 L2249.5 1514.23 L2257.76 1512.56 L2262.44 1512.56 L2262.44 1543.18 L2270.08 1543.18 L2270.08 1547.12 L2250.17 1547.12 L2250.17 1543.18 Z\" fill=\"#000000\" fill-rule=\"evenodd\" fill-opacity=\"1\" /><path clip-path=\"url(#clip930)\" d=\"M 0 0 M2285.15 1515.64 Q2281.53 1515.64 2279.71 1519.2 Q2277.9 1522.75 2277.9 1529.87 Q2277.9 1536.98 2279.71 1540.55 Q2281.53 1544.09 2285.15 1544.09 Q2288.78 1544.09 2290.59 1540.55 Q2292.41 1536.98 2292.41 1529.87 Q2292.41 1522.75 2290.59 1519.2 Q2288.78 1515.64 2285.15 1515.64 M2285.15 1511.93 Q2290.96 1511.93 2294.01 1516.54 Q2297.09 1521.12 2297.09 1529.87 Q2297.09 1538.6 2294.01 1543.21 Q2290.96 1547.79 2285.15 1547.79 Q2279.34 1547.79 2276.26 1543.21 Q2273.2 1538.6 2273.2 1529.87 Q2273.2 1521.12 2276.26 1516.54 Q2279.34 1511.93 2285.15 1511.93 Z\" fill=\"#000000\" fill-rule=\"evenodd\" fill-opacity=\"1\" /><path clip-path=\"url(#clip930)\" d=\"M 0 0 M2302.16 1541.24 L2307.04 1541.24 L2307.04 1547.12 L2302.16 1547.12 L2302.16 1541.24 Z\" fill=\"#000000\" fill-rule=\"evenodd\" fill-opacity=\"1\" /><path clip-path=\"url(#clip930)\" d=\"M 0 0 M2322.11 1515.64 Q2318.5 1515.64 2316.67 1519.2 Q2314.87 1522.75 2314.87 1529.87 Q2314.87 1536.98 2316.67 1540.55 Q2318.5 1544.09 2322.11 1544.09 Q2325.75 1544.09 2327.55 1540.55 Q2329.38 1536.98 2329.38 1529.87 Q2329.38 1522.75 2327.55 1519.2 Q2325.75 1515.64 2322.11 1515.64 M2322.11 1511.93 Q2327.92 1511.93 2330.98 1516.54 Q2334.06 1521.12 2334.06 1529.87 Q2334.06 1538.6 2330.98 1543.21 Q2327.92 1547.79 2322.11 1547.79 Q2316.3 1547.79 2313.22 1543.21 Q2310.17 1538.6 2310.17 1529.87 Q2310.17 1521.12 2313.22 1516.54 Q2316.3 1511.93 2322.11 1511.93 Z\" fill=\"#000000\" fill-rule=\"evenodd\" fill-opacity=\"1\" /><polyline clip-path=\"url(#clip932)\" style=\"stroke:#000000; stroke-width:2; stroke-opacity:0.1; fill:none\" points=\"\n  198.195,1479.16 2352.76,1479.16 \n  \"/>\n<polyline clip-path=\"url(#clip932)\" style=\"stroke:#000000; stroke-width:2; stroke-opacity:0.1; fill:none\" points=\"\n  198.195,1211.62 2352.76,1211.62 \n  \"/>\n<polyline clip-path=\"url(#clip932)\" style=\"stroke:#000000; stroke-width:2; stroke-opacity:0.1; fill:none\" points=\"\n  198.195,944.088 2352.76,944.088 \n  \"/>\n<polyline clip-path=\"url(#clip932)\" style=\"stroke:#000000; stroke-width:2; stroke-opacity:0.1; fill:none\" points=\"\n  198.195,676.553 2352.76,676.553 \n  \"/>\n<polyline clip-path=\"url(#clip932)\" style=\"stroke:#000000; stroke-width:2; stroke-opacity:0.1; fill:none\" points=\"\n  198.195,409.018 2352.76,409.018 \n  \"/>\n<polyline clip-path=\"url(#clip932)\" style=\"stroke:#000000; stroke-width:2; stroke-opacity:0.1; fill:none\" points=\"\n  198.195,141.483 2352.76,141.483 \n  \"/>\n<polyline clip-path=\"url(#clip930)\" style=\"stroke:#000000; stroke-width:4; stroke-opacity:1; fill:none\" points=\"\n  198.195,1486.45 198.195,47.2441 \n  \"/>\n<polyline clip-path=\"url(#clip930)\" style=\"stroke:#000000; stroke-width:4; stroke-opacity:1; fill:none\" points=\"\n  198.195,1479.16 224.05,1479.16 \n  \"/>\n<polyline clip-path=\"url(#clip930)\" style=\"stroke:#000000; stroke-width:4; stroke-opacity:1; fill:none\" points=\"\n  198.195,1211.62 224.05,1211.62 \n  \"/>\n<polyline clip-path=\"url(#clip930)\" style=\"stroke:#000000; stroke-width:4; stroke-opacity:1; fill:none\" points=\"\n  198.195,944.088 224.05,944.088 \n  \"/>\n<polyline clip-path=\"url(#clip930)\" style=\"stroke:#000000; stroke-width:4; stroke-opacity:1; fill:none\" points=\"\n  198.195,676.553 224.05,676.553 \n  \"/>\n<polyline clip-path=\"url(#clip930)\" style=\"stroke:#000000; stroke-width:4; stroke-opacity:1; fill:none\" points=\"\n  198.195,409.018 224.05,409.018 \n  \"/>\n<polyline clip-path=\"url(#clip930)\" style=\"stroke:#000000; stroke-width:4; stroke-opacity:1; fill:none\" points=\"\n  198.195,141.483 224.05,141.483 \n  \"/>\n<path clip-path=\"url(#clip930)\" d=\"M 0 0 M52.4736 1479.61 L82.1494 1479.61 L82.1494 1483.54 L52.4736 1483.54 L52.4736 1479.61 Z\" fill=\"#000000\" fill-rule=\"evenodd\" fill-opacity=\"1\" /><path clip-path=\"url(#clip930)\" d=\"M 0 0 M87.2651 1461.88 L105.621 1461.88 L105.621 1465.81 L91.5475 1465.81 L91.5475 1474.28 Q92.566 1473.94 93.5845 1473.78 Q94.603 1473.59 95.6215 1473.59 Q101.409 1473.59 104.788 1476.76 Q108.168 1479.93 108.168 1485.35 Q108.168 1490.93 104.696 1494.03 Q101.223 1497.11 94.9039 1497.11 Q92.728 1497.11 90.4595 1496.74 Q88.2141 1496.37 85.8068 1495.63 L85.8068 1490.93 Q87.8901 1492.06 90.1123 1492.62 Q92.3345 1493.17 94.8113 1493.17 Q98.8159 1493.17 101.154 1491.07 Q103.492 1488.96 103.492 1485.35 Q103.492 1481.74 101.154 1479.63 Q98.8159 1477.53 94.8113 1477.53 Q92.9363 1477.53 91.0614 1477.94 Q89.2095 1478.36 87.2651 1479.24 L87.2651 1461.88 Z\" fill=\"#000000\" fill-rule=\"evenodd\" fill-opacity=\"1\" /><path clip-path=\"url(#clip930)\" d=\"M 0 0 M123.237 1464.96 Q119.626 1464.96 117.797 1468.52 Q115.992 1472.06 115.992 1479.19 Q115.992 1486.3 117.797 1489.86 Q119.626 1493.41 123.237 1493.41 Q126.871 1493.41 128.677 1489.86 Q130.506 1486.3 130.506 1479.19 Q130.506 1472.06 128.677 1468.52 Q126.871 1464.96 123.237 1464.96 M123.237 1461.25 Q129.047 1461.25 132.103 1465.86 Q135.181 1470.44 135.181 1479.19 Q135.181 1487.92 132.103 1492.53 Q129.047 1497.11 123.237 1497.11 Q117.427 1497.11 114.348 1492.53 Q111.293 1487.92 111.293 1479.19 Q111.293 1470.44 114.348 1465.86 Q117.427 1461.25 123.237 1461.25 Z\" fill=\"#000000\" fill-rule=\"evenodd\" fill-opacity=\"1\" /><path clip-path=\"url(#clip930)\" d=\"M 0 0 M150.251 1464.96 Q146.64 1464.96 144.811 1468.52 Q143.006 1472.06 143.006 1479.19 Q143.006 1486.3 144.811 1489.86 Q146.64 1493.41 150.251 1493.41 Q153.885 1493.41 155.691 1489.86 Q157.519 1486.3 157.519 1479.19 Q157.519 1472.06 155.691 1468.52 Q153.885 1464.96 150.251 1464.96 M150.251 1461.25 Q156.061 1461.25 159.117 1465.86 Q162.195 1470.44 162.195 1479.19 Q162.195 1487.92 159.117 1492.53 Q156.061 1497.11 150.251 1497.11 Q144.441 1497.11 141.362 1492.53 Q138.306 1487.92 138.306 1479.19 Q138.306 1470.44 141.362 1465.86 Q144.441 1461.25 150.251 1461.25 Z\" fill=\"#000000\" fill-rule=\"evenodd\" fill-opacity=\"1\" /><path clip-path=\"url(#clip930)\" d=\"M 0 0 M50.9921 1212.07 L80.6679 1212.07 L80.6679 1216.01 L50.9921 1216.01 L50.9921 1212.07 Z\" fill=\"#000000\" fill-rule=\"evenodd\" fill-opacity=\"1\" /><path clip-path=\"url(#clip930)\" d=\"M 0 0 M98.5845 1198.42 L86.779 1216.87 L98.5845 1216.87 L98.5845 1198.42 M97.3576 1194.34 L103.237 1194.34 L103.237 1216.87 L108.168 1216.87 L108.168 1220.75 L103.237 1220.75 L103.237 1228.9 L98.5845 1228.9 L98.5845 1220.75 L82.9827 1220.75 L82.9827 1216.24 L97.3576 1194.34 Z\" fill=\"#000000\" fill-rule=\"evenodd\" fill-opacity=\"1\" /><path clip-path=\"url(#clip930)\" d=\"M 0 0 M123.237 1197.42 Q119.626 1197.42 117.797 1200.99 Q115.992 1204.53 115.992 1211.66 Q115.992 1218.76 117.797 1222.33 Q119.626 1225.87 123.237 1225.87 Q126.871 1225.87 128.677 1222.33 Q130.506 1218.76 130.506 1211.66 Q130.506 1204.53 128.677 1200.99 Q126.871 1197.42 123.237 1197.42 M123.237 1193.72 Q129.047 1193.72 132.103 1198.32 Q135.181 1202.91 135.181 1211.66 Q135.181 1220.38 132.103 1224.99 Q129.047 1229.57 123.237 1229.57 Q117.427 1229.57 114.348 1224.99 Q111.293 1220.38 111.293 1211.66 Q111.293 1202.91 114.348 1198.32 Q117.427 1193.72 123.237 1193.72 Z\" fill=\"#000000\" fill-rule=\"evenodd\" fill-opacity=\"1\" /><path clip-path=\"url(#clip930)\" d=\"M 0 0 M150.251 1197.42 Q146.64 1197.42 144.811 1200.99 Q143.006 1204.53 143.006 1211.66 Q143.006 1218.76 144.811 1222.33 Q146.64 1225.87 150.251 1225.87 Q153.885 1225.87 155.691 1222.33 Q157.519 1218.76 157.519 1211.66 Q157.519 1204.53 155.691 1200.99 Q153.885 1197.42 150.251 1197.42 M150.251 1193.72 Q156.061 1193.72 159.117 1198.32 Q162.195 1202.91 162.195 1211.66 Q162.195 1220.38 159.117 1224.99 Q156.061 1229.57 150.251 1229.57 Q144.441 1229.57 141.362 1224.99 Q138.306 1220.38 138.306 1211.66 Q138.306 1202.91 141.362 1198.32 Q144.441 1193.72 150.251 1193.72 Z\" fill=\"#000000\" fill-rule=\"evenodd\" fill-opacity=\"1\" /><path clip-path=\"url(#clip930)\" d=\"M 0 0 M52.1264 944.539 L81.8021 944.539 L81.8021 948.474 L52.1264 948.474 L52.1264 944.539 Z\" fill=\"#000000\" fill-rule=\"evenodd\" fill-opacity=\"1\" /><path clip-path=\"url(#clip930)\" d=\"M 0 0 M101.038 942.734 Q104.395 943.451 106.27 945.72 Q108.168 947.988 108.168 951.322 Q108.168 956.437 104.649 959.238 Q101.131 962.039 94.6493 962.039 Q92.4734 962.039 90.1586 961.599 Q87.8669 961.183 85.4132 960.326 L85.4132 955.812 Q87.3577 956.947 89.6725 957.525 Q91.9873 958.104 94.5104 958.104 Q98.9085 958.104 101.2 956.368 Q103.515 954.632 103.515 951.322 Q103.515 948.266 101.362 946.553 Q99.2326 944.817 95.4132 944.817 L91.3854 944.817 L91.3854 940.974 L95.5984 940.974 Q99.0474 940.974 100.876 939.609 Q102.705 938.22 102.705 935.627 Q102.705 932.965 100.807 931.553 Q98.9317 930.118 95.4132 930.118 Q93.4919 930.118 91.2928 930.535 Q89.0938 930.951 86.4549 931.831 L86.4549 927.664 Q89.1169 926.924 91.4317 926.553 Q93.7697 926.183 95.8298 926.183 Q101.154 926.183 104.256 928.613 Q107.358 931.021 107.358 935.141 Q107.358 938.011 105.714 940.002 Q104.071 941.97 101.038 942.734 Z\" fill=\"#000000\" fill-rule=\"evenodd\" fill-opacity=\"1\" /><path clip-path=\"url(#clip930)\" d=\"M 0 0 M123.237 929.887 Q119.626 929.887 117.797 933.451 Q115.992 936.993 115.992 944.123 Q115.992 951.229 117.797 954.794 Q119.626 958.335 123.237 958.335 Q126.871 958.335 128.677 954.794 Q130.506 951.229 130.506 944.123 Q130.506 936.993 128.677 933.451 Q126.871 929.887 123.237 929.887 M123.237 926.183 Q129.047 926.183 132.103 930.789 Q135.181 935.373 135.181 944.123 Q135.181 952.849 132.103 957.456 Q129.047 962.039 123.237 962.039 Q117.427 962.039 114.348 957.456 Q111.293 952.849 111.293 944.123 Q111.293 935.373 114.348 930.789 Q117.427 926.183 123.237 926.183 Z\" fill=\"#000000\" fill-rule=\"evenodd\" fill-opacity=\"1\" /><path clip-path=\"url(#clip930)\" d=\"M 0 0 M150.251 929.887 Q146.64 929.887 144.811 933.451 Q143.006 936.993 143.006 944.123 Q143.006 951.229 144.811 954.794 Q146.64 958.335 150.251 958.335 Q153.885 958.335 155.691 954.794 Q157.519 951.229 157.519 944.123 Q157.519 936.993 155.691 933.451 Q153.885 929.887 150.251 929.887 M150.251 926.183 Q156.061 926.183 159.117 930.789 Q162.195 935.373 162.195 944.123 Q162.195 952.849 159.117 957.456 Q156.061 962.039 150.251 962.039 Q144.441 962.039 141.362 957.456 Q138.306 952.849 138.306 944.123 Q138.306 935.373 141.362 930.789 Q144.441 926.183 150.251 926.183 Z\" fill=\"#000000\" fill-rule=\"evenodd\" fill-opacity=\"1\" /><path clip-path=\"url(#clip930)\" d=\"M 0 0 M53.0754 677.004 L82.7512 677.004 L82.7512 680.94 L53.0754 680.94 L53.0754 677.004 Z\" fill=\"#000000\" fill-rule=\"evenodd\" fill-opacity=\"1\" /><path clip-path=\"url(#clip930)\" d=\"M 0 0 M91.8484 689.898 L108.168 689.898 L108.168 693.833 L86.2234 693.833 L86.2234 689.898 Q88.8854 687.143 93.4688 682.514 Q98.0752 677.861 99.2558 676.518 Q101.501 673.995 102.381 672.259 Q103.284 670.5 103.284 668.81 Q103.284 666.055 101.339 664.319 Q99.4178 662.583 96.316 662.583 Q94.1169 662.583 91.6632 663.347 Q89.2327 664.111 86.4549 665.662 L86.4549 660.94 Q89.279 659.805 91.7326 659.227 Q94.1863 658.648 96.2234 658.648 Q101.594 658.648 104.788 661.333 Q107.983 664.018 107.983 668.509 Q107.983 670.639 107.172 672.56 Q106.385 674.458 104.279 677.051 Q103.7 677.722 100.598 680.94 Q97.4965 684.134 91.8484 689.898 Z\" fill=\"#000000\" fill-rule=\"evenodd\" fill-opacity=\"1\" /><path clip-path=\"url(#clip930)\" d=\"M 0 0 M123.237 662.352 Q119.626 662.352 117.797 665.916 Q115.992 669.458 115.992 676.588 Q115.992 683.694 117.797 687.259 Q119.626 690.801 123.237 690.801 Q126.871 690.801 128.677 687.259 Q130.506 683.694 130.506 676.588 Q130.506 669.458 128.677 665.916 Q126.871 662.352 123.237 662.352 M123.237 658.648 Q129.047 658.648 132.103 663.254 Q135.181 667.838 135.181 676.588 Q135.181 685.314 132.103 689.921 Q129.047 694.504 123.237 694.504 Q117.427 694.504 114.348 689.921 Q111.293 685.314 111.293 676.588 Q111.293 667.838 114.348 663.254 Q117.427 658.648 123.237 658.648 Z\" fill=\"#000000\" fill-rule=\"evenodd\" fill-opacity=\"1\" /><path clip-path=\"url(#clip930)\" d=\"M 0 0 M150.251 662.352 Q146.64 662.352 144.811 665.916 Q143.006 669.458 143.006 676.588 Q143.006 683.694 144.811 687.259 Q146.64 690.801 150.251 690.801 Q153.885 690.801 155.691 687.259 Q157.519 683.694 157.519 676.588 Q157.519 669.458 155.691 665.916 Q153.885 662.352 150.251 662.352 M150.251 658.648 Q156.061 658.648 159.117 663.254 Q162.195 667.838 162.195 676.588 Q162.195 685.314 159.117 689.921 Q156.061 694.504 150.251 694.504 Q144.441 694.504 141.362 689.921 Q138.306 685.314 138.306 676.588 Q138.306 667.838 141.362 663.254 Q144.441 658.648 150.251 658.648 Z\" fill=\"#000000\" fill-rule=\"evenodd\" fill-opacity=\"1\" /><path clip-path=\"url(#clip930)\" d=\"M 0 0 M52.7051 409.469 L82.3808 409.469 L82.3808 413.405 L52.7051 413.405 L52.7051 409.469 Z\" fill=\"#000000\" fill-rule=\"evenodd\" fill-opacity=\"1\" /><path clip-path=\"url(#clip930)\" d=\"M 0 0 M88.2604 422.363 L95.8993 422.363 L95.8993 395.997 L87.5892 397.664 L87.5892 393.405 L95.853 391.738 L100.529 391.738 L100.529 422.363 L108.168 422.363 L108.168 426.298 L88.2604 426.298 L88.2604 422.363 Z\" fill=\"#000000\" fill-rule=\"evenodd\" fill-opacity=\"1\" /><path clip-path=\"url(#clip930)\" d=\"M 0 0 M123.237 394.817 Q119.626 394.817 117.797 398.382 Q115.992 401.923 115.992 409.053 Q115.992 416.159 117.797 419.724 Q119.626 423.266 123.237 423.266 Q126.871 423.266 128.677 419.724 Q130.506 416.159 130.506 409.053 Q130.506 401.923 128.677 398.382 Q126.871 394.817 123.237 394.817 M123.237 391.113 Q129.047 391.113 132.103 395.72 Q135.181 400.303 135.181 409.053 Q135.181 417.78 132.103 422.386 Q129.047 426.969 123.237 426.969 Q117.427 426.969 114.348 422.386 Q111.293 417.78 111.293 409.053 Q111.293 400.303 114.348 395.72 Q117.427 391.113 123.237 391.113 Z\" fill=\"#000000\" fill-rule=\"evenodd\" fill-opacity=\"1\" /><path clip-path=\"url(#clip930)\" d=\"M 0 0 M150.251 394.817 Q146.64 394.817 144.811 398.382 Q143.006 401.923 143.006 409.053 Q143.006 416.159 144.811 419.724 Q146.64 423.266 150.251 423.266 Q153.885 423.266 155.691 419.724 Q157.519 416.159 157.519 409.053 Q157.519 401.923 155.691 398.382 Q153.885 394.817 150.251 394.817 M150.251 391.113 Q156.061 391.113 159.117 395.72 Q162.195 400.303 162.195 409.053 Q162.195 417.78 159.117 422.386 Q156.061 426.969 150.251 426.969 Q144.441 426.969 141.362 422.386 Q138.306 417.78 138.306 409.053 Q138.306 400.303 141.362 395.72 Q144.441 391.113 150.251 391.113 Z\" fill=\"#000000\" fill-rule=\"evenodd\" fill-opacity=\"1\" /><path clip-path=\"url(#clip930)\" d=\"M 0 0 M150.251 127.282 Q146.64 127.282 144.811 130.847 Q143.006 134.388 143.006 141.518 Q143.006 148.624 144.811 152.189 Q146.64 155.731 150.251 155.731 Q153.885 155.731 155.691 152.189 Q157.519 148.624 157.519 141.518 Q157.519 134.388 155.691 130.847 Q153.885 127.282 150.251 127.282 M150.251 123.578 Q156.061 123.578 159.117 128.185 Q162.195 132.768 162.195 141.518 Q162.195 150.245 159.117 154.851 Q156.061 159.435 150.251 159.435 Q144.441 159.435 141.362 154.851 Q138.306 150.245 138.306 141.518 Q138.306 132.768 141.362 128.185 Q144.441 123.578 150.251 123.578 Z\" fill=\"#000000\" fill-rule=\"evenodd\" fill-opacity=\"1\" /><polyline clip-path=\"url(#clip932)\" style=\"stroke:#009af9; stroke-width:4; stroke-opacity:1; fill:none\" points=\"\n  259.173,128.107 597.941,699.426 936.708,1171.66 1275.48,1445.72 1614.24,1422.51 1953.01,1002.96 2291.78,87.9763 \n  \"/>\n<path clip-path=\"url(#clip930)\" d=\"\nM1990.52 216.178 L2280.94 216.178 L2280.94 95.2176 L1990.52 95.2176  Z\n  \" fill=\"#ffffff\" fill-rule=\"evenodd\" fill-opacity=\"1\"/>\n<polyline clip-path=\"url(#clip930)\" style=\"stroke:#000000; stroke-width:4; stroke-opacity:1; fill:none\" points=\"\n  1990.52,216.178 2280.94,216.178 2280.94,95.2176 1990.52,95.2176 1990.52,216.178 \n  \"/>\n<polyline clip-path=\"url(#clip930)\" style=\"stroke:#009af9; stroke-width:4; stroke-opacity:1; fill:none\" points=\"\n  2014.46,155.698 2158.1,155.698 \n  \"/>\n<path clip-path=\"url(#clip930)\" d=\"M 0 0 M2195.88 175.385 Q2194.08 180.015 2192.36 181.427 Q2190.65 182.839 2187.78 182.839 L2184.38 182.839 L2184.38 179.274 L2186.88 179.274 Q2188.64 179.274 2189.61 178.44 Q2190.58 177.607 2191.76 174.505 L2192.53 172.561 L2182.04 147.052 L2186.55 147.052 L2194.66 167.329 L2202.76 147.052 L2207.27 147.052 L2195.88 175.385 Z\" fill=\"#000000\" fill-rule=\"evenodd\" fill-opacity=\"1\" /><path clip-path=\"url(#clip930)\" d=\"M 0 0 M2213.15 169.042 L2220.79 169.042 L2220.79 142.677 L2212.48 144.343 L2212.48 140.084 L2220.74 138.418 L2225.42 138.418 L2225.42 169.042 L2233.06 169.042 L2233.06 172.978 L2213.15 172.978 L2213.15 169.042 Z\" fill=\"#000000\" fill-rule=\"evenodd\" fill-opacity=\"1\" /></svg>\n",
      "text/html": [
       "<?xml version=\"1.0\" encoding=\"utf-8\"?>\n",
       "<svg xmlns=\"http://www.w3.org/2000/svg\" xmlns:xlink=\"http://www.w3.org/1999/xlink\" width=\"600\" height=\"400\" viewBox=\"0 0 2400 1600\">\n",
       "<defs>\n",
       "  <clipPath id=\"clip980\">\n",
       "    <rect x=\"0\" y=\"0\" width=\"2400\" height=\"1600\"/>\n",
       "  </clipPath>\n",
       "</defs>\n",
       "<path clip-path=\"url(#clip980)\" d=\"\n",
       "M0 1600 L2400 1600 L2400 0 L0 0  Z\n",
       "  \" fill=\"#ffffff\" fill-rule=\"evenodd\" fill-opacity=\"1\"/>\n",
       "<defs>\n",
       "  <clipPath id=\"clip981\">\n",
       "    <rect x=\"480\" y=\"0\" width=\"1681\" height=\"1600\"/>\n",
       "  </clipPath>\n",
       "</defs>\n",
       "<path clip-path=\"url(#clip980)\" d=\"\n",
       "M198.195 1486.45 L2352.76 1486.45 L2352.76 47.2441 L198.195 47.2441  Z\n",
       "  \" fill=\"#ffffff\" fill-rule=\"evenodd\" fill-opacity=\"1\"/>\n",
       "<defs>\n",
       "  <clipPath id=\"clip982\">\n",
       "    <rect x=\"198\" y=\"47\" width=\"2156\" height=\"1440\"/>\n",
       "  </clipPath>\n",
       "</defs>\n",
       "<polyline clip-path=\"url(#clip982)\" style=\"stroke:#000000; stroke-width:2; stroke-opacity:0.1; fill:none\" points=\"\n",
       "  259.173,1486.45 259.173,47.2441 \n",
       "  \"/>\n",
       "<polyline clip-path=\"url(#clip982)\" style=\"stroke:#000000; stroke-width:2; stroke-opacity:0.1; fill:none\" points=\"\n",
       "  767.324,1486.45 767.324,47.2441 \n",
       "  \"/>\n",
       "<polyline clip-path=\"url(#clip982)\" style=\"stroke:#000000; stroke-width:2; stroke-opacity:0.1; fill:none\" points=\"\n",
       "  1275.48,1486.45 1275.48,47.2441 \n",
       "  \"/>\n",
       "<polyline clip-path=\"url(#clip982)\" style=\"stroke:#000000; stroke-width:2; stroke-opacity:0.1; fill:none\" points=\"\n",
       "  1783.63,1486.45 1783.63,47.2441 \n",
       "  \"/>\n",
       "<polyline clip-path=\"url(#clip982)\" style=\"stroke:#000000; stroke-width:2; stroke-opacity:0.1; fill:none\" points=\"\n",
       "  2291.78,1486.45 2291.78,47.2441 \n",
       "  \"/>\n",
       "<polyline clip-path=\"url(#clip980)\" style=\"stroke:#000000; stroke-width:4; stroke-opacity:1; fill:none\" points=\"\n",
       "  198.195,1486.45 2352.76,1486.45 \n",
       "  \"/>\n",
       "<polyline clip-path=\"url(#clip980)\" style=\"stroke:#000000; stroke-width:4; stroke-opacity:1; fill:none\" points=\"\n",
       "  259.173,1486.45 259.173,1469.18 \n",
       "  \"/>\n",
       "<polyline clip-path=\"url(#clip980)\" style=\"stroke:#000000; stroke-width:4; stroke-opacity:1; fill:none\" points=\"\n",
       "  767.324,1486.45 767.324,1469.18 \n",
       "  \"/>\n",
       "<polyline clip-path=\"url(#clip980)\" style=\"stroke:#000000; stroke-width:4; stroke-opacity:1; fill:none\" points=\"\n",
       "  1275.48,1486.45 1275.48,1469.18 \n",
       "  \"/>\n",
       "<polyline clip-path=\"url(#clip980)\" style=\"stroke:#000000; stroke-width:4; stroke-opacity:1; fill:none\" points=\"\n",
       "  1783.63,1486.45 1783.63,1469.18 \n",
       "  \"/>\n",
       "<polyline clip-path=\"url(#clip980)\" style=\"stroke:#000000; stroke-width:4; stroke-opacity:1; fill:none\" points=\"\n",
       "  2291.78,1486.45 2291.78,1469.18 \n",
       "  \"/>\n",
       "<path clip-path=\"url(#clip980)\" d=\"M 0 0 M240.69 1515.64 Q237.079 1515.64 235.25 1519.2 Q233.444 1522.75 233.444 1529.87 Q233.444 1536.98 235.25 1540.55 Q237.079 1544.09 240.69 1544.09 Q244.324 1544.09 246.129 1540.55 Q247.958 1536.98 247.958 1529.87 Q247.958 1522.75 246.129 1519.2 Q244.324 1515.64 240.69 1515.64 M240.69 1511.93 Q246.5 1511.93 249.555 1516.54 Q252.634 1521.12 252.634 1529.87 Q252.634 1538.6 249.555 1543.21 Q246.5 1547.79 240.69 1547.79 Q234.88 1547.79 231.801 1543.21 Q228.745 1538.6 228.745 1529.87 Q228.745 1521.12 231.801 1516.54 Q234.88 1511.93 240.69 1511.93 Z\" fill=\"#000000\" fill-rule=\"evenodd\" fill-opacity=\"1\" /><path clip-path=\"url(#clip980)\" d=\"M 0 0 M257.703 1541.24 L262.588 1541.24 L262.588 1547.12 L257.703 1547.12 L257.703 1541.24 Z\" fill=\"#000000\" fill-rule=\"evenodd\" fill-opacity=\"1\" /><path clip-path=\"url(#clip980)\" d=\"M 0 0 M277.657 1515.64 Q274.046 1515.64 272.217 1519.2 Q270.412 1522.75 270.412 1529.87 Q270.412 1536.98 272.217 1540.55 Q274.046 1544.09 277.657 1544.09 Q281.291 1544.09 283.097 1540.55 Q284.926 1536.98 284.926 1529.87 Q284.926 1522.75 283.097 1519.2 Q281.291 1515.64 277.657 1515.64 M277.657 1511.93 Q283.467 1511.93 286.523 1516.54 Q289.601 1521.12 289.601 1529.87 Q289.601 1538.6 286.523 1543.21 Q283.467 1547.79 277.657 1547.79 Q271.847 1547.79 268.768 1543.21 Q265.713 1538.6 265.713 1529.87 Q265.713 1521.12 268.768 1516.54 Q271.847 1511.93 277.657 1511.93 Z\" fill=\"#000000\" fill-rule=\"evenodd\" fill-opacity=\"1\" /><path clip-path=\"url(#clip980)\" d=\"M 0 0 M743.991 1543.18 L760.311 1543.18 L760.311 1547.12 L738.366 1547.12 L738.366 1543.18 Q741.028 1540.43 745.612 1535.8 Q750.218 1531.15 751.399 1529.81 Q753.644 1527.28 754.524 1525.55 Q755.426 1523.79 755.426 1522.1 Q755.426 1519.34 753.482 1517.61 Q751.561 1515.87 748.459 1515.87 Q746.26 1515.87 743.806 1516.63 Q741.376 1517.4 738.598 1518.95 L738.598 1514.23 Q741.422 1513.09 743.876 1512.51 Q746.329 1511.93 748.366 1511.93 Q753.737 1511.93 756.931 1514.62 Q760.125 1517.31 760.125 1521.8 Q760.125 1523.93 759.315 1525.85 Q758.528 1527.74 756.422 1530.34 Q755.843 1531.01 752.741 1534.23 Q749.639 1537.42 743.991 1543.18 Z\" fill=\"#000000\" fill-rule=\"evenodd\" fill-opacity=\"1\" /><path clip-path=\"url(#clip980)\" d=\"M 0 0 M765.38 1541.24 L770.264 1541.24 L770.264 1547.12 L765.38 1547.12 L765.38 1541.24 Z\" fill=\"#000000\" fill-rule=\"evenodd\" fill-opacity=\"1\" /><path clip-path=\"url(#clip980)\" d=\"M 0 0 M775.38 1512.56 L793.736 1512.56 L793.736 1516.5 L779.662 1516.5 L779.662 1524.97 Q780.681 1524.62 781.699 1524.46 Q782.718 1524.27 783.736 1524.27 Q789.523 1524.27 792.903 1527.44 Q796.283 1530.62 796.283 1536.03 Q796.283 1541.61 792.81 1544.71 Q789.338 1547.79 783.019 1547.79 Q780.843 1547.79 778.574 1547.42 Q776.329 1547.05 773.922 1546.31 L773.922 1541.61 Q776.005 1542.74 778.227 1543.3 Q780.449 1543.86 782.926 1543.86 Q786.931 1543.86 789.269 1541.75 Q791.607 1539.64 791.607 1536.03 Q791.607 1532.42 789.269 1530.31 Q786.931 1528.21 782.926 1528.21 Q781.051 1528.21 779.176 1528.62 Q777.324 1529.04 775.38 1529.92 L775.38 1512.56 Z\" fill=\"#000000\" fill-rule=\"evenodd\" fill-opacity=\"1\" /><path clip-path=\"url(#clip980)\" d=\"M 0 0 M1247.27 1512.56 L1265.63 1512.56 L1265.63 1516.5 L1251.55 1516.5 L1251.55 1524.97 Q1252.57 1524.62 1253.59 1524.46 Q1254.61 1524.27 1255.63 1524.27 Q1261.41 1524.27 1264.79 1527.44 Q1268.17 1530.62 1268.17 1536.03 Q1268.17 1541.61 1264.7 1544.71 Q1261.23 1547.79 1254.91 1547.79 Q1252.73 1547.79 1250.46 1547.42 Q1248.22 1547.05 1245.81 1546.31 L1245.81 1541.61 Q1247.89 1542.74 1250.12 1543.3 Q1252.34 1543.86 1254.82 1543.86 Q1258.82 1543.86 1261.16 1541.75 Q1263.5 1539.64 1263.5 1536.03 Q1263.5 1532.42 1261.16 1530.31 Q1258.82 1528.21 1254.82 1528.21 Q1252.94 1528.21 1251.07 1528.62 Q1249.21 1529.04 1247.27 1529.92 L1247.27 1512.56 Z\" fill=\"#000000\" fill-rule=\"evenodd\" fill-opacity=\"1\" /><path clip-path=\"url(#clip980)\" d=\"M 0 0 M1273.24 1541.24 L1278.13 1541.24 L1278.13 1547.12 L1273.24 1547.12 L1273.24 1541.24 Z\" fill=\"#000000\" fill-rule=\"evenodd\" fill-opacity=\"1\" /><path clip-path=\"url(#clip980)\" d=\"M 0 0 M1293.2 1515.64 Q1289.58 1515.64 1287.76 1519.2 Q1285.95 1522.75 1285.95 1529.87 Q1285.95 1536.98 1287.76 1540.55 Q1289.58 1544.09 1293.2 1544.09 Q1296.83 1544.09 1298.64 1540.55 Q1300.46 1536.98 1300.46 1529.87 Q1300.46 1522.75 1298.64 1519.2 Q1296.83 1515.64 1293.2 1515.64 M1293.2 1511.93 Q1299.01 1511.93 1302.06 1516.54 Q1305.14 1521.12 1305.14 1529.87 Q1305.14 1538.6 1302.06 1543.21 Q1299.01 1547.79 1293.2 1547.79 Q1287.39 1547.79 1284.31 1543.21 Q1281.25 1538.6 1281.25 1529.87 Q1281.25 1521.12 1284.31 1516.54 Q1287.39 1511.93 1293.2 1511.93 Z\" fill=\"#000000\" fill-rule=\"evenodd\" fill-opacity=\"1\" /><path clip-path=\"url(#clip980)\" d=\"M 0 0 M1754.53 1512.56 L1776.75 1512.56 L1776.75 1514.55 L1764.21 1547.12 L1759.32 1547.12 L1771.13 1516.5 L1754.53 1516.5 L1754.53 1512.56 Z\" fill=\"#000000\" fill-rule=\"evenodd\" fill-opacity=\"1\" /><path clip-path=\"url(#clip980)\" d=\"M 0 0 M1781.82 1541.24 L1786.71 1541.24 L1786.71 1547.12 L1781.82 1547.12 L1781.82 1541.24 Z\" fill=\"#000000\" fill-rule=\"evenodd\" fill-opacity=\"1\" /><path clip-path=\"url(#clip980)\" d=\"M 0 0 M1791.82 1512.56 L1810.18 1512.56 L1810.18 1516.5 L1796.1 1516.5 L1796.1 1524.97 Q1797.12 1524.62 1798.14 1524.46 Q1799.16 1524.27 1800.18 1524.27 Q1805.96 1524.27 1809.34 1527.44 Q1812.72 1530.62 1812.72 1536.03 Q1812.72 1541.61 1809.25 1544.71 Q1805.78 1547.79 1799.46 1547.79 Q1797.28 1547.79 1795.02 1547.42 Q1792.77 1547.05 1790.36 1546.31 L1790.36 1541.61 Q1792.45 1542.74 1794.67 1543.3 Q1796.89 1543.86 1799.37 1543.86 Q1803.37 1543.86 1805.71 1541.75 Q1808.05 1539.64 1808.05 1536.03 Q1808.05 1532.42 1805.71 1530.31 Q1803.37 1528.21 1799.37 1528.21 Q1797.49 1528.21 1795.62 1528.62 Q1793.77 1529.04 1791.82 1529.92 L1791.82 1512.56 Z\" fill=\"#000000\" fill-rule=\"evenodd\" fill-opacity=\"1\" /><path clip-path=\"url(#clip980)\" d=\"M 0 0 M2250.17 1543.18 L2257.81 1543.18 L2257.81 1516.82 L2249.5 1518.49 L2249.5 1514.23 L2257.76 1512.56 L2262.44 1512.56 L2262.44 1543.18 L2270.08 1543.18 L2270.08 1547.12 L2250.17 1547.12 L2250.17 1543.18 Z\" fill=\"#000000\" fill-rule=\"evenodd\" fill-opacity=\"1\" /><path clip-path=\"url(#clip980)\" d=\"M 0 0 M2285.15 1515.64 Q2281.53 1515.64 2279.71 1519.2 Q2277.9 1522.75 2277.9 1529.87 Q2277.9 1536.98 2279.71 1540.55 Q2281.53 1544.09 2285.15 1544.09 Q2288.78 1544.09 2290.59 1540.55 Q2292.41 1536.98 2292.41 1529.87 Q2292.41 1522.75 2290.59 1519.2 Q2288.78 1515.64 2285.15 1515.64 M2285.15 1511.93 Q2290.96 1511.93 2294.01 1516.54 Q2297.09 1521.12 2297.09 1529.87 Q2297.09 1538.6 2294.01 1543.21 Q2290.96 1547.79 2285.15 1547.79 Q2279.34 1547.79 2276.26 1543.21 Q2273.2 1538.6 2273.2 1529.87 Q2273.2 1521.12 2276.26 1516.54 Q2279.34 1511.93 2285.15 1511.93 Z\" fill=\"#000000\" fill-rule=\"evenodd\" fill-opacity=\"1\" /><path clip-path=\"url(#clip980)\" d=\"M 0 0 M2302.16 1541.24 L2307.04 1541.24 L2307.04 1547.12 L2302.16 1547.12 L2302.16 1541.24 Z\" fill=\"#000000\" fill-rule=\"evenodd\" fill-opacity=\"1\" /><path clip-path=\"url(#clip980)\" d=\"M 0 0 M2322.11 1515.64 Q2318.5 1515.64 2316.67 1519.2 Q2314.87 1522.75 2314.87 1529.87 Q2314.87 1536.98 2316.67 1540.55 Q2318.5 1544.09 2322.11 1544.09 Q2325.75 1544.09 2327.55 1540.55 Q2329.38 1536.98 2329.38 1529.87 Q2329.38 1522.75 2327.55 1519.2 Q2325.75 1515.64 2322.11 1515.64 M2322.11 1511.93 Q2327.92 1511.93 2330.98 1516.54 Q2334.06 1521.12 2334.06 1529.87 Q2334.06 1538.6 2330.98 1543.21 Q2327.92 1547.79 2322.11 1547.79 Q2316.3 1547.79 2313.22 1543.21 Q2310.17 1538.6 2310.17 1529.87 Q2310.17 1521.12 2313.22 1516.54 Q2316.3 1511.93 2322.11 1511.93 Z\" fill=\"#000000\" fill-rule=\"evenodd\" fill-opacity=\"1\" /><polyline clip-path=\"url(#clip982)\" style=\"stroke:#000000; stroke-width:2; stroke-opacity:0.1; fill:none\" points=\"\n",
       "  198.195,1479.16 2352.76,1479.16 \n",
       "  \"/>\n",
       "<polyline clip-path=\"url(#clip982)\" style=\"stroke:#000000; stroke-width:2; stroke-opacity:0.1; fill:none\" points=\"\n",
       "  198.195,1211.62 2352.76,1211.62 \n",
       "  \"/>\n",
       "<polyline clip-path=\"url(#clip982)\" style=\"stroke:#000000; stroke-width:2; stroke-opacity:0.1; fill:none\" points=\"\n",
       "  198.195,944.088 2352.76,944.088 \n",
       "  \"/>\n",
       "<polyline clip-path=\"url(#clip982)\" style=\"stroke:#000000; stroke-width:2; stroke-opacity:0.1; fill:none\" points=\"\n",
       "  198.195,676.553 2352.76,676.553 \n",
       "  \"/>\n",
       "<polyline clip-path=\"url(#clip982)\" style=\"stroke:#000000; stroke-width:2; stroke-opacity:0.1; fill:none\" points=\"\n",
       "  198.195,409.018 2352.76,409.018 \n",
       "  \"/>\n",
       "<polyline clip-path=\"url(#clip982)\" style=\"stroke:#000000; stroke-width:2; stroke-opacity:0.1; fill:none\" points=\"\n",
       "  198.195,141.483 2352.76,141.483 \n",
       "  \"/>\n",
       "<polyline clip-path=\"url(#clip980)\" style=\"stroke:#000000; stroke-width:4; stroke-opacity:1; fill:none\" points=\"\n",
       "  198.195,1486.45 198.195,47.2441 \n",
       "  \"/>\n",
       "<polyline clip-path=\"url(#clip980)\" style=\"stroke:#000000; stroke-width:4; stroke-opacity:1; fill:none\" points=\"\n",
       "  198.195,1479.16 224.05,1479.16 \n",
       "  \"/>\n",
       "<polyline clip-path=\"url(#clip980)\" style=\"stroke:#000000; stroke-width:4; stroke-opacity:1; fill:none\" points=\"\n",
       "  198.195,1211.62 224.05,1211.62 \n",
       "  \"/>\n",
       "<polyline clip-path=\"url(#clip980)\" style=\"stroke:#000000; stroke-width:4; stroke-opacity:1; fill:none\" points=\"\n",
       "  198.195,944.088 224.05,944.088 \n",
       "  \"/>\n",
       "<polyline clip-path=\"url(#clip980)\" style=\"stroke:#000000; stroke-width:4; stroke-opacity:1; fill:none\" points=\"\n",
       "  198.195,676.553 224.05,676.553 \n",
       "  \"/>\n",
       "<polyline clip-path=\"url(#clip980)\" style=\"stroke:#000000; stroke-width:4; stroke-opacity:1; fill:none\" points=\"\n",
       "  198.195,409.018 224.05,409.018 \n",
       "  \"/>\n",
       "<polyline clip-path=\"url(#clip980)\" style=\"stroke:#000000; stroke-width:4; stroke-opacity:1; fill:none\" points=\"\n",
       "  198.195,141.483 224.05,141.483 \n",
       "  \"/>\n",
       "<path clip-path=\"url(#clip980)\" d=\"M 0 0 M52.4736 1479.61 L82.1494 1479.61 L82.1494 1483.54 L52.4736 1483.54 L52.4736 1479.61 Z\" fill=\"#000000\" fill-rule=\"evenodd\" fill-opacity=\"1\" /><path clip-path=\"url(#clip980)\" d=\"M 0 0 M87.2651 1461.88 L105.621 1461.88 L105.621 1465.81 L91.5475 1465.81 L91.5475 1474.28 Q92.566 1473.94 93.5845 1473.78 Q94.603 1473.59 95.6215 1473.59 Q101.409 1473.59 104.788 1476.76 Q108.168 1479.93 108.168 1485.35 Q108.168 1490.93 104.696 1494.03 Q101.223 1497.11 94.9039 1497.11 Q92.728 1497.11 90.4595 1496.74 Q88.2141 1496.37 85.8068 1495.63 L85.8068 1490.93 Q87.8901 1492.06 90.1123 1492.62 Q92.3345 1493.17 94.8113 1493.17 Q98.8159 1493.17 101.154 1491.07 Q103.492 1488.96 103.492 1485.35 Q103.492 1481.74 101.154 1479.63 Q98.8159 1477.53 94.8113 1477.53 Q92.9363 1477.53 91.0614 1477.94 Q89.2095 1478.36 87.2651 1479.24 L87.2651 1461.88 Z\" fill=\"#000000\" fill-rule=\"evenodd\" fill-opacity=\"1\" /><path clip-path=\"url(#clip980)\" d=\"M 0 0 M123.237 1464.96 Q119.626 1464.96 117.797 1468.52 Q115.992 1472.06 115.992 1479.19 Q115.992 1486.3 117.797 1489.86 Q119.626 1493.41 123.237 1493.41 Q126.871 1493.41 128.677 1489.86 Q130.506 1486.3 130.506 1479.19 Q130.506 1472.06 128.677 1468.52 Q126.871 1464.96 123.237 1464.96 M123.237 1461.25 Q129.047 1461.25 132.103 1465.86 Q135.181 1470.44 135.181 1479.19 Q135.181 1487.92 132.103 1492.53 Q129.047 1497.11 123.237 1497.11 Q117.427 1497.11 114.348 1492.53 Q111.293 1487.92 111.293 1479.19 Q111.293 1470.44 114.348 1465.86 Q117.427 1461.25 123.237 1461.25 Z\" fill=\"#000000\" fill-rule=\"evenodd\" fill-opacity=\"1\" /><path clip-path=\"url(#clip980)\" d=\"M 0 0 M150.251 1464.96 Q146.64 1464.96 144.811 1468.52 Q143.006 1472.06 143.006 1479.19 Q143.006 1486.3 144.811 1489.86 Q146.64 1493.41 150.251 1493.41 Q153.885 1493.41 155.691 1489.86 Q157.519 1486.3 157.519 1479.19 Q157.519 1472.06 155.691 1468.52 Q153.885 1464.96 150.251 1464.96 M150.251 1461.25 Q156.061 1461.25 159.117 1465.86 Q162.195 1470.44 162.195 1479.19 Q162.195 1487.92 159.117 1492.53 Q156.061 1497.11 150.251 1497.11 Q144.441 1497.11 141.362 1492.53 Q138.306 1487.92 138.306 1479.19 Q138.306 1470.44 141.362 1465.86 Q144.441 1461.25 150.251 1461.25 Z\" fill=\"#000000\" fill-rule=\"evenodd\" fill-opacity=\"1\" /><path clip-path=\"url(#clip980)\" d=\"M 0 0 M50.9921 1212.07 L80.6679 1212.07 L80.6679 1216.01 L50.9921 1216.01 L50.9921 1212.07 Z\" fill=\"#000000\" fill-rule=\"evenodd\" fill-opacity=\"1\" /><path clip-path=\"url(#clip980)\" d=\"M 0 0 M98.5845 1198.42 L86.779 1216.87 L98.5845 1216.87 L98.5845 1198.42 M97.3576 1194.34 L103.237 1194.34 L103.237 1216.87 L108.168 1216.87 L108.168 1220.75 L103.237 1220.75 L103.237 1228.9 L98.5845 1228.9 L98.5845 1220.75 L82.9827 1220.75 L82.9827 1216.24 L97.3576 1194.34 Z\" fill=\"#000000\" fill-rule=\"evenodd\" fill-opacity=\"1\" /><path clip-path=\"url(#clip980)\" d=\"M 0 0 M123.237 1197.42 Q119.626 1197.42 117.797 1200.99 Q115.992 1204.53 115.992 1211.66 Q115.992 1218.76 117.797 1222.33 Q119.626 1225.87 123.237 1225.87 Q126.871 1225.87 128.677 1222.33 Q130.506 1218.76 130.506 1211.66 Q130.506 1204.53 128.677 1200.99 Q126.871 1197.42 123.237 1197.42 M123.237 1193.72 Q129.047 1193.72 132.103 1198.32 Q135.181 1202.91 135.181 1211.66 Q135.181 1220.38 132.103 1224.99 Q129.047 1229.57 123.237 1229.57 Q117.427 1229.57 114.348 1224.99 Q111.293 1220.38 111.293 1211.66 Q111.293 1202.91 114.348 1198.32 Q117.427 1193.72 123.237 1193.72 Z\" fill=\"#000000\" fill-rule=\"evenodd\" fill-opacity=\"1\" /><path clip-path=\"url(#clip980)\" d=\"M 0 0 M150.251 1197.42 Q146.64 1197.42 144.811 1200.99 Q143.006 1204.53 143.006 1211.66 Q143.006 1218.76 144.811 1222.33 Q146.64 1225.87 150.251 1225.87 Q153.885 1225.87 155.691 1222.33 Q157.519 1218.76 157.519 1211.66 Q157.519 1204.53 155.691 1200.99 Q153.885 1197.42 150.251 1197.42 M150.251 1193.72 Q156.061 1193.72 159.117 1198.32 Q162.195 1202.91 162.195 1211.66 Q162.195 1220.38 159.117 1224.99 Q156.061 1229.57 150.251 1229.57 Q144.441 1229.57 141.362 1224.99 Q138.306 1220.38 138.306 1211.66 Q138.306 1202.91 141.362 1198.32 Q144.441 1193.72 150.251 1193.72 Z\" fill=\"#000000\" fill-rule=\"evenodd\" fill-opacity=\"1\" /><path clip-path=\"url(#clip980)\" d=\"M 0 0 M52.1264 944.539 L81.8021 944.539 L81.8021 948.474 L52.1264 948.474 L52.1264 944.539 Z\" fill=\"#000000\" fill-rule=\"evenodd\" fill-opacity=\"1\" /><path clip-path=\"url(#clip980)\" d=\"M 0 0 M101.038 942.734 Q104.395 943.451 106.27 945.72 Q108.168 947.988 108.168 951.322 Q108.168 956.437 104.649 959.238 Q101.131 962.039 94.6493 962.039 Q92.4734 962.039 90.1586 961.599 Q87.8669 961.183 85.4132 960.326 L85.4132 955.812 Q87.3577 956.947 89.6725 957.525 Q91.9873 958.104 94.5104 958.104 Q98.9085 958.104 101.2 956.368 Q103.515 954.632 103.515 951.322 Q103.515 948.266 101.362 946.553 Q99.2326 944.817 95.4132 944.817 L91.3854 944.817 L91.3854 940.974 L95.5984 940.974 Q99.0474 940.974 100.876 939.609 Q102.705 938.22 102.705 935.627 Q102.705 932.965 100.807 931.553 Q98.9317 930.118 95.4132 930.118 Q93.4919 930.118 91.2928 930.535 Q89.0938 930.951 86.4549 931.831 L86.4549 927.664 Q89.1169 926.924 91.4317 926.553 Q93.7697 926.183 95.8298 926.183 Q101.154 926.183 104.256 928.613 Q107.358 931.021 107.358 935.141 Q107.358 938.011 105.714 940.002 Q104.071 941.97 101.038 942.734 Z\" fill=\"#000000\" fill-rule=\"evenodd\" fill-opacity=\"1\" /><path clip-path=\"url(#clip980)\" d=\"M 0 0 M123.237 929.887 Q119.626 929.887 117.797 933.451 Q115.992 936.993 115.992 944.123 Q115.992 951.229 117.797 954.794 Q119.626 958.335 123.237 958.335 Q126.871 958.335 128.677 954.794 Q130.506 951.229 130.506 944.123 Q130.506 936.993 128.677 933.451 Q126.871 929.887 123.237 929.887 M123.237 926.183 Q129.047 926.183 132.103 930.789 Q135.181 935.373 135.181 944.123 Q135.181 952.849 132.103 957.456 Q129.047 962.039 123.237 962.039 Q117.427 962.039 114.348 957.456 Q111.293 952.849 111.293 944.123 Q111.293 935.373 114.348 930.789 Q117.427 926.183 123.237 926.183 Z\" fill=\"#000000\" fill-rule=\"evenodd\" fill-opacity=\"1\" /><path clip-path=\"url(#clip980)\" d=\"M 0 0 M150.251 929.887 Q146.64 929.887 144.811 933.451 Q143.006 936.993 143.006 944.123 Q143.006 951.229 144.811 954.794 Q146.64 958.335 150.251 958.335 Q153.885 958.335 155.691 954.794 Q157.519 951.229 157.519 944.123 Q157.519 936.993 155.691 933.451 Q153.885 929.887 150.251 929.887 M150.251 926.183 Q156.061 926.183 159.117 930.789 Q162.195 935.373 162.195 944.123 Q162.195 952.849 159.117 957.456 Q156.061 962.039 150.251 962.039 Q144.441 962.039 141.362 957.456 Q138.306 952.849 138.306 944.123 Q138.306 935.373 141.362 930.789 Q144.441 926.183 150.251 926.183 Z\" fill=\"#000000\" fill-rule=\"evenodd\" fill-opacity=\"1\" /><path clip-path=\"url(#clip980)\" d=\"M 0 0 M53.0754 677.004 L82.7512 677.004 L82.7512 680.94 L53.0754 680.94 L53.0754 677.004 Z\" fill=\"#000000\" fill-rule=\"evenodd\" fill-opacity=\"1\" /><path clip-path=\"url(#clip980)\" d=\"M 0 0 M91.8484 689.898 L108.168 689.898 L108.168 693.833 L86.2234 693.833 L86.2234 689.898 Q88.8854 687.143 93.4688 682.514 Q98.0752 677.861 99.2558 676.518 Q101.501 673.995 102.381 672.259 Q103.284 670.5 103.284 668.81 Q103.284 666.055 101.339 664.319 Q99.4178 662.583 96.316 662.583 Q94.1169 662.583 91.6632 663.347 Q89.2327 664.111 86.4549 665.662 L86.4549 660.94 Q89.279 659.805 91.7326 659.227 Q94.1863 658.648 96.2234 658.648 Q101.594 658.648 104.788 661.333 Q107.983 664.018 107.983 668.509 Q107.983 670.639 107.172 672.56 Q106.385 674.458 104.279 677.051 Q103.7 677.722 100.598 680.94 Q97.4965 684.134 91.8484 689.898 Z\" fill=\"#000000\" fill-rule=\"evenodd\" fill-opacity=\"1\" /><path clip-path=\"url(#clip980)\" d=\"M 0 0 M123.237 662.352 Q119.626 662.352 117.797 665.916 Q115.992 669.458 115.992 676.588 Q115.992 683.694 117.797 687.259 Q119.626 690.801 123.237 690.801 Q126.871 690.801 128.677 687.259 Q130.506 683.694 130.506 676.588 Q130.506 669.458 128.677 665.916 Q126.871 662.352 123.237 662.352 M123.237 658.648 Q129.047 658.648 132.103 663.254 Q135.181 667.838 135.181 676.588 Q135.181 685.314 132.103 689.921 Q129.047 694.504 123.237 694.504 Q117.427 694.504 114.348 689.921 Q111.293 685.314 111.293 676.588 Q111.293 667.838 114.348 663.254 Q117.427 658.648 123.237 658.648 Z\" fill=\"#000000\" fill-rule=\"evenodd\" fill-opacity=\"1\" /><path clip-path=\"url(#clip980)\" d=\"M 0 0 M150.251 662.352 Q146.64 662.352 144.811 665.916 Q143.006 669.458 143.006 676.588 Q143.006 683.694 144.811 687.259 Q146.64 690.801 150.251 690.801 Q153.885 690.801 155.691 687.259 Q157.519 683.694 157.519 676.588 Q157.519 669.458 155.691 665.916 Q153.885 662.352 150.251 662.352 M150.251 658.648 Q156.061 658.648 159.117 663.254 Q162.195 667.838 162.195 676.588 Q162.195 685.314 159.117 689.921 Q156.061 694.504 150.251 694.504 Q144.441 694.504 141.362 689.921 Q138.306 685.314 138.306 676.588 Q138.306 667.838 141.362 663.254 Q144.441 658.648 150.251 658.648 Z\" fill=\"#000000\" fill-rule=\"evenodd\" fill-opacity=\"1\" /><path clip-path=\"url(#clip980)\" d=\"M 0 0 M52.7051 409.469 L82.3808 409.469 L82.3808 413.405 L52.7051 413.405 L52.7051 409.469 Z\" fill=\"#000000\" fill-rule=\"evenodd\" fill-opacity=\"1\" /><path clip-path=\"url(#clip980)\" d=\"M 0 0 M88.2604 422.363 L95.8993 422.363 L95.8993 395.997 L87.5892 397.664 L87.5892 393.405 L95.853 391.738 L100.529 391.738 L100.529 422.363 L108.168 422.363 L108.168 426.298 L88.2604 426.298 L88.2604 422.363 Z\" fill=\"#000000\" fill-rule=\"evenodd\" fill-opacity=\"1\" /><path clip-path=\"url(#clip980)\" d=\"M 0 0 M123.237 394.817 Q119.626 394.817 117.797 398.382 Q115.992 401.923 115.992 409.053 Q115.992 416.159 117.797 419.724 Q119.626 423.266 123.237 423.266 Q126.871 423.266 128.677 419.724 Q130.506 416.159 130.506 409.053 Q130.506 401.923 128.677 398.382 Q126.871 394.817 123.237 394.817 M123.237 391.113 Q129.047 391.113 132.103 395.72 Q135.181 400.303 135.181 409.053 Q135.181 417.78 132.103 422.386 Q129.047 426.969 123.237 426.969 Q117.427 426.969 114.348 422.386 Q111.293 417.78 111.293 409.053 Q111.293 400.303 114.348 395.72 Q117.427 391.113 123.237 391.113 Z\" fill=\"#000000\" fill-rule=\"evenodd\" fill-opacity=\"1\" /><path clip-path=\"url(#clip980)\" d=\"M 0 0 M150.251 394.817 Q146.64 394.817 144.811 398.382 Q143.006 401.923 143.006 409.053 Q143.006 416.159 144.811 419.724 Q146.64 423.266 150.251 423.266 Q153.885 423.266 155.691 419.724 Q157.519 416.159 157.519 409.053 Q157.519 401.923 155.691 398.382 Q153.885 394.817 150.251 394.817 M150.251 391.113 Q156.061 391.113 159.117 395.72 Q162.195 400.303 162.195 409.053 Q162.195 417.78 159.117 422.386 Q156.061 426.969 150.251 426.969 Q144.441 426.969 141.362 422.386 Q138.306 417.78 138.306 409.053 Q138.306 400.303 141.362 395.72 Q144.441 391.113 150.251 391.113 Z\" fill=\"#000000\" fill-rule=\"evenodd\" fill-opacity=\"1\" /><path clip-path=\"url(#clip980)\" d=\"M 0 0 M150.251 127.282 Q146.64 127.282 144.811 130.847 Q143.006 134.388 143.006 141.518 Q143.006 148.624 144.811 152.189 Q146.64 155.731 150.251 155.731 Q153.885 155.731 155.691 152.189 Q157.519 148.624 157.519 141.518 Q157.519 134.388 155.691 130.847 Q153.885 127.282 150.251 127.282 M150.251 123.578 Q156.061 123.578 159.117 128.185 Q162.195 132.768 162.195 141.518 Q162.195 150.245 159.117 154.851 Q156.061 159.435 150.251 159.435 Q144.441 159.435 141.362 154.851 Q138.306 150.245 138.306 141.518 Q138.306 132.768 141.362 128.185 Q144.441 123.578 150.251 123.578 Z\" fill=\"#000000\" fill-rule=\"evenodd\" fill-opacity=\"1\" /><polyline clip-path=\"url(#clip982)\" style=\"stroke:#009af9; stroke-width:4; stroke-opacity:1; fill:none\" points=\"\n",
       "  259.173,128.107 597.941,699.426 936.708,1171.66 1275.48,1445.72 1614.24,1422.51 1953.01,1002.96 2291.78,87.9763 \n",
       "  \"/>\n",
       "<path clip-path=\"url(#clip980)\" d=\"\n",
       "M1990.52 216.178 L2280.94 216.178 L2280.94 95.2176 L1990.52 95.2176  Z\n",
       "  \" fill=\"#ffffff\" fill-rule=\"evenodd\" fill-opacity=\"1\"/>\n",
       "<polyline clip-path=\"url(#clip980)\" style=\"stroke:#000000; stroke-width:4; stroke-opacity:1; fill:none\" points=\"\n",
       "  1990.52,216.178 2280.94,216.178 2280.94,95.2176 1990.52,95.2176 1990.52,216.178 \n",
       "  \"/>\n",
       "<polyline clip-path=\"url(#clip980)\" style=\"stroke:#009af9; stroke-width:4; stroke-opacity:1; fill:none\" points=\"\n",
       "  2014.46,155.698 2158.1,155.698 \n",
       "  \"/>\n",
       "<path clip-path=\"url(#clip980)\" d=\"M 0 0 M2195.88 175.385 Q2194.08 180.015 2192.36 181.427 Q2190.65 182.839 2187.78 182.839 L2184.38 182.839 L2184.38 179.274 L2186.88 179.274 Q2188.64 179.274 2189.61 178.44 Q2190.58 177.607 2191.76 174.505 L2192.53 172.561 L2182.04 147.052 L2186.55 147.052 L2194.66 167.329 L2202.76 147.052 L2207.27 147.052 L2195.88 175.385 Z\" fill=\"#000000\" fill-rule=\"evenodd\" fill-opacity=\"1\" /><path clip-path=\"url(#clip980)\" d=\"M 0 0 M2213.15 169.042 L2220.79 169.042 L2220.79 142.677 L2212.48 144.343 L2212.48 140.084 L2220.74 138.418 L2225.42 138.418 L2225.42 169.042 L2233.06 169.042 L2233.06 172.978 L2213.15 172.978 L2213.15 169.042 Z\" fill=\"#000000\" fill-rule=\"evenodd\" fill-opacity=\"1\" /></svg>\n"
      ]
     },
     "metadata": {},
     "output_type": "display_data"
    }
   ],
   "source": [
    "n=7 # Numero de intervalos + 1\n",
    "\n",
    "y_inicial=5 # y(0) = 5\n",
    "y_final=20 # y(10) = 20\n",
    "x_inicial=0 # x1 = 0\n",
    "x_final=10 # x7 = 10\n",
    "h=(x_final-x_inicial)/(n-1)\n",
    "x=zeros(n,1)\n",
    "for i=1:(n)\n",
    "    x[i]=x_inicial+h*(i-1)\n",
    "end\n",
    "for i=1:(n-2) \n",
    "    sd[i]=4*x[i+1] # calculamos as derivadas tal que y''(x) = 4x\n",
    "end\n",
    "x_bom=x\n",
    "y_meio=diferenças_finitas(n,sd,y_inicial,y_final,x_inicial, x_final)\n",
    "y_bom=[y_inicial;y_meio;y_final]\n",
    "\n",
    "plot(x_bom, y_bom)"
   ]
  },
  {
   "cell_type": "code",
   "execution_count": 196,
   "metadata": {},
   "outputs": [
    {
     "name": "stdout",
     "output_type": "stream",
     "text": [
      "[0.0; 1.6666666666666667; 3.3333333333333335; 5.0; 6.666666666666667; 8.333333333333334; 10.0]\n",
      "[5.0, -208.5493827160494, -385.0617283950617, -487.50000000000006, -478.82716049382725, -322.0061728395063, 20.0]\n"
     ]
    }
   ],
   "source": [
    "println(x_bom)\n",
    "println(y_bom)"
   ]
  },
  {
   "cell_type": "markdown",
   "metadata": {},
   "source": [
    "# Exercício 2c)\n",
    "\n",
    "Com a função em mãos, podemos calcular os pontos do exercício:"
   ]
  },
  {
   "cell_type": "code",
   "execution_count": 218,
   "metadata": {},
   "outputs": [
    {
     "name": "stdout",
     "output_type": "stream",
     "text": [
      "[0.0; 1.6666666666666667; 3.3333333333333335; 5.0; 6.666666666666667; 8.333333333333334; 10.0]\n",
      "[5.0, -208.5493827160494, -385.0617283950617, -487.50000000000006, -478.82716049382725, -322.0061728395063, 20.0]\n"
     ]
    }
   ],
   "source": [
    "println(x_bom)\n",
    "println(y_bom)"
   ]
  },
  {
   "cell_type": "markdown",
   "metadata": {},
   "source": [
    "Para este exercício, utilizaremos a técnica da Interpolação Polinomial de Grau 2 para calcular uma aproximação de $y(3.2345)$. Utilizaremos então um conjunto de pontos afim de montar o sistema de equações que resultará na matriz de Vandermonde para encontrarmos uma função aproximada que nos dará o valor de $y(3.2345)$.\n",
    "\n",
    "Podemos tirar uma aproximação da função próxima de um polinômio de grau 2 utilizando 2 valores já obtidos, como os descrito acima. Com isto, teremos uma função que passa pelos pontos $(x_{1},y_{1}),(x_{2},y_{2}), (x_{3},y_{3})$ e que nos dará um polinômio na forma \n",
    "\n",
    "$$P = c_{2}x^2 + c_{1}x + c_{0}$$\n",
    "\n",
    "$$\n",
    "\\begin{cases}\n",
    "c_{2}x_{0}^2 + c_{1}x_{0} + c_{0} = y_{0} \\\\\n",
    "c_{2}x_{1}^2 + c_{1}x_{1} + c_{0} = y_{1} \\\\\n",
    "c_{2}x_{2}^2 + c_{1}x_{2} + c_{0} = y_{2} \\\\\n",
    "\\end{cases}\n",
    "$$\n",
    "\n",
    "Usaremos então os pontos $(0, 5.0),(5,-487.5)$ e $(10, 20.0)$. Portanto, temos que \n",
    "\n",
    "\\begin{cases}\n",
    "c_{2}0^2 + c_{1}0 + c_{0} = 5 \\\\\n",
    "c_{2}5^2 + c_{1}5 + c_{0} = -487.5 \\\\\n",
    "c_{2}10^2 + c_{1}10 + c_{0} = 20 \\\\\n",
    "\\end{cases}\n",
    "\n",
    "Realizando as conversões necessárias para exp, temos que, com isto, podemos modelar as matrizes da seguinte forma\n",
    "\n",
    "$$\n",
    "V = \\begin{bmatrix}\n",
    "1 & 0 & 0^2  \\\\\n",
    "1 & 5 & 5^2 \\\\\n",
    "1 & 10 & 10^2 \\\\\n",
    "\\end{bmatrix}\n",
    "$$\n",
    "\n",
    "$$\n",
    "y = \\begin{bmatrix}\n",
    "5 \\\\\n",
    "-487.5 \\\\\n",
    "20 \\\\\n",
    "\\end{bmatrix}\n",
    "$$\n",
    "\n",
    "$$\n",
    "C = \\begin{bmatrix}\n",
    "c_{0} \\\\\n",
    "c_{1} \\\\\n",
    "c_{2} \\\\\n",
    "\\end{bmatrix}\n",
    "$$\n",
    "\n",
    "Devemos então resolver o sistema tal que $V \\cdot c = y$. Vamos então utilizar o método interpolacao descrito abaixo para resolver o sistema, retornando os coeficientes do polinômio de grau 2."
   ]
  },
  {
   "cell_type": "code",
   "execution_count": 227,
   "metadata": {},
   "outputs": [
    {
     "data": {
      "text/plain": [
       "interpolacao (generic function with 1 method)"
      ]
     },
     "metadata": {},
     "output_type": "display_data"
    }
   ],
   "source": [
    "function interpolacao()\n",
    "    # Cria a matriz V\n",
    "    x = [0; 5; 10]\n",
    "    y = [5; -487.5; 20]\n",
    "    V=[x.^0 x.^1 x.^2]\n",
    "    c=V\\y # Resolve o sistema linear Vc=y\n",
    "    return c #vetor de coeficientes\n",
    "end"
   ]
  },
  {
   "cell_type": "markdown",
   "metadata": {},
   "source": [
    "Com isto, podemos chamar a função interpolacao() para gerar a função que passará pelos pontos que queremos. Após isto, podemos usar a função para calcular $y(3.2345)$"
   ]
  },
  {
   "cell_type": "code",
   "execution_count": 231,
   "metadata": {},
   "outputs": [
    {
     "name": "stdout",
     "output_type": "stream",
     "text": [
      "-427.808445\n"
     ]
    }
   ],
   "source": [
    "coefs = interpolacao()\n",
    "p = Polynomial(coefs)\n",
    "println(p(3.2345))"
   ]
  },
  {
   "cell_type": "markdown",
   "metadata": {},
   "source": [
    "# Exercício 3a)\n",
    "\n",
    "\n",
    "Temos, como informado na questão, que a temperatura de cada vértice no interior do lago, ou seja x1,x2,x3,x4, é igual a média das temperaturas dos 4 vértices vizinhos.\n",
    "Assim, podemos inferir os dados abaixo, formando um sistema de Ax =b \n",
    "$$\n",
    "\n",
    "\\begin{cases}\n",
    "x_1 = \\frac{5 + 15 + x_2 + x_3}{4} \\\\\n",
    "4*x_1 = 20 + x_2 + x_3 \\\\\n",
    "4*x_1 - x_3 - x_2 = 20  \\\\\n",
    "\\end{cases}\n",
    "$$\n",
    "\n",
    "$$\n",
    "\\begin{cases}\n",
    " x_2 = \\frac{35 + 15 + x_1 + x_4}{4}\\\\\n",
    " 4*x_2 = 50 + x_1 + x_4\\\\\n",
    " 4*x_2 - x_4 - x_1 = 50 \\\\\n",
    "\\end{cases}\n",
    "$$\n",
    "\n",
    "$$\n",
    "\\begin{cases}\n",
    " x_3 = \\frac{5 + 10 + x_1 + x_4}{4}\\\\\n",
    " 4*x_3 = 15 + x_1 + x_4\\\\\n",
    " 4*x_3 - x_1 - x_4 = 15 \\\\\n",
    "\\end{cases}\n",
    "$$\n",
    "\n",
    "$$\n",
    "\\begin{cases}\n",
    " x_4 = \\frac{10 + 35 + x_2 + x_3}{4}\\\\\n",
    "  4*x_4 = 45 + x_2 + x_3\\\\\n",
    " 4*x_4 - x_2 - x_3 = 45 \\\\\n",
    "\\end{cases}\n",
    "$$\n",
    "Agora iremos transformar esse sistema de equações em um sistema matricial.\n",
    "\n",
    "$$\n",
    "\\begin{pmatrix}4& -1 & -1 & 0 \\\\\\\\ \n",
    "-1 & 4 & 0 & -1 \\\\\\\\ \n",
    "-1 & 0 & 4 & -1 \\\\\\\\ \n",
    "0 & -1 & -1 & 4\n",
    "\\end{pmatrix} \n",
    "\\times \n",
    "\\begin{pmatrix} \n",
    "    x_1 \\\\\\\\\n",
    "    x_2 \\\\\\\\ \n",
    "    x_3 \\\\\\\\ \n",
    "    x_4 \\\\\\\\ \n",
    "\\end{pmatrix} = \n",
    "\\begin{pmatrix}\n",
    "    20 \\\\\\\\\n",
    "    50 \\\\\\\\ \n",
    "    15 \\\\\\\\ \n",
    "    45 \\\\\\\\\n",
    "\\end{pmatrix}\n",
    "$$"
   ]
  },
  {
   "cell_type": "markdown",
   "metadata": {},
   "source": [
    "# Exercício 3b)"
   ]
  },
  {
   "cell_type": "code",
   "execution_count": 240,
   "metadata": {},
   "outputs": [
    {
     "data": {
      "text/plain": [
       "4×1 Array{Float64,2}:\n",
       " 13.125\n",
       " 20.625\n",
       " 11.874999999999998\n",
       " 19.375"
      ]
     },
     "metadata": {},
     "output_type": "display_data"
    }
   ],
   "source": [
    "A = [4.0 -1.0 -1.0 0; -1.0 4.0 0 -1.0; -1.0 0 4.0 -1.0; 0 -1.0 -1.0 4.0]\n",
    "b = [20.0; 50.0; 15.0; 45.0]\n",
    "x_calculado = sistema_denso(A,b)"
   ]
  },
  {
   "cell_type": "markdown",
   "metadata": {},
   "source": [
    "# Exercício 3c)\n",
    "\n",
    "De modo similar a questão anterior, montamos os sistemas baseados em $x$ para as 25 varíaveis do problema descrito.\n",
    "\n",
    "$$\n",
    "\n",
    "\\begin{cases}\n",
    "x_1 = \\frac{20 + 25 + x_6 + x_2}{4} \\\\\n",
    "4*x_1 = 55 + x_6 + x_2 \\\\\n",
    "4*x_1 - x_6 - x_2 = 55  \\\\\n",
    "\\end{cases}\n",
    "$$\n",
    "\n",
    "$$\n",
    "\\begin{cases}\n",
    " x_2 = \\frac{20 + x_1 + x_7 + x_3}{4}\\\\\n",
    " 4*x_2 = 20 + x_1 + x_7 + x_3\\\\\n",
    " 4*x_2 - x_1 - x_7 - x_3 = 20 \\\\\n",
    "\\end{cases}\n",
    "$$\n",
    "\n",
    "$$\n",
    "\\begin{cases}\n",
    " x_3 = \\frac{20 + x_4 + x_8 + x_2}{4}\\\\\n",
    " 4*x_3 = 20 + x_4 + x_8 + x_2\\\\\n",
    " 4*x_3 - x_4 - x_8 - x_2 = 20 \\\\\n",
    "\\end{cases}\n",
    "$$\n",
    "\n",
    "\n",
    "$$\n",
    "\\begin{cases}\n",
    " x_4 = \\frac{20 + x_5 + x_9 + x_3}{4}\\\\\n",
    " 4*x_4 = 20 + x_5 + x_9 + x_3\\\\\n",
    " 4*x_4 - x_5 - x_9 - x_3 = 20 \\\\\n",
    "\\end{cases}\n",
    "$$\n",
    "\n",
    "\n",
    "$$\n",
    "\\begin{cases}\n",
    " x_5 = \\frac{20 + 20 + x_{10} + x_4}{4}\\\\\n",
    " 4*x_5 = 40 + x_{10} + x_4\\\\\n",
    " 4*x_5 - x_{10} - x_4 = 40 \\\\\n",
    "\\end{cases}\n",
    "$$\n",
    "\n",
    "$$\n",
    "\\begin{cases}\n",
    " x_6 = \\frac{x_1 + x_7 + x_{11} + 25}{4}\\\\\n",
    " 4*x_6 = 25 + x_{1} + x_7 + x_{11}\\\\\n",
    " 4*x_6 - x_{1} - x_7 - x_{11} = 25 \\\\\n",
    "\\end{cases}\n",
    "$$\n",
    "\n",
    "$$\n",
    "\\begin{cases}\n",
    " x_7 = \\frac{x_2 + x_8 + x_{12} + x_6}{4}\\\\\n",
    " 4*x_7 = x_2 + x_{8} + x_{12} + x_6\\\\\n",
    " 4*x_7 - x_{2} - x_8 - x_{12} - x_6 = 0 \\\\\n",
    "\\end{cases}\n",
    "$$\n",
    "\n",
    "$$\n",
    "\\begin{cases}\n",
    " x_8 = \\frac{x_3 + x_9 + x_{13} + x_7}{4}\\\\\n",
    " 4*x_8 = x_3 + x_{9} + x_{13} + x_7\\\\\n",
    " 4*x_8 - x_{3} - x_9 - x_{13} - x_7 = 0 \\\\\n",
    "\\end{cases}\n",
    "$$\n",
    "\n",
    "$$\n",
    "\\begin{cases}\n",
    " x_9 = \\frac{x_4 + x_{10} + x_{14} + x_8}{4}\\\\\n",
    " 4*x_9 = x_4 + x_{10} + x_{14} + x_8 \\\\\n",
    " 4*x_9 - x_{4} - x_{10} - x_{14} - x_8 = 0 \\\\\n",
    "\\end{cases}\n",
    "$$\n",
    "\n",
    "$$\n",
    "\\begin{cases}\n",
    " x_{10} = \\frac{x_5 + 20 + x_{15} + x_9}{4}\\\\\n",
    " 4*x_{10} = x_5 + 20 + x_{15} + x_9\\\\\n",
    " 4*x_{10} - x_{5} - x_{15} - x_9 = 20 \\\\\n",
    "\\end{cases}\n",
    "$$\n",
    "\n",
    "$$\n",
    "\\begin{cases}\n",
    " x_{11} = \\frac{x_6 + x_{12} + x_{16} + 25}{4}\\\\\n",
    " 4*x_{11} = 25 + x_{6} + x_{10} + x_{12}\\\\\n",
    " 4*x_{11} - x_{6} - x_{10} - x_{12} = 25 \\\\\n",
    "\\end{cases}\n",
    "$$\n",
    "\n",
    "$$\n",
    "\\begin{cases}\n",
    " x_{12} = \\frac{x_7 + x_{13} + x_{17} + x_1}{4}\\\\\n",
    " 4*x_{12} = x_7 + x_{13} + x_{17} + x_1\\\\\n",
    " 4*x_{12} - x_{7} - x_{13} - x_{17} - x_1 = 0 \\\\\n",
    "\\end{cases}\n",
    "$$\n",
    "\n",
    "$$\n",
    "\\begin{cases}\n",
    " x_{13} = \\frac{x_8 + x_{14} + x_{18} + x_{12}}{4}\\\\\n",
    " 4*x_{13} = x_8 + x_{14} + x_{18} + x_{12}\\\\\n",
    " 4*x_{13} - x_{8} - x_{14} - x_{18} - x_{12} = 0 \\\\\n",
    "\\end{cases}\n",
    "$$\n",
    "\n",
    "$$\n",
    "\\begin{cases}\n",
    " x_{14} = \\frac{x_{9} + x_{15} + x_{19} + x_{13}}{4}\\\\\n",
    " 4*x_{14} = x_{9} + x_{15} + x_{19} + x_{13}\\\\\n",
    " 4*x_{14} - x_{9} - x_{15} - x_{19} - x_{13} = 0 \\\\\n",
    "\\end{cases}\n",
    "$$\n",
    "\n",
    "$$\n",
    "\\begin{cases}\n",
    " x_{15} = \\frac{x_{10} + 20 + x_{20} + x_{14}}{4}\\\\\n",
    " 4*x_{15} = 20 + x_{10} + x_{20} + x_{14}\\\\\n",
    " 4*x_{15} - x_{10} - x_{20} - x_{14} = 20 \\\\\n",
    "\\end{cases}\n",
    "$$\n",
    "\n",
    "$$\n",
    "\\begin{cases}\n",
    " x_{16} = \\frac{x_{11} + x_{17} + x_{21} + 25}{4}\\\\\n",
    " 4*x_{16} = 25 + x_{11} + x_{17} + x_{21}\\\\\n",
    " 4*x_{16} - x_{11} - x_{17} - x_{21} = 25 \\\\\n",
    "\\end{cases}\n",
    "$$\n",
    "\n",
    "$$\n",
    "\\begin{cases}\n",
    " x_{17} = \\frac{x_{12} + x_{18} + x_{22} + x_{16}}{4}\\\\\n",
    " 4*x_{17} = x_{12} + x_{18} + x_{22} + x_{16}\\\\\n",
    " 4*x_{17} - x_{12} - x_{18} - x_{22} - x_{16} = 0 \\\\\n",
    "\\end{cases}\n",
    "$$\n",
    "\n",
    "$$\n",
    "\\begin{cases}\n",
    " x_{18} = \\frac{x_{13} + x_{19} + x_{23} + x_{17}}{4}\\\\\n",
    " 4*x_{18} = x_{13} + x_{19} + x_{23} + x_{17}\\\\\n",
    " 4*x_{18} - x_{13} - x_{19} - x_{23} - x_{17} = 0 \\\\\n",
    "\\end{cases}\n",
    "$$\n",
    "\n",
    "$$\n",
    "\\begin{cases}\n",
    " x_{19} = \\frac{x_{14} + x_{20} + x_{24} + x_{18}}{4}\\\\\n",
    " 4*x_{19} = x_{14} + x_{20} + x_{24} + x_{18}\\\\\n",
    " 4*x_{19} - x_{14} - x_{20} - x_{24} - x_{18} = 0 \\\\\n",
    "\\end{cases}\n",
    "$$\n",
    "\n",
    "$$\n",
    "\\begin{cases}\n",
    " x_{20} = \\frac{x_{15} + 20 + x_{25} + x_{19}}{4}\\\\\n",
    " 4*x_{20} = 20 + x_{15} + x_{25} + x_{19}\\\\\n",
    " 4*x_{20} - x_{15} - x_{25} - x_{19} = 20 \\\\\n",
    "\\end{cases}\n",
    "$$\n",
    "\n",
    "$$\n",
    "\\begin{cases}\n",
    " x_{21} = \\frac{x_{16} + x_{22} + 30 + 25}{4}\\\\\n",
    " 4*x_{21} = 40 + 25 + x_{16} + x_{22}\\\\\n",
    " 4*x_{21} - x_{16} - x_{22} = 65 \\\\\n",
    "\\end{cases}\n",
    "$$\n",
    "\n",
    "$$\n",
    "\\begin{cases}\n",
    " x_{22} = \\frac{x_{17} + x_{23} + 30 + x_{21}}{4}\\\\\n",
    " 4*x_{22} = 30 + x_{17} + x_{23} + x_{21}\\\\\n",
    " 4*x_{22} - x_{17} - x_{23} - x_{21} = 30 \\\\\n",
    "\\end{cases}\n",
    "$$\n",
    "\n",
    "$$\n",
    "\\begin{cases}\n",
    " x_{23} = \\frac{x_{18} + x_{24} + 30 + x_{22}}{4}\\\\\n",
    " 4*x_{23} = 30 + x_{18} + x_{24} + x_{22}\\\\\n",
    " 4*x_{23} - x_{18} - x_{24} - x_{22} = 30 \\\\\n",
    "\\end{cases}\n",
    "$$\n",
    "\n",
    "$$\n",
    "\\begin{cases}\n",
    " x_{24} = \\frac{x_{19} + x_{25} + 30 + x_{23}}{4}\\\\\n",
    " 4*x_{24} = 30 + x_{19} + x_{25} + x_{23}\\\\\n",
    " 4*x_{24} - x_{19} - x_{25} - x_{23} = 30 \\\\\n",
    "\\end{cases}\n",
    "$$\n",
    "\n",
    "$$\n",
    "\\begin{cases}\n",
    " x_{25} = \\frac{x_{20} + 20 + 30 + x_{24}}{4}\\\\\n",
    " 4*x_{25} = 20 + 30 + x_{20} + x_{24}\\\\\n",
    " 4*x_{25} - x_{20} - x_{24} = 50 \\\\\n",
    "\\end{cases}\n",
    "$$\n",
    "\n",
    "\n",
    "\n"
   ]
  },
  {
   "cell_type": "markdown",
   "metadata": {},
   "source": [
    "Com isto, podemos montar o sistema linear correspondente tal que\n",
    "\n",
    "$$\n",
    "\\begin{bmatrix}\n",
    "4& -1 & 0 & 0 & 0 & -1 & 0 & 0 & 0 & 0 & 0 & 0 & 0 & 0 & 0 & 0 & 0 & 0 & 0 & 0 & 0 & 0 & 0 & 0 & 0  \\\\\\\\\n",
    "\n",
    "-1& 4 & -1 & 0 & 0 & 0 & -1 & 0 & 0 & 0 & 0 & 0 & 0 & 0 & 0 & 0 & 0 & 0 & 0 & 0 & 0 & 0 & 0 & 0 & 0  \\\\\\\\\n",
    "\n",
    "0 & -1 & 4 & -1 & 0 & 0 & 0 & -1 & 0 & 0 & 0 & 0 & 0 & 0 & 0 & 0 & 0 & 0 & 0 & 0 & 0 & 0 & 0 & 0 & 0  \\\\\\\\\n",
    "\n",
    "0 & 0 & -1 & 4 & -1 & 0 & 0 & 0 & -1 & -1 & 0 & 0 & 0 & 0 & 0 & 0 & 0 & 0 & 0 & 0 & 0 & 0 & 0 & 0 & 0  \\\\\\\\\n",
    "\n",
    "0& 0 & 0 & -1 & 4 & 0 & 0 & 0 & 0 & -1 & 0 & 0 & 0 & 0 & 0 & 0 & 0 & 0 & 0 & 0 & 0 & 0 & 0 & 0 & 0  \\\\\\\\\n",
    "\n",
    "-1& 0 & 0 & 0 & 0 & 4 & -1 & 0 & 0 & 0 & -1 & 0 & 0 & 0 & 0 & 0 & 0 & 0 & 0 & 0 & 0 & 0 & 0 & 0 & 0  \\\\\\\\\n",
    "\n",
    "0 & -1 & 0 & 0 & 0 & -1 & 4 & -1 & 0 & 0 & 0 & -1 & 0 & 0 & 0 & 0 & 0 & 0 & 0 & 0 & 0 & 0 & 0 & 0 & 0  \\\\\\\\\n",
    "\n",
    "0 & 0 & -1 & 0 & 0 & 0 & -1 & 4 & -1 & 0 & 0 & 0 & 0 & 0 & 0 & 0 & 0 & 0 & 0 & 0 & 0 & 0 & 0 & 0 & 0  \\\\\\\\\n",
    "\n",
    "0& 0 & 0 & -1 & 0 & 0 & 0 & -1 & 4 & -1 & 0 & 0 & 0 & -1 & 0 & 0 & 0 & 0 & 0 & 0 & 0 & 0 & 0 & 0 & 0  \\\\\\\\\n",
    "\n",
    "0 & 0 & 0 & 0 & -1 & 0 & 0 & 0 & -1 & 4 & 0 & 0 & 0 & 0 & -1 & 0 & 0 & 0 & 0 & 0 & 0 & 0 & 0 & 0 & 0  \\\\\\\\\n",
    "\n",
    "0 & 0 & 0 & 0 & 0 & -1 & 0 & 0 & 0 & -1 & 4 & -1 & 0 & 0 & 0 & 0 & 0 & 0 & 0 & 0 & 0 & 0 & 0 & 0 & 0  \\\\\\\\\n",
    "\n",
    "-1 & 0 & 0 & 0 & 0 & 0 & -1 & 0 & 0 & 0 & 0 & 4 & -1 & 0 & 0 & 0 & -1 & 0 & 0 & 0 & 0 & 0 & 0 & 0 & 0  \\\\\\\\\n",
    "\n",
    "0 & 0 & 0 & 0 & 0 & 0 & 0 & -1 & 0 & 0 & 0 & -1 & 4 & -1 & 0 & 0 & 0 & -1 & 0 & 0 & 0 & 0 & 0 & 0 & 0  \\\\\\\\\n",
    "\n",
    "0 & 0 & 0 & 0 & 0 & 0 & 0 & 0 & -1 & 0 & 0 & 0 & -1 & 4 & -1 & 0 & 0 & 0 & -1 & 0 & 0 & 0 & 0 & 0 & 0  \\\\\\\\\n",
    "\n",
    "0 & 0 & 0 & 0 & 0 & 0 & 0 & 0 & 0 & -1 & 0 & 0 & 0 & -1 & 4 & 0 & 0 & 0 & 0 & -1 & 0 & 0 & 0 & 0 & 0  \\\\\\\\\n",
    "\n",
    "0 & 0 & 0 & 0 & 0 & 0 & 0 & 0 & 0 & 0 & -1 & 0 & 0 & 0 & 0 & 4 & -1 & 0 & 0 & 0 & -1 & 0 & 0 & 0 & 0  \\\\\\\\\n",
    "\n",
    "0 & 0 & 0 & 0 & 0 & 0 & 0 & 0 & 0 & 0 & 0 & -1 & 0 & 0 & 0 & -1 & 4 & -1 & 0 & 0 & 0 & -1 & 0 & 0 & 0  \\\\\\\\\n",
    "\n",
    "0 & 0 & 0 & 0 & 0 & 0 & 0 & 0 & 0 & 0 & 0 & 0 & -1 & 0 & 0 & 0 & -1 & 4 & -1 & 0 & 0 & 0 & -1 & 0 & 0  \\\\\\\\\n",
    "\n",
    "0 & 0 & 0 & 0 & 0 & 0 & 0 & 0 & 0 & 0 & 0 & 0 & 0 & -1 & 0 & 0 & 0 & -1 & 4 & -1 & 0 & 0 & 0 & -1 & 0  \\\\\\\\\n",
    "\n",
    "0 & 0 & 0 & 0 & 0 & 0 & 0 & 0 & 0 & 0 & 0 & 0 & 0 & 0 & -1 & 0 & 0 & 0 & -1 & 4 & 0 & 0 & 0 & 0 & -1  \\\\\\\\\n",
    "\n",
    "0 & 0 & 0 & 0 & 0 & 0 & 0 & 0 & 0 & 0 & 0 & 0 & 0 & 0 & 0 & -1 & 0 & 0 & 0 & 0 & 4 & -1 & 0 & 0 & 0  \\\\\\\\\n",
    "\n",
    "0 & 0 & 0 & 0 & 0 & 0 & 0 & 0 & 0 & 0 & 0 & 0 & 0 & 0 & 0 & 0 & -1 & 0 & 0 & 0 & -1 & 4 & -1 & 0 & 0  \\\\\\\\\n",
    "\n",
    "0 & 0 & 0 & 0 & 0 & 0 & 0 & 0 & 0 & 0 & 0 & 0 & 0 & 0 & 0 & 0 & 0 & -1 & 0 & 0 & 0 & -1 & 4 & -1 & 0  \\\\\\\\\n",
    "\n",
    "0 & 0 & 0 & 0 & 0 & 0 & 0 & 0 & 0 & 0 & 0 & 0 & 0 & 0 & 0 & 0 & 0 & 0 & -1 & 0 & 0 & 0 & -1 & 4 & -1  \\\\\\\\\n",
    "\n",
    "0 & 0 & 0 & 0 & 0 & 0 & 0 & 0 & 0 & 0 & 0 & 0 & 0 & 0 & 0 & 0 & 0 & 0 & 0 & -1 & 0 & 0 & 0 & -1 & 4  \\\\\\\\\n",
    "\\end{bmatrix} \n",
    "\n",
    "\\times\n",
    " \n",
    "\\begin{bmatrix} \n",
    "    x_1 \\\\\\\\\n",
    "    x_2 \\\\\\\\ \n",
    "    x_3 \\\\\\\\ \n",
    "    x_4 \\\\\\\\\n",
    "    x_5 \\\\\\\\ \n",
    "    x_6 \\\\\\\\ \n",
    "    x_7 \\\\\\\\ \n",
    "    x_8 \\\\\\\\ \n",
    "    x_9 \\\\\\\\ \n",
    "    x_10 \\\\\\\\ \n",
    "    x_11 \\\\\\\\ \n",
    "    x_12 \\\\\\\\ \n",
    "    x_13 \\\\\\\\ \n",
    "    x_14 \\\\\\\\ \n",
    "    x_15 \\\\\\\\ \n",
    "    x_16 \\\\\\\\ \n",
    "    x_17 \\\\\\\\ \n",
    "    x_18 \\\\\\\\ \n",
    "    x_19 \\\\\\\\ \n",
    "    x_20 \\\\\\\\ \n",
    "    x_21 \\\\\\\\ \n",
    "    x_22 \\\\\\\\\n",
    "    x_23 \\\\\\\\ \n",
    "    x_24 \\\\\\\\ \n",
    "    x_25 \\\\\\\\ \n",
    "\\end{bmatrix} = \n",
    "\\begin{bmatrix}\n",
    "    55 \\\\\\\\\n",
    "    20 \\\\\\\\ \n",
    "    20 \\\\\\\\ \n",
    "    20 \\\\\\\\\n",
    "    40 \\\\\\\\\n",
    "    25 \\\\\\\\\n",
    "    0 \\\\\\\\\n",
    "    0 \\\\\\\\\n",
    "    0 \\\\\\\\\n",
    "    20 \\\\\\\\\n",
    "    25 \\\\\\\\\n",
    "    0 \\\\\\\\\n",
    "    0 \\\\\\\\\n",
    "    0 \\\\\\\\\n",
    "    20 \\\\\\\\\n",
    "    25 \\\\\\\\\n",
    "    0 \\\\\\\\\n",
    "    0 \\\\\\\\\n",
    "    0 \\\\\\\\\n",
    "    20 \\\\\\\\\n",
    "    65 \\\\\\\\\n",
    "    30 \\\\\\\\\n",
    "    30 \\\\\\\\\n",
    "    30 \\\\\\\\\n",
    "    50 \\\\\\\\\n",
    "\\end{bmatrix}\n",
    "$$"
   ]
  },
  {
   "cell_type": "code",
   "execution_count": 230,
   "metadata": {},
   "outputs": [
    {
     "data": {
      "text/plain": [
       "25×1 Array{Float64,2}:\n",
       " 25.11379958100669\n",
       " 21.820476452863225\n",
       " 21.013471949341554\n",
       " 26.352829727867302\n",
       " 21.879291290779683\n",
       " 23.634721871163535\n",
       " 21.15463428110466\n",
       " 15.88058161663569\n",
       " 21.354220236096545\n",
       " 21.164335435251427\n",
       "  ⋮\n",
       " 25.4411841048166\n",
       " 24.50317010736364\n",
       " 23.877075440204198\n",
       " 22.511851256634756\n",
       " 29.744702282036638\n",
       " 28.114724125797547\n",
       " 27.273010116336955\n",
       " 26.474146232186627\n",
       " 24.746499372205342"
      ]
     },
     "metadata": {},
     "output_type": "display_data"
    }
   ],
   "source": [
    "A = [4.0 -1.0  0  0  0  -1.0  0  0  0  0  0  0  0  0  0  0  0  0  0  0  0  0  0  0  0;-1.0 4.0  -1.0  0  0  0  -1.0  0  0  0  0  0  0  0  0  0  0  0  0  0  0  0  0  0  0;0  -1.0  4.0  -1.0  0  0  0  -1.0  0  0  0  0  0  0  0  0  0  0  0  0  0  0  0  0  0;0  0  -1.0  4.0  -1.0  0  0  0  -1.0  -1.0  0  0  0  0  0  0  0  0  0  0  0  0  0  0  0;0 0  0  -1.0  4.0  0  0  0  0  -1.0  0  0  0  0  0  0  0  0  0  0  0  0  0  0  0;-1.0 0  0  0  0  4.0  -1.0  0  0  0  -1.0  0  0  0  0  0  0  0  0  0  0  0  0  0  0;0  -1.0  0  0  0  -1.0  4.0  -1.0  0  0  0  -1.0  0  0  0  0  0  0  0  0  0  0  0  0  0;0  0  -1.0  0  0  0  -1.0  4.0  -1.0  0  0  0  0  0  0  0  0  0  0  0  0  0  0  0  0;0 0  0  -1.0  0  0  0  -1.0  4.0  -1.0  0  0  0  -1.0  0  0  0  0  0  0  0  0  0  0  0;0  0  0  0  -1.0  0  0  0  -1.0  4.0  0  0  0  0  -1.0  0  0  0  0  0  0  0  0  0  0;0  0  0  0  0  -1.0  0  0  0  -1.0  4.0  -1.0  0  0  0  0  0  0  0  0  0  0  0  0  0;-1.0  0  0  0  0  0  -1.0  0  0  0  0  4.0  -1.0  0  0  0  -1.0  0  0  0  0  0  0  0  0;0  0  0  0  0  0  0  -1.0  0  0  0  -1.0  4.0  -1.0  0  0  0  -1.0  0  0  0  0  0  0  0;0  0  0  0  0  0  0  0  -1.0  0  0  0  -1.0  4.0  -1.0  0  0  0  -1.0  0  0  0  0  0  0;0  0  0  0  0  0  0  0  0  -1.0  0  0  0  -1.0  4.0  0  0  0  0  -1.0  0  0  0  0  0;0  0  0  0  0  0  0  0  0  0  -1.0  0  0  0  0  4.0  -1.0  0  0  0  -1.0  0  0  0  0;0  0  0  0  0  0  0  0  0  0  0  -1.0  0  0  0  -1.0  4.0  -1.0  0  0  0  -1.0  0  0  0;0  0  0  0  0  0  0  0  0  0  0  0  -1.0  0  0  0  -1.0  4.0  -1.0  0  0  0  -1.0  0  0;0  0  0  0  0  0  0  0  0  0  0  0  0  -1.0  0  0  0  -1.0  4.0  -1.0  0  0  0  -1.0  0;0  0  0  0  0  0  0  0  0  0  0  0  0  0  -1.0  0  0  0  -1.0  4.0  0  0  0  0  -1.0;0  0  0  0  0  0  0  0  0  0  0  0  0  0  0  -1.0  0  0  0  0  4.0  -1.0  0  0  0;0  0  0  0  0  0  0  0  0  0  0  0  0  0  0  0  -1.0  0  0  0  -1.0  4.0  -1.0  0  0;0  0  0  0  0  0  0  0  0  0  0  0  0  0  0  0  0  -1.0  0  0  0  -1.0  4.0  -1.0  0;0  0  0  0  0  0  0  0  0  0  0  0  0  0  0  0  0  0  -1.0  0  0  0  -1.0  4.0  -1.0;0  0  0  0  0  0  0  0  0  0  0  0  0  0  0  0  0  0  0  -1.0  0  0  0  -1.0  4.0;]\n",
    "b = [55 ;20 ;20 ; 20 ;40 ;25 ;0 ;0 ;0 ;20 ;25 ;0 ;0 ;0 ;20 ;25 ;0 ;0 ;0 ;20 ;65 ;30 ;30 ;30 ;50 ]\n",
    "x_calculado = sistema_denso(A,b)"
   ]
  },
  {
   "cell_type": "markdown",
   "metadata": {},
   "source": [
    "# Exercício 3d)\n",
    "\n"
   ]
  },
  {
   "cell_type": "markdown",
   "metadata": {},
   "source": [
    "# Exercício 4a)"
   ]
  },
  {
   "cell_type": "markdown",
   "metadata": {},
   "source": [
    "# Exercício 4b)"
   ]
  },
  {
   "cell_type": "markdown",
   "metadata": {},
   "source": []
  }
 ],
 "metadata": {
  "kernelspec": {
   "display_name": "Julia 1.4.1",
   "language": "julia",
   "name": "julia-1.4"
  },
  "language_info": {
   "file_extension": ".jl",
   "mimetype": "application/julia",
   "name": "julia",
   "version": "1.4.1"
  }
 },
 "nbformat": 4,
 "nbformat_minor": 4
}
