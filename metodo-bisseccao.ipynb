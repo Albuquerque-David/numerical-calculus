{
 "cells": [
  {
   "cell_type": "code",
   "execution_count": null,
   "metadata": {},
   "outputs": [],
   "source": [
    "function bissecao(f,a,b,tamanho_final_do_intervalo) \n",
    "#especificação: dado a e b tal que f(a) e f(b) tem sinais opostos (obrigação do usuário)\n",
    "#retorna x_final tal que |x_final - x_c| <= tamanho_final_do_intervalo/2 com f(x_c)=0 (nossa promessa)\n",
    "    \n",
    "    if é_raiz(f,a)\n",
    "        return a\n",
    "    end\n",
    "    if é_raiz(f,b)\n",
    "        return b\n",
    "    end\n",
    "    if !(tem_sinais_opostos(f,a,b))\n",
    "        return \"Não tem sinais opostos\"\n",
    "    end\n",
    "    \n",
    "    iterações = floor(log2((b-a)/tamanho_final_do_intervalo))+1\n",
    "    \n",
    "    for i=1:iterações\n",
    "        m=média(a,b)\n",
    "        if é_raiz(f,m)\n",
    "            return m\n",
    "        end\n",
    "        \n",
    "        if tem_sinais_opostos(f,a,m)\n",
    "            b=m\n",
    "        else\n",
    "            a=m\n",
    "        end\n",
    "    end\n",
    "    \n",
    "    x_final=média(a,b)\n",
    "    return x_final\n",
    "end"
   ]
  },
  {
   "cell_type": "code",
   "execution_count": null,
   "metadata": {},
   "outputs": [],
   "source": [
    "function média(x,y)\n",
    "    return (x+y)/2\n",
    "end"
   ]
  },
  {
   "cell_type": "code",
   "execution_count": null,
   "metadata": {},
   "outputs": [],
   "source": [
    "function tem_sinais_opostos(f,a,b) #função recebe f(a) e f(b) não nulos\n",
    "    return f(a)*f(b) < 0\n",
    "end"
   ]
  },
  {
   "cell_type": "code",
   "execution_count": null,
   "metadata": {},
   "outputs": [],
   "source": [
    "function é_raiz(f,a)\n",
    "    return f(a)==0\n",
    "end"
   ]
  },
  {
   "cell_type": "code",
   "execution_count": null,
   "metadata": {},
   "outputs": [],
   "source": [
    "isapprox(3.0,3.0002, atol=0.1)"
   ]
  }
 ],
 "metadata": {
  "kernelspec": {
   "display_name": "Julia 1.6.4",
   "language": "julia",
   "name": "julia-1.6"
  },
  "language_info": {
   "file_extension": ".jl",
   "mimetype": "application/julia",
   "name": "julia",
   "version": "1.6.4"
  }
 },
 "nbformat": 4,
 "nbformat_minor": 4
}
