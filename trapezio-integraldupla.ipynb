{
 "cells": [
  {
   "cell_type": "code",
   "execution_count": null,
   "metadata": {},
   "outputs": [],
   "source": [
    "function trapezio(f,a,b,n) #calcular a integral f(x) de a até b\n",
    "    h=(b-a)/n\n",
    "    S=0.0\n",
    "    for i=1:(n-1)  #calcula o \"meio\"\n",
    "        x=a+i*h\n",
    "        S+=2*f(x)\n",
    "    end\n",
    "    S=h/2*(S+f(a)+f(b)) #calcula \"as pontas\"\n",
    "    return S\n",
    "end"
   ]
  },
  {
   "cell_type": "code",
   "execution_count": null,
   "metadata": {},
   "outputs": [],
   "source": [
    "#calcular a integral f(x) de a até b com erro menor que tol\n",
    "# f''(x) <= M para todo a<=x<=b \n",
    "function trapezio2(f, a, b, tol, M) \n",
    "    n=ceil(sqrt(((b-a)^3*M)/(12*tol)))\n",
    "    h=(b-a)/n\n",
    "    S=0.0\n",
    "    for i=1:(n-1)  #calcula o \"meio\"\n",
    "        x=a+i*h\n",
    "        S+=2*f(x)\n",
    "    end\n",
    "    S=h/2*(S+f(a)+f(b)) #calcula \"as pontas\"\n",
    "    return S\n",
    "end"
   ]
  },
  {
   "cell_type": "code",
   "execution_count": null,
   "metadata": {},
   "outputs": [],
   "source": [
    "function Integral_Dupla(h,a,b,c,d) #integral dupla de h(x,y) de a até b no x e de c até d no y\n",
    "    function g(y)\n",
    "        f(x)=h(x,y)\n",
    "        return Integral(f,a,b)\n",
    "    end\n",
    "    return Integral(g,c,d)\n",
    "end"
   ]
  }
 ],
 "metadata": {
  "kernelspec": {
   "display_name": "Julia 1.6.4",
   "language": "julia",
   "name": "julia-1.6"
  },
  "language_info": {
   "file_extension": ".jl",
   "mimetype": "application/julia",
   "name": "julia",
   "version": "1.6.4"
  }
 },
 "nbformat": 4,
 "nbformat_minor": 4
}
