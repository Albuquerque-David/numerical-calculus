{
 "cells": [
  {
   "cell_type": "markdown",
   "metadata": {},
   "source": [
    "# Cálculo Numérico - 2021.2 - Tarefa 5 - Professor João Paixão\n",
    "## Realizado por: David Rodrigues Albuquerque - 120047390\n",
    "## Questões discutidas com: Beatriz Almeida Ramos, Carlos Bravo, Matheus Barroso"
   ]
  },
  {
   "cell_type": "markdown",
   "metadata": {},
   "source": [
    "# Exercício 1\n",
    "\n",
    "Para este exercício, devemos determinar uma curva na forma $T = c_{0}x^{c_{1}}$ o qual melhor se ajusta nos dados fornecidos utilizando o método de mínimos quadrados com coeficientes não-lineares. Em seguida, devemos utilizar o modelo estipulado para calcular T(0.3) com 3 casas decimais.\n",
    "\n",
    "No primeiro passo, podemos importar de nossa biblioteca as funções vandermonde e regressão para calcular o sistema correspendente utilizando mínimos quadrados com coeficientes não-lineares. Para isto, utilizaremos as entradas $x$ e $y$ na forma $\\overline{x} = ln(x)$ e $\\overline{y} = ln(y)$ para fazer a transformada do caso não-linear para linear."
   ]
  },
  {
   "cell_type": "code",
   "execution_count": 2,
   "metadata": {},
   "outputs": [],
   "source": [
    "using Plots\n",
    "using LinearAlgebra"
   ]
  },
  {
   "cell_type": "code",
   "execution_count": 3,
   "metadata": {},
   "outputs": [
    {
     "data": {
      "text/plain": [
       "vandermonde (generic function with 1 method)"
      ]
     },
     "execution_count": 3,
     "metadata": {},
     "output_type": "execute_result"
    }
   ],
   "source": [
    "function vandermonde(x,y,grau)\n",
    "    n,=size(y)\n",
    "    V=zeros(n,grau+1)\n",
    "    for i=1:n #linhas\n",
    "        for j=1:(grau+1)\n",
    "            V[i,j]=x[i]^(j-1)\n",
    "        end\n",
    "    end\n",
    "    return V\n",
    "end"
   ]
  },
  {
   "cell_type": "code",
   "execution_count": 8,
   "metadata": {},
   "outputs": [
    {
     "data": {
      "text/plain": [
       "regressao (generic function with 1 method)"
      ]
     },
     "execution_count": 8,
     "metadata": {},
     "output_type": "execute_result"
    }
   ],
   "source": [
    "function regressao(x,y,grau)\n",
    "    V=vandermonde(x,y,grau)\n",
    "    c=V\\y #mínimos quadrados\n",
    "    return c, grau\n",
    "end"
   ]
  },
  {
   "cell_type": "code",
   "execution_count": 5,
   "metadata": {},
   "outputs": [
    {
     "data": {
      "text/plain": [
       "erro_total (generic function with 1 method)"
      ]
     },
     "execution_count": 5,
     "metadata": {},
     "output_type": "execute_result"
    }
   ],
   "source": [
    "function erro_total(x,y,modelo)\n",
    "    n,=size(y)\n",
    "    S=0\n",
    "    for i=1:n\n",
    "        S=S+(y[i]-modelo(x[i]))^2\n",
    "    end\n",
    "    return sqrt(S)  \n",
    "end"
   ]
  },
  {
   "cell_type": "code",
   "execution_count": 99,
   "metadata": {},
   "outputs": [
    {
     "data": {
      "text/plain": [
       "aproxima_funcao (generic function with 1 method)"
      ]
     },
     "execution_count": 99,
     "metadata": {},
     "output_type": "execute_result"
    }
   ],
   "source": [
    "function aproxima_funcao(x,y)\n",
    "    x_barra = log.(x) # ln(x)\n",
    "    y_barra = log.(y) # ln(y)\n",
    "    coefs = regressao(x_barra,y_barra,1)\n",
    "    return coefs\n",
    "end"
   ]
  },
  {
   "cell_type": "markdown",
   "metadata": {},
   "source": [
    "Com isto, podemos utilizar a função aproxima função para determinar os coeficientes da aproximação da função que desejamos, atentando-se ao fato de retorná-los de volta ao não-linear utilizando a inversa da função logaritmo natural."
   ]
  },
  {
   "cell_type": "code",
   "execution_count": 100,
   "metadata": {},
   "outputs": [
    {
     "data": {
      "image/svg+xml": [
       "<?xml version=\"1.0\" encoding=\"utf-8\"?>\n",
       "<svg xmlns=\"http://www.w3.org/2000/svg\" xmlns:xlink=\"http://www.w3.org/1999/xlink\" width=\"600\" height=\"400\" viewBox=\"0 0 2400 1600\">\n",
       "<defs>\n",
       "  <clipPath id=\"clip290\">\n",
       "    <rect x=\"0\" y=\"0\" width=\"2400\" height=\"1600\"/>\n",
       "  </clipPath>\n",
       "</defs>\n",
       "<path clip-path=\"url(#clip290)\" d=\"\n",
       "M0 1600 L2400 1600 L2400 0 L0 0  Z\n",
       "  \" fill=\"#ffffff\" fill-rule=\"evenodd\" fill-opacity=\"1\"/>\n",
       "<defs>\n",
       "  <clipPath id=\"clip291\">\n",
       "    <rect x=\"480\" y=\"0\" width=\"1681\" height=\"1600\"/>\n",
       "  </clipPath>\n",
       "</defs>\n",
       "<path clip-path=\"url(#clip290)\" d=\"\n",
       "M170.857 1486.45 L2352.76 1486.45 L2352.76 47.2441 L170.857 47.2441  Z\n",
       "  \" fill=\"#ffffff\" fill-rule=\"evenodd\" fill-opacity=\"1\"/>\n",
       "<defs>\n",
       "  <clipPath id=\"clip292\">\n",
       "    <rect x=\"170\" y=\"47\" width=\"2183\" height=\"1440\"/>\n",
       "  </clipPath>\n",
       "</defs>\n",
       "<polyline clip-path=\"url(#clip292)\" style=\"stroke:#000000; stroke-linecap:butt; stroke-linejoin:round; stroke-width:2; stroke-opacity:0.1; fill:none\" points=\"\n",
       "  232.609,1486.45 232.609,47.2441 \n",
       "  \"/>\n",
       "<polyline clip-path=\"url(#clip292)\" style=\"stroke:#000000; stroke-linecap:butt; stroke-linejoin:round; stroke-width:2; stroke-opacity:0.1; fill:none\" points=\"\n",
       "  747.208,1486.45 747.208,47.2441 \n",
       "  \"/>\n",
       "<polyline clip-path=\"url(#clip292)\" style=\"stroke:#000000; stroke-linecap:butt; stroke-linejoin:round; stroke-width:2; stroke-opacity:0.1; fill:none\" points=\"\n",
       "  1261.81,1486.45 1261.81,47.2441 \n",
       "  \"/>\n",
       "<polyline clip-path=\"url(#clip292)\" style=\"stroke:#000000; stroke-linecap:butt; stroke-linejoin:round; stroke-width:2; stroke-opacity:0.1; fill:none\" points=\"\n",
       "  1776.41,1486.45 1776.41,47.2441 \n",
       "  \"/>\n",
       "<polyline clip-path=\"url(#clip292)\" style=\"stroke:#000000; stroke-linecap:butt; stroke-linejoin:round; stroke-width:2; stroke-opacity:0.1; fill:none\" points=\"\n",
       "  2291,1486.45 2291,47.2441 \n",
       "  \"/>\n",
       "<polyline clip-path=\"url(#clip290)\" style=\"stroke:#000000; stroke-linecap:butt; stroke-linejoin:round; stroke-width:4; stroke-opacity:1; fill:none\" points=\"\n",
       "  170.857,1486.45 2352.76,1486.45 \n",
       "  \"/>\n",
       "<polyline clip-path=\"url(#clip290)\" style=\"stroke:#000000; stroke-linecap:butt; stroke-linejoin:round; stroke-width:4; stroke-opacity:1; fill:none\" points=\"\n",
       "  232.609,1486.45 232.609,1467.55 \n",
       "  \"/>\n",
       "<polyline clip-path=\"url(#clip290)\" style=\"stroke:#000000; stroke-linecap:butt; stroke-linejoin:round; stroke-width:4; stroke-opacity:1; fill:none\" points=\"\n",
       "  747.208,1486.45 747.208,1467.55 \n",
       "  \"/>\n",
       "<polyline clip-path=\"url(#clip290)\" style=\"stroke:#000000; stroke-linecap:butt; stroke-linejoin:round; stroke-width:4; stroke-opacity:1; fill:none\" points=\"\n",
       "  1261.81,1486.45 1261.81,1467.55 \n",
       "  \"/>\n",
       "<polyline clip-path=\"url(#clip290)\" style=\"stroke:#000000; stroke-linecap:butt; stroke-linejoin:round; stroke-width:4; stroke-opacity:1; fill:none\" points=\"\n",
       "  1776.41,1486.45 1776.41,1467.55 \n",
       "  \"/>\n",
       "<polyline clip-path=\"url(#clip290)\" style=\"stroke:#000000; stroke-linecap:butt; stroke-linejoin:round; stroke-width:4; stroke-opacity:1; fill:none\" points=\"\n",
       "  2291,1486.45 2291,1467.55 \n",
       "  \"/>\n",
       "<path clip-path=\"url(#clip290)\" d=\"M194.913 1517.37 Q191.302 1517.37 189.473 1520.93 Q187.667 1524.47 187.667 1531.6 Q187.667 1538.71 189.473 1542.27 Q191.302 1545.82 194.913 1545.82 Q198.547 1545.82 200.352 1542.27 Q202.181 1538.71 202.181 1531.6 Q202.181 1524.47 200.352 1520.93 Q198.547 1517.37 194.913 1517.37 M194.913 1513.66 Q200.723 1513.66 203.778 1518.27 Q206.857 1522.85 206.857 1531.6 Q206.857 1540.33 203.778 1544.94 Q200.723 1549.52 194.913 1549.52 Q189.103 1549.52 186.024 1544.94 Q182.968 1540.33 182.968 1531.6 Q182.968 1522.85 186.024 1518.27 Q189.103 1513.66 194.913 1513.66 Z\" fill=\"#000000\" fill-rule=\"evenodd\" fill-opacity=\"1\" /><path clip-path=\"url(#clip290)\" d=\"M215.075 1542.97 L219.959 1542.97 L219.959 1548.85 L215.075 1548.85 L215.075 1542.97 Z\" fill=\"#000000\" fill-rule=\"evenodd\" fill-opacity=\"1\" /><path clip-path=\"url(#clip290)\" d=\"M240.144 1517.37 Q236.533 1517.37 234.704 1520.93 Q232.899 1524.47 232.899 1531.6 Q232.899 1538.71 234.704 1542.27 Q236.533 1545.82 240.144 1545.82 Q243.778 1545.82 245.584 1542.27 Q247.412 1538.71 247.412 1531.6 Q247.412 1524.47 245.584 1520.93 Q243.778 1517.37 240.144 1517.37 M240.144 1513.66 Q245.954 1513.66 249.01 1518.27 Q252.088 1522.85 252.088 1531.6 Q252.088 1540.33 249.01 1544.94 Q245.954 1549.52 240.144 1549.52 Q234.334 1549.52 231.255 1544.94 Q228.2 1540.33 228.2 1531.6 Q228.2 1522.85 231.255 1518.27 Q234.334 1513.66 240.144 1513.66 Z\" fill=\"#000000\" fill-rule=\"evenodd\" fill-opacity=\"1\" /><path clip-path=\"url(#clip290)\" d=\"M270.306 1517.37 Q266.695 1517.37 264.866 1520.93 Q263.06 1524.47 263.06 1531.6 Q263.06 1538.71 264.866 1542.27 Q266.695 1545.82 270.306 1545.82 Q273.94 1545.82 275.746 1542.27 Q277.574 1538.71 277.574 1531.6 Q277.574 1524.47 275.746 1520.93 Q273.94 1517.37 270.306 1517.37 M270.306 1513.66 Q276.116 1513.66 279.172 1518.27 Q282.25 1522.85 282.25 1531.6 Q282.25 1540.33 279.172 1544.94 Q276.116 1549.52 270.306 1549.52 Q264.496 1549.52 261.417 1544.94 Q258.361 1540.33 258.361 1531.6 Q258.361 1522.85 261.417 1518.27 Q264.496 1513.66 270.306 1513.66 Z\" fill=\"#000000\" fill-rule=\"evenodd\" fill-opacity=\"1\" /><path clip-path=\"url(#clip290)\" d=\"M710.009 1517.37 Q706.398 1517.37 704.569 1520.93 Q702.764 1524.47 702.764 1531.6 Q702.764 1538.71 704.569 1542.27 Q706.398 1545.82 710.009 1545.82 Q713.643 1545.82 715.449 1542.27 Q717.278 1538.71 717.278 1531.6 Q717.278 1524.47 715.449 1520.93 Q713.643 1517.37 710.009 1517.37 M710.009 1513.66 Q715.819 1513.66 718.875 1518.27 Q721.953 1522.85 721.953 1531.6 Q721.953 1540.33 718.875 1544.94 Q715.819 1549.52 710.009 1549.52 Q704.199 1549.52 701.12 1544.94 Q698.065 1540.33 698.065 1531.6 Q698.065 1522.85 701.12 1518.27 Q704.199 1513.66 710.009 1513.66 Z\" fill=\"#000000\" fill-rule=\"evenodd\" fill-opacity=\"1\" /><path clip-path=\"url(#clip290)\" d=\"M730.171 1542.97 L735.055 1542.97 L735.055 1548.85 L730.171 1548.85 L730.171 1542.97 Z\" fill=\"#000000\" fill-rule=\"evenodd\" fill-opacity=\"1\" /><path clip-path=\"url(#clip290)\" d=\"M749.268 1544.91 L765.587 1544.91 L765.587 1548.85 L743.643 1548.85 L743.643 1544.91 Q746.305 1542.16 750.888 1537.53 Q755.495 1532.88 756.676 1531.53 Q758.921 1529.01 759.8 1527.27 Q760.703 1525.51 760.703 1523.82 Q760.703 1521.07 758.759 1519.33 Q756.838 1517.6 753.736 1517.6 Q751.537 1517.6 749.083 1518.36 Q746.652 1519.13 743.875 1520.68 L743.875 1515.95 Q746.699 1514.82 749.152 1514.24 Q751.606 1513.66 753.643 1513.66 Q759.013 1513.66 762.208 1516.35 Q765.402 1519.03 765.402 1523.52 Q765.402 1525.65 764.592 1527.57 Q763.805 1529.47 761.699 1532.07 Q761.12 1532.74 758.018 1535.95 Q754.916 1539.15 749.268 1544.91 Z\" fill=\"#000000\" fill-rule=\"evenodd\" fill-opacity=\"1\" /><path clip-path=\"url(#clip290)\" d=\"M775.449 1514.29 L793.805 1514.29 L793.805 1518.22 L779.731 1518.22 L779.731 1526.7 Q780.749 1526.35 781.768 1526.19 Q782.786 1526 783.805 1526 Q789.592 1526 792.972 1529.17 Q796.351 1532.34 796.351 1537.76 Q796.351 1543.34 792.879 1546.44 Q789.407 1549.52 783.087 1549.52 Q780.911 1549.52 778.643 1549.15 Q776.398 1548.78 773.99 1548.04 L773.99 1543.34 Q776.074 1544.47 778.296 1545.03 Q780.518 1545.58 782.995 1545.58 Q786.999 1545.58 789.337 1543.48 Q791.675 1541.37 791.675 1537.76 Q791.675 1534.15 789.337 1532.04 Q786.999 1529.94 782.995 1529.94 Q781.12 1529.94 779.245 1530.35 Q777.393 1530.77 775.449 1531.65 L775.449 1514.29 Z\" fill=\"#000000\" fill-rule=\"evenodd\" fill-opacity=\"1\" /><path clip-path=\"url(#clip290)\" d=\"M1224.11 1517.37 Q1220.5 1517.37 1218.67 1520.93 Q1216.86 1524.47 1216.86 1531.6 Q1216.86 1538.71 1218.67 1542.27 Q1220.5 1545.82 1224.11 1545.82 Q1227.74 1545.82 1229.55 1542.27 Q1231.38 1538.71 1231.38 1531.6 Q1231.38 1524.47 1229.55 1520.93 Q1227.74 1517.37 1224.11 1517.37 M1224.11 1513.66 Q1229.92 1513.66 1232.98 1518.27 Q1236.05 1522.85 1236.05 1531.6 Q1236.05 1540.33 1232.98 1544.94 Q1229.92 1549.52 1224.11 1549.52 Q1218.3 1549.52 1215.22 1544.94 Q1212.17 1540.33 1212.17 1531.6 Q1212.17 1522.85 1215.22 1518.27 Q1218.3 1513.66 1224.11 1513.66 Z\" fill=\"#000000\" fill-rule=\"evenodd\" fill-opacity=\"1\" /><path clip-path=\"url(#clip290)\" d=\"M1244.27 1542.97 L1249.16 1542.97 L1249.16 1548.85 L1244.27 1548.85 L1244.27 1542.97 Z\" fill=\"#000000\" fill-rule=\"evenodd\" fill-opacity=\"1\" /><path clip-path=\"url(#clip290)\" d=\"M1259.39 1514.29 L1277.74 1514.29 L1277.74 1518.22 L1263.67 1518.22 L1263.67 1526.7 Q1264.69 1526.35 1265.71 1526.19 Q1266.73 1526 1267.74 1526 Q1273.53 1526 1276.91 1529.17 Q1280.29 1532.34 1280.29 1537.76 Q1280.29 1543.34 1276.82 1546.44 Q1273.35 1549.52 1267.03 1549.52 Q1264.85 1549.52 1262.58 1549.15 Q1260.34 1548.78 1257.93 1548.04 L1257.93 1543.34 Q1260.01 1544.47 1262.23 1545.03 Q1264.46 1545.58 1266.93 1545.58 Q1270.94 1545.58 1273.28 1543.48 Q1275.61 1541.37 1275.61 1537.76 Q1275.61 1534.15 1273.28 1532.04 Q1270.94 1529.94 1266.93 1529.94 Q1265.06 1529.94 1263.18 1530.35 Q1261.33 1530.77 1259.39 1531.65 L1259.39 1514.29 Z\" fill=\"#000000\" fill-rule=\"evenodd\" fill-opacity=\"1\" /><path clip-path=\"url(#clip290)\" d=\"M1299.5 1517.37 Q1295.89 1517.37 1294.06 1520.93 Q1292.26 1524.47 1292.26 1531.6 Q1292.26 1538.71 1294.06 1542.27 Q1295.89 1545.82 1299.5 1545.82 Q1303.14 1545.82 1304.94 1542.27 Q1306.77 1538.71 1306.77 1531.6 Q1306.77 1524.47 1304.94 1520.93 Q1303.14 1517.37 1299.5 1517.37 M1299.5 1513.66 Q1305.31 1513.66 1308.37 1518.27 Q1311.45 1522.85 1311.45 1531.6 Q1311.45 1540.33 1308.37 1544.94 Q1305.31 1549.52 1299.5 1549.52 Q1293.69 1549.52 1290.61 1544.94 Q1287.56 1540.33 1287.56 1531.6 Q1287.56 1522.85 1290.61 1518.27 Q1293.69 1513.66 1299.5 1513.66 Z\" fill=\"#000000\" fill-rule=\"evenodd\" fill-opacity=\"1\" /><path clip-path=\"url(#clip290)\" d=\"M1739.21 1517.37 Q1735.6 1517.37 1733.77 1520.93 Q1731.96 1524.47 1731.96 1531.6 Q1731.96 1538.71 1733.77 1542.27 Q1735.6 1545.82 1739.21 1545.82 Q1742.84 1545.82 1744.65 1542.27 Q1746.47 1538.71 1746.47 1531.6 Q1746.47 1524.47 1744.65 1520.93 Q1742.84 1517.37 1739.21 1517.37 M1739.21 1513.66 Q1745.02 1513.66 1748.07 1518.27 Q1751.15 1522.85 1751.15 1531.6 Q1751.15 1540.33 1748.07 1544.94 Q1745.02 1549.52 1739.21 1549.52 Q1733.4 1549.52 1730.32 1544.94 Q1727.26 1540.33 1727.26 1531.6 Q1727.26 1522.85 1730.32 1518.27 Q1733.4 1513.66 1739.21 1513.66 Z\" fill=\"#000000\" fill-rule=\"evenodd\" fill-opacity=\"1\" /><path clip-path=\"url(#clip290)\" d=\"M1759.37 1542.97 L1764.25 1542.97 L1764.25 1548.85 L1759.37 1548.85 L1759.37 1542.97 Z\" fill=\"#000000\" fill-rule=\"evenodd\" fill-opacity=\"1\" /><path clip-path=\"url(#clip290)\" d=\"M1773.26 1514.29 L1795.48 1514.29 L1795.48 1516.28 L1782.93 1548.85 L1778.05 1548.85 L1789.85 1518.22 L1773.26 1518.22 L1773.26 1514.29 Z\" fill=\"#000000\" fill-rule=\"evenodd\" fill-opacity=\"1\" /><path clip-path=\"url(#clip290)\" d=\"M1804.65 1514.29 L1823 1514.29 L1823 1518.22 L1808.93 1518.22 L1808.93 1526.7 Q1809.95 1526.35 1810.97 1526.19 Q1811.98 1526 1813 1526 Q1818.79 1526 1822.17 1529.17 Q1825.55 1532.34 1825.55 1537.76 Q1825.55 1543.34 1822.08 1546.44 Q1818.6 1549.52 1812.28 1549.52 Q1810.11 1549.52 1807.84 1549.15 Q1805.6 1548.78 1803.19 1548.04 L1803.19 1543.34 Q1805.27 1544.47 1807.49 1545.03 Q1809.72 1545.58 1812.19 1545.58 Q1816.2 1545.58 1818.53 1543.48 Q1820.87 1541.37 1820.87 1537.76 Q1820.87 1534.15 1818.53 1532.04 Q1816.2 1529.94 1812.19 1529.94 Q1810.32 1529.94 1808.44 1530.35 Q1806.59 1530.77 1804.65 1531.65 L1804.65 1514.29 Z\" fill=\"#000000\" fill-rule=\"evenodd\" fill-opacity=\"1\" /><path clip-path=\"url(#clip290)\" d=\"M2243.08 1544.91 L2250.71 1544.91 L2250.71 1518.55 L2242.4 1520.21 L2242.4 1515.95 L2250.67 1514.29 L2255.34 1514.29 L2255.34 1544.91 L2262.98 1544.91 L2262.98 1548.85 L2243.08 1548.85 L2243.08 1544.91 Z\" fill=\"#000000\" fill-rule=\"evenodd\" fill-opacity=\"1\" /><path clip-path=\"url(#clip290)\" d=\"M2272.43 1542.97 L2277.31 1542.97 L2277.31 1548.85 L2272.43 1548.85 L2272.43 1542.97 Z\" fill=\"#000000\" fill-rule=\"evenodd\" fill-opacity=\"1\" /><path clip-path=\"url(#clip290)\" d=\"M2297.5 1517.37 Q2293.89 1517.37 2292.06 1520.93 Q2290.25 1524.47 2290.25 1531.6 Q2290.25 1538.71 2292.06 1542.27 Q2293.89 1545.82 2297.5 1545.82 Q2301.13 1545.82 2302.94 1542.27 Q2304.77 1538.71 2304.77 1531.6 Q2304.77 1524.47 2302.94 1520.93 Q2301.13 1517.37 2297.5 1517.37 M2297.5 1513.66 Q2303.31 1513.66 2306.36 1518.27 Q2309.44 1522.85 2309.44 1531.6 Q2309.44 1540.33 2306.36 1544.94 Q2303.31 1549.52 2297.5 1549.52 Q2291.69 1549.52 2288.61 1544.94 Q2285.55 1540.33 2285.55 1531.6 Q2285.55 1522.85 2288.61 1518.27 Q2291.69 1513.66 2297.5 1513.66 Z\" fill=\"#000000\" fill-rule=\"evenodd\" fill-opacity=\"1\" /><path clip-path=\"url(#clip290)\" d=\"M2327.66 1517.37 Q2324.05 1517.37 2322.22 1520.93 Q2320.41 1524.47 2320.41 1531.6 Q2320.41 1538.71 2322.22 1542.27 Q2324.05 1545.82 2327.66 1545.82 Q2331.29 1545.82 2333.1 1542.27 Q2334.93 1538.71 2334.93 1531.6 Q2334.93 1524.47 2333.1 1520.93 Q2331.29 1517.37 2327.66 1517.37 M2327.66 1513.66 Q2333.47 1513.66 2336.52 1518.27 Q2339.6 1522.85 2339.6 1531.6 Q2339.6 1540.33 2336.52 1544.94 Q2333.47 1549.52 2327.66 1549.52 Q2321.85 1549.52 2318.77 1544.94 Q2315.71 1540.33 2315.71 1531.6 Q2315.71 1522.85 2318.77 1518.27 Q2321.85 1513.66 2327.66 1513.66 Z\" fill=\"#000000\" fill-rule=\"evenodd\" fill-opacity=\"1\" /><polyline clip-path=\"url(#clip292)\" style=\"stroke:#000000; stroke-linecap:butt; stroke-linejoin:round; stroke-width:2; stroke-opacity:0.1; fill:none\" points=\"\n",
       "  170.857,1445.72 2352.76,1445.72 \n",
       "  \"/>\n",
       "<polyline clip-path=\"url(#clip292)\" style=\"stroke:#000000; stroke-linecap:butt; stroke-linejoin:round; stroke-width:2; stroke-opacity:0.1; fill:none\" points=\"\n",
       "  170.857,1021.42 2352.76,1021.42 \n",
       "  \"/>\n",
       "<polyline clip-path=\"url(#clip292)\" style=\"stroke:#000000; stroke-linecap:butt; stroke-linejoin:round; stroke-width:2; stroke-opacity:0.1; fill:none\" points=\"\n",
       "  170.857,597.129 2352.76,597.129 \n",
       "  \"/>\n",
       "<polyline clip-path=\"url(#clip292)\" style=\"stroke:#000000; stroke-linecap:butt; stroke-linejoin:round; stroke-width:2; stroke-opacity:0.1; fill:none\" points=\"\n",
       "  170.857,172.835 2352.76,172.835 \n",
       "  \"/>\n",
       "<polyline clip-path=\"url(#clip290)\" style=\"stroke:#000000; stroke-linecap:butt; stroke-linejoin:round; stroke-width:4; stroke-opacity:1; fill:none\" points=\"\n",
       "  170.857,1486.45 170.857,47.2441 \n",
       "  \"/>\n",
       "<polyline clip-path=\"url(#clip290)\" style=\"stroke:#000000; stroke-linecap:butt; stroke-linejoin:round; stroke-width:4; stroke-opacity:1; fill:none\" points=\"\n",
       "  170.857,1445.72 189.755,1445.72 \n",
       "  \"/>\n",
       "<polyline clip-path=\"url(#clip290)\" style=\"stroke:#000000; stroke-linecap:butt; stroke-linejoin:round; stroke-width:4; stroke-opacity:1; fill:none\" points=\"\n",
       "  170.857,1021.42 189.755,1021.42 \n",
       "  \"/>\n",
       "<polyline clip-path=\"url(#clip290)\" style=\"stroke:#000000; stroke-linecap:butt; stroke-linejoin:round; stroke-width:4; stroke-opacity:1; fill:none\" points=\"\n",
       "  170.857,597.129 189.755,597.129 \n",
       "  \"/>\n",
       "<polyline clip-path=\"url(#clip290)\" style=\"stroke:#000000; stroke-linecap:butt; stroke-linejoin:round; stroke-width:4; stroke-opacity:1; fill:none\" points=\"\n",
       "  170.857,172.835 189.755,172.835 \n",
       "  \"/>\n",
       "<path clip-path=\"url(#clip290)\" d=\"M122.913 1431.51 Q119.302 1431.51 117.473 1435.08 Q115.668 1438.62 115.668 1445.75 Q115.668 1452.86 117.473 1456.42 Q119.302 1459.96 122.913 1459.96 Q126.547 1459.96 128.353 1456.42 Q130.182 1452.86 130.182 1445.75 Q130.182 1438.62 128.353 1435.08 Q126.547 1431.51 122.913 1431.51 M122.913 1427.81 Q128.723 1427.81 131.779 1432.42 Q134.857 1437 134.857 1445.75 Q134.857 1454.48 131.779 1459.08 Q128.723 1463.67 122.913 1463.67 Q117.103 1463.67 114.024 1459.08 Q110.969 1454.48 110.969 1445.75 Q110.969 1437 114.024 1432.42 Q117.103 1427.81 122.913 1427.81 Z\" fill=\"#000000\" fill-rule=\"evenodd\" fill-opacity=\"1\" /><path clip-path=\"url(#clip290)\" d=\"M53.3995 1034.77 L61.0384 1034.77 L61.0384 1008.4 L52.7282 1010.07 L52.7282 1005.81 L60.9921 1004.14 L65.668 1004.14 L65.668 1034.77 L73.3068 1034.77 L73.3068 1038.7 L53.3995 1038.7 L53.3995 1034.77 Z\" fill=\"#000000\" fill-rule=\"evenodd\" fill-opacity=\"1\" /><path clip-path=\"url(#clip290)\" d=\"M92.7512 1007.22 Q89.1401 1007.22 87.3114 1010.79 Q85.5058 1014.33 85.5058 1021.46 Q85.5058 1028.56 87.3114 1032.13 Q89.1401 1035.67 92.7512 1035.67 Q96.3854 1035.67 98.1909 1032.13 Q100.02 1028.56 100.02 1021.46 Q100.02 1014.33 98.1909 1010.79 Q96.3854 1007.22 92.7512 1007.22 M92.7512 1003.52 Q98.5613 1003.52 101.617 1008.12 Q104.696 1012.71 104.696 1021.46 Q104.696 1030.18 101.617 1034.79 Q98.5613 1039.37 92.7512 1039.37 Q86.941 1039.37 83.8623 1034.79 Q80.8068 1030.18 80.8068 1021.46 Q80.8068 1012.71 83.8623 1008.12 Q86.941 1003.52 92.7512 1003.52 Z\" fill=\"#000000\" fill-rule=\"evenodd\" fill-opacity=\"1\" /><path clip-path=\"url(#clip290)\" d=\"M122.913 1007.22 Q119.302 1007.22 117.473 1010.79 Q115.668 1014.33 115.668 1021.46 Q115.668 1028.56 117.473 1032.13 Q119.302 1035.67 122.913 1035.67 Q126.547 1035.67 128.353 1032.13 Q130.182 1028.56 130.182 1021.46 Q130.182 1014.33 128.353 1010.79 Q126.547 1007.22 122.913 1007.22 M122.913 1003.52 Q128.723 1003.52 131.779 1008.12 Q134.857 1012.71 134.857 1021.46 Q134.857 1030.18 131.779 1034.79 Q128.723 1039.37 122.913 1039.37 Q117.103 1039.37 114.024 1034.79 Q110.969 1030.18 110.969 1021.46 Q110.969 1012.71 114.024 1008.12 Q117.103 1003.52 122.913 1003.52 Z\" fill=\"#000000\" fill-rule=\"evenodd\" fill-opacity=\"1\" /><path clip-path=\"url(#clip290)\" d=\"M56.6171 610.473 L72.9365 610.473 L72.9365 614.409 L50.9921 614.409 L50.9921 610.473 Q53.6541 607.719 58.2375 603.089 Q62.8439 598.436 64.0245 597.094 Q66.2698 594.571 67.1494 592.835 Q68.0522 591.075 68.0522 589.386 Q68.0522 586.631 66.1078 584.895 Q64.1865 583.159 61.0847 583.159 Q58.8856 583.159 56.4319 583.923 Q54.0014 584.686 51.2236 586.237 L51.2236 581.515 Q54.0477 580.381 56.5014 579.802 Q58.955 579.224 60.9921 579.224 Q66.3624 579.224 69.5568 581.909 Q72.7513 584.594 72.7513 589.085 Q72.7513 591.214 71.9411 593.136 Q71.1541 595.034 69.0476 597.626 Q68.4689 598.298 65.367 601.515 Q62.2652 604.71 56.6171 610.473 Z\" fill=\"#000000\" fill-rule=\"evenodd\" fill-opacity=\"1\" /><path clip-path=\"url(#clip290)\" d=\"M92.7512 582.927 Q89.1401 582.927 87.3114 586.492 Q85.5058 590.034 85.5058 597.163 Q85.5058 604.27 87.3114 607.835 Q89.1401 611.376 92.7512 611.376 Q96.3854 611.376 98.1909 607.835 Q100.02 604.27 100.02 597.163 Q100.02 590.034 98.1909 586.492 Q96.3854 582.927 92.7512 582.927 M92.7512 579.224 Q98.5613 579.224 101.617 583.83 Q104.696 588.413 104.696 597.163 Q104.696 605.89 101.617 610.497 Q98.5613 615.08 92.7512 615.08 Q86.941 615.08 83.8623 610.497 Q80.8068 605.89 80.8068 597.163 Q80.8068 588.413 83.8623 583.83 Q86.941 579.224 92.7512 579.224 Z\" fill=\"#000000\" fill-rule=\"evenodd\" fill-opacity=\"1\" /><path clip-path=\"url(#clip290)\" d=\"M122.913 582.927 Q119.302 582.927 117.473 586.492 Q115.668 590.034 115.668 597.163 Q115.668 604.27 117.473 607.835 Q119.302 611.376 122.913 611.376 Q126.547 611.376 128.353 607.835 Q130.182 604.27 130.182 597.163 Q130.182 590.034 128.353 586.492 Q126.547 582.927 122.913 582.927 M122.913 579.224 Q128.723 579.224 131.779 583.83 Q134.857 588.413 134.857 597.163 Q134.857 605.89 131.779 610.497 Q128.723 615.08 122.913 615.08 Q117.103 615.08 114.024 610.497 Q110.969 605.89 110.969 597.163 Q110.969 588.413 114.024 583.83 Q117.103 579.224 122.913 579.224 Z\" fill=\"#000000\" fill-rule=\"evenodd\" fill-opacity=\"1\" /><path clip-path=\"url(#clip290)\" d=\"M66.7559 171.481 Q70.1124 172.198 71.9874 174.467 Q73.8855 176.735 73.8855 180.069 Q73.8855 185.184 70.367 187.985 Q66.8485 190.786 60.3671 190.786 Q58.1912 190.786 55.8764 190.346 Q53.5847 189.93 51.131 189.073 L51.131 184.559 Q53.0754 185.694 55.3903 186.272 Q57.7051 186.851 60.2282 186.851 Q64.6263 186.851 66.918 185.115 Q69.2328 183.379 69.2328 180.069 Q69.2328 177.013 67.08 175.3 Q64.9504 173.564 61.131 173.564 L57.1032 173.564 L57.1032 169.722 L61.3161 169.722 Q64.7652 169.722 66.5939 168.356 Q68.4226 166.967 68.4226 164.374 Q68.4226 161.712 66.5245 160.3 Q64.6495 158.865 61.131 158.865 Q59.2097 158.865 57.0106 159.282 Q54.8115 159.698 52.1727 160.578 L52.1727 156.411 Q54.8347 155.671 57.1495 155.3 Q59.4875 154.93 61.5476 154.93 Q66.8717 154.93 69.9735 157.361 Q73.0753 159.768 73.0753 163.888 Q73.0753 166.759 71.4318 168.749 Q69.7883 170.717 66.7559 171.481 Z\" fill=\"#000000\" fill-rule=\"evenodd\" fill-opacity=\"1\" /><path clip-path=\"url(#clip290)\" d=\"M92.7512 158.634 Q89.1401 158.634 87.3114 162.198 Q85.5058 165.74 85.5058 172.87 Q85.5058 179.976 87.3114 183.541 Q89.1401 187.083 92.7512 187.083 Q96.3854 187.083 98.1909 183.541 Q100.02 179.976 100.02 172.87 Q100.02 165.74 98.1909 162.198 Q96.3854 158.634 92.7512 158.634 M92.7512 154.93 Q98.5613 154.93 101.617 159.536 Q104.696 164.12 104.696 172.87 Q104.696 181.597 101.617 186.203 Q98.5613 190.786 92.7512 190.786 Q86.941 190.786 83.8623 186.203 Q80.8068 181.597 80.8068 172.87 Q80.8068 164.12 83.8623 159.536 Q86.941 154.93 92.7512 154.93 Z\" fill=\"#000000\" fill-rule=\"evenodd\" fill-opacity=\"1\" /><path clip-path=\"url(#clip290)\" d=\"M122.913 158.634 Q119.302 158.634 117.473 162.198 Q115.668 165.74 115.668 172.87 Q115.668 179.976 117.473 183.541 Q119.302 187.083 122.913 187.083 Q126.547 187.083 128.353 183.541 Q130.182 179.976 130.182 172.87 Q130.182 165.74 128.353 162.198 Q126.547 158.634 122.913 158.634 M122.913 154.93 Q128.723 154.93 131.779 159.536 Q134.857 164.12 134.857 172.87 Q134.857 181.597 131.779 186.203 Q128.723 190.786 122.913 190.786 Q117.103 190.786 114.024 186.203 Q110.969 181.597 110.969 172.87 Q110.969 164.12 114.024 159.536 Q117.103 154.93 122.913 154.93 Z\" fill=\"#000000\" fill-rule=\"evenodd\" fill-opacity=\"1\" /><circle clip-path=\"url(#clip292)\" cx=\"438.449\" cy=\"1352.37\" r=\"10\" fill=\"#add8e6\" fill-rule=\"evenodd\" fill-opacity=\"1\" stroke=\"#000000\" stroke-opacity=\"1\" stroke-width=\"3.2\"/>\n",
       "<circle clip-path=\"url(#clip292)\" cx=\"644.288\" cy=\"1263.27\" r=\"10\" fill=\"#add8e6\" fill-rule=\"evenodd\" fill-opacity=\"1\" stroke=\"#000000\" stroke-opacity=\"1\" stroke-width=\"3.2\"/>\n",
       "<circle clip-path=\"url(#clip292)\" cx=\"1055.97\" cy=\"1089.31\" r=\"10\" fill=\"#add8e6\" fill-rule=\"evenodd\" fill-opacity=\"1\" stroke=\"#000000\" stroke-opacity=\"1\" stroke-width=\"3.2\"/>\n",
       "<circle clip-path=\"url(#clip292)\" cx=\"1879.33\" cy=\"554.699\" r=\"10\" fill=\"#add8e6\" fill-rule=\"evenodd\" fill-opacity=\"1\" stroke=\"#000000\" stroke-opacity=\"1\" stroke-width=\"3.2\"/>\n",
       "<circle clip-path=\"url(#clip292)\" cx=\"2085.16\" cy=\"87.9763\" r=\"10\" fill=\"#add8e6\" fill-rule=\"evenodd\" fill-opacity=\"1\" stroke=\"#000000\" stroke-opacity=\"1\" stroke-width=\"3.2\"/>\n",
       "<polyline clip-path=\"url(#clip292)\" style=\"stroke:#e26f46; stroke-linecap:butt; stroke-linejoin:round; stroke-width:4; stroke-opacity:1; fill:none\" points=\"\n",
       "  232.609,1445.72 252.711,1445.72 438.582,1444.97 550.283,1442.7 644.725,1438.73 747.315,1431.4 841.894,1421.05 943.293,1405.19 1060.77,1379.32 1165.18,1348.33 \n",
       "  1256.73,1313.98 1356.54,1267.89 1456.95,1211.35 1567.97,1135.61 1673.6,1049.27 1728.51,998.43 1783.42,943.258 1829.65,893.314 1875.88,840.047 1932.31,770.335 \n",
       "  1988.75,695.274 2041.8,619.642 2094.86,538.908 2179.85,398.471 2264.84,243.702 2277.92,218.562 2291,193.062 \n",
       "  \"/>\n",
       "</svg>\n"
      ]
     },
     "execution_count": 100,
     "metadata": {},
     "output_type": "execute_result"
    }
   ],
   "source": [
    "x = [0.1,0.2,0.4,0.8,0.9]\n",
    "y = [22,43,84,210,320]\n",
    "\n",
    "coefs, _ = aproxima_funcao(x,y)\n",
    "c0 = exp(coefs[1])\n",
    "c1 = exp(coefs[2])\n",
    "f(x) = (c0)*(x^(c1))\n",
    "scatter(x, y, c=:lightblue, ms=3, leg=false)\n",
    "plot!(f,0,1)"
   ]
  },
  {
   "cell_type": "markdown",
   "metadata": {},
   "source": [
    "Com isto, podemos calcular $T(0.3)$."
   ]
  },
  {
   "cell_type": "code",
   "execution_count": 52,
   "metadata": {},
   "outputs": [
    {
     "data": {
      "text/plain": [
       "6.070323886168533"
      ]
     },
     "execution_count": 52,
     "metadata": {},
     "output_type": "execute_result"
    }
   ],
   "source": [
    "f(0.3)"
   ]
  },
  {
   "cell_type": "markdown",
   "metadata": {},
   "source": [
    "# Exercício 2.a)\n",
    "\n",
    "Neste exercício, devemos utilizar os pontos descritos para encontrar uma função $f(x)$ que satisfaça os pontos dados e estimar a distância percorrida pela ônibus em $t=125$. Isto é, encontrada a função, devemos calcular $ \\int_{0}^{125} (f(x) + E_{\\epsilon}(x)) \\,dx$ pois, integrando o gráfico velocidade, teremos a distância percorrida.\n",
    "\n",
    "Dados os pontos utlizados, podemos importar de nossa biblioteca a função de interpolação polinomial para encontrar a função descrita em cada um dos intervalos."
   ]
  },
  {
   "cell_type": "code",
   "execution_count": 110,
   "metadata": {},
   "outputs": [
    {
     "data": {
      "text/plain": [
       "interpolacao_onibus (generic function with 3 methods)"
      ]
     },
     "execution_count": 110,
     "metadata": {},
     "output_type": "execute_result"
    }
   ],
   "source": [
    "function interpolacao_onibus(x,y,grau)\n",
    "    # Cria a matriz V\n",
    "    V = vandermonde(x,y,grau)\n",
    "    c=V\\y # Resolve o sistema linear Vc=y\n",
    "    return c #vetor de coeficientes\n",
    "end"
   ]
  },
  {
   "cell_type": "code",
   "execution_count": 84,
   "metadata": {},
   "outputs": [
    {
     "data": {
      "text/plain": [
       "trapezio (generic function with 1 method)"
      ]
     },
     "execution_count": 84,
     "metadata": {},
     "output_type": "execute_result"
    }
   ],
   "source": [
    "function trapezio(f,a,b,n) #calcular a integral f(x) de a até b\n",
    "    h=(b-a)/n\n",
    "    S=0.0\n",
    "    for i=1:(n-1)  #calcula o \"meio\"\n",
    "        x=a+i*h\n",
    "        S+=2*f(x)\n",
    "    end\n",
    "    S=h/2*(S+f(a)+f(b)) #calcula \"as pontas\"\n",
    "    return S\n",
    "end"
   ]
  },
  {
   "cell_type": "markdown",
   "metadata": {},
   "source": [
    "Com isto, podemos utilizar o método do trapézio em cada intervalo $(x_{n},x_{n+1}$ para os valores descritos. Após, basta somar as áreas encontradas."
   ]
  },
  {
   "cell_type": "code",
   "execution_count": 64,
   "metadata": {},
   "outputs": [],
   "source": [
    "using Polynomials"
   ]
  },
  {
   "cell_type": "code",
   "execution_count": 111,
   "metadata": {},
   "outputs": [
    {
     "data": {
      "text/plain": [
       "219567.5000000001"
      ]
     },
     "execution_count": 111,
     "metadata": {},
     "output_type": "execute_result"
    }
   ],
   "source": [
    "altura = 0.0\n",
    "x = [0,10,15,20,32,59,62,125]\n",
    "y = [0,185,319,447,742,1325,1445,4151]\n",
    "xn = [0,10]\n",
    "yn = [0,185]\n",
    "coefs = interpolacao_onibus(xn,yn,1)\n",
    "p = Polynomial(coefs)\n",
    "altura += trapezio(p,xn[1],xn[2],1000)\n",
    "xn = [10,15]\n",
    "yn = [185,319]\n",
    "coefs = interpolacao_onibus(xn,yn,1)\n",
    "p = Polynomial(coefs)\n",
    "altura += trapezio(p,xn[1],xn[2],1000)\n",
    "xn = [15,20]\n",
    "yn = [319,447]\n",
    "coefs = interpolacao_onibus(xn,yn,1)\n",
    "p = Polynomial(coefs)\n",
    "altura += trapezio(p,xn[1],xn[2],1000)\n",
    "xn = [20,32]\n",
    "yn = [447,742]\n",
    "coefs = interpolacao_onibus(xn,yn,1)\n",
    "p = Polynomial(coefs)\n",
    "altura += trapezio(p,xn[1],xn[2],1000)\n",
    "xn = [32,59]\n",
    "yn = [742,1325]\n",
    "coefs = interpolacao_onibus(xn,yn,1)\n",
    "p = Polynomial(coefs)\n",
    "altura += trapezio(p,xn[1],xn[2],1000)\n",
    "xn = [59,62]\n",
    "yn = [1325,1445]\n",
    "coefs = interpolacao_onibus(xn,yn,1)\n",
    "p = Polynomial(coefs)\n",
    "altura += trapezio(p,xn[1],xn[2],1000)\n",
    "xn = [62,125]\n",
    "yn = [1445,4151]\n",
    "coefs = interpolacao_onibus(xn,yn,1)\n",
    "p = Polynomial(coefs)\n",
    "altura += trapezio(p,xn[1],xn[2],1000)"
   ]
  },
  {
   "cell_type": "markdown",
   "metadata": {},
   "source": [
    "Com isso, temos que o ônibus espacial endeavour, no momento $t = 125$ estava na altura de aproximadamente $219567.5000000001$ pés, equivalente a aproximadamente $66.924174000000022033$ km."
   ]
  },
  {
   "cell_type": "markdown",
   "metadata": {},
   "source": [
    "# Exercício 2.b)\n",
    "\n",
    "Para estipularmos o erro máximo cometido, precisaríamos ter como informação um $M$ tal que $f''(x) \\leq M$ para todo $a \\leq x \\leq b$. Como não temos esta informação, é computacionalmente custoso calcular o erro máximo nas condições dadas."
   ]
  },
  {
   "cell_type": "markdown",
   "metadata": {},
   "source": [
    "# Exercício 2.c)\n",
    "\n",
    "Para encontrarmos uma reta $p_{1} = c_{0}x+c_{1}$ que melhor descreve a distribuição dos pontos, podemos utilizar de nossa biblioteca o método da regressão. Depois disso, podemos utilizar o método do trapézio para calcular $ \\int_{0}^{125} p_{1}(x) \\,dx$. Vamos utilizar então a função aproxima_onibus em conjunto com a regressão."
   ]
  },
  {
   "cell_type": "code",
   "execution_count": 103,
   "metadata": {},
   "outputs": [
    {
     "data": {
      "text/plain": [
       "aproxima_onibus (generic function with 1 method)"
      ]
     },
     "execution_count": 103,
     "metadata": {},
     "output_type": "execute_result"
    }
   ],
   "source": [
    "function aproxima_onibus(x,y)\n",
    "    coefs = regressao(x,y,1)\n",
    "    return coefs\n",
    "end"
   ]
  },
  {
   "cell_type": "code",
   "execution_count": 105,
   "metadata": {},
   "outputs": [
    {
     "data": {
      "image/svg+xml": [
       "<?xml version=\"1.0\" encoding=\"utf-8\"?>\n",
       "<svg xmlns=\"http://www.w3.org/2000/svg\" xmlns:xlink=\"http://www.w3.org/1999/xlink\" width=\"600\" height=\"400\" viewBox=\"0 0 2400 1600\">\n",
       "<defs>\n",
       "  <clipPath id=\"clip410\">\n",
       "    <rect x=\"0\" y=\"0\" width=\"2400\" height=\"1600\"/>\n",
       "  </clipPath>\n",
       "</defs>\n",
       "<path clip-path=\"url(#clip410)\" d=\"\n",
       "M0 1600 L2400 1600 L2400 0 L0 0  Z\n",
       "  \" fill=\"#ffffff\" fill-rule=\"evenodd\" fill-opacity=\"1\"/>\n",
       "<defs>\n",
       "  <clipPath id=\"clip411\">\n",
       "    <rect x=\"480\" y=\"0\" width=\"1681\" height=\"1600\"/>\n",
       "  </clipPath>\n",
       "</defs>\n",
       "<path clip-path=\"url(#clip410)\" d=\"\n",
       "M202.177 1486.45 L2352.76 1486.45 L2352.76 47.2441 L202.177 47.2441  Z\n",
       "  \" fill=\"#ffffff\" fill-rule=\"evenodd\" fill-opacity=\"1\"/>\n",
       "<defs>\n",
       "  <clipPath id=\"clip412\">\n",
       "    <rect x=\"202\" y=\"47\" width=\"2152\" height=\"1440\"/>\n",
       "  </clipPath>\n",
       "</defs>\n",
       "<polyline clip-path=\"url(#clip412)\" style=\"stroke:#000000; stroke-linecap:butt; stroke-linejoin:round; stroke-width:2; stroke-opacity:0.1; fill:none\" points=\"\n",
       "  263.042,1486.45 263.042,47.2441 \n",
       "  \"/>\n",
       "<polyline clip-path=\"url(#clip412)\" style=\"stroke:#000000; stroke-linecap:butt; stroke-linejoin:round; stroke-width:2; stroke-opacity:0.1; fill:none\" points=\"\n",
       "  587.658,1486.45 587.658,47.2441 \n",
       "  \"/>\n",
       "<polyline clip-path=\"url(#clip412)\" style=\"stroke:#000000; stroke-linecap:butt; stroke-linejoin:round; stroke-width:2; stroke-opacity:0.1; fill:none\" points=\"\n",
       "  912.274,1486.45 912.274,47.2441 \n",
       "  \"/>\n",
       "<polyline clip-path=\"url(#clip412)\" style=\"stroke:#000000; stroke-linecap:butt; stroke-linejoin:round; stroke-width:2; stroke-opacity:0.1; fill:none\" points=\"\n",
       "  1236.89,1486.45 1236.89,47.2441 \n",
       "  \"/>\n",
       "<polyline clip-path=\"url(#clip412)\" style=\"stroke:#000000; stroke-linecap:butt; stroke-linejoin:round; stroke-width:2; stroke-opacity:0.1; fill:none\" points=\"\n",
       "  1561.51,1486.45 1561.51,47.2441 \n",
       "  \"/>\n",
       "<polyline clip-path=\"url(#clip412)\" style=\"stroke:#000000; stroke-linecap:butt; stroke-linejoin:round; stroke-width:2; stroke-opacity:0.1; fill:none\" points=\"\n",
       "  1886.12,1486.45 1886.12,47.2441 \n",
       "  \"/>\n",
       "<polyline clip-path=\"url(#clip412)\" style=\"stroke:#000000; stroke-linecap:butt; stroke-linejoin:round; stroke-width:2; stroke-opacity:0.1; fill:none\" points=\"\n",
       "  2210.74,1486.45 2210.74,47.2441 \n",
       "  \"/>\n",
       "<polyline clip-path=\"url(#clip410)\" style=\"stroke:#000000; stroke-linecap:butt; stroke-linejoin:round; stroke-width:4; stroke-opacity:1; fill:none\" points=\"\n",
       "  202.177,1486.45 2352.76,1486.45 \n",
       "  \"/>\n",
       "<polyline clip-path=\"url(#clip410)\" style=\"stroke:#000000; stroke-linecap:butt; stroke-linejoin:round; stroke-width:4; stroke-opacity:1; fill:none\" points=\"\n",
       "  263.042,1486.45 263.042,1467.55 \n",
       "  \"/>\n",
       "<polyline clip-path=\"url(#clip410)\" style=\"stroke:#000000; stroke-linecap:butt; stroke-linejoin:round; stroke-width:4; stroke-opacity:1; fill:none\" points=\"\n",
       "  587.658,1486.45 587.658,1467.55 \n",
       "  \"/>\n",
       "<polyline clip-path=\"url(#clip410)\" style=\"stroke:#000000; stroke-linecap:butt; stroke-linejoin:round; stroke-width:4; stroke-opacity:1; fill:none\" points=\"\n",
       "  912.274,1486.45 912.274,1467.55 \n",
       "  \"/>\n",
       "<polyline clip-path=\"url(#clip410)\" style=\"stroke:#000000; stroke-linecap:butt; stroke-linejoin:round; stroke-width:4; stroke-opacity:1; fill:none\" points=\"\n",
       "  1236.89,1486.45 1236.89,1467.55 \n",
       "  \"/>\n",
       "<polyline clip-path=\"url(#clip410)\" style=\"stroke:#000000; stroke-linecap:butt; stroke-linejoin:round; stroke-width:4; stroke-opacity:1; fill:none\" points=\"\n",
       "  1561.51,1486.45 1561.51,1467.55 \n",
       "  \"/>\n",
       "<polyline clip-path=\"url(#clip410)\" style=\"stroke:#000000; stroke-linecap:butt; stroke-linejoin:round; stroke-width:4; stroke-opacity:1; fill:none\" points=\"\n",
       "  1886.12,1486.45 1886.12,1467.55 \n",
       "  \"/>\n",
       "<polyline clip-path=\"url(#clip410)\" style=\"stroke:#000000; stroke-linecap:butt; stroke-linejoin:round; stroke-width:4; stroke-opacity:1; fill:none\" points=\"\n",
       "  2210.74,1486.45 2210.74,1467.55 \n",
       "  \"/>\n",
       "<path clip-path=\"url(#clip410)\" d=\"M263.042 1517.37 Q259.431 1517.37 257.602 1520.93 Q255.797 1524.47 255.797 1531.6 Q255.797 1538.71 257.602 1542.27 Q259.431 1545.82 263.042 1545.82 Q266.676 1545.82 268.482 1542.27 Q270.311 1538.71 270.311 1531.6 Q270.311 1524.47 268.482 1520.93 Q266.676 1517.37 263.042 1517.37 M263.042 1513.66 Q268.852 1513.66 271.908 1518.27 Q274.987 1522.85 274.987 1531.6 Q274.987 1540.33 271.908 1544.94 Q268.852 1549.52 263.042 1549.52 Q257.232 1549.52 254.153 1544.94 Q251.098 1540.33 251.098 1531.6 Q251.098 1522.85 254.153 1518.27 Q257.232 1513.66 263.042 1513.66 Z\" fill=\"#000000\" fill-rule=\"evenodd\" fill-opacity=\"1\" /><path clip-path=\"url(#clip410)\" d=\"M566.431 1544.91 L582.75 1544.91 L582.75 1548.85 L560.806 1548.85 L560.806 1544.91 Q563.468 1542.16 568.051 1537.53 Q572.658 1532.88 573.839 1531.53 Q576.084 1529.01 576.963 1527.27 Q577.866 1525.51 577.866 1523.82 Q577.866 1521.07 575.922 1519.33 Q574.001 1517.6 570.899 1517.6 Q568.7 1517.6 566.246 1518.36 Q563.815 1519.13 561.038 1520.68 L561.038 1515.95 Q563.862 1514.82 566.315 1514.24 Q568.769 1513.66 570.806 1513.66 Q576.176 1513.66 579.371 1516.35 Q582.565 1519.03 582.565 1523.52 Q582.565 1525.65 581.755 1527.57 Q580.968 1529.47 578.862 1532.07 Q578.283 1532.74 575.181 1535.95 Q572.079 1539.15 566.431 1544.91 Z\" fill=\"#000000\" fill-rule=\"evenodd\" fill-opacity=\"1\" /><path clip-path=\"url(#clip410)\" d=\"M602.565 1517.37 Q598.954 1517.37 597.125 1520.93 Q595.32 1524.47 595.32 1531.6 Q595.32 1538.71 597.125 1542.27 Q598.954 1545.82 602.565 1545.82 Q606.199 1545.82 608.005 1542.27 Q609.834 1538.71 609.834 1531.6 Q609.834 1524.47 608.005 1520.93 Q606.199 1517.37 602.565 1517.37 M602.565 1513.66 Q608.375 1513.66 611.431 1518.27 Q614.51 1522.85 614.51 1531.6 Q614.51 1540.33 611.431 1544.94 Q608.375 1549.52 602.565 1549.52 Q596.755 1549.52 593.676 1544.94 Q590.621 1540.33 590.621 1531.6 Q590.621 1522.85 593.676 1518.27 Q596.755 1513.66 602.565 1513.66 Z\" fill=\"#000000\" fill-rule=\"evenodd\" fill-opacity=\"1\" /><path clip-path=\"url(#clip410)\" d=\"M900.445 1518.36 L888.639 1536.81 L900.445 1536.81 L900.445 1518.36 M899.218 1514.29 L905.098 1514.29 L905.098 1536.81 L910.028 1536.81 L910.028 1540.7 L905.098 1540.7 L905.098 1548.85 L900.445 1548.85 L900.445 1540.7 L884.843 1540.7 L884.843 1536.19 L899.218 1514.29 Z\" fill=\"#000000\" fill-rule=\"evenodd\" fill-opacity=\"1\" /><path clip-path=\"url(#clip410)\" d=\"M927.76 1517.37 Q924.149 1517.37 922.32 1520.93 Q920.514 1524.47 920.514 1531.6 Q920.514 1538.71 922.32 1542.27 Q924.149 1545.82 927.76 1545.82 Q931.394 1545.82 933.199 1542.27 Q935.028 1538.71 935.028 1531.6 Q935.028 1524.47 933.199 1520.93 Q931.394 1517.37 927.76 1517.37 M927.76 1513.66 Q933.57 1513.66 936.625 1518.27 Q939.704 1522.85 939.704 1531.6 Q939.704 1540.33 936.625 1544.94 Q933.57 1549.52 927.76 1549.52 Q921.949 1549.52 918.871 1544.94 Q915.815 1540.33 915.815 1531.6 Q915.815 1522.85 918.871 1518.27 Q921.949 1513.66 927.76 1513.66 Z\" fill=\"#000000\" fill-rule=\"evenodd\" fill-opacity=\"1\" /><path clip-path=\"url(#clip410)\" d=\"M1222.29 1529.7 Q1219.15 1529.7 1217.29 1531.86 Q1215.47 1534.01 1215.47 1537.76 Q1215.47 1541.49 1217.29 1543.66 Q1219.15 1545.82 1222.29 1545.82 Q1225.44 1545.82 1227.27 1543.66 Q1229.12 1541.49 1229.12 1537.76 Q1229.12 1534.01 1227.27 1531.86 Q1225.44 1529.7 1222.29 1529.7 M1231.58 1515.05 L1231.58 1519.31 Q1229.82 1518.48 1228.01 1518.04 Q1226.23 1517.6 1224.47 1517.6 Q1219.84 1517.6 1217.39 1520.72 Q1214.96 1523.85 1214.61 1530.17 Q1215.98 1528.15 1218.04 1527.09 Q1220.1 1526 1222.57 1526 Q1227.78 1526 1230.79 1529.17 Q1233.82 1532.32 1233.82 1537.76 Q1233.82 1543.08 1230.67 1546.3 Q1227.53 1549.52 1222.29 1549.52 Q1216.3 1549.52 1213.13 1544.94 Q1209.96 1540.33 1209.96 1531.6 Q1209.96 1523.41 1213.85 1518.55 Q1217.73 1513.66 1224.29 1513.66 Q1226.04 1513.66 1227.83 1514.01 Q1229.63 1514.36 1231.58 1515.05 Z\" fill=\"#000000\" fill-rule=\"evenodd\" fill-opacity=\"1\" /><path clip-path=\"url(#clip410)\" d=\"M1251.88 1517.37 Q1248.27 1517.37 1246.44 1520.93 Q1244.63 1524.47 1244.63 1531.6 Q1244.63 1538.71 1246.44 1542.27 Q1248.27 1545.82 1251.88 1545.82 Q1255.51 1545.82 1257.32 1542.27 Q1259.15 1538.71 1259.15 1531.6 Q1259.15 1524.47 1257.32 1520.93 Q1255.51 1517.37 1251.88 1517.37 M1251.88 1513.66 Q1257.69 1513.66 1260.74 1518.27 Q1263.82 1522.85 1263.82 1531.6 Q1263.82 1540.33 1260.74 1544.94 Q1257.69 1549.52 1251.88 1549.52 Q1246.07 1549.52 1242.99 1544.94 Q1239.93 1540.33 1239.93 1531.6 Q1239.93 1522.85 1242.99 1518.27 Q1246.07 1513.66 1251.88 1513.66 Z\" fill=\"#000000\" fill-rule=\"evenodd\" fill-opacity=\"1\" /><path clip-path=\"url(#clip410)\" d=\"M1546.38 1532.44 Q1543.04 1532.44 1541.12 1534.22 Q1539.23 1536 1539.23 1539.13 Q1539.23 1542.25 1541.12 1544.03 Q1543.04 1545.82 1546.38 1545.82 Q1549.71 1545.82 1551.63 1544.03 Q1553.55 1542.23 1553.55 1539.13 Q1553.55 1536 1551.63 1534.22 Q1549.73 1532.44 1546.38 1532.44 M1541.7 1530.45 Q1538.69 1529.7 1537 1527.64 Q1535.34 1525.58 1535.34 1522.62 Q1535.34 1518.48 1538.28 1516.07 Q1541.24 1513.66 1546.38 1513.66 Q1551.54 1513.66 1554.48 1516.07 Q1557.42 1518.48 1557.42 1522.62 Q1557.42 1525.58 1555.73 1527.64 Q1554.06 1529.7 1551.08 1530.45 Q1554.46 1531.23 1556.33 1533.52 Q1558.23 1535.82 1558.23 1539.13 Q1558.23 1544.15 1555.15 1546.83 Q1552.1 1549.52 1546.38 1549.52 Q1540.66 1549.52 1537.58 1546.83 Q1534.53 1544.15 1534.53 1539.13 Q1534.53 1535.82 1536.42 1533.52 Q1538.32 1531.23 1541.7 1530.45 M1539.99 1523.06 Q1539.99 1525.75 1541.66 1527.25 Q1543.35 1528.76 1546.38 1528.76 Q1549.39 1528.76 1551.08 1527.25 Q1552.79 1525.75 1552.79 1523.06 Q1552.79 1520.38 1551.08 1518.87 Q1549.39 1517.37 1546.38 1517.37 Q1543.35 1517.37 1541.66 1518.87 Q1539.99 1520.38 1539.99 1523.06 Z\" fill=\"#000000\" fill-rule=\"evenodd\" fill-opacity=\"1\" /><path clip-path=\"url(#clip410)\" d=\"M1576.54 1517.37 Q1572.93 1517.37 1571.1 1520.93 Q1569.29 1524.47 1569.29 1531.6 Q1569.29 1538.71 1571.1 1542.27 Q1572.93 1545.82 1576.54 1545.82 Q1580.17 1545.82 1581.98 1542.27 Q1583.81 1538.71 1583.81 1531.6 Q1583.81 1524.47 1581.98 1520.93 Q1580.17 1517.37 1576.54 1517.37 M1576.54 1513.66 Q1582.35 1513.66 1585.41 1518.27 Q1588.48 1522.85 1588.48 1531.6 Q1588.48 1540.33 1585.41 1544.94 Q1582.35 1549.52 1576.54 1549.52 Q1570.73 1549.52 1567.65 1544.94 Q1564.6 1540.33 1564.6 1531.6 Q1564.6 1522.85 1567.65 1518.27 Q1570.73 1513.66 1576.54 1513.66 Z\" fill=\"#000000\" fill-rule=\"evenodd\" fill-opacity=\"1\" /><path clip-path=\"url(#clip410)\" d=\"M1845.73 1544.91 L1853.37 1544.91 L1853.37 1518.55 L1845.06 1520.21 L1845.06 1515.95 L1853.32 1514.29 L1858 1514.29 L1858 1544.91 L1865.63 1544.91 L1865.63 1548.85 L1845.73 1548.85 L1845.73 1544.91 Z\" fill=\"#000000\" fill-rule=\"evenodd\" fill-opacity=\"1\" /><path clip-path=\"url(#clip410)\" d=\"M1885.08 1517.37 Q1881.47 1517.37 1879.64 1520.93 Q1877.83 1524.47 1877.83 1531.6 Q1877.83 1538.71 1879.64 1542.27 Q1881.47 1545.82 1885.08 1545.82 Q1888.71 1545.82 1890.52 1542.27 Q1892.35 1538.71 1892.35 1531.6 Q1892.35 1524.47 1890.52 1520.93 Q1888.71 1517.37 1885.08 1517.37 M1885.08 1513.66 Q1890.89 1513.66 1893.94 1518.27 Q1897.02 1522.85 1897.02 1531.6 Q1897.02 1540.33 1893.94 1544.94 Q1890.89 1549.52 1885.08 1549.52 Q1879.27 1549.52 1876.19 1544.94 Q1873.13 1540.33 1873.13 1531.6 Q1873.13 1522.85 1876.19 1518.27 Q1879.27 1513.66 1885.08 1513.66 Z\" fill=\"#000000\" fill-rule=\"evenodd\" fill-opacity=\"1\" /><path clip-path=\"url(#clip410)\" d=\"M1915.24 1517.37 Q1911.63 1517.37 1909.8 1520.93 Q1908 1524.47 1908 1531.6 Q1908 1538.71 1909.8 1542.27 Q1911.63 1545.82 1915.24 1545.82 Q1918.88 1545.82 1920.68 1542.27 Q1922.51 1538.71 1922.51 1531.6 Q1922.51 1524.47 1920.68 1520.93 Q1918.88 1517.37 1915.24 1517.37 M1915.24 1513.66 Q1921.05 1513.66 1924.11 1518.27 Q1927.19 1522.85 1927.19 1531.6 Q1927.19 1540.33 1924.11 1544.94 Q1921.05 1549.52 1915.24 1549.52 Q1909.43 1549.52 1906.35 1544.94 Q1903.3 1540.33 1903.3 1531.6 Q1903.3 1522.85 1906.35 1518.27 Q1909.43 1513.66 1915.24 1513.66 Z\" fill=\"#000000\" fill-rule=\"evenodd\" fill-opacity=\"1\" /><path clip-path=\"url(#clip410)\" d=\"M2170.34 1544.91 L2177.98 1544.91 L2177.98 1518.55 L2169.67 1520.21 L2169.67 1515.95 L2177.94 1514.29 L2182.61 1514.29 L2182.61 1544.91 L2190.25 1544.91 L2190.25 1548.85 L2170.34 1548.85 L2170.34 1544.91 Z\" fill=\"#000000\" fill-rule=\"evenodd\" fill-opacity=\"1\" /><path clip-path=\"url(#clip410)\" d=\"M2203.72 1544.91 L2220.04 1544.91 L2220.04 1548.85 L2198.1 1548.85 L2198.1 1544.91 Q2200.76 1542.16 2205.34 1537.53 Q2209.95 1532.88 2211.13 1531.53 Q2213.38 1529.01 2214.26 1527.27 Q2215.16 1525.51 2215.16 1523.82 Q2215.16 1521.07 2213.21 1519.33 Q2211.29 1517.6 2208.19 1517.6 Q2205.99 1517.6 2203.54 1518.36 Q2201.11 1519.13 2198.33 1520.68 L2198.33 1515.95 Q2201.15 1514.82 2203.61 1514.24 Q2206.06 1513.66 2208.1 1513.66 Q2213.47 1513.66 2216.66 1516.35 Q2219.86 1519.03 2219.86 1523.52 Q2219.86 1525.65 2219.05 1527.57 Q2218.26 1529.47 2216.15 1532.07 Q2215.57 1532.74 2212.47 1535.95 Q2209.37 1539.15 2203.72 1544.91 Z\" fill=\"#000000\" fill-rule=\"evenodd\" fill-opacity=\"1\" /><path clip-path=\"url(#clip410)\" d=\"M2239.86 1517.37 Q2236.25 1517.37 2234.42 1520.93 Q2232.61 1524.47 2232.61 1531.6 Q2232.61 1538.71 2234.42 1542.27 Q2236.25 1545.82 2239.86 1545.82 Q2243.49 1545.82 2245.3 1542.27 Q2247.13 1538.71 2247.13 1531.6 Q2247.13 1524.47 2245.3 1520.93 Q2243.49 1517.37 2239.86 1517.37 M2239.86 1513.66 Q2245.67 1513.66 2248.72 1518.27 Q2251.8 1522.85 2251.8 1531.6 Q2251.8 1540.33 2248.72 1544.94 Q2245.67 1549.52 2239.86 1549.52 Q2234.05 1549.52 2230.97 1544.94 Q2227.91 1540.33 2227.91 1531.6 Q2227.91 1522.85 2230.97 1518.27 Q2234.05 1513.66 2239.86 1513.66 Z\" fill=\"#000000\" fill-rule=\"evenodd\" fill-opacity=\"1\" /><polyline clip-path=\"url(#clip412)\" style=\"stroke:#000000; stroke-linecap:butt; stroke-linejoin:round; stroke-width:2; stroke-opacity:0.1; fill:none\" points=\"\n",
       "  202.177,1373.56 2352.76,1373.56 \n",
       "  \"/>\n",
       "<polyline clip-path=\"url(#clip412)\" style=\"stroke:#000000; stroke-linecap:butt; stroke-linejoin:round; stroke-width:2; stroke-opacity:0.1; fill:none\" points=\"\n",
       "  202.177,1063.86 2352.76,1063.86 \n",
       "  \"/>\n",
       "<polyline clip-path=\"url(#clip412)\" style=\"stroke:#000000; stroke-linecap:butt; stroke-linejoin:round; stroke-width:2; stroke-opacity:0.1; fill:none\" points=\"\n",
       "  202.177,754.153 2352.76,754.153 \n",
       "  \"/>\n",
       "<polyline clip-path=\"url(#clip412)\" style=\"stroke:#000000; stroke-linecap:butt; stroke-linejoin:round; stroke-width:2; stroke-opacity:0.1; fill:none\" points=\"\n",
       "  202.177,444.447 2352.76,444.447 \n",
       "  \"/>\n",
       "<polyline clip-path=\"url(#clip412)\" style=\"stroke:#000000; stroke-linecap:butt; stroke-linejoin:round; stroke-width:2; stroke-opacity:0.1; fill:none\" points=\"\n",
       "  202.177,134.742 2352.76,134.742 \n",
       "  \"/>\n",
       "<polyline clip-path=\"url(#clip410)\" style=\"stroke:#000000; stroke-linecap:butt; stroke-linejoin:round; stroke-width:4; stroke-opacity:1; fill:none\" points=\"\n",
       "  202.177,1486.45 202.177,47.2441 \n",
       "  \"/>\n",
       "<polyline clip-path=\"url(#clip410)\" style=\"stroke:#000000; stroke-linecap:butt; stroke-linejoin:round; stroke-width:4; stroke-opacity:1; fill:none\" points=\"\n",
       "  202.177,1373.56 221.074,1373.56 \n",
       "  \"/>\n",
       "<polyline clip-path=\"url(#clip410)\" style=\"stroke:#000000; stroke-linecap:butt; stroke-linejoin:round; stroke-width:4; stroke-opacity:1; fill:none\" points=\"\n",
       "  202.177,1063.86 221.074,1063.86 \n",
       "  \"/>\n",
       "<polyline clip-path=\"url(#clip410)\" style=\"stroke:#000000; stroke-linecap:butt; stroke-linejoin:round; stroke-width:4; stroke-opacity:1; fill:none\" points=\"\n",
       "  202.177,754.153 221.074,754.153 \n",
       "  \"/>\n",
       "<polyline clip-path=\"url(#clip410)\" style=\"stroke:#000000; stroke-linecap:butt; stroke-linejoin:round; stroke-width:4; stroke-opacity:1; fill:none\" points=\"\n",
       "  202.177,444.447 221.074,444.447 \n",
       "  \"/>\n",
       "<polyline clip-path=\"url(#clip410)\" style=\"stroke:#000000; stroke-linecap:butt; stroke-linejoin:round; stroke-width:4; stroke-opacity:1; fill:none\" points=\"\n",
       "  202.177,134.742 221.074,134.742 \n",
       "  \"/>\n",
       "<path clip-path=\"url(#clip410)\" d=\"M154.232 1359.36 Q150.621 1359.36 148.793 1362.93 Q146.987 1366.47 146.987 1373.6 Q146.987 1380.7 148.793 1384.27 Q150.621 1387.81 154.232 1387.81 Q157.867 1387.81 159.672 1384.27 Q161.501 1380.7 161.501 1373.6 Q161.501 1366.47 159.672 1362.93 Q157.867 1359.36 154.232 1359.36 M154.232 1355.66 Q160.042 1355.66 163.098 1360.26 Q166.177 1364.85 166.177 1373.6 Q166.177 1382.32 163.098 1386.93 Q160.042 1391.51 154.232 1391.51 Q148.422 1391.51 145.343 1386.93 Q142.288 1382.32 142.288 1373.6 Q142.288 1364.85 145.343 1360.26 Q148.422 1355.66 154.232 1355.66 Z\" fill=\"#000000\" fill-rule=\"evenodd\" fill-opacity=\"1\" /><path clip-path=\"url(#clip410)\" d=\"M54.5569 1077.2 L62.1958 1077.2 L62.1958 1050.84 L53.8856 1052.5 L53.8856 1048.24 L62.1495 1046.58 L66.8254 1046.58 L66.8254 1077.2 L74.4642 1077.2 L74.4642 1081.14 L54.5569 1081.14 L54.5569 1077.2 Z\" fill=\"#000000\" fill-rule=\"evenodd\" fill-opacity=\"1\" /><path clip-path=\"url(#clip410)\" d=\"M93.9086 1049.66 Q90.2975 1049.66 88.4688 1053.22 Q86.6632 1056.76 86.6632 1063.89 Q86.6632 1071 88.4688 1074.56 Q90.2975 1078.11 93.9086 1078.11 Q97.5428 1078.11 99.3483 1074.56 Q101.177 1071 101.177 1063.89 Q101.177 1056.76 99.3483 1053.22 Q97.5428 1049.66 93.9086 1049.66 M93.9086 1045.95 Q99.7187 1045.95 102.774 1050.56 Q105.853 1055.14 105.853 1063.89 Q105.853 1072.62 102.774 1077.23 Q99.7187 1081.81 93.9086 1081.81 Q88.0984 1081.81 85.0197 1077.23 Q81.9642 1072.62 81.9642 1063.89 Q81.9642 1055.14 85.0197 1050.56 Q88.0984 1045.95 93.9086 1045.95 Z\" fill=\"#000000\" fill-rule=\"evenodd\" fill-opacity=\"1\" /><path clip-path=\"url(#clip410)\" d=\"M124.07 1049.66 Q120.459 1049.66 118.631 1053.22 Q116.825 1056.76 116.825 1063.89 Q116.825 1071 118.631 1074.56 Q120.459 1078.11 124.07 1078.11 Q127.705 1078.11 129.51 1074.56 Q131.339 1071 131.339 1063.89 Q131.339 1056.76 129.51 1053.22 Q127.705 1049.66 124.07 1049.66 M124.07 1045.95 Q129.881 1045.95 132.936 1050.56 Q136.015 1055.14 136.015 1063.89 Q136.015 1072.62 132.936 1077.23 Q129.881 1081.81 124.07 1081.81 Q118.26 1081.81 115.182 1077.23 Q112.126 1072.62 112.126 1063.89 Q112.126 1055.14 115.182 1050.56 Q118.26 1045.95 124.07 1045.95 Z\" fill=\"#000000\" fill-rule=\"evenodd\" fill-opacity=\"1\" /><path clip-path=\"url(#clip410)\" d=\"M154.232 1049.66 Q150.621 1049.66 148.793 1053.22 Q146.987 1056.76 146.987 1063.89 Q146.987 1071 148.793 1074.56 Q150.621 1078.11 154.232 1078.11 Q157.867 1078.11 159.672 1074.56 Q161.501 1071 161.501 1063.89 Q161.501 1056.76 159.672 1053.22 Q157.867 1049.66 154.232 1049.66 M154.232 1045.95 Q160.042 1045.95 163.098 1050.56 Q166.177 1055.14 166.177 1063.89 Q166.177 1072.62 163.098 1077.23 Q160.042 1081.81 154.232 1081.81 Q148.422 1081.81 145.343 1077.23 Q142.288 1072.62 142.288 1063.89 Q142.288 1055.14 145.343 1050.56 Q148.422 1045.95 154.232 1045.95 Z\" fill=\"#000000\" fill-rule=\"evenodd\" fill-opacity=\"1\" /><path clip-path=\"url(#clip410)\" d=\"M57.7745 767.497 L74.0939 767.497 L74.0939 771.433 L52.1495 771.433 L52.1495 767.497 Q54.8115 764.743 59.3949 760.113 Q64.0013 755.46 65.1819 754.118 Q67.4272 751.595 68.3068 749.859 Q69.2096 748.099 69.2096 746.41 Q69.2096 743.655 67.2652 741.919 Q65.3439 740.183 62.2421 740.183 Q60.043 740.183 57.5893 740.947 Q55.1588 741.71 52.381 743.261 L52.381 738.539 Q55.2051 737.405 57.6588 736.826 Q60.1124 736.248 62.1495 736.248 Q67.5198 736.248 70.7142 738.933 Q73.9087 741.618 73.9087 746.109 Q73.9087 748.238 73.0985 750.16 Q72.3115 752.058 70.205 754.65 Q69.6263 755.322 66.5245 758.539 Q63.4226 761.734 57.7745 767.497 Z\" fill=\"#000000\" fill-rule=\"evenodd\" fill-opacity=\"1\" /><path clip-path=\"url(#clip410)\" d=\"M93.9086 739.951 Q90.2975 739.951 88.4688 743.516 Q86.6632 747.058 86.6632 754.187 Q86.6632 761.294 88.4688 764.859 Q90.2975 768.4 93.9086 768.4 Q97.5428 768.4 99.3483 764.859 Q101.177 761.294 101.177 754.187 Q101.177 747.058 99.3483 743.516 Q97.5428 739.951 93.9086 739.951 M93.9086 736.248 Q99.7187 736.248 102.774 740.854 Q105.853 745.437 105.853 754.187 Q105.853 762.914 102.774 767.521 Q99.7187 772.104 93.9086 772.104 Q88.0984 772.104 85.0197 767.521 Q81.9642 762.914 81.9642 754.187 Q81.9642 745.437 85.0197 740.854 Q88.0984 736.248 93.9086 736.248 Z\" fill=\"#000000\" fill-rule=\"evenodd\" fill-opacity=\"1\" /><path clip-path=\"url(#clip410)\" d=\"M124.07 739.951 Q120.459 739.951 118.631 743.516 Q116.825 747.058 116.825 754.187 Q116.825 761.294 118.631 764.859 Q120.459 768.4 124.07 768.4 Q127.705 768.4 129.51 764.859 Q131.339 761.294 131.339 754.187 Q131.339 747.058 129.51 743.516 Q127.705 739.951 124.07 739.951 M124.07 736.248 Q129.881 736.248 132.936 740.854 Q136.015 745.437 136.015 754.187 Q136.015 762.914 132.936 767.521 Q129.881 772.104 124.07 772.104 Q118.26 772.104 115.182 767.521 Q112.126 762.914 112.126 754.187 Q112.126 745.437 115.182 740.854 Q118.26 736.248 124.07 736.248 Z\" fill=\"#000000\" fill-rule=\"evenodd\" fill-opacity=\"1\" /><path clip-path=\"url(#clip410)\" d=\"M154.232 739.951 Q150.621 739.951 148.793 743.516 Q146.987 747.058 146.987 754.187 Q146.987 761.294 148.793 764.859 Q150.621 768.4 154.232 768.4 Q157.867 768.4 159.672 764.859 Q161.501 761.294 161.501 754.187 Q161.501 747.058 159.672 743.516 Q157.867 739.951 154.232 739.951 M154.232 736.248 Q160.042 736.248 163.098 740.854 Q166.177 745.437 166.177 754.187 Q166.177 762.914 163.098 767.521 Q160.042 772.104 154.232 772.104 Q148.422 772.104 145.343 767.521 Q142.288 762.914 142.288 754.187 Q142.288 745.437 145.343 740.854 Q148.422 736.248 154.232 736.248 Z\" fill=\"#000000\" fill-rule=\"evenodd\" fill-opacity=\"1\" /><path clip-path=\"url(#clip410)\" d=\"M67.9133 443.093 Q71.2698 443.811 73.1448 446.079 Q75.0429 448.348 75.0429 451.681 Q75.0429 456.797 71.5244 459.598 Q68.0059 462.398 61.5245 462.398 Q59.3486 462.398 57.0338 461.959 Q54.7421 461.542 52.2884 460.686 L52.2884 456.172 Q54.2328 457.306 56.5477 457.885 Q58.8625 458.463 61.3856 458.463 Q65.7837 458.463 68.0754 456.727 Q70.3902 454.991 70.3902 451.681 Q70.3902 448.625 68.2374 446.912 Q66.1078 445.176 62.2884 445.176 L58.2606 445.176 L58.2606 441.334 L62.4735 441.334 Q65.9226 441.334 67.7513 439.968 Q69.58 438.579 69.58 435.987 Q69.58 433.325 67.6819 431.913 Q65.8069 430.477 62.2884 430.477 Q60.3671 430.477 58.168 430.894 Q55.969 431.311 53.3301 432.19 L53.3301 428.024 Q55.9921 427.283 58.3069 426.913 Q60.6449 426.542 62.705 426.542 Q68.0291 426.542 71.1309 428.973 Q74.2327 431.38 74.2327 435.5 Q74.2327 438.371 72.5892 440.362 Q70.9457 442.329 67.9133 443.093 Z\" fill=\"#000000\" fill-rule=\"evenodd\" fill-opacity=\"1\" /><path clip-path=\"url(#clip410)\" d=\"M93.9086 430.246 Q90.2975 430.246 88.4688 433.811 Q86.6632 437.352 86.6632 444.482 Q86.6632 451.588 88.4688 455.153 Q90.2975 458.695 93.9086 458.695 Q97.5428 458.695 99.3483 455.153 Q101.177 451.588 101.177 444.482 Q101.177 437.352 99.3483 433.811 Q97.5428 430.246 93.9086 430.246 M93.9086 426.542 Q99.7187 426.542 102.774 431.149 Q105.853 435.732 105.853 444.482 Q105.853 453.209 102.774 457.815 Q99.7187 462.398 93.9086 462.398 Q88.0984 462.398 85.0197 457.815 Q81.9642 453.209 81.9642 444.482 Q81.9642 435.732 85.0197 431.149 Q88.0984 426.542 93.9086 426.542 Z\" fill=\"#000000\" fill-rule=\"evenodd\" fill-opacity=\"1\" /><path clip-path=\"url(#clip410)\" d=\"M124.07 430.246 Q120.459 430.246 118.631 433.811 Q116.825 437.352 116.825 444.482 Q116.825 451.588 118.631 455.153 Q120.459 458.695 124.07 458.695 Q127.705 458.695 129.51 455.153 Q131.339 451.588 131.339 444.482 Q131.339 437.352 129.51 433.811 Q127.705 430.246 124.07 430.246 M124.07 426.542 Q129.881 426.542 132.936 431.149 Q136.015 435.732 136.015 444.482 Q136.015 453.209 132.936 457.815 Q129.881 462.398 124.07 462.398 Q118.26 462.398 115.182 457.815 Q112.126 453.209 112.126 444.482 Q112.126 435.732 115.182 431.149 Q118.26 426.542 124.07 426.542 Z\" fill=\"#000000\" fill-rule=\"evenodd\" fill-opacity=\"1\" /><path clip-path=\"url(#clip410)\" d=\"M154.232 430.246 Q150.621 430.246 148.793 433.811 Q146.987 437.352 146.987 444.482 Q146.987 451.588 148.793 455.153 Q150.621 458.695 154.232 458.695 Q157.867 458.695 159.672 455.153 Q161.501 451.588 161.501 444.482 Q161.501 437.352 159.672 433.811 Q157.867 430.246 154.232 430.246 M154.232 426.542 Q160.042 426.542 163.098 431.149 Q166.177 435.732 166.177 444.482 Q166.177 453.209 163.098 457.815 Q160.042 462.398 154.232 462.398 Q148.422 462.398 145.343 457.815 Q142.288 453.209 142.288 444.482 Q142.288 435.732 145.343 431.149 Q148.422 426.542 154.232 426.542 Z\" fill=\"#000000\" fill-rule=\"evenodd\" fill-opacity=\"1\" /><path clip-path=\"url(#clip410)\" d=\"M66.5939 121.536 L54.7884 139.985 L66.5939 139.985 L66.5939 121.536 M65.367 117.462 L71.2466 117.462 L71.2466 139.985 L76.1772 139.985 L76.1772 143.874 L71.2466 143.874 L71.2466 152.022 L66.5939 152.022 L66.5939 143.874 L50.9921 143.874 L50.9921 139.36 L65.367 117.462 Z\" fill=\"#000000\" fill-rule=\"evenodd\" fill-opacity=\"1\" /><path clip-path=\"url(#clip410)\" d=\"M93.9086 120.54 Q90.2975 120.54 88.4688 124.105 Q86.6632 127.647 86.6632 134.777 Q86.6632 141.883 88.4688 145.448 Q90.2975 148.989 93.9086 148.989 Q97.5428 148.989 99.3483 145.448 Q101.177 141.883 101.177 134.777 Q101.177 127.647 99.3483 124.105 Q97.5428 120.54 93.9086 120.54 M93.9086 116.837 Q99.7187 116.837 102.774 121.443 Q105.853 126.027 105.853 134.777 Q105.853 143.503 102.774 148.11 Q99.7187 152.693 93.9086 152.693 Q88.0984 152.693 85.0197 148.11 Q81.9642 143.503 81.9642 134.777 Q81.9642 126.027 85.0197 121.443 Q88.0984 116.837 93.9086 116.837 Z\" fill=\"#000000\" fill-rule=\"evenodd\" fill-opacity=\"1\" /><path clip-path=\"url(#clip410)\" d=\"M124.07 120.54 Q120.459 120.54 118.631 124.105 Q116.825 127.647 116.825 134.777 Q116.825 141.883 118.631 145.448 Q120.459 148.989 124.07 148.989 Q127.705 148.989 129.51 145.448 Q131.339 141.883 131.339 134.777 Q131.339 127.647 129.51 124.105 Q127.705 120.54 124.07 120.54 M124.07 116.837 Q129.881 116.837 132.936 121.443 Q136.015 126.027 136.015 134.777 Q136.015 143.503 132.936 148.11 Q129.881 152.693 124.07 152.693 Q118.26 152.693 115.182 148.11 Q112.126 143.503 112.126 134.777 Q112.126 126.027 115.182 121.443 Q118.26 116.837 124.07 116.837 Z\" fill=\"#000000\" fill-rule=\"evenodd\" fill-opacity=\"1\" /><path clip-path=\"url(#clip410)\" d=\"M154.232 120.54 Q150.621 120.54 148.793 124.105 Q146.987 127.647 146.987 134.777 Q146.987 141.883 148.793 145.448 Q150.621 148.989 154.232 148.989 Q157.867 148.989 159.672 145.448 Q161.501 141.883 161.501 134.777 Q161.501 127.647 159.672 124.105 Q157.867 120.54 154.232 120.54 M154.232 116.837 Q160.042 116.837 163.098 121.443 Q166.177 126.027 166.177 134.777 Q166.177 143.503 163.098 148.11 Q160.042 152.693 154.232 152.693 Q148.422 152.693 145.343 148.11 Q142.288 143.503 142.288 134.777 Q142.288 126.027 145.343 121.443 Q148.422 116.837 154.232 116.837 Z\" fill=\"#000000\" fill-rule=\"evenodd\" fill-opacity=\"1\" /><circle clip-path=\"url(#clip412)\" cx=\"263.042\" cy=\"1373.56\" r=\"10\" fill=\"#add8e6\" fill-rule=\"evenodd\" fill-opacity=\"1\" stroke=\"#000000\" stroke-opacity=\"1\" stroke-width=\"3.2\"/>\n",
       "<circle clip-path=\"url(#clip412)\" cx=\"425.35\" cy=\"1316.27\" r=\"10\" fill=\"#add8e6\" fill-rule=\"evenodd\" fill-opacity=\"1\" stroke=\"#000000\" stroke-opacity=\"1\" stroke-width=\"3.2\"/>\n",
       "<circle clip-path=\"url(#clip412)\" cx=\"506.504\" cy=\"1274.77\" r=\"10\" fill=\"#add8e6\" fill-rule=\"evenodd\" fill-opacity=\"1\" stroke=\"#000000\" stroke-opacity=\"1\" stroke-width=\"3.2\"/>\n",
       "<circle clip-path=\"url(#clip412)\" cx=\"587.658\" cy=\"1235.13\" r=\"10\" fill=\"#add8e6\" fill-rule=\"evenodd\" fill-opacity=\"1\" stroke=\"#000000\" stroke-opacity=\"1\" stroke-width=\"3.2\"/>\n",
       "<circle clip-path=\"url(#clip412)\" cx=\"782.427\" cy=\"1143.76\" r=\"10\" fill=\"#add8e6\" fill-rule=\"evenodd\" fill-opacity=\"1\" stroke=\"#000000\" stroke-opacity=\"1\" stroke-width=\"3.2\"/>\n",
       "<circle clip-path=\"url(#clip412)\" cx=\"1220.66\" cy=\"963.204\" r=\"10\" fill=\"#add8e6\" fill-rule=\"evenodd\" fill-opacity=\"1\" stroke=\"#000000\" stroke-opacity=\"1\" stroke-width=\"3.2\"/>\n",
       "<circle clip-path=\"url(#clip412)\" cx=\"1269.35\" cy=\"926.039\" r=\"10\" fill=\"#add8e6\" fill-rule=\"evenodd\" fill-opacity=\"1\" stroke=\"#000000\" stroke-opacity=\"1\" stroke-width=\"3.2\"/>\n",
       "<circle clip-path=\"url(#clip412)\" cx=\"2291.89\" cy=\"87.9763\" r=\"10\" fill=\"#add8e6\" fill-rule=\"evenodd\" fill-opacity=\"1\" stroke=\"#000000\" stroke-opacity=\"1\" stroke-width=\"3.2\"/>\n",
       "<polyline clip-path=\"url(#clip412)\" style=\"stroke:#e26f46; stroke-linecap:butt; stroke-linejoin:round; stroke-width:4; stroke-opacity:1; fill:none\" points=\"\n",
       "  263.042,1445.72 283.331,1433.16 303.619,1420.6 323.908,1408.04 344.196,1395.48 364.485,1382.93 384.773,1370.37 405.062,1357.81 425.35,1345.25 445.638,1332.69 \n",
       "  465.927,1320.13 486.215,1307.58 506.504,1295.02 526.792,1282.46 547.081,1269.9 567.369,1257.34 587.658,1244.79 607.946,1232.23 628.235,1219.67 648.523,1207.11 \n",
       "  668.812,1194.55 689.1,1181.99 709.389,1169.44 729.677,1156.88 749.966,1144.32 770.254,1131.76 790.543,1119.2 810.831,1106.65 831.12,1094.09 851.408,1081.53 \n",
       "  871.697,1068.97 891.985,1056.41 912.274,1043.86 932.562,1031.3 952.851,1018.74 973.139,1006.18 993.428,993.623 1013.72,981.065 1034,968.507 1054.29,955.949 \n",
       "  1074.58,943.39 1094.87,930.832 1115.16,918.274 1135.45,905.716 1155.74,893.158 1176.02,880.6 1196.31,868.042 1216.6,855.484 1236.89,842.925 1257.18,830.367 \n",
       "  1277.47,817.809 1297.75,805.251 1318.04,792.693 1338.33,780.135 1358.62,767.577 1378.91,755.018 1399.2,742.46 1419.49,729.902 1439.77,717.344 1460.06,704.786 \n",
       "  1480.35,692.228 1500.64,679.67 1520.93,667.112 1541.22,654.553 1561.51,641.995 1581.79,629.437 1602.08,616.879 1622.37,604.321 1642.66,591.763 1662.95,579.205 \n",
       "  1683.24,566.647 1703.52,554.088 1723.81,541.53 1744.1,528.972 1764.39,516.414 1784.68,503.856 1804.97,491.298 1825.26,478.74 1845.54,466.181 1865.83,453.623 \n",
       "  1886.12,441.065 1906.41,428.507 1926.7,415.949 1946.99,403.391 1967.27,390.833 1987.56,378.275 2007.85,365.716 2028.14,353.158 2048.43,340.6 2068.72,328.042 \n",
       "  2089.01,315.484 2109.29,302.926 2129.58,290.368 2149.87,277.809 2170.16,265.251 2190.45,252.693 2210.74,240.135 2231.03,227.577 2251.31,215.019 2271.6,202.461 \n",
       "  2291.89,189.903 \n",
       "  \"/>\n",
       "</svg>\n"
      ]
     },
     "execution_count": 105,
     "metadata": {},
     "output_type": "execute_result"
    }
   ],
   "source": [
    "x = [0,10,15,20,32,59,62,125]\n",
    "y = [0,185,319,447,742,1325,1445,4151]\n",
    "\n",
    "coefs, _ = aproxima_onibus(x,y)\n",
    "p = Polynomial(coefs)\n",
    "scatter(x, y, c=:lightblue, ms=3, leg=false)\n",
    "plot!(p,0,125)"
   ]
  },
  {
   "cell_type": "markdown",
   "metadata": {},
   "source": [
    "Com isto, como já temos uma reta, podemos utilizar o método do trapézio de $0$ até $125$ diretamente e estimarmos a altura."
   ]
  },
  {
   "cell_type": "code",
   "execution_count": 107,
   "metadata": {},
   "outputs": [
    {
     "data": {
      "text/plain": [
       "224307.60859075942"
      ]
     },
     "execution_count": 107,
     "metadata": {},
     "output_type": "execute_result"
    }
   ],
   "source": [
    "altura = 0.0\n",
    "x = [0,10,15,20,32,59,62,125]\n",
    "y = [0,185,319,447,742,1325,1445,4151]\n",
    "xn = [0,125]\n",
    "coefs,_ = aproxima_onibus(x,y)\n",
    "p = Polynomial(coefs)\n",
    "altura += trapezio(p,xn[1],xn[2],1000)"
   ]
  },
  {
   "cell_type": "markdown",
   "metadata": {},
   "source": [
    "Com isso, temos que o ônibus espacial endeavour, no momento  $𝑡 = 125$, de acordo com a aproximação pela reta, estava na altura de aproximadamente $224307.60859075942$ pés, equivalente a aproximadamente $68.368959098463491841$ km"
   ]
  },
  {
   "cell_type": "markdown",
   "metadata": {},
   "source": [
    "# Exercício 3.a)\n",
    "\n",
    "Para este exercício, precisamos determinar uma aproximação para a área limitada ao primeiro quadrante da equação $x^2 + y^2 = 1$. Como utilizaremos o método do trapézio e estamos interessados apenas no primeiro quadrante, para simplificar as contas, utilizaremos a equação equivalente ao semi-círculo formado pelos 1º e 2º quadrantes, isto é, $y = \\sqrt{1 - x^2}$. Após finalizar estes cálculos, com a aproximação obtida, devemos fazer uma aproximação de $\\pi$ utilizando o valor encontrado.\n",
    "\n",
    "Para isto, adaptaremos o método do trapézio, utilizando a função trapezio_circulo, para fazer a aproximação utilizando a altura $h = 0.1$. Utilizaremos também a função interpolacao_circulo para sermos capazes de fornecer a reta para formar o trapézio."
   ]
  },
  {
   "cell_type": "code",
   "execution_count": 113,
   "metadata": {},
   "outputs": [
    {
     "data": {
      "text/plain": [
       "interpolacao_circulo (generic function with 1 method)"
      ]
     },
     "execution_count": 113,
     "metadata": {},
     "output_type": "execute_result"
    }
   ],
   "source": [
    "function interpolacao_circulo(x,y,grau)\n",
    "    # Cria a matriz V\n",
    "    V = vandermonde(x,y,grau)\n",
    "    c=V\\y # Resolve o sistema linear Vc=y\n",
    "    return c #vetor de coeficientes\n",
    "end"
   ]
  },
  {
   "cell_type": "code",
   "execution_count": 137,
   "metadata": {},
   "outputs": [
    {
     "data": {
      "text/plain": [
       "trapezio_circulo (generic function with 2 methods)"
      ]
     },
     "execution_count": 137,
     "metadata": {},
     "output_type": "execute_result"
    }
   ],
   "source": [
    "function trapezio_circulo(f,a,b) #calcular a integral f(x) de a até b\n",
    "    h=0.1\n",
    "    S=0.0\n",
    "    for i=1:(2)  #calcula o \"meio\"\n",
    "        x=a+i*h\n",
    "        S+=2*f(x)\n",
    "    end\n",
    "    S=h/2*(S+f(a)+f(b)) #calcula \"as pontas\"\n",
    "    return S\n",
    "end"
   ]
  },
  {
   "cell_type": "markdown",
   "metadata": {},
   "source": [
    "Utilizando então os limites de integração $a=0$ e $b=1$, podemos estimar a área do primeiro quadrante."
   ]
  },
  {
   "cell_type": "code",
   "execution_count": 138,
   "metadata": {},
   "outputs": [
    {
     "data": {
      "text/plain": [
       "-40.45"
      ]
     },
     "execution_count": 138,
     "metadata": {},
     "output_type": "execute_result"
    }
   ],
   "source": [
    "x = [0,1]\n",
    "y = [1,0]\n",
    "coefs = interpolacao_circulo(x,y,1)\n",
    "p = Polynomial(coefs)\n",
    "area = trapezio_circulo(p,x[1],x[2])"
   ]
  },
  {
   "cell_type": "markdown",
   "metadata": {},
   "source": [
    "Como a parte da função do primeiro quadrante é referente a $\\dfrac{\\pi}{4}$, podemos multiplicar a área encontrada para dar uma estimativa de $\\pi$."
   ]
  },
  {
   "cell_type": "code",
   "execution_count": 134,
   "metadata": {},
   "outputs": [
    {
     "data": {
      "text/plain": [
       "0.8800000000000001"
      ]
     },
     "execution_count": 134,
     "metadata": {},
     "output_type": "execute_result"
    }
   ],
   "source": [
    "area * 4"
   ]
  },
  {
   "cell_type": "code",
   "execution_count": null,
   "metadata": {},
   "outputs": [],
   "source": []
  },
  {
   "cell_type": "markdown",
   "metadata": {},
   "source": [
    "# Exercício 3.b)"
   ]
  },
  {
   "cell_type": "code",
   "execution_count": null,
   "metadata": {},
   "outputs": [],
   "source": []
  },
  {
   "cell_type": "code",
   "execution_count": null,
   "metadata": {},
   "outputs": [],
   "source": []
  },
  {
   "cell_type": "code",
   "execution_count": null,
   "metadata": {},
   "outputs": [],
   "source": []
  }
 ],
 "metadata": {
  "kernelspec": {
   "display_name": "Julia 1.6.4",
   "language": "julia",
   "name": "julia-1.6"
  },
  "language_info": {
   "file_extension": ".jl",
   "mimetype": "application/julia",
   "name": "julia",
   "version": "1.6.4"
  }
 },
 "nbformat": 4,
 "nbformat_minor": 4
}
