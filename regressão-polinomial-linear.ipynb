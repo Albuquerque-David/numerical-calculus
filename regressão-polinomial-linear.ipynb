{
 "cells": [
  {
   "cell_type": "code",
   "execution_count": null,
   "metadata": {},
   "outputs": [],
   "source": [
    "function vandermonde(x,y,grau)\n",
    "    n,=size(y)\n",
    "    V=zeros(n,grau+1)\n",
    "    for i=1:n #linhas\n",
    "        for j=1:(grau+1)\n",
    "            V[i,j]=x[i]^(j-1)\n",
    "        end\n",
    "    end\n",
    "    return V\n",
    "end"
   ]
  },
  {
   "cell_type": "code",
   "execution_count": null,
   "metadata": {},
   "outputs": [],
   "source": [
    "function regressão(x,y,grau)\n",
    "    V=vandermonde(x,y,grau)\n",
    "    c=V\\y #mínimos quadrados\n",
    "    return c\n",
    "end"
   ]
  }
 ],
 "metadata": {
  "kernelspec": {
   "display_name": "Julia 1.6.4",
   "language": "julia",
   "name": "julia-1.6"
  },
  "language_info": {
   "file_extension": ".jl",
   "mimetype": "application/julia",
   "name": "julia",
   "version": "1.6.4"
  }
 },
 "nbformat": 4,
 "nbformat_minor": 4
}
