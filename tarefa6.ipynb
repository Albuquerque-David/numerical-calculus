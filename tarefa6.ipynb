{
 "cells": [
  {
   "cell_type": "markdown",
   "metadata": {},
   "source": [
    "# Cálculo Numérico - 2021.2 - Tarefa 6 - Professor João Paixão\n",
    "## Realizado por: David Rodrigues Albuquerque - 120047390\n",
    "## Questões discutidas com: Beatriz Almeida Ramos, Carlos Bravo, Matheus Barroso"
   ]
  },
  {
   "cell_type": "code",
   "execution_count": 342,
   "metadata": {},
   "outputs": [],
   "source": [
    "using Plots\n",
    "using LinearAlgebra"
   ]
  },
  {
   "cell_type": "markdown",
   "metadata": {},
   "source": [
    "# Exercício 1)"
   ]
  },
  {
   "cell_type": "markdown",
   "metadata": {},
   "source": [
    "## I) Resolve_Diagonal"
   ]
  },
  {
   "cell_type": "code",
   "execution_count": 343,
   "metadata": {},
   "outputs": [
    {
     "data": {
      "text/plain": [
       "verifica_tamanho (generic function with 1 method)"
      ]
     },
     "metadata": {},
     "output_type": "display_data"
    }
   ],
   "source": [
    "# Entrada matriz A e b\n",
    "# Saida true  se a matriz A eh quadrada e se o numero de linhas da matriz B eh o mesmo numero de colunas da matriz A. False, caso contrario\n",
    "# Verifica se a matriz A eh quadrada e se o numero de linhas da matriz B eh o mesmo numero de colunas da matriz A.\n",
    "function verifica_tamanho(A,b)\n",
    "    if (size(A)[1] != size(A)[2]) # Verificando se a matriz eh quadrada\n",
    "        println(\"ERRO! Matriz A nao eh quadrada\")\n",
    "        return false\n",
    "    end\n",
    "\n",
    "    if (size(b)[1] != size(A)[2]) # Verificando se o numero de linhas de B eh o mesmo que de colunas de A\n",
    "        println(\"ERRO! O numero de linhas da matriz B não eh o mesmo do numero de colunas da matriz A\")\n",
    "        return false\n",
    "    end\n",
    "    \n",
    "    return true\n",
    "end"
   ]
  },
  {
   "cell_type": "code",
   "execution_count": 344,
   "metadata": {},
   "outputs": [
    {
     "data": {
      "text/plain": [
       "sistema_diagonal (generic function with 1 method)"
      ]
     },
     "metadata": {},
     "output_type": "display_data"
    }
   ],
   "source": [
    "# Entrada matriz A e b\n",
    "# Saída x tal que A * x = b\n",
    "# Onde A é a matriz em que a diagonal principal tem elementos diferentes de 0 e o restante dos elementos\n",
    "# possuem valor 0, a funcao a seguir resolver esse caso.\n",
    "function sistema_diagonal(A,b)\n",
    "    # inicializacao de variaveis  \n",
    "    n,=size(A)\n",
    "    x = zeros(n, 1)\n",
    "  \n",
    "    if (!verifica_tamanho(A,b))\n",
    "      return \"ERRO\"\n",
    "    end\n",
    "    \n",
    "    for i in 1:n\n",
    "      x[i] = b[i]/A[i,i] # Expressao que calcula  A * x = b\n",
    "    end\n",
    "  return x\n",
    "  end"
   ]
  },
  {
   "cell_type": "code",
   "execution_count": 345,
   "metadata": {},
   "outputs": [
    {
     "data": {
      "text/plain": [
       "true"
      ]
     },
     "metadata": {},
     "output_type": "display_data"
    }
   ],
   "source": [
    "# Exemplo 1\n",
    "A= [2 0 0;0 5 0;0 0 7]\n",
    "x_verdadeiro=randn(3,1)\n",
    "b=A*x_verdadeiro\n",
    "x_calculado=sistema_diagonal(A,b)\n",
    "norm(x_verdadeiro - x_calculado) < 10^-14\n"
   ]
  },
  {
   "cell_type": "code",
   "execution_count": 346,
   "metadata": {},
   "outputs": [
    {
     "data": {
      "text/plain": [
       "true"
      ]
     },
     "metadata": {},
     "output_type": "display_data"
    }
   ],
   "source": [
    "# Exemplo 2\n",
    "A= [342 0 0;0 12132 0;0 0 777]\n",
    "x_verdadeiro=randn(3,1)\n",
    "b=A*x_verdadeiro\n",
    "x_calculado=sistema_diagonal(A,b)\n",
    "norm(x_verdadeiro - x_calculado) < 10^-14"
   ]
  },
  {
   "cell_type": "code",
   "execution_count": 347,
   "metadata": {},
   "outputs": [
    {
     "data": {
      "text/plain": [
       "true"
      ]
     },
     "metadata": {},
     "output_type": "display_data"
    }
   ],
   "source": [
    "\n",
    "# Exemplo 3\n",
    "A= [423 0 0 0;0 4383 0 0;0 0 5 0; 0 0 0 9997]\n",
    "x_verdadeiro=randn(4,1)\n",
    "b=A*x_verdadeiro\n",
    "x_calculado=sistema_diagonal(A,b)\n",
    "norm(x_verdadeiro - x_calculado) < 10^-14"
   ]
  },
  {
   "cell_type": "markdown",
   "metadata": {},
   "source": [
    "## II) Resolve_Triangular_Superior"
   ]
  },
  {
   "cell_type": "code",
   "execution_count": 348,
   "metadata": {},
   "outputs": [
    {
     "data": {
      "text/plain": [
       "sistema_triangular_superior (generic function with 2 methods)"
      ]
     },
     "metadata": {},
     "output_type": "display_data"
    }
   ],
   "source": [
    "# Entrada matriz A e b\n",
    "# Saída x tal que A * x = b\n",
    "# Onde A é triangular superior aonde os elementos da diagonal são diferentes de zero e a parte inferior, por sua vez, eh composta por zeros\n",
    "function sistema_triangular_superior(A,b) \n",
    "  # inicializacao de variaveis\n",
    "  n,=size(A) \n",
    "  x = zeros(n, 1)\n",
    "  #verificação de erro no tamanho das matrizes\n",
    "  if (!verifica_tamanho(A,b))\n",
    "    return \"ERRO\"\n",
    "  end\n",
    "\n",
    "  for i in reverse(1:n) # comecamos da ultima linha da matriz, o percorrendo \"de baixo para cima\"\n",
    "    #na pratica isolamos a incognita da linha i, para descobrir o seu valor\n",
    "    #como comecamos na ultima linha, a variavel dessa linha ja tem seu valor conhecido\n",
    "    #a partir da penultima linha, as variaveis tem seus valores baseados na linha abaixo que áforam calculados. \n",
    "    soma = 0\n",
    "    for j in i+1:n\n",
    "        soma+=A[i, j]*x[j]\n",
    "    end \n",
    "    x[i] = (b[i] - soma)/(A[i,i])\n",
    "  end\n",
    "return x\n",
    "end\n"
   ]
  },
  {
   "cell_type": "code",
   "execution_count": 349,
   "metadata": {},
   "outputs": [
    {
     "data": {
      "text/plain": [
       "true"
      ]
     },
     "metadata": {},
     "output_type": "display_data"
    }
   ],
   "source": [
    "# Exemplo 1\n",
    "A= [2 3 4;0 5 7;0 0 9]\n",
    "x_verdadeiro=randn(3,1)\n",
    "b=A*x_verdadeiro\n",
    "x_calculado=sistema_triangular_superior(A,b)\n",
    "norm(x_verdadeiro - x_calculado) < 10^-14\n"
   ]
  },
  {
   "cell_type": "code",
   "execution_count": 350,
   "metadata": {},
   "outputs": [
    {
     "data": {
      "text/plain": [
       "true"
      ]
     },
     "metadata": {},
     "output_type": "display_data"
    }
   ],
   "source": [
    "# Exemplo 2\n",
    "A= [342 455 555;0 121 733;0 0 777]\n",
    "x_verdadeiro=randn(3,1)\n",
    "b=A*x_verdadeiro\n",
    "x_calculado=sistema_triangular_superior(A,b)\n",
    "norm(x_verdadeiro - x_calculado) < 10^-14"
   ]
  },
  {
   "cell_type": "code",
   "execution_count": 351,
   "metadata": {},
   "outputs": [
    {
     "data": {
      "text/plain": [
       "true"
      ]
     },
     "metadata": {},
     "output_type": "display_data"
    }
   ],
   "source": [
    "\n",
    "# Exemplo 3\n",
    "A= [423 834 -342 545;0 72 12 -14;0 0 4 5; 0 0 0 1]\n",
    "x_verdadeiro=randn(4,1)\n",
    "b=A*x_verdadeiro\n",
    "x_calculado=sistema_triangular_superior(A,b)\n",
    "norm(x_verdadeiro - x_calculado) < 10^-14"
   ]
  },
  {
   "cell_type": "markdown",
   "metadata": {},
   "source": [
    "## III) Resolve_Triangular_Inferior"
   ]
  },
  {
   "cell_type": "code",
   "execution_count": 352,
   "metadata": {},
   "outputs": [
    {
     "data": {
      "text/plain": [
       "sistema_triangular_inferior (generic function with 2 methods)"
      ]
     },
     "metadata": {},
     "output_type": "display_data"
    }
   ],
   "source": [
    "# Entrada matriz A e b\n",
    "# Saida x tal que A * x = b\n",
    "# onde A eh triangular inferior aonde os elementos da diagonal sao diferentes de zero e a parte superior, por sua vez, eh composta de zeros\n",
    "function sistema_triangular_inferior(A,b) #\n",
    "  # inicializacao de variaveis\n",
    "  n,=size(A)\n",
    "  x = zeros(n, 1)\n",
    "\n",
    "  if (!verifica_tamanho(A,b))\n",
    "    return \"ERRO\"\n",
    "  end\n",
    "\n",
    "  for i in 1:n\n",
    "    soma = 0\n",
    "\n",
    "    # comecamos da ultima linha da matriz, a percorrendo \"de baixo para cima\"\n",
    "    #na pratica isolamos a incognita da linha i, para descobrir o seu valor\n",
    "    #como comecamos na ultima linha, a variavel dessa linha ja tem seu valor conhecido\n",
    "    #a partir da penultima linha, as variaveis tem seus valores baseados na linha abaixo que já foram calculados.     \n",
    "    for j in 1:i-1\n",
    "        soma+=A[i, j]*x[j]\n",
    "    end \n",
    "    x[i] = (b[i] - soma)/(A[i,i])\n",
    "  end\n",
    "return x\n",
    "end"
   ]
  },
  {
   "cell_type": "code",
   "execution_count": 353,
   "metadata": {},
   "outputs": [
    {
     "data": {
      "text/plain": [
       "true"
      ]
     },
     "metadata": {},
     "output_type": "display_data"
    }
   ],
   "source": [
    "# Exemplo 1\n",
    "A= [4 0 0;5 7 0;2 3 9]\n",
    "x_verdadeiro=randn(3,1)\n",
    "b=A*x_verdadeiro\n",
    "x_calculado=sistema_triangular_inferior(A,b)\n",
    "norm(x_verdadeiro - x_calculado) < 10^-14\n"
   ]
  },
  {
   "cell_type": "code",
   "execution_count": 354,
   "metadata": {},
   "outputs": [
    {
     "data": {
      "text/plain": [
       "true"
      ]
     },
     "metadata": {},
     "output_type": "display_data"
    }
   ],
   "source": [
    "# Exemplo 2\n",
    "A= [342 0 0;645 121 0;455 666 777]\n",
    "x_verdadeiro=randn(3,1)\n",
    "b=A*x_verdadeiro\n",
    "x_calculado=sistema_triangular_inferior(A,b)\n",
    "norm(x_verdadeiro - x_calculado) < 10^-14"
   ]
  },
  {
   "cell_type": "code",
   "execution_count": 355,
   "metadata": {},
   "outputs": [
    {
     "data": {
      "text/plain": [
       "true"
      ]
     },
     "metadata": {},
     "output_type": "display_data"
    }
   ],
   "source": [
    "# Exemplo 3\n",
    "A= [423 0 0 0;150 72 0 0;42 24 543 0; 143 1312 10 11]\n",
    "x_verdadeiro=randn(4,1)\n",
    "b=A*x_verdadeiro\n",
    "x_calculado=sistema_triangular_inferior(A,b)\n",
    "norm(x_verdadeiro - x_calculado) < 10^-14"
   ]
  },
  {
   "cell_type": "markdown",
   "metadata": {},
   "source": [
    "## IV) Decomposição_LU"
   ]
  },
  {
   "cell_type": "code",
   "execution_count": 356,
   "metadata": {},
   "outputs": [
    {
     "data": {
      "text/plain": [
       "lu (generic function with 1 method)"
      ]
     },
     "metadata": {},
     "output_type": "display_data"
    }
   ],
   "source": [
    "# Entrada: matriz A\n",
    "# Saida: L, matriz triangular inferior de A e U matriz triangular superior de A\n",
    "# Fazemos a decomposicao da matriz A em duas matrizes L e U, tal que A = L * U\n",
    "function lu(A)\n",
    "    n,=size(A)\n",
    "    U = copy(A)\n",
    "    L = zeros(n, n)\n",
    "\n",
    "    for i in 1:n-1 # for por coluna\n",
    "        pivot = U[i,i]\n",
    "        L[i,i] = 1\n",
    "        for j in i+1:n # for da linha\n",
    "            fator = U[j,i]/pivot;\n",
    "            L[j,i] = fator\n",
    "            for k in 1:n # for pra calcular o valor da linha\n",
    "                U[j, k] -= fator * U[i,k] # calcula linha\n",
    "            end\n",
    "        end\n",
    "    end\n",
    "\n",
    "    L[n,n] = 1\n",
    "    \n",
    "    return L,U\n",
    "end\n",
    "\n",
    "            "
   ]
  },
  {
   "cell_type": "code",
   "execution_count": 357,
   "metadata": {},
   "outputs": [
    {
     "data": {
      "text/plain": [
       "sistema_denso (generic function with 1 method)"
      ]
     },
     "metadata": {},
     "output_type": "display_data"
    }
   ],
   "source": [
    "function sistema_denso(A,b)\n",
    "    #verificação de erro no tamanho das matrizes\n",
    "    if (!verifica_tamanho(A,b))\n",
    "        return \"ERRO\"\n",
    "    end\n",
    "\n",
    "    # chamamos a decomposicao de A em L e U\n",
    "    L,U=lu(A)\n",
    "    \n",
    "    y=sistema_triangular_inferior(L,b)\n",
    "    x=sistema_triangular_superior(U,y)\n",
    "    return x\n",
    "end"
   ]
  },
  {
   "cell_type": "code",
   "execution_count": 358,
   "metadata": {},
   "outputs": [
    {
     "data": {
      "text/plain": [
       "([1.0 0.0 0.0; 2.0 1.0 0.0; 3.0 3.0 1.0], [2.0 4.0 3.0; 0.0 2.0 3.0; 0.0 0.0 4.0])"
      ]
     },
     "metadata": {},
     "output_type": "display_data"
    }
   ],
   "source": [
    "# Exemplo 1\n",
    "A = [2.0 4.0 3.0; 4.0 10.0 9.0; 6.0 18.0 22.0]\n",
    "lu(A)"
   ]
  },
  {
   "cell_type": "code",
   "execution_count": 359,
   "metadata": {},
   "outputs": [
    {
     "data": {
      "text/plain": [
       "([1.0 0.0 0.0; 2.1904761904761907 1.0 0.0; 3.238095238095238 1.4444444444444444 1.0], [21.0 48.0 34.0; -7.105427357601002e-15 -95.14285714285715 16.52380952380952; 1.0263395072090336e-14 0.0 -108.96296296296296])"
      ]
     },
     "metadata": {},
     "output_type": "display_data"
    }
   ],
   "source": [
    "# Exemplo 2\n",
    "A = [21.0 48.0 34.0; 46.0 10.0 91.0; 68.0 18.0 25.0]\n",
    "lu(A)"
   ]
  },
  {
   "cell_type": "code",
   "execution_count": 360,
   "metadata": {},
   "outputs": [
    {
     "data": {
      "text/plain": [
       "([1.0 0.0 0.0; 5.0 1.0 0.0; 3.0 0.6153846153846154 1.0], [2.0 23.0 41.0; 0.0 -104.0 -193.0; 0.0 0.0 -3.2307692307692264])"
      ]
     },
     "metadata": {},
     "output_type": "display_data"
    }
   ],
   "source": [
    "# Exemplo 3\n",
    "A = [2.0 23.0 41.0; 10.0 11.0 12.0; 6.0 5.0 1.0]\n",
    "lu(A)"
   ]
  },
  {
   "cell_type": "code",
   "execution_count": 361,
   "metadata": {},
   "outputs": [
    {
     "data": {
      "text/plain": [
       "true"
      ]
     },
     "metadata": {},
     "output_type": "display_data"
    }
   ],
   "source": [
    "# Exemplo 1\n",
    "A = [2.0 4.0 3.0; 4.0 10.0 9.0; 6.0 18.0 22.0]\n",
    "x_verdadeiro=randn(3,1)\n",
    "b=A*x_verdadeiro\n",
    "x_calculado = sistema_denso(A,b)\n",
    "norm(x_verdadeiro - x_calculado) < 10^-14"
   ]
  },
  {
   "cell_type": "code",
   "execution_count": 362,
   "metadata": {},
   "outputs": [
    {
     "data": {
      "text/plain": [
       "true"
      ]
     },
     "metadata": {},
     "output_type": "display_data"
    }
   ],
   "source": [
    "# Exemplo 2\n",
    "A = [21.0 48.0 34.0; 46.0 10.0 91.0; 68.0 18.0 25.0]\n",
    "x_verdadeiro=randn(3,1)\n",
    "b=A*x_verdadeiro\n",
    "x_calculado = sistema_denso(A,b)\n",
    "norm(x_verdadeiro - x_calculado) < 10^-14"
   ]
  },
  {
   "cell_type": "code",
   "execution_count": 363,
   "metadata": {},
   "outputs": [
    {
     "data": {
      "text/plain": [
       "true"
      ]
     },
     "metadata": {},
     "output_type": "display_data"
    }
   ],
   "source": [
    "# Exemplo 3\n",
    "A = [2.0 23.0 41.0; 10.0 11.0 12.0; 6.0 5.0 1.0]\n",
    "x_verdadeiro=randn(3,1)\n",
    "b=A*x_verdadeiro\n",
    "x_calculado = sistema_denso(A,b)\n",
    "norm(x_verdadeiro - x_calculado) < 10^-14"
   ]
  },
  {
   "cell_type": "markdown",
   "metadata": {},
   "source": [
    "## V) Inversa + Complexidade"
   ]
  },
  {
   "cell_type": "markdown",
   "metadata": {},
   "source": [
    "Ao resolvemos o sistema de equações, b normalmente é tratado como um vetor\n",
    "\n",
    "Sabemos, por definição, que\n",
    "\n",
    "$$Ax = b$$\n",
    "$$LUx = (Ux) = b$$\n",
    "\n",
    "Sabemos também que, ao multiplicarmos uma matriz pela sua matriz inversa, obtemos a matriz identidade. Portanto, se colocarmos no algoritmo para resolver o sistema denso que a matriz $A$ e $b$, a matriz identidade, o $x$ retornado será uma coluna da matriz inversa de $A$. Com isto, como para cada linha da matriz de $b$, podemos iterar as linhas da matriz $b$ para obtermos cada coluna da matriz inversa $x$.\n",
    "\n",
    "A complexidade do algoritmo é O de n³. Isso porque fazemos um for até n para passar por cada linha da matriz identidade e a passamos para o sitema triangular inferior, que por sua vez tem complexidade o n², assim temos n*n² igual a n³. "
   ]
  },
  {
   "cell_type": "code",
   "execution_count": 364,
   "metadata": {},
   "outputs": [
    {
     "data": {
      "text/plain": [
       "matriz_inversa (generic function with 1 method)"
      ]
     },
     "metadata": {},
     "output_type": "display_data"
    }
   ],
   "source": [
    "function matriz_inversa(A)\n",
    "    n,=size(A)\n",
    "    b = zeros(n, n)\n",
    "    inverse = zeros(n,n)\n",
    "\n",
    "    #verificação de erro no tamanho das matrizes\n",
    "    if (!verifica_tamanho(A,b))\n",
    "        return \"ERRO\"\n",
    "    end\n",
    "\n",
    "    for i in 1:n\n",
    "        b[i,i] = 1\n",
    "    end\n",
    "\n",
    "    # chamamos a decomposicao de A em L e U\n",
    "    L,U=lu(A)\n",
    "    for i in 1:n\n",
    "        y=sistema_triangular_inferior(L,b[i,:])\n",
    "        x=sistema_triangular_superior(U,y)\n",
    "        inverse[[i],:]=x\n",
    "    end\n",
    "    \n",
    "    return inverse'\n",
    "end"
   ]
  },
  {
   "cell_type": "code",
   "execution_count": 365,
   "metadata": {},
   "outputs": [
    {
     "data": {
      "text/plain": [
       "3×3 Adjoint{Float64,Array{Float64,2}}:\n",
       " -1.0  -0.666667   0.666667\n",
       "  2.0  -1.66667    0.666667\n",
       " -1.0   2.0       -1.0"
      ]
     },
     "metadata": {},
     "output_type": "display_data"
    }
   ],
   "source": [
    "# Exemplo 1\n",
    "A = [1.0 2.0 2.0; 4.0 5.0 6.0; 7.0 8.0 9.0]\n",
    "x_calculado = matriz_inversa(A)"
   ]
  },
  {
   "cell_type": "code",
   "execution_count": 366,
   "metadata": {},
   "outputs": [
    {
     "data": {
      "text/plain": [
       "3×3 Adjoint{Float64,Array{Float64,2}}:\n",
       "  1.47458   -1.94915    0.322034\n",
       " -2.9661     4.4322    -0.762712\n",
       "  0.152542  -0.305085   0.0677966"
      ]
     },
     "metadata": {},
     "output_type": "display_data"
    }
   ],
   "source": [
    "# Exemplo 2\n",
    "A = [8.0 4.0 7.0; 10.0 6.0 20.0; 27.0 18.0 89.0]\n",
    "x_calculado = matriz_inversa(A)"
   ]
  },
  {
   "cell_type": "code",
   "execution_count": 367,
   "metadata": {},
   "outputs": [
    {
     "data": {
      "text/plain": [
       "3×3 Adjoint{Float64,Array{Float64,2}}:\n",
       "  0.325203  -0.138211   -0.00813008\n",
       " -0.745257   0.108401    0.143631\n",
       "  0.276423   0.0325203  -0.0569106"
      ]
     },
     "metadata": {},
     "output_type": "display_data"
    }
   ],
   "source": [
    "# Exemplo 3\n",
    "A = [4.0 3.0 7.0; 1.0 6.0 15.0; 20.0 18.0 25.0]\n",
    "x_calculado = matriz_inversa(A)"
   ]
  },
  {
   "cell_type": "markdown",
   "metadata": {},
   "source": [
    "# Exercício 2)"
   ]
  },
  {
   "cell_type": "markdown",
   "metadata": {},
   "source": [
    "# Exercício 3)"
   ]
  },
  {
   "cell_type": "markdown",
   "metadata": {},
   "source": [
    "# Exercício 4)"
   ]
  },
  {
   "cell_type": "markdown",
   "metadata": {},
   "source": []
  }
 ],
 "metadata": {
  "kernelspec": {
   "display_name": "Julia 1.5.3",
   "language": "julia",
   "name": "julia-1.5"
  },
  "language_info": {
   "file_extension": ".jl",
   "mimetype": "application/julia",
   "name": "julia",
   "version": "1.5.3"
  }
 },
 "nbformat": 4,
 "nbformat_minor": 4
}
