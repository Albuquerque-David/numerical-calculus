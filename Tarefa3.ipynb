{
 "cells": [
  {
   "cell_type": "markdown",
   "metadata": {},
   "source": [
    "# Cálculo Numérico - 2021.2 - Tarefa 3 - Professor João Paixão\n",
    "## Realizado por: David Rodrigues Albuquerque - 120047390\n",
    "## Questões discutidas com: Beatriz Almeida Ramos, Carlos Bravo, Matheus Barroso"
   ]
  },
  {
   "cell_type": "markdown",
   "metadata": {},
   "source": [
    "# Exercício 1.1\n",
    "\n",
    "Para o exercício proposto, devemos aproximar $\\sqrt{10}$ com o Método da Bissecção no intervalo $[0,20]$. Devemos também determinar quantos passos serão necessários caso seja necessário ter um erro máximo de $10^{-8}$. Para isto, devemos nos recordar que o erro do Método da Bissecção pode ser definido de duas formas.\n",
    "\n",
    "Erro no domínio: $x_{f} \\approx x_{c}$.\n",
    "\n",
    "Erro no contradomínio: $f(x_{f}) \\approx 0$\n",
    "\n",
    "Usaremos o erro no domínio, pois vamos encontrar $x$ tal que $f(x) = 0$, sendo este $x$ o valor que queremos aproximar $\\sqrt{10}$\n",
    "\n",
    "Para realizarmos nossa aproximação, devemos determinar inicialmente uma função sobre a qual aplicaremos o Método da Bissecção. Para isto, podemos procurar uma função tal que $f(\\sqrt{10}) = 0$. Trivialmente, podemos perceber que pode ser utilizada a função $f(x) = x^2 - 10$. Com isto, podemos fazer a aproximação do zero da função $f(x)$, que é o $\\sqrt{10}$. Podemos então aplicar diretamente o algoritmo para fazer uma aproximação.\n"
   ]
  },
  {
   "cell_type": "code",
   "execution_count": 40,
   "metadata": {},
   "outputs": [],
   "source": [
    "using LinearAlgebra"
   ]
  },
  {
   "cell_type": "code",
   "execution_count": 41,
   "metadata": {},
   "outputs": [
    {
     "data": {
      "text/plain": [
       "tem_sinais_opostos (generic function with 1 method)"
      ]
     },
     "metadata": {},
     "output_type": "display_data"
    }
   ],
   "source": [
    "# Função auxiliar para verificar sinais opostos\n",
    "function tem_sinais_opostos(f,a,b) #função recebe f(a) e f(b) não nulos\n",
    "    return f(a)*f(b) < 0\n",
    "end"
   ]
  },
  {
   "cell_type": "code",
   "execution_count": 42,
   "metadata": {},
   "outputs": [
    {
     "data": {
      "text/plain": [
       "bissecao_raiz_10 (generic function with 1 method)"
      ]
     },
     "metadata": {},
     "output_type": "display_data"
    }
   ],
   "source": [
    "# Método da Bissecção para aproximar raiz de 10 usando o polinômio x²-10 no intervalo [0,20]\n",
    "# Como os intervalos não são raízes e já tem sinais opostos, não nos preocuparemos com isto\n",
    "function bissecao_raiz_10(erro) \n",
    "    \n",
    "    # Intervalo [0,20]\n",
    "    a = 0 \n",
    "    b = 20 \n",
    "    f(x) = x^2-10 # Função x²-10\n",
    "    tamanho_final_do_intervalo = 2*erro\n",
    "    iteracoes = floor(log2((b-a)/tamanho_final_do_intervalo))+1\n",
    "    \n",
    "    for i=1:iteracoes\n",
    "        m=(a+b)/2\n",
    "        if f(m) == 0\n",
    "            return m\n",
    "        end\n",
    "        \n",
    "        if tem_sinais_opostos(f,a,m)\n",
    "            b=m\n",
    "        else\n",
    "            a=m\n",
    "        end\n",
    "    end\n",
    "    \n",
    "    x_final=(a+b)/2\n",
    "    return x_final, iteracoes\n",
    "end"
   ]
  },
  {
   "cell_type": "markdown",
   "metadata": {},
   "source": [
    "Com isto, podemos fazer a chamada do método passando o tamanho máximo do erro que o usuário solicita, pois o tamanho do intervalo final define uma distância ao $x$ real. Com isto, podemos obter o número de iterações necessárias para que o erro seja, no máximo, $10^{-8}$."
   ]
  },
  {
   "cell_type": "code",
   "execution_count": 43,
   "metadata": {},
   "outputs": [
    {
     "data": {
      "text/plain": [
       "(3.162277666851878, 30.0)"
      ]
     },
     "metadata": {},
     "output_type": "display_data"
    }
   ],
   "source": [
    "bissecao_raiz_10(10^-8)"
   ]
  },
  {
   "cell_type": "markdown",
   "metadata": {},
   "source": [
    "Com isto, obtemos uma aproximação de $\\sqrt{10} \\approx 3.162277666851878$ onde foram necessários $30$ passos para obter um erro máximo de $10^{-8}$. "
   ]
  },
  {
   "cell_type": "markdown",
   "metadata": {},
   "source": [
    "# Exercício 1.2)"
   ]
  },
  {
   "cell_type": "markdown",
   "metadata": {},
   "source": [
    "Para este exercício, faremos a implementação de 3 métodos. O primeiro método será responsável por nos indicar se as funções na bissecção tem sinais opostos. O segundo método é uma implementação genérica do Método de Newton, que receberá uma função, a derivada da função, a quantidade de iterações e o chute inicial como parâmetros, retornando assim uma aproximação do valor. O terceiro método será o Método da Bissecção, que receberá como parâmetro o polinômio de grau 5 e sua derivada. Esta última função realizará normalmente o cálculo através do Método da Bissecção deixando um intervalo de $10^{-2}$. Após isto, fará uma chamada para o Método de Newton passando como chute inicial essa aproximação e retornará esse valor final."
   ]
  },
  {
   "cell_type": "code",
   "execution_count": 44,
   "metadata": {},
   "outputs": [
    {
     "data": {
      "text/plain": [
       "tem_sinais_opostos (generic function with 1 method)"
      ]
     },
     "metadata": {},
     "output_type": "display_data"
    }
   ],
   "source": [
    "# Função auxiliar para verificar sinais opostos\n",
    "function tem_sinais_opostos(f,a,b) #função recebe f(a) e f(b) não nulos\n",
    "    return f(a)*f(b) < 0\n",
    "end"
   ]
  },
  {
   "cell_type": "code",
   "execution_count": 45,
   "metadata": {},
   "outputs": [
    {
     "data": {
      "text/plain": [
       "metodo_newton (generic function with 1 method)"
      ]
     },
     "metadata": {},
     "output_type": "display_data"
    }
   ],
   "source": [
    "# Método de Newton para a função f e f'\n",
    "function metodo_newton(f, fd, iteracoes, chute) # Função f, f', número de iteracoes e chute inicial\n",
    "    for i=1:iteracoes\n",
    "        chute = chute - (f(chute))/(fd(chute)) # Chute - f(chute)/f'(chute)\n",
    "    end\n",
    "    return chute # Aproximação do resultado. Quanto mais iterações, maior a precisão.\n",
    "end"
   ]
  },
  {
   "cell_type": "code",
   "execution_count": 46,
   "metadata": {},
   "outputs": [
    {
     "data": {
      "text/plain": [
       "bissecao (generic function with 1 method)"
      ]
     },
     "metadata": {},
     "output_type": "display_data"
    }
   ],
   "source": [
    "# Método da Bissecção para retornar uma raíz de um polinômio de grau 5 usando o Método da Bissecção e o Método de Newton.\n",
    "function bissecao(f, fd) \n",
    "    \n",
    "    # Intervalo [-100, 100]\n",
    "    a = -100 \n",
    "    b = 100\n",
    "    tamanho_final_do_intervalo = 10^-2\n",
    "    iteracoes = floor(log2((b-a)/tamanho_final_do_intervalo))+1\n",
    "    \n",
    "    if !(tem_sinais_opostos(f,a,b)) # Verificação de sinais opostos\n",
    "        return \"Não tem sinais opostos\"\n",
    "    end\n",
    "    \n",
    "    for i=1:iteracoes\n",
    "        m=(a+b)/2\n",
    "        if f(m) == 0\n",
    "            return m\n",
    "        end\n",
    "        \n",
    "        if tem_sinais_opostos(f,a,m)\n",
    "            b=m\n",
    "        else\n",
    "            a=m\n",
    "        end\n",
    "    end\n",
    "    \n",
    "    chute=(a+b)/2\n",
    "    x_final = metodo_newton(f, fd, 20, chute)\n",
    "    return x_final\n",
    "end"
   ]
  },
  {
   "cell_type": "markdown",
   "metadata": {},
   "source": [
    "Com isto, realizaremos uso do Método da Bissecção em conjunto com o Método de Newton para calcular uma das raízes de $f(x) = x^{5}-25$. Este método deve então nos dar uma aproximação de $\\sqrt[5]{25}$."
   ]
  },
  {
   "cell_type": "code",
   "execution_count": 47,
   "metadata": {},
   "outputs": [
    {
     "data": {
      "text/plain": [
       "1.9036539387158784"
      ]
     },
     "metadata": {},
     "output_type": "display_data"
    }
   ],
   "source": [
    "f(x) = x^5-25\n",
    "fd(x) = 5x^4\n",
    "bissecao(f, fd)"
   ]
  },
  {
   "cell_type": "markdown",
   "metadata": {},
   "source": [
    "# Exercício 1.3)"
   ]
  },
  {
   "cell_type": "markdown",
   "metadata": {},
   "source": [
    "Para este exercício, devemos escolher um dos métodos proposto e fazer uma aproximação de $ln(3)$. Usaremos o Método da Bissecção para realizar o cálculo. Devemos garantir também um intervalo menor que $10^{-3}$\n",
    "\n",
    "Para obtermos a aproximação, podemos utilizar uma aproximação pelo domínio, procurando alguma função tal que $f(ln(3)) = 0$. Para isto, como sabemos calcular $e^{x}$ para qualquer $x$ e sabemos as propriedades de $ln$, podemos utilizar a função $f(x) = 3 - e^{x}$, pois assim procuraremos no domínio da função o valor da raíz $ln(3)$, obtendo uma aproximação desta.\n",
    "\n",
    "Para isto, construiremos primeiro o método auxiliar de sinais apostos. Após insto, faremos o Método da Bissecção para o caso proposto, utilizando o intervalo $[-5,5]$."
   ]
  },
  {
   "cell_type": "code",
   "execution_count": 48,
   "metadata": {},
   "outputs": [
    {
     "data": {
      "text/plain": [
       "tem_sinais_opostos (generic function with 1 method)"
      ]
     },
     "metadata": {},
     "output_type": "display_data"
    }
   ],
   "source": [
    "# Função auxiliar para verificar sinais opostos\n",
    "function tem_sinais_opostos(f,a,b) #função recebe f(a) e f(b) não nulos\n",
    "    return f(a)*f(b) < 0\n",
    "end"
   ]
  },
  {
   "cell_type": "code",
   "execution_count": 49,
   "metadata": {},
   "outputs": [
    {
     "data": {
      "text/plain": [
       "bissecao_ln_3 (generic function with 1 method)"
      ]
     },
     "metadata": {},
     "output_type": "display_data"
    }
   ],
   "source": [
    "# Método da Bissecção para aproximar ln(3) usando a função 3 - exp(x) no intervalo [-5,5]\n",
    "# Como os intervalos não são raízes e já tem sinais opostos, não nos preocuparemos com isto\n",
    "function bissecao_ln_3(tamanho_final_do_intervalo) \n",
    "    \n",
    "    # Intervalo [-5,5]\n",
    "    a = -5\n",
    "    b = 5 \n",
    "    f(x) = 3 - exp(x) # Função 3-exp(x)\n",
    "    iteracoes = floor(log2((b-a)/tamanho_final_do_intervalo))+1\n",
    "    \n",
    "    for i=1:iteracoes\n",
    "        m=(a+b)/2\n",
    "        if f(m) == 0\n",
    "            return m\n",
    "        end\n",
    "        \n",
    "        if tem_sinais_opostos(f,a,m)\n",
    "            b=m\n",
    "        else\n",
    "            a=m\n",
    "        end\n",
    "    end\n",
    "    \n",
    "    x_final=(a+b)/2\n",
    "    return x_final\n",
    "end"
   ]
  },
  {
   "cell_type": "markdown",
   "metadata": {},
   "source": [
    "Com isto, podemos utilizar a função do Método da Bissecção criado para este caso passando um tamanho de intervalo menor que $10^{-3}$ para nos dar uma aproximação de $ln(3)$"
   ]
  },
  {
   "cell_type": "code",
   "execution_count": 50,
   "metadata": {},
   "outputs": [
    {
     "data": {
      "text/plain": [
       "1.0985946655273438"
      ]
     },
     "metadata": {},
     "output_type": "display_data"
    }
   ],
   "source": [
    "bissecao_ln_3(10^-4)"
   ]
  },
  {
   "cell_type": "markdown",
   "metadata": {},
   "source": [
    "# Exercício 1.4)"
   ]
  },
  {
   "cell_type": "markdown",
   "metadata": {},
   "source": [
    "Para o exercício proposto, devemos obter uma aproximação de $cos(40)$ utilizando o método da interpolação polinomial. Utilizaremos então um conjunto de pontos afim de montar o sistema de equações que resultará na matriz de Vandermonde para encontrarmos uma função aproximada que nos dará o valor de $cos(40)$.\n",
    "\n",
    "Vamos utilizar apenas os valores entre cos(30) e cos(60), pois assim podemos tirar uma aproximação da função trigonométrica próxima de um polinômio de grau 2 utilizando valores já conhecidos, isto é, cos(30), cos(45) e cos(60). Com isto, teremos uma função que passa pelos pontos $(x_{1},y_{1}),(x_{2},y_{2}),(x_{3},y_{3})$ e que nos dará um polinômio na forma \n",
    "$$P = c_{2}x^2 + c_{1}x + c_{0}$$\n",
    "\n",
    "Com isto, podemos montar o seguinte sistema de equações\n",
    "\n",
    "$$\n",
    "\\begin{cases}\n",
    "c_{2}x_{0}^2 + c_{1}x_{0} + c_{0} = y_{0} \\\\\n",
    "c_{2}x_{1}^2 + c_{1}x_{1} + c_{0} = y_{1} \\\\\n",
    "c_{2}x_{2}^2 + c_{1}x_{2} + c_{0} = y_{2} \\\\\n",
    "\\end{cases}\n",
    "$$\n",
    "\n",
    "Usaremos então os pontos $(30,\\dfrac{\\sqrt{3}}{2}),(45,\\dfrac{\\sqrt{2}}{2}),(60, \\dfrac{1}{2})$. Portanto, temos que \n",
    "\n",
    "\\begin{cases}\n",
    "c_{2}30^2 + c_{1}30 + c_{0} = \\dfrac{\\sqrt{3}}{2} \\\\\n",
    "c_{2}45^2 + c_{1}45 + c_{0} = \\dfrac{\\sqrt{2}}{2} \\\\\n",
    "c_{2}60^2 + c_{1}60 + c_{0} = \\dfrac{1}{2} \\\\\n",
    "\\end{cases}\n",
    "\n",
    "Com isto, podemos modelar as matrizes da seguinte forma\n",
    "\n",
    "\n",
    "$$\n",
    "V = \\begin{bmatrix}\n",
    "1 & 30 & 30^2 \\\\\n",
    "1 & 45 & 45^2 \\\\\n",
    "1 & 60 & 60^2 \\\\\n",
    "\\end{bmatrix}\n",
    "$$\n",
    "\n",
    "$$\n",
    "y = \\begin{bmatrix}\n",
    "\\dfrac{\\sqrt{3}}{2} \\\\\n",
    "\\dfrac{\\sqrt{2}}{2} \\\\\n",
    "\\dfrac{1}{2} \\\\\n",
    "\\end{bmatrix}\n",
    "$$\n",
    "\n",
    "$$\n",
    "C = \\begin{bmatrix}\n",
    "c_{0} \\\\\n",
    "c_{1} \\\\\n",
    "c_{2} \\\\\n",
    "\\end{bmatrix}\n",
    "$$\n",
    "\n",
    "Devemos então resolver o sistema tal que $V \\cdot c = y$. Vamos então utilizar o método interpolacao_cosseno_40 descrito abaixo para resolver o sistema, retornando os coeficientes do polinômio de grau 2.\n",
    "\n"
   ]
  },
  {
   "cell_type": "code",
   "execution_count": 51,
   "metadata": {},
   "outputs": [
    {
     "data": {
      "text/plain": [
       "interpolacao_cosseno (generic function with 1 method)"
      ]
     },
     "metadata": {},
     "output_type": "display_data"
    }
   ],
   "source": [
    "function interpolacao_cosseno()\n",
    "    # Cria a matriz V\n",
    "    x = [deg2rad(30);deg2rad(45);deg2rad(60)]\n",
    "    y = [cos(deg2rad(30)); cos(deg2rad(45)); cos(deg2rad(60))]\n",
    "    V=[x.^0 x.^1 x.^2]\n",
    "    c=V\\y # Resolve o sistema linear Vc=y\n",
    "    return c #vetor de coeficientes\n",
    "end"
   ]
  },
  {
   "cell_type": "markdown",
   "metadata": {},
   "source": [
    "Com isto, podemos utilizar o método para achar os coeficientes da polinômio de grau 2 que nos dá uma aproximação da função original. Podemos então armazenar esses coeficientes, montar a função quadrática e calcular uma aproximação de cos(40) a partir desta função."
   ]
  },
  {
   "cell_type": "code",
   "execution_count": 52,
   "metadata": {},
   "outputs": [
    {
     "data": {
      "text/plain": [
       "0.7654338952290287"
      ]
     },
     "metadata": {},
     "output_type": "display_data"
    }
   ],
   "source": [
    "coefs = interpolacao_cosseno()\n",
    "c2 = coefs[3]\n",
    "c1 = coefs[2]\n",
    "c0 = coefs[1]\n",
    "f(x) = c2*(x^2) + c1*x + c0\n",
    "f(deg2rad(40))"
   ]
  },
  {
   "cell_type": "markdown",
   "metadata": {},
   "source": [
    "# Exercício 1.5)\n",
    "\n",
    "Para este exercício, devemos descobrir o horário ou uma interpolação do horário em que houve um assassinato. De acordo com a descrição, as tempratura registradas foram\n",
    "\n",
    "#### 15h00: 34ºC\n",
    "#### 16h30: 30ºC\n",
    "#### 17h30: 25ºC\n",
    "\n",
    "Utilizando interpolação polinomial, podemos gerar uma aproximação de uma função que represente o caso descrito utilizando os pontos $(15,34)$,$(16.5,30)$,$(17.5,25)$, pois correlacionam cada hora com uma temperatura registrada. Com isto, temos vamos ter na saída um polinômio na forma\n",
    "\n",
    "$$P = c_{2}x^2 + c_{1}x + c_{0}$$\n",
    "\n",
    "Podemos então montar o seguinte sistema de equações\n",
    "\n",
    "Com isto, podemos montar o seguinte sistema de equações\n",
    "\n",
    "$$\n",
    "\\begin{cases}\n",
    "c_{2}x_{0}^2 + c_{1}x_{0} + c_{0} = y_{0} \\\\\n",
    "c_{2}x_{1}^2 + c_{1}x_{1} + c_{0} = y_{1} \\\\\n",
    "c_{2}x_{2}^2 + c_{1}x_{2} + c_{0} = y_{2} \\\\\n",
    "\\end{cases}\n",
    "$$\n",
    "\n",
    "Com isto, podemos modelar as matrizes da seguinte forma\n",
    "\n",
    "$$\n",
    "V = \\begin{bmatrix}\n",
    "1 & 15 & 15^2 \\\\\n",
    "1 & 16.5 & 16.5^2 \\\\\n",
    "1 & 17.5 & 17.5^2 \\\\\n",
    "\\end{bmatrix}\n",
    "$$\n",
    "\n",
    "$$\n",
    "y = \\begin{bmatrix}\n",
    "34 \\\\\n",
    "30 \\\\\n",
    "25 \\\\\n",
    "\\end{bmatrix}\n",
    "$$\n",
    "\n",
    "$$\n",
    "C = \\begin{bmatrix}\n",
    "c_{0} \\\\\n",
    "c_{1} \\\\\n",
    "c_{2} \\\\\n",
    "\\end{bmatrix}\n",
    "$$\n",
    "\n",
    "Devemos então resolver o sistema tal que $V \\cdot c = y$. Vamos então utilizar o método interpolacao_crime descrito abaixo para resolver o sistema, retornando os coeficientes do polinômio de grau 2."
   ]
  },
  {
   "cell_type": "code",
   "execution_count": 53,
   "metadata": {},
   "outputs": [
    {
     "data": {
      "text/plain": [
       "interpolacao_crime (generic function with 1 method)"
      ]
     },
     "metadata": {},
     "output_type": "display_data"
    }
   ],
   "source": [
    "function interpolacao_crime()\n",
    "    # Cria a matriz V\n",
    "    x = [15; 16.5; 17.5]\n",
    "    y = [34; 30; 25]\n",
    "    V=[x.^0 x.^1 x.^2]\n",
    "    c=V\\y # Resolve o sistema linear Vc=y\n",
    "    return c #vetor de coeficientes\n",
    "end"
   ]
  },
  {
   "cell_type": "markdown",
   "metadata": {},
   "source": [
    "Com isto, podemos gerar uma função polinomial e um tempo aproximado do horário da morte."
   ]
  },
  {
   "cell_type": "code",
   "execution_count": 54,
   "metadata": {},
   "outputs": [
    {
     "data": {
      "image/png": "[encoded data removed]",
      "image/svg+xml": "<?xml version=\"1.0\" encoding=\"utf-8\"?>\n<svg xmlns=\"http://www.w3.org/2000/svg\" xmlns:xlink=\"http://www.w3.org/1999/xlink\" width=\"600\" height=\"400\" viewBox=\"0 0 2400 1600\">\n<defs>\n  <clipPath id=\"clip160\">\n    <rect x=\"0\" y=\"0\" width=\"2400\" height=\"1600\"/>\n  </clipPath>\n</defs>\n<path clip-path=\"url(#clip160)\" d=\"\nM0 1600 L2400 1600 L2400 0 L0 0  Z\n  \" fill=\"#ffffff\" fill-rule=\"evenodd\" fill-opacity=\"1\"/>\n<defs>\n  <clipPath id=\"clip161\">\n    <rect x=\"480\" y=\"0\" width=\"1681\" height=\"1600\"/>\n  </clipPath>\n</defs>\n<path clip-path=\"url(#clip160)\" d=\"\nM140.696 1486.45 L2352.76 1486.45 L2352.76 47.2441 L140.696 47.2441  Z\n  \" fill=\"#ffffff\" fill-rule=\"evenodd\" fill-opacity=\"1\"/>\n<defs>\n  <clipPath id=\"clip162\">\n    <rect x=\"140\" y=\"47\" width=\"2213\" height=\"1440\"/>\n  </clipPath>\n</defs>\n<polyline clip-path=\"url(#clip162)\" style=\"stroke:#000000; stroke-linecap:butt; stroke-linejoin:round; stroke-width:2; stroke-opacity:0.1; fill:none\" points=\"\n  203.301,1486.45 203.301,47.2441 \n  \"/>\n<polyline clip-path=\"url(#clip162)\" style=\"stroke:#000000; stroke-linecap:butt; stroke-linejoin:round; stroke-width:2; stroke-opacity:0.1; fill:none\" points=\"\n  725.013,1486.45 725.013,47.2441 \n  \"/>\n<polyline clip-path=\"url(#clip162)\" style=\"stroke:#000000; stroke-linecap:butt; stroke-linejoin:round; stroke-width:2; stroke-opacity:0.1; fill:none\" points=\"\n  1246.73,1486.45 1246.73,47.2441 \n  \"/>\n<polyline clip-path=\"url(#clip162)\" style=\"stroke:#000000; stroke-linecap:butt; stroke-linejoin:round; stroke-width:2; stroke-opacity:0.1; fill:none\" points=\"\n  1768.44,1486.45 1768.44,47.2441 \n  \"/>\n<polyline clip-path=\"url(#clip162)\" style=\"stroke:#000000; stroke-linecap:butt; stroke-linejoin:round; stroke-width:2; stroke-opacity:0.1; fill:none\" points=\"\n  2290.15,1486.45 2290.15,47.2441 \n  \"/>\n<polyline clip-path=\"url(#clip160)\" style=\"stroke:#000000; stroke-linecap:butt; stroke-linejoin:round; stroke-width:4; stroke-opacity:1; fill:none\" points=\"\n  140.696,1486.45 2352.76,1486.45 \n  \"/>\n<polyline clip-path=\"url(#clip160)\" style=\"stroke:#000000; stroke-linecap:butt; stroke-linejoin:round; stroke-width:4; stroke-opacity:1; fill:none\" points=\"\n  203.301,1486.45 203.301,1467.55 \n  \"/>\n<polyline clip-path=\"url(#clip160)\" style=\"stroke:#000000; stroke-linecap:butt; stroke-linejoin:round; stroke-width:4; stroke-opacity:1; fill:none\" points=\"\n  725.013,1486.45 725.013,1467.55 \n  \"/>\n<polyline clip-path=\"url(#clip160)\" style=\"stroke:#000000; stroke-linecap:butt; stroke-linejoin:round; stroke-width:4; stroke-opacity:1; fill:none\" points=\"\n  1246.73,1486.45 1246.73,1467.55 \n  \"/>\n<polyline clip-path=\"url(#clip160)\" style=\"stroke:#000000; stroke-linecap:butt; stroke-linejoin:round; stroke-width:4; stroke-opacity:1; fill:none\" points=\"\n  1768.44,1486.45 1768.44,1467.55 \n  \"/>\n<polyline clip-path=\"url(#clip160)\" style=\"stroke:#000000; stroke-linecap:butt; stroke-linejoin:round; stroke-width:4; stroke-opacity:1; fill:none\" points=\"\n  2290.15,1486.45 2290.15,1467.55 \n  \"/>\n<path clip-path=\"url(#clip160)\" d=\"M155.373 1544.91 L163.012 1544.91 L163.012 1518.55 L154.702 1520.21 L154.702 1515.95 L162.966 1514.29 L167.641 1514.29 L167.641 1544.91 L175.28 1544.91 L175.28 1548.85 L155.373 1548.85 L155.373 1544.91 Z\" fill=\"#000000\" fill-rule=\"evenodd\" fill-opacity=\"1\" /><path clip-path=\"url(#clip160)\" d=\"M194.725 1517.37 Q191.114 1517.37 189.285 1520.93 Q187.479 1524.47 187.479 1531.6 Q187.479 1538.71 189.285 1542.27 Q191.114 1545.82 194.725 1545.82 Q198.359 1545.82 200.164 1542.27 Q201.993 1538.71 201.993 1531.6 Q201.993 1524.47 200.164 1520.93 Q198.359 1517.37 194.725 1517.37 M194.725 1513.66 Q200.535 1513.66 203.59 1518.27 Q206.669 1522.85 206.669 1531.6 Q206.669 1540.33 203.59 1544.94 Q200.535 1549.52 194.725 1549.52 Q188.915 1549.52 185.836 1544.94 Q182.78 1540.33 182.78 1531.6 Q182.78 1522.85 185.836 1518.27 Q188.915 1513.66 194.725 1513.66 Z\" fill=\"#000000\" fill-rule=\"evenodd\" fill-opacity=\"1\" /><path clip-path=\"url(#clip160)\" d=\"M214.887 1542.97 L219.771 1542.97 L219.771 1548.85 L214.887 1548.85 L214.887 1542.97 Z\" fill=\"#000000\" fill-rule=\"evenodd\" fill-opacity=\"1\" /><path clip-path=\"url(#clip160)\" d=\"M239.956 1517.37 Q236.345 1517.37 234.516 1520.93 Q232.711 1524.47 232.711 1531.6 Q232.711 1538.71 234.516 1542.27 Q236.345 1545.82 239.956 1545.82 Q243.59 1545.82 245.396 1542.27 Q247.224 1538.71 247.224 1531.6 Q247.224 1524.47 245.396 1520.93 Q243.59 1517.37 239.956 1517.37 M239.956 1513.66 Q245.766 1513.66 248.822 1518.27 Q251.9 1522.85 251.9 1531.6 Q251.9 1540.33 248.822 1544.94 Q245.766 1549.52 239.956 1549.52 Q234.146 1549.52 231.067 1544.94 Q228.012 1540.33 228.012 1531.6 Q228.012 1522.85 231.067 1518.27 Q234.146 1513.66 239.956 1513.66 Z\" fill=\"#000000\" fill-rule=\"evenodd\" fill-opacity=\"1\" /><path clip-path=\"url(#clip160)\" d=\"M677.583 1544.91 L685.222 1544.91 L685.222 1518.55 L676.912 1520.21 L676.912 1515.95 L685.176 1514.29 L689.852 1514.29 L689.852 1544.91 L697.49 1544.91 L697.49 1548.85 L677.583 1548.85 L677.583 1544.91 Z\" fill=\"#000000\" fill-rule=\"evenodd\" fill-opacity=\"1\" /><path clip-path=\"url(#clip160)\" d=\"M710.963 1544.91 L727.282 1544.91 L727.282 1548.85 L705.338 1548.85 L705.338 1544.91 Q708 1542.16 712.583 1537.53 Q717.189 1532.88 718.37 1531.53 Q720.615 1529.01 721.495 1527.27 Q722.398 1525.51 722.398 1523.82 Q722.398 1521.07 720.453 1519.33 Q718.532 1517.6 715.43 1517.6 Q713.231 1517.6 710.777 1518.36 Q708.347 1519.13 705.569 1520.68 L705.569 1515.95 Q708.393 1514.82 710.847 1514.24 Q713.3 1513.66 715.337 1513.66 Q720.708 1513.66 723.902 1516.35 Q727.097 1519.03 727.097 1523.52 Q727.097 1525.65 726.287 1527.57 Q725.499 1529.47 723.393 1532.07 Q722.814 1532.74 719.712 1535.95 Q716.611 1539.15 710.963 1544.91 Z\" fill=\"#000000\" fill-rule=\"evenodd\" fill-opacity=\"1\" /><path clip-path=\"url(#clip160)\" d=\"M737.097 1542.97 L741.981 1542.97 L741.981 1548.85 L737.097 1548.85 L737.097 1542.97 Z\" fill=\"#000000\" fill-rule=\"evenodd\" fill-opacity=\"1\" /><path clip-path=\"url(#clip160)\" d=\"M752.212 1514.29 L770.569 1514.29 L770.569 1518.22 L756.495 1518.22 L756.495 1526.7 Q757.513 1526.35 758.532 1526.19 Q759.55 1526 760.569 1526 Q766.356 1526 769.735 1529.17 Q773.115 1532.34 773.115 1537.76 Q773.115 1543.34 769.643 1546.44 Q766.171 1549.52 759.851 1549.52 Q757.675 1549.52 755.407 1549.15 Q753.161 1548.78 750.754 1548.04 L750.754 1543.34 Q752.837 1544.47 755.06 1545.03 Q757.282 1545.58 759.759 1545.58 Q763.763 1545.58 766.101 1543.48 Q768.439 1541.37 768.439 1537.76 Q768.439 1534.15 766.101 1532.04 Q763.763 1529.94 759.759 1529.94 Q757.884 1529.94 756.009 1530.35 Q754.157 1530.77 752.212 1531.65 L752.212 1514.29 Z\" fill=\"#000000\" fill-rule=\"evenodd\" fill-opacity=\"1\" /><path clip-path=\"url(#clip160)\" d=\"M1198.8 1544.91 L1206.44 1544.91 L1206.44 1518.55 L1198.13 1520.21 L1198.13 1515.95 L1206.39 1514.29 L1211.07 1514.29 L1211.07 1544.91 L1218.71 1544.91 L1218.71 1548.85 L1198.8 1548.85 L1198.8 1544.91 Z\" fill=\"#000000\" fill-rule=\"evenodd\" fill-opacity=\"1\" /><path clip-path=\"url(#clip160)\" d=\"M1228.2 1514.29 L1246.55 1514.29 L1246.55 1518.22 L1232.48 1518.22 L1232.48 1526.7 Q1233.5 1526.35 1234.52 1526.19 Q1235.53 1526 1236.55 1526 Q1242.34 1526 1245.72 1529.17 Q1249.1 1532.34 1249.1 1537.76 Q1249.1 1543.34 1245.63 1546.44 Q1242.15 1549.52 1235.83 1549.52 Q1233.66 1549.52 1231.39 1549.15 Q1229.14 1548.78 1226.74 1548.04 L1226.74 1543.34 Q1228.82 1544.47 1231.04 1545.03 Q1233.27 1545.58 1235.74 1545.58 Q1239.75 1545.58 1242.08 1543.48 Q1244.42 1541.37 1244.42 1537.76 Q1244.42 1534.15 1242.08 1532.04 Q1239.75 1529.94 1235.74 1529.94 Q1233.87 1529.94 1231.99 1530.35 Q1230.14 1530.77 1228.2 1531.65 L1228.2 1514.29 Z\" fill=\"#000000\" fill-rule=\"evenodd\" fill-opacity=\"1\" /><path clip-path=\"url(#clip160)\" d=\"M1258.31 1542.97 L1263.2 1542.97 L1263.2 1548.85 L1258.31 1548.85 L1258.31 1542.97 Z\" fill=\"#000000\" fill-rule=\"evenodd\" fill-opacity=\"1\" /><path clip-path=\"url(#clip160)\" d=\"M1283.38 1517.37 Q1279.77 1517.37 1277.94 1520.93 Q1276.14 1524.47 1276.14 1531.6 Q1276.14 1538.71 1277.94 1542.27 Q1279.77 1545.82 1283.38 1545.82 Q1287.01 1545.82 1288.82 1542.27 Q1290.65 1538.71 1290.65 1531.6 Q1290.65 1524.47 1288.82 1520.93 Q1287.01 1517.37 1283.38 1517.37 M1283.38 1513.66 Q1289.19 1513.66 1292.25 1518.27 Q1295.33 1522.85 1295.33 1531.6 Q1295.33 1540.33 1292.25 1544.94 Q1289.19 1549.52 1283.38 1549.52 Q1277.57 1549.52 1274.49 1544.94 Q1271.44 1540.33 1271.44 1531.6 Q1271.44 1522.85 1274.49 1518.27 Q1277.57 1513.66 1283.38 1513.66 Z\" fill=\"#000000\" fill-rule=\"evenodd\" fill-opacity=\"1\" /><path clip-path=\"url(#clip160)\" d=\"M1721.01 1544.91 L1728.65 1544.91 L1728.65 1518.55 L1720.34 1520.21 L1720.34 1515.95 L1728.6 1514.29 L1733.28 1514.29 L1733.28 1544.91 L1740.92 1544.91 L1740.92 1548.85 L1721.01 1548.85 L1721.01 1544.91 Z\" fill=\"#000000\" fill-rule=\"evenodd\" fill-opacity=\"1\" /><path clip-path=\"url(#clip160)\" d=\"M1749.18 1514.29 L1771.4 1514.29 L1771.4 1516.28 L1758.85 1548.85 L1753.97 1548.85 L1765.78 1518.22 L1749.18 1518.22 L1749.18 1514.29 Z\" fill=\"#000000\" fill-rule=\"evenodd\" fill-opacity=\"1\" /><path clip-path=\"url(#clip160)\" d=\"M1780.52 1542.97 L1785.41 1542.97 L1785.41 1548.85 L1780.52 1548.85 L1780.52 1542.97 Z\" fill=\"#000000\" fill-rule=\"evenodd\" fill-opacity=\"1\" /><path clip-path=\"url(#clip160)\" d=\"M1795.64 1514.29 L1813.99 1514.29 L1813.99 1518.22 L1799.92 1518.22 L1799.92 1526.7 Q1800.94 1526.35 1801.96 1526.19 Q1802.97 1526 1803.99 1526 Q1809.78 1526 1813.16 1529.17 Q1816.54 1532.34 1816.54 1537.76 Q1816.54 1543.34 1813.07 1546.44 Q1809.6 1549.52 1803.28 1549.52 Q1801.1 1549.52 1798.83 1549.15 Q1796.59 1548.78 1794.18 1548.04 L1794.18 1543.34 Q1796.26 1544.47 1798.48 1545.03 Q1800.71 1545.58 1803.18 1545.58 Q1807.19 1545.58 1809.53 1543.48 Q1811.86 1541.37 1811.86 1537.76 Q1811.86 1534.15 1809.53 1532.04 Q1807.19 1529.94 1803.18 1529.94 Q1801.31 1529.94 1799.43 1530.35 Q1797.58 1530.77 1795.64 1531.65 L1795.64 1514.29 Z\" fill=\"#000000\" fill-rule=\"evenodd\" fill-opacity=\"1\" /><path clip-path=\"url(#clip160)\" d=\"M2246.31 1544.91 L2262.63 1544.91 L2262.63 1548.85 L2240.68 1548.85 L2240.68 1544.91 Q2243.35 1542.16 2247.93 1537.53 Q2252.53 1532.88 2253.72 1531.53 Q2255.96 1529.01 2256.84 1527.27 Q2257.74 1525.51 2257.74 1523.82 Q2257.74 1521.07 2255.8 1519.33 Q2253.88 1517.6 2250.78 1517.6 Q2248.58 1517.6 2246.12 1518.36 Q2243.69 1519.13 2240.91 1520.68 L2240.91 1515.95 Q2243.74 1514.82 2246.19 1514.24 Q2248.65 1513.66 2250.68 1513.66 Q2256.05 1513.66 2259.25 1516.35 Q2262.44 1519.03 2262.44 1523.52 Q2262.44 1525.65 2261.63 1527.57 Q2260.85 1529.47 2258.74 1532.07 Q2258.16 1532.74 2255.06 1535.95 Q2251.96 1539.15 2246.31 1544.91 Z\" fill=\"#000000\" fill-rule=\"evenodd\" fill-opacity=\"1\" /><path clip-path=\"url(#clip160)\" d=\"M2282.44 1517.37 Q2278.83 1517.37 2277 1520.93 Q2275.2 1524.47 2275.2 1531.6 Q2275.2 1538.71 2277 1542.27 Q2278.83 1545.82 2282.44 1545.82 Q2286.08 1545.82 2287.88 1542.27 Q2289.71 1538.71 2289.71 1531.6 Q2289.71 1524.47 2287.88 1520.93 Q2286.08 1517.37 2282.44 1517.37 M2282.44 1513.66 Q2288.25 1513.66 2291.31 1518.27 Q2294.39 1522.85 2294.39 1531.6 Q2294.39 1540.33 2291.31 1544.94 Q2288.25 1549.52 2282.44 1549.52 Q2276.63 1549.52 2273.55 1544.94 Q2270.5 1540.33 2270.5 1531.6 Q2270.5 1522.85 2273.55 1518.27 Q2276.63 1513.66 2282.44 1513.66 Z\" fill=\"#000000\" fill-rule=\"evenodd\" fill-opacity=\"1\" /><path clip-path=\"url(#clip160)\" d=\"M2302.6 1542.97 L2307.49 1542.97 L2307.49 1548.85 L2302.6 1548.85 L2302.6 1542.97 Z\" fill=\"#000000\" fill-rule=\"evenodd\" fill-opacity=\"1\" /><path clip-path=\"url(#clip160)\" d=\"M2327.67 1517.37 Q2324.06 1517.37 2322.23 1520.93 Q2320.43 1524.47 2320.43 1531.6 Q2320.43 1538.71 2322.23 1542.27 Q2324.06 1545.82 2327.67 1545.82 Q2331.31 1545.82 2333.11 1542.27 Q2334.94 1538.71 2334.94 1531.6 Q2334.94 1524.47 2333.11 1520.93 Q2331.31 1517.37 2327.67 1517.37 M2327.67 1513.66 Q2333.48 1513.66 2336.54 1518.27 Q2339.62 1522.85 2339.62 1531.6 Q2339.62 1540.33 2336.54 1544.94 Q2333.48 1549.52 2327.67 1549.52 Q2321.86 1549.52 2318.78 1544.94 Q2315.73 1540.33 2315.73 1531.6 Q2315.73 1522.85 2318.78 1518.27 Q2321.86 1513.66 2327.67 1513.66 Z\" fill=\"#000000\" fill-rule=\"evenodd\" fill-opacity=\"1\" /><polyline clip-path=\"url(#clip162)\" style=\"stroke:#000000; stroke-linecap:butt; stroke-linejoin:round; stroke-width:2; stroke-opacity:0.1; fill:none\" points=\"\n  140.696,1415.64 2352.76,1415.64 \n  \"/>\n<polyline clip-path=\"url(#clip162)\" style=\"stroke:#000000; stroke-linecap:butt; stroke-linejoin:round; stroke-width:2; stroke-opacity:0.1; fill:none\" points=\"\n  140.696,1190.06 2352.76,1190.06 \n  \"/>\n<polyline clip-path=\"url(#clip162)\" style=\"stroke:#000000; stroke-linecap:butt; stroke-linejoin:round; stroke-width:2; stroke-opacity:0.1; fill:none\" points=\"\n  140.696,964.481 2352.76,964.481 \n  \"/>\n<polyline clip-path=\"url(#clip162)\" style=\"stroke:#000000; stroke-linecap:butt; stroke-linejoin:round; stroke-width:2; stroke-opacity:0.1; fill:none\" points=\"\n  140.696,738.902 2352.76,738.902 \n  \"/>\n<polyline clip-path=\"url(#clip162)\" style=\"stroke:#000000; stroke-linecap:butt; stroke-linejoin:round; stroke-width:2; stroke-opacity:0.1; fill:none\" points=\"\n  140.696,513.324 2352.76,513.324 \n  \"/>\n<polyline clip-path=\"url(#clip162)\" style=\"stroke:#000000; stroke-linecap:butt; stroke-linejoin:round; stroke-width:2; stroke-opacity:0.1; fill:none\" points=\"\n  140.696,287.745 2352.76,287.745 \n  \"/>\n<polyline clip-path=\"url(#clip162)\" style=\"stroke:#000000; stroke-linecap:butt; stroke-linejoin:round; stroke-width:2; stroke-opacity:0.1; fill:none\" points=\"\n  140.696,62.1663 2352.76,62.1663 \n  \"/>\n<polyline clip-path=\"url(#clip160)\" style=\"stroke:#000000; stroke-linecap:butt; stroke-linejoin:round; stroke-width:4; stroke-opacity:1; fill:none\" points=\"\n  140.696,1486.45 140.696,47.2441 \n  \"/>\n<polyline clip-path=\"url(#clip160)\" style=\"stroke:#000000; stroke-linecap:butt; stroke-linejoin:round; stroke-width:4; stroke-opacity:1; fill:none\" points=\"\n  140.696,1415.64 159.593,1415.64 \n  \"/>\n<polyline clip-path=\"url(#clip160)\" style=\"stroke:#000000; stroke-linecap:butt; stroke-linejoin:round; stroke-width:4; stroke-opacity:1; fill:none\" points=\"\n  140.696,1190.06 159.593,1190.06 \n  \"/>\n<polyline clip-path=\"url(#clip160)\" style=\"stroke:#000000; stroke-linecap:butt; stroke-linejoin:round; stroke-width:4; stroke-opacity:1; fill:none\" points=\"\n  140.696,964.481 159.593,964.481 \n  \"/>\n<polyline clip-path=\"url(#clip160)\" style=\"stroke:#000000; stroke-linecap:butt; stroke-linejoin:round; stroke-width:4; stroke-opacity:1; fill:none\" points=\"\n  140.696,738.902 159.593,738.902 \n  \"/>\n<polyline clip-path=\"url(#clip160)\" style=\"stroke:#000000; stroke-linecap:butt; stroke-linejoin:round; stroke-width:4; stroke-opacity:1; fill:none\" points=\"\n  140.696,513.324 159.593,513.324 \n  \"/>\n<polyline clip-path=\"url(#clip160)\" style=\"stroke:#000000; stroke-linecap:butt; stroke-linejoin:round; stroke-width:4; stroke-opacity:1; fill:none\" points=\"\n  140.696,287.745 159.593,287.745 \n  \"/>\n<polyline clip-path=\"url(#clip160)\" style=\"stroke:#000000; stroke-linecap:butt; stroke-linejoin:round; stroke-width:4; stroke-opacity:1; fill:none\" points=\"\n  140.696,62.1663 159.593,62.1663 \n  \"/>\n<path clip-path=\"url(#clip160)\" d=\"M83.7929 1398.36 L102.149 1398.36 L102.149 1402.29 L88.0753 1402.29 L88.0753 1410.77 Q89.0938 1410.42 90.1123 1410.26 Q91.1308 1410.07 92.1493 1410.07 Q97.9363 1410.07 101.316 1413.24 Q104.696 1416.41 104.696 1421.83 Q104.696 1427.41 101.223 1430.51 Q97.7511 1433.59 91.4317 1433.59 Q89.2558 1433.59 86.9873 1433.22 Q84.7419 1432.85 82.3346 1432.11 L82.3346 1427.41 Q84.4179 1428.54 86.6401 1429.1 Q88.8623 1429.65 91.3391 1429.65 Q95.3437 1429.65 97.6817 1427.55 Q100.02 1425.44 100.02 1421.83 Q100.02 1418.22 97.6817 1416.11 Q95.3437 1414.01 91.3391 1414.01 Q89.4641 1414.01 87.5892 1414.42 Q85.7373 1414.84 83.7929 1415.72 L83.7929 1398.36 Z\" fill=\"#000000\" fill-rule=\"evenodd\" fill-opacity=\"1\" /><path clip-path=\"url(#clip160)\" d=\"M53.3995 1203.4 L61.0384 1203.4 L61.0384 1177.04 L52.7282 1178.71 L52.7282 1174.45 L60.9921 1172.78 L65.668 1172.78 L65.668 1203.4 L73.3068 1203.4 L73.3068 1207.34 L53.3995 1207.34 L53.3995 1203.4 Z\" fill=\"#000000\" fill-rule=\"evenodd\" fill-opacity=\"1\" /><path clip-path=\"url(#clip160)\" d=\"M92.7512 1175.86 Q89.1401 1175.86 87.3114 1179.42 Q85.5058 1182.96 85.5058 1190.09 Q85.5058 1197.2 87.3114 1200.77 Q89.1401 1204.31 92.7512 1204.31 Q96.3854 1204.31 98.1909 1200.77 Q100.02 1197.2 100.02 1190.09 Q100.02 1182.96 98.1909 1179.42 Q96.3854 1175.86 92.7512 1175.86 M92.7512 1172.15 Q98.5613 1172.15 101.617 1176.76 Q104.696 1181.34 104.696 1190.09 Q104.696 1198.82 101.617 1203.43 Q98.5613 1208.01 92.7512 1208.01 Q86.941 1208.01 83.8623 1203.43 Q80.8068 1198.82 80.8068 1190.09 Q80.8068 1181.34 83.8623 1176.76 Q86.941 1172.15 92.7512 1172.15 Z\" fill=\"#000000\" fill-rule=\"evenodd\" fill-opacity=\"1\" /><path clip-path=\"url(#clip160)\" d=\"M54.3949 977.826 L62.0337 977.826 L62.0337 951.46 L53.7236 953.127 L53.7236 948.868 L61.9874 947.201 L66.6633 947.201 L66.6633 977.826 L74.3022 977.826 L74.3022 981.761 L54.3949 981.761 L54.3949 977.826 Z\" fill=\"#000000\" fill-rule=\"evenodd\" fill-opacity=\"1\" /><path clip-path=\"url(#clip160)\" d=\"M83.7929 947.201 L102.149 947.201 L102.149 951.136 L88.0753 951.136 L88.0753 959.608 Q89.0938 959.261 90.1123 959.099 Q91.1308 958.914 92.1493 958.914 Q97.9363 958.914 101.316 962.085 Q104.696 965.257 104.696 970.673 Q104.696 976.252 101.223 979.354 Q97.7511 982.432 91.4317 982.432 Q89.2558 982.432 86.9873 982.062 Q84.7419 981.692 82.3346 980.951 L82.3346 976.252 Q84.4179 977.386 86.6401 977.942 Q88.8623 978.497 91.3391 978.497 Q95.3437 978.497 97.6817 976.391 Q100.02 974.284 100.02 970.673 Q100.02 967.062 97.6817 964.956 Q95.3437 962.849 91.3391 962.849 Q89.4641 962.849 87.5892 963.266 Q85.7373 963.682 83.7929 964.562 L83.7929 947.201 Z\" fill=\"#000000\" fill-rule=\"evenodd\" fill-opacity=\"1\" /><path clip-path=\"url(#clip160)\" d=\"M56.6171 752.247 L72.9365 752.247 L72.9365 756.182 L50.9921 756.182 L50.9921 752.247 Q53.6541 749.493 58.2375 744.863 Q62.8439 740.21 64.0245 738.868 Q66.2698 736.345 67.1494 734.608 Q68.0522 732.849 68.0522 731.159 Q68.0522 728.405 66.1078 726.669 Q64.1865 724.933 61.0847 724.933 Q58.8856 724.933 56.4319 725.696 Q54.0014 726.46 51.2236 728.011 L51.2236 723.289 Q54.0477 722.155 56.5014 721.576 Q58.955 720.997 60.9921 720.997 Q66.3624 720.997 69.5568 723.683 Q72.7513 726.368 72.7513 730.858 Q72.7513 732.988 71.9411 734.909 Q71.1541 736.807 69.0476 739.4 Q68.4689 740.071 65.367 743.289 Q62.2652 746.483 56.6171 752.247 Z\" fill=\"#000000\" fill-rule=\"evenodd\" fill-opacity=\"1\" /><path clip-path=\"url(#clip160)\" d=\"M92.7512 724.701 Q89.1401 724.701 87.3114 728.266 Q85.5058 731.808 85.5058 738.937 Q85.5058 746.044 87.3114 749.608 Q89.1401 753.15 92.7512 753.15 Q96.3854 753.15 98.1909 749.608 Q100.02 746.044 100.02 738.937 Q100.02 731.808 98.1909 728.266 Q96.3854 724.701 92.7512 724.701 M92.7512 720.997 Q98.5613 720.997 101.617 725.604 Q104.696 730.187 104.696 738.937 Q104.696 747.664 101.617 752.27 Q98.5613 756.854 92.7512 756.854 Q86.941 756.854 83.8623 752.27 Q80.8068 747.664 80.8068 738.937 Q80.8068 730.187 83.8623 725.604 Q86.941 720.997 92.7512 720.997 Z\" fill=\"#000000\" fill-rule=\"evenodd\" fill-opacity=\"1\" /><path clip-path=\"url(#clip160)\" d=\"M57.6125 526.669 L73.9318 526.669 L73.9318 530.604 L51.9875 530.604 L51.9875 526.669 Q54.6495 523.914 59.2328 519.284 Q63.8393 514.632 65.0198 513.289 Q67.2652 510.766 68.1448 509.03 Q69.0476 507.27 69.0476 505.581 Q69.0476 502.826 67.1032 501.09 Q65.1819 499.354 62.08 499.354 Q59.881 499.354 57.4273 500.118 Q54.9967 500.882 52.219 502.433 L52.219 497.71 Q55.043 496.576 57.4967 495.997 Q59.9504 495.419 61.9874 495.419 Q67.3578 495.419 70.5522 498.104 Q73.7466 500.789 73.7466 505.28 Q73.7466 507.409 72.9365 509.331 Q72.1494 511.229 70.0429 513.821 Q69.4642 514.493 66.3624 517.71 Q63.2606 520.905 57.6125 526.669 Z\" fill=\"#000000\" fill-rule=\"evenodd\" fill-opacity=\"1\" /><path clip-path=\"url(#clip160)\" d=\"M83.7929 496.044 L102.149 496.044 L102.149 499.979 L88.0753 499.979 L88.0753 508.451 Q89.0938 508.104 90.1123 507.942 Q91.1308 507.757 92.1493 507.757 Q97.9363 507.757 101.316 510.928 Q104.696 514.099 104.696 519.516 Q104.696 525.094 101.223 528.196 Q97.7511 531.275 91.4317 531.275 Q89.2558 531.275 86.9873 530.905 Q84.7419 530.534 82.3346 529.793 L82.3346 525.094 Q84.4179 526.229 86.6401 526.784 Q88.8623 527.34 91.3391 527.34 Q95.3437 527.34 97.6817 525.233 Q100.02 523.127 100.02 519.516 Q100.02 515.905 97.6817 513.798 Q95.3437 511.692 91.3391 511.692 Q89.4641 511.692 87.5892 512.108 Q85.7373 512.525 83.7929 513.405 L83.7929 496.044 Z\" fill=\"#000000\" fill-rule=\"evenodd\" fill-opacity=\"1\" /><path clip-path=\"url(#clip160)\" d=\"M66.7559 286.391 Q70.1124 287.108 71.9874 289.377 Q73.8855 291.645 73.8855 294.979 Q73.8855 300.094 70.367 302.895 Q66.8485 305.696 60.3671 305.696 Q58.1912 305.696 55.8764 305.256 Q53.5847 304.84 51.131 303.983 L51.131 299.469 Q53.0754 300.604 55.3903 301.182 Q57.7051 301.761 60.2282 301.761 Q64.6263 301.761 66.918 300.025 Q69.2328 298.289 69.2328 294.979 Q69.2328 291.923 67.08 290.21 Q64.9504 288.474 61.131 288.474 L57.1032 288.474 L57.1032 284.632 L61.3161 284.632 Q64.7652 284.632 66.5939 283.266 Q68.4226 281.877 68.4226 279.284 Q68.4226 276.622 66.5245 275.21 Q64.6495 273.775 61.131 273.775 Q59.2097 273.775 57.0106 274.192 Q54.8115 274.608 52.1727 275.488 L52.1727 271.321 Q54.8347 270.581 57.1495 270.21 Q59.4875 269.84 61.5476 269.84 Q66.8717 269.84 69.9735 272.271 Q73.0753 274.678 73.0753 278.798 Q73.0753 281.669 71.4318 283.659 Q69.7883 285.627 66.7559 286.391 Z\" fill=\"#000000\" fill-rule=\"evenodd\" fill-opacity=\"1\" /><path clip-path=\"url(#clip160)\" d=\"M92.7512 273.544 Q89.1401 273.544 87.3114 277.108 Q85.5058 280.65 85.5058 287.78 Q85.5058 294.886 87.3114 298.451 Q89.1401 301.993 92.7512 301.993 Q96.3854 301.993 98.1909 298.451 Q100.02 294.886 100.02 287.78 Q100.02 280.65 98.1909 277.108 Q96.3854 273.544 92.7512 273.544 M92.7512 269.84 Q98.5613 269.84 101.617 274.446 Q104.696 279.03 104.696 287.78 Q104.696 296.506 101.617 301.113 Q98.5613 305.696 92.7512 305.696 Q86.941 305.696 83.8623 301.113 Q80.8068 296.506 80.8068 287.78 Q80.8068 279.03 83.8623 274.446 Q86.941 269.84 92.7512 269.84 Z\" fill=\"#000000\" fill-rule=\"evenodd\" fill-opacity=\"1\" /><path clip-path=\"url(#clip160)\" d=\"M67.7513 60.8121 Q71.1078 61.5297 72.9827 63.7982 Q74.8809 66.0667 74.8809 69.4 Q74.8809 74.5157 71.3624 77.3166 Q67.8439 80.1175 61.3624 80.1175 Q59.1865 80.1175 56.8717 79.6777 Q54.5801 79.2611 52.1264 78.4046 L52.1264 73.8907 Q54.0708 75.025 56.3856 75.6037 Q58.7004 76.1824 61.2236 76.1824 Q65.6217 76.1824 67.9133 74.4463 Q70.2281 72.7102 70.2281 69.4 Q70.2281 66.3445 68.0754 64.6315 Q65.9457 62.8954 62.1263 62.8954 L58.0986 62.8954 L58.0986 59.0528 L62.3115 59.0528 Q65.7606 59.0528 67.5893 57.6871 Q69.418 56.2982 69.418 53.7057 Q69.418 51.0436 67.5198 49.6316 Q65.6448 48.1964 62.1263 48.1964 Q60.205 48.1964 58.006 48.6131 Q55.8069 49.0298 53.168 49.9094 L53.168 45.7427 Q55.8301 45.002 58.1449 44.6316 Q60.4828 44.2613 62.543 44.2613 Q67.867 44.2613 70.9689 46.6918 Q74.0707 49.0992 74.0707 53.2195 Q74.0707 56.0899 72.4272 58.0806 Q70.7837 60.0482 67.7513 60.8121 Z\" fill=\"#000000\" fill-rule=\"evenodd\" fill-opacity=\"1\" /><path clip-path=\"url(#clip160)\" d=\"M83.7929 44.8863 L102.149 44.8863 L102.149 48.8214 L88.0753 48.8214 L88.0753 57.2936 Q89.0938 56.9464 90.1123 56.7843 Q91.1308 56.5992 92.1493 56.5992 Q97.9363 56.5992 101.316 59.7704 Q104.696 62.9417 104.696 68.3584 Q104.696 73.937 101.223 77.0389 Q97.7511 80.1175 91.4317 80.1175 Q89.2558 80.1175 86.9873 79.7472 Q84.7419 79.3768 82.3346 78.6361 L82.3346 73.937 Q84.4179 75.0713 86.6401 75.6268 Q88.8623 76.1824 91.3391 76.1824 Q95.3437 76.1824 97.6817 74.0759 Q100.02 71.9694 100.02 68.3584 Q100.02 64.7473 97.6817 62.6408 Q95.3437 60.5343 91.3391 60.5343 Q89.4641 60.5343 87.5892 60.951 Q85.7373 61.3676 83.7929 62.2473 L83.7929 44.8863 Z\" fill=\"#000000\" fill-rule=\"evenodd\" fill-opacity=\"1\" /><polyline clip-path=\"url(#clip162)\" style=\"stroke:#009af9; stroke-linecap:butt; stroke-linejoin:round; stroke-width:4; stroke-opacity:1; fill:none\" points=\"\n  203.301,874.25 213.491,856.579 223.681,839.11 317.901,687.093 412.121,552.242 468.744,479.461 525.366,412.881 573.24,361.424 621.114,314.4 673.118,268.341 \n  725.122,227.511 773.065,194.503 821.008,165.94 872.408,140.254 923.809,119.678 983.361,102.227 1042.91,91.6344 1095.84,87.9763 1148.76,89.7344 1195.17,95.7335 \n  1241.58,105.897 1292.17,121.725 1342.77,142.503 1393.67,168.4 1444.57,199.306 1500.84,239.309 1557.12,285.436 1610.66,335.01 1664.21,390.128 1775.55,522.501 \n  1869.28,652.516 1926.5,740.234 1983.72,834.283 2037.5,928.464 2091.29,1028.24 2177.46,1199.75 2263.63,1385.62 2276.89,1415.5 2290.15,1445.72 \n  \"/>\n<path clip-path=\"url(#clip160)\" d=\"\nM1980.81 198.898 L2279.02 198.898 L2279.02 95.2176 L1980.81 95.2176  Z\n  \" fill=\"#ffffff\" fill-rule=\"evenodd\" fill-opacity=\"1\"/>\n<polyline clip-path=\"url(#clip160)\" style=\"stroke:#000000; stroke-linecap:butt; stroke-linejoin:round; stroke-width:4; stroke-opacity:1; fill:none\" points=\"\n  1980.81,198.898 2279.02,198.898 2279.02,95.2176 1980.81,95.2176 1980.81,198.898 \n  \"/>\n<polyline clip-path=\"url(#clip160)\" style=\"stroke:#009af9; stroke-linecap:butt; stroke-linejoin:round; stroke-width:4; stroke-opacity:1; fill:none\" points=\"\n  2005.38,147.058 2152.85,147.058 \n  \"/>\n<path clip-path=\"url(#clip160)\" d=\"M2191.28 166.745 Q2189.47 171.375 2187.76 172.787 Q2186.04 174.199 2183.17 174.199 L2179.77 174.199 L2179.77 170.634 L2182.27 170.634 Q2184.03 170.634 2185 169.8 Q2185.98 168.967 2187.16 165.865 L2187.92 163.921 L2177.43 138.412 L2181.95 138.412 L2190.05 158.689 L2198.15 138.412 L2202.66 138.412 L2191.28 166.745 Z\" fill=\"#000000\" fill-rule=\"evenodd\" fill-opacity=\"1\" /><path clip-path=\"url(#clip160)\" d=\"M2209.96 160.402 L2217.6 160.402 L2217.6 134.037 L2209.29 135.703 L2209.29 131.444 L2217.55 129.778 L2222.22 129.778 L2222.22 160.402 L2229.86 160.402 L2229.86 164.338 L2209.96 164.338 L2209.96 160.402 Z\" fill=\"#000000\" fill-rule=\"evenodd\" fill-opacity=\"1\" /></svg>\n",
      "text/html": [
       "<?xml version=\"1.0\" encoding=\"utf-8\"?>\n",
       "<svg xmlns=\"http://www.w3.org/2000/svg\" xmlns:xlink=\"http://www.w3.org/1999/xlink\" width=\"600\" height=\"400\" viewBox=\"0 0 2400 1600\">\n",
       "<defs>\n",
       "  <clipPath id=\"clip210\">\n",
       "    <rect x=\"0\" y=\"0\" width=\"2400\" height=\"1600\"/>\n",
       "  </clipPath>\n",
       "</defs>\n",
       "<path clip-path=\"url(#clip210)\" d=\"\n",
       "M0 1600 L2400 1600 L2400 0 L0 0  Z\n",
       "  \" fill=\"#ffffff\" fill-rule=\"evenodd\" fill-opacity=\"1\"/>\n",
       "<defs>\n",
       "  <clipPath id=\"clip211\">\n",
       "    <rect x=\"480\" y=\"0\" width=\"1681\" height=\"1600\"/>\n",
       "  </clipPath>\n",
       "</defs>\n",
       "<path clip-path=\"url(#clip210)\" d=\"\n",
       "M140.696 1486.45 L2352.76 1486.45 L2352.76 47.2441 L140.696 47.2441  Z\n",
       "  \" fill=\"#ffffff\" fill-rule=\"evenodd\" fill-opacity=\"1\"/>\n",
       "<defs>\n",
       "  <clipPath id=\"clip212\">\n",
       "    <rect x=\"140\" y=\"47\" width=\"2213\" height=\"1440\"/>\n",
       "  </clipPath>\n",
       "</defs>\n",
       "<polyline clip-path=\"url(#clip212)\" style=\"stroke:#000000; stroke-linecap:butt; stroke-linejoin:round; stroke-width:2; stroke-opacity:0.1; fill:none\" points=\"\n",
       "  203.301,1486.45 203.301,47.2441 \n",
       "  \"/>\n",
       "<polyline clip-path=\"url(#clip212)\" style=\"stroke:#000000; stroke-linecap:butt; stroke-linejoin:round; stroke-width:2; stroke-opacity:0.1; fill:none\" points=\"\n",
       "  725.013,1486.45 725.013,47.2441 \n",
       "  \"/>\n",
       "<polyline clip-path=\"url(#clip212)\" style=\"stroke:#000000; stroke-linecap:butt; stroke-linejoin:round; stroke-width:2; stroke-opacity:0.1; fill:none\" points=\"\n",
       "  1246.73,1486.45 1246.73,47.2441 \n",
       "  \"/>\n",
       "<polyline clip-path=\"url(#clip212)\" style=\"stroke:#000000; stroke-linecap:butt; stroke-linejoin:round; stroke-width:2; stroke-opacity:0.1; fill:none\" points=\"\n",
       "  1768.44,1486.45 1768.44,47.2441 \n",
       "  \"/>\n",
       "<polyline clip-path=\"url(#clip212)\" style=\"stroke:#000000; stroke-linecap:butt; stroke-linejoin:round; stroke-width:2; stroke-opacity:0.1; fill:none\" points=\"\n",
       "  2290.15,1486.45 2290.15,47.2441 \n",
       "  \"/>\n",
       "<polyline clip-path=\"url(#clip210)\" style=\"stroke:#000000; stroke-linecap:butt; stroke-linejoin:round; stroke-width:4; stroke-opacity:1; fill:none\" points=\"\n",
       "  140.696,1486.45 2352.76,1486.45 \n",
       "  \"/>\n",
       "<polyline clip-path=\"url(#clip210)\" style=\"stroke:#000000; stroke-linecap:butt; stroke-linejoin:round; stroke-width:4; stroke-opacity:1; fill:none\" points=\"\n",
       "  203.301,1486.45 203.301,1467.55 \n",
       "  \"/>\n",
       "<polyline clip-path=\"url(#clip210)\" style=\"stroke:#000000; stroke-linecap:butt; stroke-linejoin:round; stroke-width:4; stroke-opacity:1; fill:none\" points=\"\n",
       "  725.013,1486.45 725.013,1467.55 \n",
       "  \"/>\n",
       "<polyline clip-path=\"url(#clip210)\" style=\"stroke:#000000; stroke-linecap:butt; stroke-linejoin:round; stroke-width:4; stroke-opacity:1; fill:none\" points=\"\n",
       "  1246.73,1486.45 1246.73,1467.55 \n",
       "  \"/>\n",
       "<polyline clip-path=\"url(#clip210)\" style=\"stroke:#000000; stroke-linecap:butt; stroke-linejoin:round; stroke-width:4; stroke-opacity:1; fill:none\" points=\"\n",
       "  1768.44,1486.45 1768.44,1467.55 \n",
       "  \"/>\n",
       "<polyline clip-path=\"url(#clip210)\" style=\"stroke:#000000; stroke-linecap:butt; stroke-linejoin:round; stroke-width:4; stroke-opacity:1; fill:none\" points=\"\n",
       "  2290.15,1486.45 2290.15,1467.55 \n",
       "  \"/>\n",
       "<path clip-path=\"url(#clip210)\" d=\"M155.373 1544.91 L163.012 1544.91 L163.012 1518.55 L154.702 1520.21 L154.702 1515.95 L162.966 1514.29 L167.641 1514.29 L167.641 1544.91 L175.28 1544.91 L175.28 1548.85 L155.373 1548.85 L155.373 1544.91 Z\" fill=\"#000000\" fill-rule=\"evenodd\" fill-opacity=\"1\" /><path clip-path=\"url(#clip210)\" d=\"M194.725 1517.37 Q191.114 1517.37 189.285 1520.93 Q187.479 1524.47 187.479 1531.6 Q187.479 1538.71 189.285 1542.27 Q191.114 1545.82 194.725 1545.82 Q198.359 1545.82 200.164 1542.27 Q201.993 1538.71 201.993 1531.6 Q201.993 1524.47 200.164 1520.93 Q198.359 1517.37 194.725 1517.37 M194.725 1513.66 Q200.535 1513.66 203.59 1518.27 Q206.669 1522.85 206.669 1531.6 Q206.669 1540.33 203.59 1544.94 Q200.535 1549.52 194.725 1549.52 Q188.915 1549.52 185.836 1544.94 Q182.78 1540.33 182.78 1531.6 Q182.78 1522.85 185.836 1518.27 Q188.915 1513.66 194.725 1513.66 Z\" fill=\"#000000\" fill-rule=\"evenodd\" fill-opacity=\"1\" /><path clip-path=\"url(#clip210)\" d=\"M214.887 1542.97 L219.771 1542.97 L219.771 1548.85 L214.887 1548.85 L214.887 1542.97 Z\" fill=\"#000000\" fill-rule=\"evenodd\" fill-opacity=\"1\" /><path clip-path=\"url(#clip210)\" d=\"M239.956 1517.37 Q236.345 1517.37 234.516 1520.93 Q232.711 1524.47 232.711 1531.6 Q232.711 1538.71 234.516 1542.27 Q236.345 1545.82 239.956 1545.82 Q243.59 1545.82 245.396 1542.27 Q247.224 1538.71 247.224 1531.6 Q247.224 1524.47 245.396 1520.93 Q243.59 1517.37 239.956 1517.37 M239.956 1513.66 Q245.766 1513.66 248.822 1518.27 Q251.9 1522.85 251.9 1531.6 Q251.9 1540.33 248.822 1544.94 Q245.766 1549.52 239.956 1549.52 Q234.146 1549.52 231.067 1544.94 Q228.012 1540.33 228.012 1531.6 Q228.012 1522.85 231.067 1518.27 Q234.146 1513.66 239.956 1513.66 Z\" fill=\"#000000\" fill-rule=\"evenodd\" fill-opacity=\"1\" /><path clip-path=\"url(#clip210)\" d=\"M677.583 1544.91 L685.222 1544.91 L685.222 1518.55 L676.912 1520.21 L676.912 1515.95 L685.176 1514.29 L689.852 1514.29 L689.852 1544.91 L697.49 1544.91 L697.49 1548.85 L677.583 1548.85 L677.583 1544.91 Z\" fill=\"#000000\" fill-rule=\"evenodd\" fill-opacity=\"1\" /><path clip-path=\"url(#clip210)\" d=\"M710.963 1544.91 L727.282 1544.91 L727.282 1548.85 L705.338 1548.85 L705.338 1544.91 Q708 1542.16 712.583 1537.53 Q717.189 1532.88 718.37 1531.53 Q720.615 1529.01 721.495 1527.27 Q722.398 1525.51 722.398 1523.82 Q722.398 1521.07 720.453 1519.33 Q718.532 1517.6 715.43 1517.6 Q713.231 1517.6 710.777 1518.36 Q708.347 1519.13 705.569 1520.68 L705.569 1515.95 Q708.393 1514.82 710.847 1514.24 Q713.3 1513.66 715.337 1513.66 Q720.708 1513.66 723.902 1516.35 Q727.097 1519.03 727.097 1523.52 Q727.097 1525.65 726.287 1527.57 Q725.499 1529.47 723.393 1532.07 Q722.814 1532.74 719.712 1535.95 Q716.611 1539.15 710.963 1544.91 Z\" fill=\"#000000\" fill-rule=\"evenodd\" fill-opacity=\"1\" /><path clip-path=\"url(#clip210)\" d=\"M737.097 1542.97 L741.981 1542.97 L741.981 1548.85 L737.097 1548.85 L737.097 1542.97 Z\" fill=\"#000000\" fill-rule=\"evenodd\" fill-opacity=\"1\" /><path clip-path=\"url(#clip210)\" d=\"M752.212 1514.29 L770.569 1514.29 L770.569 1518.22 L756.495 1518.22 L756.495 1526.7 Q757.513 1526.35 758.532 1526.19 Q759.55 1526 760.569 1526 Q766.356 1526 769.735 1529.17 Q773.115 1532.34 773.115 1537.76 Q773.115 1543.34 769.643 1546.44 Q766.171 1549.52 759.851 1549.52 Q757.675 1549.52 755.407 1549.15 Q753.161 1548.78 750.754 1548.04 L750.754 1543.34 Q752.837 1544.47 755.06 1545.03 Q757.282 1545.58 759.759 1545.58 Q763.763 1545.58 766.101 1543.48 Q768.439 1541.37 768.439 1537.76 Q768.439 1534.15 766.101 1532.04 Q763.763 1529.94 759.759 1529.94 Q757.884 1529.94 756.009 1530.35 Q754.157 1530.77 752.212 1531.65 L752.212 1514.29 Z\" fill=\"#000000\" fill-rule=\"evenodd\" fill-opacity=\"1\" /><path clip-path=\"url(#clip210)\" d=\"M1198.8 1544.91 L1206.44 1544.91 L1206.44 1518.55 L1198.13 1520.21 L1198.13 1515.95 L1206.39 1514.29 L1211.07 1514.29 L1211.07 1544.91 L1218.71 1544.91 L1218.71 1548.85 L1198.8 1548.85 L1198.8 1544.91 Z\" fill=\"#000000\" fill-rule=\"evenodd\" fill-opacity=\"1\" /><path clip-path=\"url(#clip210)\" d=\"M1228.2 1514.29 L1246.55 1514.29 L1246.55 1518.22 L1232.48 1518.22 L1232.48 1526.7 Q1233.5 1526.35 1234.52 1526.19 Q1235.53 1526 1236.55 1526 Q1242.34 1526 1245.72 1529.17 Q1249.1 1532.34 1249.1 1537.76 Q1249.1 1543.34 1245.63 1546.44 Q1242.15 1549.52 1235.83 1549.52 Q1233.66 1549.52 1231.39 1549.15 Q1229.14 1548.78 1226.74 1548.04 L1226.74 1543.34 Q1228.82 1544.47 1231.04 1545.03 Q1233.27 1545.58 1235.74 1545.58 Q1239.75 1545.58 1242.08 1543.48 Q1244.42 1541.37 1244.42 1537.76 Q1244.42 1534.15 1242.08 1532.04 Q1239.75 1529.94 1235.74 1529.94 Q1233.87 1529.94 1231.99 1530.35 Q1230.14 1530.77 1228.2 1531.65 L1228.2 1514.29 Z\" fill=\"#000000\" fill-rule=\"evenodd\" fill-opacity=\"1\" /><path clip-path=\"url(#clip210)\" d=\"M1258.31 1542.97 L1263.2 1542.97 L1263.2 1548.85 L1258.31 1548.85 L1258.31 1542.97 Z\" fill=\"#000000\" fill-rule=\"evenodd\" fill-opacity=\"1\" /><path clip-path=\"url(#clip210)\" d=\"M1283.38 1517.37 Q1279.77 1517.37 1277.94 1520.93 Q1276.14 1524.47 1276.14 1531.6 Q1276.14 1538.71 1277.94 1542.27 Q1279.77 1545.82 1283.38 1545.82 Q1287.01 1545.82 1288.82 1542.27 Q1290.65 1538.71 1290.65 1531.6 Q1290.65 1524.47 1288.82 1520.93 Q1287.01 1517.37 1283.38 1517.37 M1283.38 1513.66 Q1289.19 1513.66 1292.25 1518.27 Q1295.33 1522.85 1295.33 1531.6 Q1295.33 1540.33 1292.25 1544.94 Q1289.19 1549.52 1283.38 1549.52 Q1277.57 1549.52 1274.49 1544.94 Q1271.44 1540.33 1271.44 1531.6 Q1271.44 1522.85 1274.49 1518.27 Q1277.57 1513.66 1283.38 1513.66 Z\" fill=\"#000000\" fill-rule=\"evenodd\" fill-opacity=\"1\" /><path clip-path=\"url(#clip210)\" d=\"M1721.01 1544.91 L1728.65 1544.91 L1728.65 1518.55 L1720.34 1520.21 L1720.34 1515.95 L1728.6 1514.29 L1733.28 1514.29 L1733.28 1544.91 L1740.92 1544.91 L1740.92 1548.85 L1721.01 1548.85 L1721.01 1544.91 Z\" fill=\"#000000\" fill-rule=\"evenodd\" fill-opacity=\"1\" /><path clip-path=\"url(#clip210)\" d=\"M1749.18 1514.29 L1771.4 1514.29 L1771.4 1516.28 L1758.85 1548.85 L1753.97 1548.85 L1765.78 1518.22 L1749.18 1518.22 L1749.18 1514.29 Z\" fill=\"#000000\" fill-rule=\"evenodd\" fill-opacity=\"1\" /><path clip-path=\"url(#clip210)\" d=\"M1780.52 1542.97 L1785.41 1542.97 L1785.41 1548.85 L1780.52 1548.85 L1780.52 1542.97 Z\" fill=\"#000000\" fill-rule=\"evenodd\" fill-opacity=\"1\" /><path clip-path=\"url(#clip210)\" d=\"M1795.64 1514.29 L1813.99 1514.29 L1813.99 1518.22 L1799.92 1518.22 L1799.92 1526.7 Q1800.94 1526.35 1801.96 1526.19 Q1802.97 1526 1803.99 1526 Q1809.78 1526 1813.16 1529.17 Q1816.54 1532.34 1816.54 1537.76 Q1816.54 1543.34 1813.07 1546.44 Q1809.6 1549.52 1803.28 1549.52 Q1801.1 1549.52 1798.83 1549.15 Q1796.59 1548.78 1794.18 1548.04 L1794.18 1543.34 Q1796.26 1544.47 1798.48 1545.03 Q1800.71 1545.58 1803.18 1545.58 Q1807.19 1545.58 1809.53 1543.48 Q1811.86 1541.37 1811.86 1537.76 Q1811.86 1534.15 1809.53 1532.04 Q1807.19 1529.94 1803.18 1529.94 Q1801.31 1529.94 1799.43 1530.35 Q1797.58 1530.77 1795.64 1531.65 L1795.64 1514.29 Z\" fill=\"#000000\" fill-rule=\"evenodd\" fill-opacity=\"1\" /><path clip-path=\"url(#clip210)\" d=\"M2246.31 1544.91 L2262.63 1544.91 L2262.63 1548.85 L2240.68 1548.85 L2240.68 1544.91 Q2243.35 1542.16 2247.93 1537.53 Q2252.53 1532.88 2253.72 1531.53 Q2255.96 1529.01 2256.84 1527.27 Q2257.74 1525.51 2257.74 1523.82 Q2257.74 1521.07 2255.8 1519.33 Q2253.88 1517.6 2250.78 1517.6 Q2248.58 1517.6 2246.12 1518.36 Q2243.69 1519.13 2240.91 1520.68 L2240.91 1515.95 Q2243.74 1514.82 2246.19 1514.24 Q2248.65 1513.66 2250.68 1513.66 Q2256.05 1513.66 2259.25 1516.35 Q2262.44 1519.03 2262.44 1523.52 Q2262.44 1525.65 2261.63 1527.57 Q2260.85 1529.47 2258.74 1532.07 Q2258.16 1532.74 2255.06 1535.95 Q2251.96 1539.15 2246.31 1544.91 Z\" fill=\"#000000\" fill-rule=\"evenodd\" fill-opacity=\"1\" /><path clip-path=\"url(#clip210)\" d=\"M2282.44 1517.37 Q2278.83 1517.37 2277 1520.93 Q2275.2 1524.47 2275.2 1531.6 Q2275.2 1538.71 2277 1542.27 Q2278.83 1545.82 2282.44 1545.82 Q2286.08 1545.82 2287.88 1542.27 Q2289.71 1538.71 2289.71 1531.6 Q2289.71 1524.47 2287.88 1520.93 Q2286.08 1517.37 2282.44 1517.37 M2282.44 1513.66 Q2288.25 1513.66 2291.31 1518.27 Q2294.39 1522.85 2294.39 1531.6 Q2294.39 1540.33 2291.31 1544.94 Q2288.25 1549.52 2282.44 1549.52 Q2276.63 1549.52 2273.55 1544.94 Q2270.5 1540.33 2270.5 1531.6 Q2270.5 1522.85 2273.55 1518.27 Q2276.63 1513.66 2282.44 1513.66 Z\" fill=\"#000000\" fill-rule=\"evenodd\" fill-opacity=\"1\" /><path clip-path=\"url(#clip210)\" d=\"M2302.6 1542.97 L2307.49 1542.97 L2307.49 1548.85 L2302.6 1548.85 L2302.6 1542.97 Z\" fill=\"#000000\" fill-rule=\"evenodd\" fill-opacity=\"1\" /><path clip-path=\"url(#clip210)\" d=\"M2327.67 1517.37 Q2324.06 1517.37 2322.23 1520.93 Q2320.43 1524.47 2320.43 1531.6 Q2320.43 1538.71 2322.23 1542.27 Q2324.06 1545.82 2327.67 1545.82 Q2331.31 1545.82 2333.11 1542.27 Q2334.94 1538.71 2334.94 1531.6 Q2334.94 1524.47 2333.11 1520.93 Q2331.31 1517.37 2327.67 1517.37 M2327.67 1513.66 Q2333.48 1513.66 2336.54 1518.27 Q2339.62 1522.85 2339.62 1531.6 Q2339.62 1540.33 2336.54 1544.94 Q2333.48 1549.52 2327.67 1549.52 Q2321.86 1549.52 2318.78 1544.94 Q2315.73 1540.33 2315.73 1531.6 Q2315.73 1522.85 2318.78 1518.27 Q2321.86 1513.66 2327.67 1513.66 Z\" fill=\"#000000\" fill-rule=\"evenodd\" fill-opacity=\"1\" /><polyline clip-path=\"url(#clip212)\" style=\"stroke:#000000; stroke-linecap:butt; stroke-linejoin:round; stroke-width:2; stroke-opacity:0.1; fill:none\" points=\"\n",
       "  140.696,1415.64 2352.76,1415.64 \n",
       "  \"/>\n",
       "<polyline clip-path=\"url(#clip212)\" style=\"stroke:#000000; stroke-linecap:butt; stroke-linejoin:round; stroke-width:2; stroke-opacity:0.1; fill:none\" points=\"\n",
       "  140.696,1190.06 2352.76,1190.06 \n",
       "  \"/>\n",
       "<polyline clip-path=\"url(#clip212)\" style=\"stroke:#000000; stroke-linecap:butt; stroke-linejoin:round; stroke-width:2; stroke-opacity:0.1; fill:none\" points=\"\n",
       "  140.696,964.481 2352.76,964.481 \n",
       "  \"/>\n",
       "<polyline clip-path=\"url(#clip212)\" style=\"stroke:#000000; stroke-linecap:butt; stroke-linejoin:round; stroke-width:2; stroke-opacity:0.1; fill:none\" points=\"\n",
       "  140.696,738.902 2352.76,738.902 \n",
       "  \"/>\n",
       "<polyline clip-path=\"url(#clip212)\" style=\"stroke:#000000; stroke-linecap:butt; stroke-linejoin:round; stroke-width:2; stroke-opacity:0.1; fill:none\" points=\"\n",
       "  140.696,513.324 2352.76,513.324 \n",
       "  \"/>\n",
       "<polyline clip-path=\"url(#clip212)\" style=\"stroke:#000000; stroke-linecap:butt; stroke-linejoin:round; stroke-width:2; stroke-opacity:0.1; fill:none\" points=\"\n",
       "  140.696,287.745 2352.76,287.745 \n",
       "  \"/>\n",
       "<polyline clip-path=\"url(#clip212)\" style=\"stroke:#000000; stroke-linecap:butt; stroke-linejoin:round; stroke-width:2; stroke-opacity:0.1; fill:none\" points=\"\n",
       "  140.696,62.1663 2352.76,62.1663 \n",
       "  \"/>\n",
       "<polyline clip-path=\"url(#clip210)\" style=\"stroke:#000000; stroke-linecap:butt; stroke-linejoin:round; stroke-width:4; stroke-opacity:1; fill:none\" points=\"\n",
       "  140.696,1486.45 140.696,47.2441 \n",
       "  \"/>\n",
       "<polyline clip-path=\"url(#clip210)\" style=\"stroke:#000000; stroke-linecap:butt; stroke-linejoin:round; stroke-width:4; stroke-opacity:1; fill:none\" points=\"\n",
       "  140.696,1415.64 159.593,1415.64 \n",
       "  \"/>\n",
       "<polyline clip-path=\"url(#clip210)\" style=\"stroke:#000000; stroke-linecap:butt; stroke-linejoin:round; stroke-width:4; stroke-opacity:1; fill:none\" points=\"\n",
       "  140.696,1190.06 159.593,1190.06 \n",
       "  \"/>\n",
       "<polyline clip-path=\"url(#clip210)\" style=\"stroke:#000000; stroke-linecap:butt; stroke-linejoin:round; stroke-width:4; stroke-opacity:1; fill:none\" points=\"\n",
       "  140.696,964.481 159.593,964.481 \n",
       "  \"/>\n",
       "<polyline clip-path=\"url(#clip210)\" style=\"stroke:#000000; stroke-linecap:butt; stroke-linejoin:round; stroke-width:4; stroke-opacity:1; fill:none\" points=\"\n",
       "  140.696,738.902 159.593,738.902 \n",
       "  \"/>\n",
       "<polyline clip-path=\"url(#clip210)\" style=\"stroke:#000000; stroke-linecap:butt; stroke-linejoin:round; stroke-width:4; stroke-opacity:1; fill:none\" points=\"\n",
       "  140.696,513.324 159.593,513.324 \n",
       "  \"/>\n",
       "<polyline clip-path=\"url(#clip210)\" style=\"stroke:#000000; stroke-linecap:butt; stroke-linejoin:round; stroke-width:4; stroke-opacity:1; fill:none\" points=\"\n",
       "  140.696,287.745 159.593,287.745 \n",
       "  \"/>\n",
       "<polyline clip-path=\"url(#clip210)\" style=\"stroke:#000000; stroke-linecap:butt; stroke-linejoin:round; stroke-width:4; stroke-opacity:1; fill:none\" points=\"\n",
       "  140.696,62.1663 159.593,62.1663 \n",
       "  \"/>\n",
       "<path clip-path=\"url(#clip210)\" d=\"M83.7929 1398.36 L102.149 1398.36 L102.149 1402.29 L88.0753 1402.29 L88.0753 1410.77 Q89.0938 1410.42 90.1123 1410.26 Q91.1308 1410.07 92.1493 1410.07 Q97.9363 1410.07 101.316 1413.24 Q104.696 1416.41 104.696 1421.83 Q104.696 1427.41 101.223 1430.51 Q97.7511 1433.59 91.4317 1433.59 Q89.2558 1433.59 86.9873 1433.22 Q84.7419 1432.85 82.3346 1432.11 L82.3346 1427.41 Q84.4179 1428.54 86.6401 1429.1 Q88.8623 1429.65 91.3391 1429.65 Q95.3437 1429.65 97.6817 1427.55 Q100.02 1425.44 100.02 1421.83 Q100.02 1418.22 97.6817 1416.11 Q95.3437 1414.01 91.3391 1414.01 Q89.4641 1414.01 87.5892 1414.42 Q85.7373 1414.84 83.7929 1415.72 L83.7929 1398.36 Z\" fill=\"#000000\" fill-rule=\"evenodd\" fill-opacity=\"1\" /><path clip-path=\"url(#clip210)\" d=\"M53.3995 1203.4 L61.0384 1203.4 L61.0384 1177.04 L52.7282 1178.71 L52.7282 1174.45 L60.9921 1172.78 L65.668 1172.78 L65.668 1203.4 L73.3068 1203.4 L73.3068 1207.34 L53.3995 1207.34 L53.3995 1203.4 Z\" fill=\"#000000\" fill-rule=\"evenodd\" fill-opacity=\"1\" /><path clip-path=\"url(#clip210)\" d=\"M92.7512 1175.86 Q89.1401 1175.86 87.3114 1179.42 Q85.5058 1182.96 85.5058 1190.09 Q85.5058 1197.2 87.3114 1200.77 Q89.1401 1204.31 92.7512 1204.31 Q96.3854 1204.31 98.1909 1200.77 Q100.02 1197.2 100.02 1190.09 Q100.02 1182.96 98.1909 1179.42 Q96.3854 1175.86 92.7512 1175.86 M92.7512 1172.15 Q98.5613 1172.15 101.617 1176.76 Q104.696 1181.34 104.696 1190.09 Q104.696 1198.82 101.617 1203.43 Q98.5613 1208.01 92.7512 1208.01 Q86.941 1208.01 83.8623 1203.43 Q80.8068 1198.82 80.8068 1190.09 Q80.8068 1181.34 83.8623 1176.76 Q86.941 1172.15 92.7512 1172.15 Z\" fill=\"#000000\" fill-rule=\"evenodd\" fill-opacity=\"1\" /><path clip-path=\"url(#clip210)\" d=\"M54.3949 977.826 L62.0337 977.826 L62.0337 951.46 L53.7236 953.127 L53.7236 948.868 L61.9874 947.201 L66.6633 947.201 L66.6633 977.826 L74.3022 977.826 L74.3022 981.761 L54.3949 981.761 L54.3949 977.826 Z\" fill=\"#000000\" fill-rule=\"evenodd\" fill-opacity=\"1\" /><path clip-path=\"url(#clip210)\" d=\"M83.7929 947.201 L102.149 947.201 L102.149 951.136 L88.0753 951.136 L88.0753 959.608 Q89.0938 959.261 90.1123 959.099 Q91.1308 958.914 92.1493 958.914 Q97.9363 958.914 101.316 962.085 Q104.696 965.257 104.696 970.673 Q104.696 976.252 101.223 979.354 Q97.7511 982.432 91.4317 982.432 Q89.2558 982.432 86.9873 982.062 Q84.7419 981.692 82.3346 980.951 L82.3346 976.252 Q84.4179 977.386 86.6401 977.942 Q88.8623 978.497 91.3391 978.497 Q95.3437 978.497 97.6817 976.391 Q100.02 974.284 100.02 970.673 Q100.02 967.062 97.6817 964.956 Q95.3437 962.849 91.3391 962.849 Q89.4641 962.849 87.5892 963.266 Q85.7373 963.682 83.7929 964.562 L83.7929 947.201 Z\" fill=\"#000000\" fill-rule=\"evenodd\" fill-opacity=\"1\" /><path clip-path=\"url(#clip210)\" d=\"M56.6171 752.247 L72.9365 752.247 L72.9365 756.182 L50.9921 756.182 L50.9921 752.247 Q53.6541 749.493 58.2375 744.863 Q62.8439 740.21 64.0245 738.868 Q66.2698 736.345 67.1494 734.608 Q68.0522 732.849 68.0522 731.159 Q68.0522 728.405 66.1078 726.669 Q64.1865 724.933 61.0847 724.933 Q58.8856 724.933 56.4319 725.696 Q54.0014 726.46 51.2236 728.011 L51.2236 723.289 Q54.0477 722.155 56.5014 721.576 Q58.955 720.997 60.9921 720.997 Q66.3624 720.997 69.5568 723.683 Q72.7513 726.368 72.7513 730.858 Q72.7513 732.988 71.9411 734.909 Q71.1541 736.807 69.0476 739.4 Q68.4689 740.071 65.367 743.289 Q62.2652 746.483 56.6171 752.247 Z\" fill=\"#000000\" fill-rule=\"evenodd\" fill-opacity=\"1\" /><path clip-path=\"url(#clip210)\" d=\"M92.7512 724.701 Q89.1401 724.701 87.3114 728.266 Q85.5058 731.808 85.5058 738.937 Q85.5058 746.044 87.3114 749.608 Q89.1401 753.15 92.7512 753.15 Q96.3854 753.15 98.1909 749.608 Q100.02 746.044 100.02 738.937 Q100.02 731.808 98.1909 728.266 Q96.3854 724.701 92.7512 724.701 M92.7512 720.997 Q98.5613 720.997 101.617 725.604 Q104.696 730.187 104.696 738.937 Q104.696 747.664 101.617 752.27 Q98.5613 756.854 92.7512 756.854 Q86.941 756.854 83.8623 752.27 Q80.8068 747.664 80.8068 738.937 Q80.8068 730.187 83.8623 725.604 Q86.941 720.997 92.7512 720.997 Z\" fill=\"#000000\" fill-rule=\"evenodd\" fill-opacity=\"1\" /><path clip-path=\"url(#clip210)\" d=\"M57.6125 526.669 L73.9318 526.669 L73.9318 530.604 L51.9875 530.604 L51.9875 526.669 Q54.6495 523.914 59.2328 519.284 Q63.8393 514.632 65.0198 513.289 Q67.2652 510.766 68.1448 509.03 Q69.0476 507.27 69.0476 505.581 Q69.0476 502.826 67.1032 501.09 Q65.1819 499.354 62.08 499.354 Q59.881 499.354 57.4273 500.118 Q54.9967 500.882 52.219 502.433 L52.219 497.71 Q55.043 496.576 57.4967 495.997 Q59.9504 495.419 61.9874 495.419 Q67.3578 495.419 70.5522 498.104 Q73.7466 500.789 73.7466 505.28 Q73.7466 507.409 72.9365 509.331 Q72.1494 511.229 70.0429 513.821 Q69.4642 514.493 66.3624 517.71 Q63.2606 520.905 57.6125 526.669 Z\" fill=\"#000000\" fill-rule=\"evenodd\" fill-opacity=\"1\" /><path clip-path=\"url(#clip210)\" d=\"M83.7929 496.044 L102.149 496.044 L102.149 499.979 L88.0753 499.979 L88.0753 508.451 Q89.0938 508.104 90.1123 507.942 Q91.1308 507.757 92.1493 507.757 Q97.9363 507.757 101.316 510.928 Q104.696 514.099 104.696 519.516 Q104.696 525.094 101.223 528.196 Q97.7511 531.275 91.4317 531.275 Q89.2558 531.275 86.9873 530.905 Q84.7419 530.534 82.3346 529.793 L82.3346 525.094 Q84.4179 526.229 86.6401 526.784 Q88.8623 527.34 91.3391 527.34 Q95.3437 527.34 97.6817 525.233 Q100.02 523.127 100.02 519.516 Q100.02 515.905 97.6817 513.798 Q95.3437 511.692 91.3391 511.692 Q89.4641 511.692 87.5892 512.108 Q85.7373 512.525 83.7929 513.405 L83.7929 496.044 Z\" fill=\"#000000\" fill-rule=\"evenodd\" fill-opacity=\"1\" /><path clip-path=\"url(#clip210)\" d=\"M66.7559 286.391 Q70.1124 287.108 71.9874 289.377 Q73.8855 291.645 73.8855 294.979 Q73.8855 300.094 70.367 302.895 Q66.8485 305.696 60.3671 305.696 Q58.1912 305.696 55.8764 305.256 Q53.5847 304.84 51.131 303.983 L51.131 299.469 Q53.0754 300.604 55.3903 301.182 Q57.7051 301.761 60.2282 301.761 Q64.6263 301.761 66.918 300.025 Q69.2328 298.289 69.2328 294.979 Q69.2328 291.923 67.08 290.21 Q64.9504 288.474 61.131 288.474 L57.1032 288.474 L57.1032 284.632 L61.3161 284.632 Q64.7652 284.632 66.5939 283.266 Q68.4226 281.877 68.4226 279.284 Q68.4226 276.622 66.5245 275.21 Q64.6495 273.775 61.131 273.775 Q59.2097 273.775 57.0106 274.192 Q54.8115 274.608 52.1727 275.488 L52.1727 271.321 Q54.8347 270.581 57.1495 270.21 Q59.4875 269.84 61.5476 269.84 Q66.8717 269.84 69.9735 272.271 Q73.0753 274.678 73.0753 278.798 Q73.0753 281.669 71.4318 283.659 Q69.7883 285.627 66.7559 286.391 Z\" fill=\"#000000\" fill-rule=\"evenodd\" fill-opacity=\"1\" /><path clip-path=\"url(#clip210)\" d=\"M92.7512 273.544 Q89.1401 273.544 87.3114 277.108 Q85.5058 280.65 85.5058 287.78 Q85.5058 294.886 87.3114 298.451 Q89.1401 301.993 92.7512 301.993 Q96.3854 301.993 98.1909 298.451 Q100.02 294.886 100.02 287.78 Q100.02 280.65 98.1909 277.108 Q96.3854 273.544 92.7512 273.544 M92.7512 269.84 Q98.5613 269.84 101.617 274.446 Q104.696 279.03 104.696 287.78 Q104.696 296.506 101.617 301.113 Q98.5613 305.696 92.7512 305.696 Q86.941 305.696 83.8623 301.113 Q80.8068 296.506 80.8068 287.78 Q80.8068 279.03 83.8623 274.446 Q86.941 269.84 92.7512 269.84 Z\" fill=\"#000000\" fill-rule=\"evenodd\" fill-opacity=\"1\" /><path clip-path=\"url(#clip210)\" d=\"M67.7513 60.8121 Q71.1078 61.5297 72.9827 63.7982 Q74.8809 66.0667 74.8809 69.4 Q74.8809 74.5157 71.3624 77.3166 Q67.8439 80.1175 61.3624 80.1175 Q59.1865 80.1175 56.8717 79.6777 Q54.5801 79.2611 52.1264 78.4046 L52.1264 73.8907 Q54.0708 75.025 56.3856 75.6037 Q58.7004 76.1824 61.2236 76.1824 Q65.6217 76.1824 67.9133 74.4463 Q70.2281 72.7102 70.2281 69.4 Q70.2281 66.3445 68.0754 64.6315 Q65.9457 62.8954 62.1263 62.8954 L58.0986 62.8954 L58.0986 59.0528 L62.3115 59.0528 Q65.7606 59.0528 67.5893 57.6871 Q69.418 56.2982 69.418 53.7057 Q69.418 51.0436 67.5198 49.6316 Q65.6448 48.1964 62.1263 48.1964 Q60.205 48.1964 58.006 48.6131 Q55.8069 49.0298 53.168 49.9094 L53.168 45.7427 Q55.8301 45.002 58.1449 44.6316 Q60.4828 44.2613 62.543 44.2613 Q67.867 44.2613 70.9689 46.6918 Q74.0707 49.0992 74.0707 53.2195 Q74.0707 56.0899 72.4272 58.0806 Q70.7837 60.0482 67.7513 60.8121 Z\" fill=\"#000000\" fill-rule=\"evenodd\" fill-opacity=\"1\" /><path clip-path=\"url(#clip210)\" d=\"M83.7929 44.8863 L102.149 44.8863 L102.149 48.8214 L88.0753 48.8214 L88.0753 57.2936 Q89.0938 56.9464 90.1123 56.7843 Q91.1308 56.5992 92.1493 56.5992 Q97.9363 56.5992 101.316 59.7704 Q104.696 62.9417 104.696 68.3584 Q104.696 73.937 101.223 77.0389 Q97.7511 80.1175 91.4317 80.1175 Q89.2558 80.1175 86.9873 79.7472 Q84.7419 79.3768 82.3346 78.6361 L82.3346 73.937 Q84.4179 75.0713 86.6401 75.6268 Q88.8623 76.1824 91.3391 76.1824 Q95.3437 76.1824 97.6817 74.0759 Q100.02 71.9694 100.02 68.3584 Q100.02 64.7473 97.6817 62.6408 Q95.3437 60.5343 91.3391 60.5343 Q89.4641 60.5343 87.5892 60.951 Q85.7373 61.3676 83.7929 62.2473 L83.7929 44.8863 Z\" fill=\"#000000\" fill-rule=\"evenodd\" fill-opacity=\"1\" /><polyline clip-path=\"url(#clip212)\" style=\"stroke:#009af9; stroke-linecap:butt; stroke-linejoin:round; stroke-width:4; stroke-opacity:1; fill:none\" points=\"\n",
       "  203.301,874.25 213.491,856.579 223.681,839.11 317.901,687.093 412.121,552.242 468.744,479.461 525.366,412.881 573.24,361.424 621.114,314.4 673.118,268.341 \n",
       "  725.122,227.511 773.065,194.503 821.008,165.94 872.408,140.254 923.809,119.678 983.361,102.227 1042.91,91.6344 1095.84,87.9763 1148.76,89.7344 1195.17,95.7335 \n",
       "  1241.58,105.897 1292.17,121.725 1342.77,142.503 1393.67,168.4 1444.57,199.306 1500.84,239.309 1557.12,285.436 1610.66,335.01 1664.21,390.128 1775.55,522.501 \n",
       "  1869.28,652.516 1926.5,740.234 1983.72,834.283 2037.5,928.464 2091.29,1028.24 2177.46,1199.75 2263.63,1385.62 2276.89,1415.5 2290.15,1445.72 \n",
       "  \"/>\n",
       "<path clip-path=\"url(#clip210)\" d=\"\n",
       "M1980.81 198.898 L2279.02 198.898 L2279.02 95.2176 L1980.81 95.2176  Z\n",
       "  \" fill=\"#ffffff\" fill-rule=\"evenodd\" fill-opacity=\"1\"/>\n",
       "<polyline clip-path=\"url(#clip210)\" style=\"stroke:#000000; stroke-linecap:butt; stroke-linejoin:round; stroke-width:4; stroke-opacity:1; fill:none\" points=\"\n",
       "  1980.81,198.898 2279.02,198.898 2279.02,95.2176 1980.81,95.2176 1980.81,198.898 \n",
       "  \"/>\n",
       "<polyline clip-path=\"url(#clip210)\" style=\"stroke:#009af9; stroke-linecap:butt; stroke-linejoin:round; stroke-width:4; stroke-opacity:1; fill:none\" points=\"\n",
       "  2005.38,147.058 2152.85,147.058 \n",
       "  \"/>\n",
       "<path clip-path=\"url(#clip210)\" d=\"M2191.28 166.745 Q2189.47 171.375 2187.76 172.787 Q2186.04 174.199 2183.17 174.199 L2179.77 174.199 L2179.77 170.634 L2182.27 170.634 Q2184.03 170.634 2185 169.8 Q2185.98 168.967 2187.16 165.865 L2187.92 163.921 L2177.43 138.412 L2181.95 138.412 L2190.05 158.689 L2198.15 138.412 L2202.66 138.412 L2191.28 166.745 Z\" fill=\"#000000\" fill-rule=\"evenodd\" fill-opacity=\"1\" /><path clip-path=\"url(#clip210)\" d=\"M2209.96 160.402 L2217.6 160.402 L2217.6 134.037 L2209.29 135.703 L2209.29 131.444 L2217.55 129.778 L2222.22 129.778 L2222.22 160.402 L2229.86 160.402 L2229.86 164.338 L2209.96 164.338 L2209.96 160.402 Z\" fill=\"#000000\" fill-rule=\"evenodd\" fill-opacity=\"1\" /></svg>\n"
      ]
     },
     "metadata": {},
     "output_type": "display_data"
    }
   ],
   "source": [
    "using Plots\n",
    "coefs = interpolacao_crime()\n",
    "c2 = coefs[3]\n",
    "c1 = coefs[2]\n",
    "c0 = coefs[1]\n",
    "f(x) = c2*(x^2) + c1*x + c0\n",
    "plot(f, 10,20)"
   ]
  },
  {
   "cell_type": "markdown",
   "metadata": {},
   "source": [
    "Com isto, apesar de não obtermos a temperatura de 37°C, a função quadrática passa pelos pontos fornecidos, nos indicando a taxa de variação com que a temperatura cai. Com isto, podemos ter uma boa aproximação do horário de morte se acharmos o ponto máximo da função. Para isso, podemos utilizar o método da bissecção para acharmos a raíz da derivada da função gerada."
   ]
  },
  {
   "cell_type": "code",
   "execution_count": 55,
   "metadata": {},
   "outputs": [
    {
     "data": {
      "text/plain": [
       "bisseccao_crime (generic function with 2 methods)"
      ]
     },
     "metadata": {},
     "output_type": "display_data"
    }
   ],
   "source": [
    "# Função auxiliar para verificar sinais opostos\n",
    "function tem_sinais_opostos(f,a,b) #função recebe f(a) e f(b) não nulos\n",
    "    return f(a)*f(b) < 0\n",
    "end\n",
    "\n",
    "# Método da Bissecção para aproximar a raiz da função derivada da função interpolada pela cena do crime no intervalo [15,40]\n",
    "function bisseccao_crime(tamanho_final_do_intervalo, c1,c2) \n",
    "    \n",
    "    # Intervalo [15,40]\n",
    "    a = 0\n",
    "    b = 40\n",
    "    f(x) = (2*c2)*x + c1\n",
    "    iteracoes = floor(log2((b-a)/tamanho_final_do_intervalo))+1\n",
    "    \n",
    "    for i=1:iteracoes\n",
    "        m=(a+b)/2\n",
    "        if f(m) == 0\n",
    "            return m\n",
    "        end\n",
    "        \n",
    "        if tem_sinais_opostos(f,a,m)\n",
    "            b=m\n",
    "        else\n",
    "            a=m\n",
    "        end\n",
    "    end\n",
    "    \n",
    "    x_final=(a+b)/2\n",
    "    return x_final\n",
    "end"
   ]
  },
  {
   "cell_type": "markdown",
   "metadata": {},
   "source": [
    "Com isto, podemos procurar na derivada da função quadrática encontrada sua raiz, indicando o ponto em que a temperatura do corpo começou a decair, sendo o horário mais provável do seu assassinato."
   ]
  },
  {
   "cell_type": "code",
   "execution_count": 56,
   "metadata": {},
   "outputs": [
    {
     "data": {
      "text/plain": [
       "14.321428569965065"
      ]
     },
     "metadata": {},
     "output_type": "display_data"
    }
   ],
   "source": [
    "using Plots\n",
    "coefs = interpolacao_crime()\n",
    "c2 = coefs[3]\n",
    "c1 = coefs[2]\n",
    "c0 = coefs[1]\n",
    "bisseccao_crime(10^-8,c1,c2)\n"
   ]
  },
  {
   "cell_type": "markdown",
   "metadata": {},
   "source": [
    "Com isto, temos que o provável horário do assassinato foi $14h18$~$14h20$."
   ]
  },
  {
   "cell_type": "markdown",
   "metadata": {},
   "source": [
    "# Exercício 1.6)"
   ]
  },
  {
   "cell_type": "markdown",
   "metadata": {},
   "source": [
    "# Exercício 1.7)\n",
    "\n",
    "Para este exercício, devemos realizar uma interpolação por partes dados 5 pontos {$(x_{0},y_{0}),(x_{1},y_{1}),(x_{2},y_{2}),(x_{3},y_{3}),(x_{4},y_{4})$}, produzindo na saída um polinômio de grau 3 sem bicos ( definição ).\n",
    "\n",
    "Com isto, temos dois polinômios, P e Q, na forma\n",
    "\n",
    "$$P = c_{3}x^3 + c_{2}x^2 + c_{1}x + c_{0}$$\n",
    "$$Q = d_{3}x^3 + d_{2}x^2 + d_{1}x + d_{0}$$\n",
    "\n",
    "que devem ser interpolados.\n",
    "\n",
    "Podemos então montar inicialmente o seguinte sistema de equações\n",
    "\n",
    "$$\n",
    "\\begin{cases}\n",
    "P(x_{0}) = y_{0} \\\\\n",
    "P(x_{1}) = y_{1} \\\\\n",
    "P(x_{2}) = y_{2} \\\\\n",
    "Q(x_{2}) = y_{2} \\\\\n",
    "Q(x_{3}) = y_{3} \\\\\n",
    "Q(x_{4}) = y_{4} \\\\\n",
    "\\end{cases}\n",
    "$$\n",
    "\n",
    "Como este sistema possui 8 variáveis $(c_{0},c_{1},c_{2},c_{3},d_{0},d_{1},d_{2},d_{3},)$ e apenas 6 equações, devemos introduzir mais 2 equações para que o sistema possa ser resolvido. Vamos introduzir 2 variáveis: uma relativa à derivada de $P$ e $Q$ em $x_{2}$, para que o ponto de encontro das funções tenham a mesma inclinação, e a segunda relativa a segunda derivada com a finalidade de terem a mesma curvatura em $x_{2}$.\n",
    "\n",
    "Com isto, temos que\n",
    "\n",
    "$$\n",
    "\\begin{cases}\n",
    "P(x_{0}) = y_{0} \\\\\n",
    "P(x_{1}) = y_{1} \\\\\n",
    "P(x_{2}) = y_{2} \\\\\n",
    "Q(x_{2}) = y_{2} \\\\\n",
    "Q(x_{3}) = y_{3} \\\\\n",
    "Q(x_{4}) = y_{4} \\\\\n",
    "P'(x_{2}) = Q'(x_{2}) \\\\\n",
    "P''(x_{2}) = Q''(x_{2})\n",
    "\\end{cases}\n",
    "$$\n",
    "\n",
    "Utilizando os pontos em questão, podemos modelar as matrizes para resolver o sistema da seguinte forma\n",
    "\n",
    "$$\n",
    "V = \\begin{bmatrix}\n",
    "1 & x_{0} & x_{0}^2 & x_{0}^3 & 0 & 0 & 0 & 0 \\\\\n",
    "1 & x_{1} & x_{1}^2 & x_{1}^3 & 0 & 0 & 0 & 0 \\\\\n",
    "1 & x_{2} & x_{2}^2 & x_{2}^3 & 0 & 0 & 0 & 0 \\\\\n",
    "0 & 0 & 0 & 0 & 1 & x_{2} & x_{2}^2 & x_{2}^3 \\\\\n",
    "0 & 0 & 0 & 0 & 1 & x_{3} & x_{3}^2 & x_{3}^3 \\\\\n",
    "0 & 0 & 0 & 0 & 1 & x_{4} & x_{4}^2 & x_{4}^3 \\\\\n",
    "0 & 1 & 2x_{2} & 3x_{2}^2 & 0 & -1 & -2x_{2} & -3x_{2}^2  \\\\\n",
    "0 & 0 & 2 & 6x_{2} & 0 & 0 & -2 & -6x_{2}  \\\\\n",
    "\\end{bmatrix}\n",
    "$$\n",
    "\n",
    "$$\n",
    "y = \\begin{bmatrix}\n",
    "y_{0} \\\\\n",
    "y_{1} \\\\\n",
    "y_{2} \\\\\n",
    "y_{2} \\\\\n",
    "y_{3} \\\\\n",
    "y_{4} \\\\\n",
    "0 \\\\\n",
    "0 \\\\\n",
    "\\end{bmatrix}\n",
    "$$\n",
    "\n",
    "$$\n",
    "C = \\begin{bmatrix}\n",
    "c_{0} \\\\\n",
    "c_{1} \\\\\n",
    "c_{2} \\\\\n",
    "c_{3} \\\\\n",
    "d_{0} \\\\\n",
    "d_{1} \\\\\n",
    "d_{2} \\\\\n",
    "d_{3} \\\\\n",
    "\\end{bmatrix}\n",
    "$$\n"
   ]
  },
  {
   "cell_type": "code",
   "execution_count": 57,
   "metadata": {},
   "outputs": [
    {
     "data": {
      "text/plain": [
       "interpolacao_por_partes_cubica (generic function with 1 method)"
      ]
     },
     "metadata": {},
     "output_type": "display_data"
    }
   ],
   "source": [
    "function interpolacao_por_partes_cubica(x::Array{Int64},y::Array{Int64})\n",
    "    # Cria a matriz V\n",
    "    V = [1 x[1] x[1]^2 x[1]^3 0 0 0 0; 1 x[2] x[2]^2 x[2]^3 0 0 0 0; 1 x[3] x[3]^2 x[3]^3 0 0 0 0; 0 0 0 0 1 x[3] x[3]^2 x[3]^3; 0 0 0 0 1 x[4] x[4]^2 x[4]^3; 0 0 0 0 1 x[5] x[5]^2 x[5]^3; 0 1 2x[3] 3x[3]^2 0 -1 -2x[3] -3x[3]^2; 0 0 2 6x[3] 0 0 -2 -6x[3]]\n",
    "    y = [y[1]; y[2]; y[3]; y[3]; y[4]; y[5]; 0; 0]\n",
    "    c=V\\y # Resolve o sistema linear Vc=y\n",
    "\n",
    "    return c # Vetor de coeficientes\n",
    "end"
   ]
  },
  {
   "cell_type": "markdown",
   "metadata": {},
   "source": [
    "Com os coeficientes, podemos então plotar as funções encontradas respectivamente em [0,2] e [2,4] para observação ambas as interpolações conectadas."
   ]
  },
  {
   "cell_type": "code",
   "execution_count": 58,
   "metadata": {},
   "outputs": [
    {
     "data": {
      "image/png": "[encoded data removed]",
      "image/svg+xml": "<?xml version=\"1.0\" encoding=\"utf-8\"?>\n<svg xmlns=\"http://www.w3.org/2000/svg\" xmlns:xlink=\"http://www.w3.org/1999/xlink\" width=\"600\" height=\"400\" viewBox=\"0 0 2400 1600\">\n<defs>\n  <clipPath id=\"clip250\">\n    <rect x=\"0\" y=\"0\" width=\"2400\" height=\"1600\"/>\n  </clipPath>\n</defs>\n<path clip-path=\"url(#clip250)\" d=\"\nM0 1600 L2400 1600 L2400 0 L0 0  Z\n  \" fill=\"#ffffff\" fill-rule=\"evenodd\" fill-opacity=\"1\"/>\n<defs>\n  <clipPath id=\"clip251\">\n    <rect x=\"480\" y=\"0\" width=\"1681\" height=\"1600\"/>\n  </clipPath>\n</defs>\n<path clip-path=\"url(#clip250)\" d=\"\nM156.112 1486.45 L2352.76 1486.45 L2352.76 47.2441 L156.112 47.2441  Z\n  \" fill=\"#ffffff\" fill-rule=\"evenodd\" fill-opacity=\"1\"/>\n<defs>\n  <clipPath id=\"clip252\">\n    <rect x=\"156\" y=\"47\" width=\"2198\" height=\"1440\"/>\n  </clipPath>\n</defs>\n<polyline clip-path=\"url(#clip252)\" style=\"stroke:#000000; stroke-linecap:butt; stroke-linejoin:round; stroke-width:2; stroke-opacity:0.1; fill:none\" points=\"\n  218.281,1486.45 218.281,47.2441 \n  \"/>\n<polyline clip-path=\"url(#clip252)\" style=\"stroke:#000000; stroke-linecap:butt; stroke-linejoin:round; stroke-width:2; stroke-opacity:0.1; fill:none\" points=\"\n  736.358,1486.45 736.358,47.2441 \n  \"/>\n<polyline clip-path=\"url(#clip252)\" style=\"stroke:#000000; stroke-linecap:butt; stroke-linejoin:round; stroke-width:2; stroke-opacity:0.1; fill:none\" points=\"\n  1254.43,1486.45 1254.43,47.2441 \n  \"/>\n<polyline clip-path=\"url(#clip252)\" style=\"stroke:#000000; stroke-linecap:butt; stroke-linejoin:round; stroke-width:2; stroke-opacity:0.1; fill:none\" points=\"\n  1772.51,1486.45 1772.51,47.2441 \n  \"/>\n<polyline clip-path=\"url(#clip252)\" style=\"stroke:#000000; stroke-linecap:butt; stroke-linejoin:round; stroke-width:2; stroke-opacity:0.1; fill:none\" points=\"\n  2290.59,1486.45 2290.59,47.2441 \n  \"/>\n<polyline clip-path=\"url(#clip250)\" style=\"stroke:#000000; stroke-linecap:butt; stroke-linejoin:round; stroke-width:4; stroke-opacity:1; fill:none\" points=\"\n  156.112,1486.45 2352.76,1486.45 \n  \"/>\n<polyline clip-path=\"url(#clip250)\" style=\"stroke:#000000; stroke-linecap:butt; stroke-linejoin:round; stroke-width:4; stroke-opacity:1; fill:none\" points=\"\n  218.281,1486.45 218.281,1467.55 \n  \"/>\n<polyline clip-path=\"url(#clip250)\" style=\"stroke:#000000; stroke-linecap:butt; stroke-linejoin:round; stroke-width:4; stroke-opacity:1; fill:none\" points=\"\n  736.358,1486.45 736.358,1467.55 \n  \"/>\n<polyline clip-path=\"url(#clip250)\" style=\"stroke:#000000; stroke-linecap:butt; stroke-linejoin:round; stroke-width:4; stroke-opacity:1; fill:none\" points=\"\n  1254.43,1486.45 1254.43,1467.55 \n  \"/>\n<polyline clip-path=\"url(#clip250)\" style=\"stroke:#000000; stroke-linecap:butt; stroke-linejoin:round; stroke-width:4; stroke-opacity:1; fill:none\" points=\"\n  1772.51,1486.45 1772.51,1467.55 \n  \"/>\n<polyline clip-path=\"url(#clip250)\" style=\"stroke:#000000; stroke-linecap:butt; stroke-linejoin:round; stroke-width:4; stroke-opacity:1; fill:none\" points=\"\n  2290.59,1486.45 2290.59,1467.55 \n  \"/>\n<path clip-path=\"url(#clip250)\" d=\"M218.281 1517.37 Q214.67 1517.37 212.842 1520.93 Q211.036 1524.47 211.036 1531.6 Q211.036 1538.71 212.842 1542.27 Q214.67 1545.82 218.281 1545.82 Q221.916 1545.82 223.721 1542.27 Q225.55 1538.71 225.55 1531.6 Q225.55 1524.47 223.721 1520.93 Q221.916 1517.37 218.281 1517.37 M218.281 1513.66 Q224.091 1513.66 227.147 1518.27 Q230.226 1522.85 230.226 1531.6 Q230.226 1540.33 227.147 1544.94 Q224.091 1549.52 218.281 1549.52 Q212.471 1549.52 209.392 1544.94 Q206.337 1540.33 206.337 1531.6 Q206.337 1522.85 209.392 1518.27 Q212.471 1513.66 218.281 1513.66 Z\" fill=\"#000000\" fill-rule=\"evenodd\" fill-opacity=\"1\" /><path clip-path=\"url(#clip250)\" d=\"M726.74 1544.91 L734.378 1544.91 L734.378 1518.55 L726.068 1520.21 L726.068 1515.95 L734.332 1514.29 L739.008 1514.29 L739.008 1544.91 L746.647 1544.91 L746.647 1548.85 L726.74 1548.85 L726.74 1544.91 Z\" fill=\"#000000\" fill-rule=\"evenodd\" fill-opacity=\"1\" /><path clip-path=\"url(#clip250)\" d=\"M1249.09 1544.91 L1265.41 1544.91 L1265.41 1548.85 L1243.46 1548.85 L1243.46 1544.91 Q1246.12 1542.16 1250.71 1537.53 Q1255.31 1532.88 1256.49 1531.53 Q1258.74 1529.01 1259.62 1527.27 Q1260.52 1525.51 1260.52 1523.82 Q1260.52 1521.07 1258.58 1519.33 Q1256.66 1517.6 1253.55 1517.6 Q1251.36 1517.6 1248.9 1518.36 Q1246.47 1519.13 1243.69 1520.68 L1243.69 1515.95 Q1246.52 1514.82 1248.97 1514.24 Q1251.42 1513.66 1253.46 1513.66 Q1258.83 1513.66 1262.03 1516.35 Q1265.22 1519.03 1265.22 1523.52 Q1265.22 1525.65 1264.41 1527.57 Q1263.62 1529.47 1261.52 1532.07 Q1260.94 1532.74 1257.84 1535.95 Q1254.73 1539.15 1249.09 1544.91 Z\" fill=\"#000000\" fill-rule=\"evenodd\" fill-opacity=\"1\" /><path clip-path=\"url(#clip250)\" d=\"M1776.76 1530.21 Q1780.11 1530.93 1781.99 1533.2 Q1783.89 1535.47 1783.89 1538.8 Q1783.89 1543.92 1780.37 1546.72 Q1776.85 1549.52 1770.37 1549.52 Q1768.19 1549.52 1765.88 1549.08 Q1763.59 1548.66 1761.13 1547.81 L1761.13 1543.29 Q1763.08 1544.43 1765.39 1545.01 Q1767.71 1545.58 1770.23 1545.58 Q1774.63 1545.58 1776.92 1543.85 Q1779.23 1542.11 1779.23 1538.8 Q1779.23 1535.75 1777.08 1534.03 Q1774.95 1532.3 1771.13 1532.3 L1767.11 1532.3 L1767.11 1528.45 L1771.32 1528.45 Q1774.77 1528.45 1776.6 1527.09 Q1778.42 1525.7 1778.42 1523.11 Q1778.42 1520.45 1776.53 1519.03 Q1774.65 1517.6 1771.13 1517.6 Q1769.21 1517.6 1767.01 1518.01 Q1764.81 1518.43 1762.17 1519.31 L1762.17 1515.14 Q1764.84 1514.4 1767.15 1514.03 Q1769.49 1513.66 1771.55 1513.66 Q1776.87 1513.66 1779.98 1516.09 Q1783.08 1518.5 1783.08 1522.62 Q1783.08 1525.49 1781.43 1527.48 Q1779.79 1529.45 1776.76 1530.21 Z\" fill=\"#000000\" fill-rule=\"evenodd\" fill-opacity=\"1\" /><path clip-path=\"url(#clip250)\" d=\"M2293.6 1518.36 L2281.79 1536.81 L2293.6 1536.81 L2293.6 1518.36 M2292.37 1514.29 L2298.25 1514.29 L2298.25 1536.81 L2303.18 1536.81 L2303.18 1540.7 L2298.25 1540.7 L2298.25 1548.85 L2293.6 1548.85 L2293.6 1540.7 L2277.99 1540.7 L2277.99 1536.19 L2292.37 1514.29 Z\" fill=\"#000000\" fill-rule=\"evenodd\" fill-opacity=\"1\" /><polyline clip-path=\"url(#clip252)\" style=\"stroke:#000000; stroke-linecap:butt; stroke-linejoin:round; stroke-width:2; stroke-opacity:0.1; fill:none\" points=\"\n  156.112,1423.01 2352.76,1423.01 \n  \"/>\n<polyline clip-path=\"url(#clip252)\" style=\"stroke:#000000; stroke-linecap:butt; stroke-linejoin:round; stroke-width:2; stroke-opacity:0.1; fill:none\" points=\"\n  156.112,1129.59 2352.76,1129.59 \n  \"/>\n<polyline clip-path=\"url(#clip252)\" style=\"stroke:#000000; stroke-linecap:butt; stroke-linejoin:round; stroke-width:2; stroke-opacity:0.1; fill:none\" points=\"\n  156.112,836.167 2352.76,836.167 \n  \"/>\n<polyline clip-path=\"url(#clip252)\" style=\"stroke:#000000; stroke-linecap:butt; stroke-linejoin:round; stroke-width:2; stroke-opacity:0.1; fill:none\" points=\"\n  156.112,542.744 2352.76,542.744 \n  \"/>\n<polyline clip-path=\"url(#clip252)\" style=\"stroke:#000000; stroke-linecap:butt; stroke-linejoin:round; stroke-width:2; stroke-opacity:0.1; fill:none\" points=\"\n  156.112,249.321 2352.76,249.321 \n  \"/>\n<polyline clip-path=\"url(#clip250)\" style=\"stroke:#000000; stroke-linecap:butt; stroke-linejoin:round; stroke-width:4; stroke-opacity:1; fill:none\" points=\"\n  156.112,1486.45 156.112,47.2441 \n  \"/>\n<polyline clip-path=\"url(#clip250)\" style=\"stroke:#000000; stroke-linecap:butt; stroke-linejoin:round; stroke-width:4; stroke-opacity:1; fill:none\" points=\"\n  156.112,1423.01 175.01,1423.01 \n  \"/>\n<polyline clip-path=\"url(#clip250)\" style=\"stroke:#000000; stroke-linecap:butt; stroke-linejoin:round; stroke-width:4; stroke-opacity:1; fill:none\" points=\"\n  156.112,1129.59 175.01,1129.59 \n  \"/>\n<polyline clip-path=\"url(#clip250)\" style=\"stroke:#000000; stroke-linecap:butt; stroke-linejoin:round; stroke-width:4; stroke-opacity:1; fill:none\" points=\"\n  156.112,836.167 175.01,836.167 \n  \"/>\n<polyline clip-path=\"url(#clip250)\" style=\"stroke:#000000; stroke-linecap:butt; stroke-linejoin:round; stroke-width:4; stroke-opacity:1; fill:none\" points=\"\n  156.112,542.744 175.01,542.744 \n  \"/>\n<polyline clip-path=\"url(#clip250)\" style=\"stroke:#000000; stroke-linecap:butt; stroke-linejoin:round; stroke-width:4; stroke-opacity:1; fill:none\" points=\"\n  156.112,249.321 175.01,249.321 \n  \"/>\n<path clip-path=\"url(#clip250)\" d=\"M62.9365 1408.81 Q59.3254 1408.81 57.4967 1412.38 Q55.6912 1415.92 55.6912 1423.05 Q55.6912 1430.15 57.4967 1433.72 Q59.3254 1437.26 62.9365 1437.26 Q66.5707 1437.26 68.3763 1433.72 Q70.205 1430.15 70.205 1423.05 Q70.205 1415.92 68.3763 1412.38 Q66.5707 1408.81 62.9365 1408.81 M62.9365 1405.11 Q68.7467 1405.11 71.8022 1409.71 Q74.8809 1414.3 74.8809 1423.05 Q74.8809 1431.77 71.8022 1436.38 Q68.7467 1440.96 62.9365 1440.96 Q57.1264 1440.96 54.0477 1436.38 Q50.9921 1431.77 50.9921 1423.05 Q50.9921 1414.3 54.0477 1409.71 Q57.1264 1405.11 62.9365 1405.11 Z\" fill=\"#000000\" fill-rule=\"evenodd\" fill-opacity=\"1\" /><path clip-path=\"url(#clip250)\" d=\"M83.0984 1434.41 L87.9827 1434.41 L87.9827 1440.29 L83.0984 1440.29 L83.0984 1434.41 Z\" fill=\"#000000\" fill-rule=\"evenodd\" fill-opacity=\"1\" /><path clip-path=\"url(#clip250)\" d=\"M108.168 1408.81 Q104.557 1408.81 102.728 1412.38 Q100.922 1415.92 100.922 1423.05 Q100.922 1430.15 102.728 1433.72 Q104.557 1437.26 108.168 1437.26 Q111.802 1437.26 113.608 1433.72 Q115.436 1430.15 115.436 1423.05 Q115.436 1415.92 113.608 1412.38 Q111.802 1408.81 108.168 1408.81 M108.168 1405.11 Q113.978 1405.11 117.033 1409.71 Q120.112 1414.3 120.112 1423.05 Q120.112 1431.77 117.033 1436.38 Q113.978 1440.96 108.168 1440.96 Q102.358 1440.96 99.2789 1436.38 Q96.2234 1431.77 96.2234 1423.05 Q96.2234 1414.3 99.2789 1409.71 Q102.358 1405.11 108.168 1405.11 Z\" fill=\"#000000\" fill-rule=\"evenodd\" fill-opacity=\"1\" /><path clip-path=\"url(#clip250)\" d=\"M63.9319 1115.39 Q60.3208 1115.39 58.4921 1118.95 Q56.6865 1122.49 56.6865 1129.62 Q56.6865 1136.73 58.4921 1140.3 Q60.3208 1143.84 63.9319 1143.84 Q67.5661 1143.84 69.3717 1140.3 Q71.2004 1136.73 71.2004 1129.62 Q71.2004 1122.49 69.3717 1118.95 Q67.5661 1115.39 63.9319 1115.39 M63.9319 1111.68 Q69.742 1111.68 72.7976 1116.29 Q75.8763 1120.87 75.8763 1129.62 Q75.8763 1138.35 72.7976 1142.96 Q69.742 1147.54 63.9319 1147.54 Q58.1217 1147.54 55.043 1142.96 Q51.9875 1138.35 51.9875 1129.62 Q51.9875 1120.87 55.043 1116.29 Q58.1217 1111.68 63.9319 1111.68 Z\" fill=\"#000000\" fill-rule=\"evenodd\" fill-opacity=\"1\" /><path clip-path=\"url(#clip250)\" d=\"M84.0938 1140.99 L88.978 1140.99 L88.978 1146.87 L84.0938 1146.87 L84.0938 1140.99 Z\" fill=\"#000000\" fill-rule=\"evenodd\" fill-opacity=\"1\" /><path clip-path=\"url(#clip250)\" d=\"M99.2095 1112.31 L117.566 1112.31 L117.566 1116.24 L103.492 1116.24 L103.492 1124.72 Q104.51 1124.37 105.529 1124.21 Q106.547 1124.02 107.566 1124.02 Q113.353 1124.02 116.733 1127.19 Q120.112 1130.36 120.112 1135.78 Q120.112 1141.36 116.64 1144.46 Q113.168 1147.54 106.848 1147.54 Q104.672 1147.54 102.404 1147.17 Q100.159 1146.8 97.7511 1146.06 L97.7511 1141.36 Q99.8345 1142.49 102.057 1143.05 Q104.279 1143.61 106.756 1143.61 Q110.76 1143.61 113.098 1141.5 Q115.436 1139.39 115.436 1135.78 Q115.436 1132.17 113.098 1130.06 Q110.76 1127.96 106.756 1127.96 Q104.881 1127.96 103.006 1128.37 Q101.154 1128.79 99.2095 1129.67 L99.2095 1112.31 Z\" fill=\"#000000\" fill-rule=\"evenodd\" fill-opacity=\"1\" /><path clip-path=\"url(#clip250)\" d=\"M53.7467 849.511 L61.3856 849.511 L61.3856 823.146 L53.0754 824.812 L53.0754 820.553 L61.3393 818.887 L66.0152 818.887 L66.0152 849.511 L73.654 849.511 L73.654 853.447 L53.7467 853.447 L53.7467 849.511 Z\" fill=\"#000000\" fill-rule=\"evenodd\" fill-opacity=\"1\" /><path clip-path=\"url(#clip250)\" d=\"M83.0984 847.567 L87.9827 847.567 L87.9827 853.447 L83.0984 853.447 L83.0984 847.567 Z\" fill=\"#000000\" fill-rule=\"evenodd\" fill-opacity=\"1\" /><path clip-path=\"url(#clip250)\" d=\"M108.168 821.965 Q104.557 821.965 102.728 825.53 Q100.922 829.072 100.922 836.201 Q100.922 843.308 102.728 846.872 Q104.557 850.414 108.168 850.414 Q111.802 850.414 113.608 846.872 Q115.436 843.308 115.436 836.201 Q115.436 829.072 113.608 825.53 Q111.802 821.965 108.168 821.965 M108.168 818.262 Q113.978 818.262 117.033 822.868 Q120.112 827.451 120.112 836.201 Q120.112 844.928 117.033 849.534 Q113.978 854.118 108.168 854.118 Q102.358 854.118 99.2789 849.534 Q96.2234 844.928 96.2234 836.201 Q96.2234 827.451 99.2789 822.868 Q102.358 818.262 108.168 818.262 Z\" fill=\"#000000\" fill-rule=\"evenodd\" fill-opacity=\"1\" /><path clip-path=\"url(#clip250)\" d=\"M54.7421 556.089 L62.381 556.089 L62.381 529.723 L54.0708 531.39 L54.0708 527.13 L62.3347 525.464 L67.0106 525.464 L67.0106 556.089 L74.6494 556.089 L74.6494 560.024 L54.7421 560.024 L54.7421 556.089 Z\" fill=\"#000000\" fill-rule=\"evenodd\" fill-opacity=\"1\" /><path clip-path=\"url(#clip250)\" d=\"M84.0938 554.144 L88.978 554.144 L88.978 560.024 L84.0938 560.024 L84.0938 554.144 Z\" fill=\"#000000\" fill-rule=\"evenodd\" fill-opacity=\"1\" /><path clip-path=\"url(#clip250)\" d=\"M99.2095 525.464 L117.566 525.464 L117.566 529.399 L103.492 529.399 L103.492 537.871 Q104.51 537.524 105.529 537.362 Q106.547 537.177 107.566 537.177 Q113.353 537.177 116.733 540.348 Q120.112 543.519 120.112 548.936 Q120.112 554.515 116.64 557.616 Q113.168 560.695 106.848 560.695 Q104.672 560.695 102.404 560.325 Q100.159 559.954 97.7511 559.214 L97.7511 554.515 Q99.8345 555.649 102.057 556.204 Q104.279 556.76 106.756 556.76 Q110.76 556.76 113.098 554.653 Q115.436 552.547 115.436 548.936 Q115.436 545.325 113.098 543.218 Q110.76 541.112 106.756 541.112 Q104.881 541.112 103.006 541.528 Q101.154 541.945 99.2095 542.825 L99.2095 525.464 Z\" fill=\"#000000\" fill-rule=\"evenodd\" fill-opacity=\"1\" /><path clip-path=\"url(#clip250)\" d=\"M56.9643 262.666 L73.2837 262.666 L73.2837 266.601 L51.3393 266.601 L51.3393 262.666 Q54.0014 259.911 58.5847 255.282 Q63.1911 250.629 64.3717 249.286 Q66.617 246.763 67.4967 245.027 Q68.3994 243.268 68.3994 241.578 Q68.3994 238.823 66.455 237.087 Q64.5337 235.351 61.4319 235.351 Q59.2328 235.351 56.7791 236.115 Q54.3486 236.879 51.5708 238.43 L51.5708 233.708 Q54.3949 232.573 56.8486 231.995 Q59.3023 231.416 61.3393 231.416 Q66.7096 231.416 69.9041 234.101 Q73.0985 236.786 73.0985 241.277 Q73.0985 243.407 72.2883 245.328 Q71.5013 247.226 69.3948 249.819 Q68.8161 250.49 65.7143 253.708 Q62.6124 256.902 56.9643 262.666 Z\" fill=\"#000000\" fill-rule=\"evenodd\" fill-opacity=\"1\" /><path clip-path=\"url(#clip250)\" d=\"M83.0984 260.721 L87.9827 260.721 L87.9827 266.601 L83.0984 266.601 L83.0984 260.721 Z\" fill=\"#000000\" fill-rule=\"evenodd\" fill-opacity=\"1\" /><path clip-path=\"url(#clip250)\" d=\"M108.168 235.12 Q104.557 235.12 102.728 238.684 Q100.922 242.226 100.922 249.356 Q100.922 256.462 102.728 260.027 Q104.557 263.569 108.168 263.569 Q111.802 263.569 113.608 260.027 Q115.436 256.462 115.436 249.356 Q115.436 242.226 113.608 238.684 Q111.802 235.12 108.168 235.12 M108.168 231.416 Q113.978 231.416 117.033 236.022 Q120.112 240.606 120.112 249.356 Q120.112 258.083 117.033 262.689 Q113.978 267.272 108.168 267.272 Q102.358 267.272 99.2789 262.689 Q96.2234 258.083 96.2234 249.356 Q96.2234 240.606 99.2789 236.022 Q102.358 231.416 108.168 231.416 Z\" fill=\"#000000\" fill-rule=\"evenodd\" fill-opacity=\"1\" /><polyline clip-path=\"url(#clip252)\" style=\"stroke:#009af9; stroke-linecap:butt; stroke-linejoin:round; stroke-width:4; stroke-opacity:1; fill:none\" points=\"\n  218.281,1423.01 220.811,1409.71 223.341,1396.55 225.87,1383.52 228.4,1370.64 251.791,1257.94 275.182,1156.59 298.573,1066.15 321.964,986.184 336.021,942.991 \n  350.078,903.333 364.135,867.117 378.192,834.247 401.962,786.019 425.732,746.641 451.552,713.365 477.373,689.414 501.178,675.096 524.982,667.754 550.503,667.115 \n  576.024,673.411 605.593,688.639 635.161,711.55 661.439,737.653 687.716,768.522 710.758,799.03 733.801,832.319 784.046,912.553 834.59,1000.29 890.473,1100.26 \n  943.644,1193.06 998.929,1281.61 1045.47,1345.74 1073.88,1378.65 1102.29,1405.89 1128.99,1425.63 1155.7,1439.04 1177.09,1444.78 1198.48,1445.72 1219.87,1441.51 \n  1241.27,1431.83 1244.56,1429.84 1247.85,1427.7 1251.14,1425.43 1254.43,1423.01 \n  \"/>\n<polyline clip-path=\"url(#clip252)\" style=\"stroke:#e26f46; stroke-linecap:butt; stroke-linejoin:round; stroke-width:4; stroke-opacity:1; fill:none\" points=\"\n  1254.43,1423.01 1256.96,1421.06 1259.49,1419.02 1262.02,1416.91 1264.55,1414.71 1287.94,1390.61 1311.33,1360.1 1334.73,1323.73 1358.12,1282.04 1386.23,1225.65 \n  1414.34,1163.29 1438.11,1106.59 1461.88,1046.87 1513.53,909.375 1561.14,777.325 1612.18,635.435 1671.31,477.861 1723.87,350.689 1769.95,254.177 1795.08,209.027 \n  1820.2,169.998 1845.47,137.589 1870.74,112.732 1898.68,94.8616 1926.63,87.9763 1953.21,92.4645 1979.8,108.524 2007.44,138.345 2035.08,182.425 2058.35,231.239 \n  2081.62,291.32 2095.82,333.762 2110.03,380.722 2124.23,432.32 2138.44,488.679 2151.79,546.105 2165.14,607.945 2178.5,674.298 2191.85,745.266 2213.24,868.83 \n  2234.63,1004.91 2256.03,1153.92 2277.42,1316.26 2280.71,1342.46 2284,1368.98 2287.29,1395.83 2290.59,1423.01 \n  \"/>\n<path clip-path=\"url(#clip250)\" d=\"\nM1983.03 250.738 L2279.53 250.738 L2279.53 95.2176 L1983.03 95.2176  Z\n  \" fill=\"#ffffff\" fill-rule=\"evenodd\" fill-opacity=\"1\"/>\n<polyline clip-path=\"url(#clip250)\" style=\"stroke:#000000; stroke-linecap:butt; stroke-linejoin:round; stroke-width:4; stroke-opacity:1; fill:none\" points=\"\n  1983.03,250.738 2279.53,250.738 2279.53,95.2176 1983.03,95.2176 1983.03,250.738 \n  \"/>\n<polyline clip-path=\"url(#clip250)\" style=\"stroke:#009af9; stroke-linecap:butt; stroke-linejoin:round; stroke-width:4; stroke-opacity:1; fill:none\" points=\"\n  2007.44,147.058 2153.88,147.058 \n  \"/>\n<path clip-path=\"url(#clip250)\" d=\"M2192.13 166.745 Q2190.33 171.375 2188.61 172.787 Q2186.9 174.199 2184.03 174.199 L2180.63 174.199 L2180.63 170.634 L2183.13 170.634 Q2184.89 170.634 2185.86 169.8 Q2186.83 168.967 2188.01 165.865 L2188.78 163.921 L2178.29 138.412 L2182.8 138.412 L2190.91 158.689 L2199.01 138.412 L2203.52 138.412 L2192.13 166.745 Z\" fill=\"#000000\" fill-rule=\"evenodd\" fill-opacity=\"1\" /><path clip-path=\"url(#clip250)\" d=\"M2210.81 160.402 L2218.45 160.402 L2218.45 134.037 L2210.14 135.703 L2210.14 131.444 L2218.41 129.778 L2223.08 129.778 L2223.08 160.402 L2230.72 160.402 L2230.72 164.338 L2210.81 164.338 L2210.81 160.402 Z\" fill=\"#000000\" fill-rule=\"evenodd\" fill-opacity=\"1\" /><polyline clip-path=\"url(#clip250)\" style=\"stroke:#e26f46; stroke-linecap:butt; stroke-linejoin:round; stroke-width:4; stroke-opacity:1; fill:none\" points=\"\n  2007.44,198.898 2153.88,198.898 \n  \"/>\n<path clip-path=\"url(#clip250)\" d=\"M2192.13 218.585 Q2190.33 223.215 2188.61 224.627 Q2186.9 226.039 2184.03 226.039 L2180.63 226.039 L2180.63 222.474 L2183.13 222.474 Q2184.89 222.474 2185.86 221.64 Q2186.83 220.807 2188.01 217.705 L2188.78 215.761 L2178.29 190.252 L2182.8 190.252 L2190.91 210.529 L2199.01 190.252 L2203.52 190.252 L2192.13 218.585 Z\" fill=\"#000000\" fill-rule=\"evenodd\" fill-opacity=\"1\" /><path clip-path=\"url(#clip250)\" d=\"M2214.03 212.242 L2230.35 212.242 L2230.35 216.178 L2208.41 216.178 L2208.41 212.242 Q2211.07 209.488 2215.65 204.858 Q2220.26 200.205 2221.44 198.863 Q2223.68 196.34 2224.56 194.604 Q2225.47 192.844 2225.47 191.155 Q2225.47 188.4 2223.52 186.664 Q2221.6 184.928 2218.5 184.928 Q2216.3 184.928 2213.85 185.692 Q2211.41 186.455 2208.64 188.006 L2208.64 183.284 Q2211.46 182.15 2213.91 181.571 Q2216.37 180.993 2218.41 180.993 Q2223.78 180.993 2226.97 183.678 Q2230.16 186.363 2230.16 190.854 Q2230.16 192.983 2229.35 194.905 Q2228.57 196.803 2226.46 199.395 Q2225.88 200.067 2222.78 203.284 Q2219.68 206.479 2214.03 212.242 Z\" fill=\"#000000\" fill-rule=\"evenodd\" fill-opacity=\"1\" /></svg>\n",
      "text/html": [
       "<?xml version=\"1.0\" encoding=\"utf-8\"?>\n",
       "<svg xmlns=\"http://www.w3.org/2000/svg\" xmlns:xlink=\"http://www.w3.org/1999/xlink\" width=\"600\" height=\"400\" viewBox=\"0 0 2400 1600\">\n",
       "<defs>\n",
       "  <clipPath id=\"clip300\">\n",
       "    <rect x=\"0\" y=\"0\" width=\"2400\" height=\"1600\"/>\n",
       "  </clipPath>\n",
       "</defs>\n",
       "<path clip-path=\"url(#clip300)\" d=\"\n",
       "M0 1600 L2400 1600 L2400 0 L0 0  Z\n",
       "  \" fill=\"#ffffff\" fill-rule=\"evenodd\" fill-opacity=\"1\"/>\n",
       "<defs>\n",
       "  <clipPath id=\"clip301\">\n",
       "    <rect x=\"480\" y=\"0\" width=\"1681\" height=\"1600\"/>\n",
       "  </clipPath>\n",
       "</defs>\n",
       "<path clip-path=\"url(#clip300)\" d=\"\n",
       "M156.112 1486.45 L2352.76 1486.45 L2352.76 47.2441 L156.112 47.2441  Z\n",
       "  \" fill=\"#ffffff\" fill-rule=\"evenodd\" fill-opacity=\"1\"/>\n",
       "<defs>\n",
       "  <clipPath id=\"clip302\">\n",
       "    <rect x=\"156\" y=\"47\" width=\"2198\" height=\"1440\"/>\n",
       "  </clipPath>\n",
       "</defs>\n",
       "<polyline clip-path=\"url(#clip302)\" style=\"stroke:#000000; stroke-linecap:butt; stroke-linejoin:round; stroke-width:2; stroke-opacity:0.1; fill:none\" points=\"\n",
       "  218.281,1486.45 218.281,47.2441 \n",
       "  \"/>\n",
       "<polyline clip-path=\"url(#clip302)\" style=\"stroke:#000000; stroke-linecap:butt; stroke-linejoin:round; stroke-width:2; stroke-opacity:0.1; fill:none\" points=\"\n",
       "  736.358,1486.45 736.358,47.2441 \n",
       "  \"/>\n",
       "<polyline clip-path=\"url(#clip302)\" style=\"stroke:#000000; stroke-linecap:butt; stroke-linejoin:round; stroke-width:2; stroke-opacity:0.1; fill:none\" points=\"\n",
       "  1254.43,1486.45 1254.43,47.2441 \n",
       "  \"/>\n",
       "<polyline clip-path=\"url(#clip302)\" style=\"stroke:#000000; stroke-linecap:butt; stroke-linejoin:round; stroke-width:2; stroke-opacity:0.1; fill:none\" points=\"\n",
       "  1772.51,1486.45 1772.51,47.2441 \n",
       "  \"/>\n",
       "<polyline clip-path=\"url(#clip302)\" style=\"stroke:#000000; stroke-linecap:butt; stroke-linejoin:round; stroke-width:2; stroke-opacity:0.1; fill:none\" points=\"\n",
       "  2290.59,1486.45 2290.59,47.2441 \n",
       "  \"/>\n",
       "<polyline clip-path=\"url(#clip300)\" style=\"stroke:#000000; stroke-linecap:butt; stroke-linejoin:round; stroke-width:4; stroke-opacity:1; fill:none\" points=\"\n",
       "  156.112,1486.45 2352.76,1486.45 \n",
       "  \"/>\n",
       "<polyline clip-path=\"url(#clip300)\" style=\"stroke:#000000; stroke-linecap:butt; stroke-linejoin:round; stroke-width:4; stroke-opacity:1; fill:none\" points=\"\n",
       "  218.281,1486.45 218.281,1467.55 \n",
       "  \"/>\n",
       "<polyline clip-path=\"url(#clip300)\" style=\"stroke:#000000; stroke-linecap:butt; stroke-linejoin:round; stroke-width:4; stroke-opacity:1; fill:none\" points=\"\n",
       "  736.358,1486.45 736.358,1467.55 \n",
       "  \"/>\n",
       "<polyline clip-path=\"url(#clip300)\" style=\"stroke:#000000; stroke-linecap:butt; stroke-linejoin:round; stroke-width:4; stroke-opacity:1; fill:none\" points=\"\n",
       "  1254.43,1486.45 1254.43,1467.55 \n",
       "  \"/>\n",
       "<polyline clip-path=\"url(#clip300)\" style=\"stroke:#000000; stroke-linecap:butt; stroke-linejoin:round; stroke-width:4; stroke-opacity:1; fill:none\" points=\"\n",
       "  1772.51,1486.45 1772.51,1467.55 \n",
       "  \"/>\n",
       "<polyline clip-path=\"url(#clip300)\" style=\"stroke:#000000; stroke-linecap:butt; stroke-linejoin:round; stroke-width:4; stroke-opacity:1; fill:none\" points=\"\n",
       "  2290.59,1486.45 2290.59,1467.55 \n",
       "  \"/>\n",
       "<path clip-path=\"url(#clip300)\" d=\"M218.281 1517.37 Q214.67 1517.37 212.842 1520.93 Q211.036 1524.47 211.036 1531.6 Q211.036 1538.71 212.842 1542.27 Q214.67 1545.82 218.281 1545.82 Q221.916 1545.82 223.721 1542.27 Q225.55 1538.71 225.55 1531.6 Q225.55 1524.47 223.721 1520.93 Q221.916 1517.37 218.281 1517.37 M218.281 1513.66 Q224.091 1513.66 227.147 1518.27 Q230.226 1522.85 230.226 1531.6 Q230.226 1540.33 227.147 1544.94 Q224.091 1549.52 218.281 1549.52 Q212.471 1549.52 209.392 1544.94 Q206.337 1540.33 206.337 1531.6 Q206.337 1522.85 209.392 1518.27 Q212.471 1513.66 218.281 1513.66 Z\" fill=\"#000000\" fill-rule=\"evenodd\" fill-opacity=\"1\" /><path clip-path=\"url(#clip300)\" d=\"M726.74 1544.91 L734.378 1544.91 L734.378 1518.55 L726.068 1520.21 L726.068 1515.95 L734.332 1514.29 L739.008 1514.29 L739.008 1544.91 L746.647 1544.91 L746.647 1548.85 L726.74 1548.85 L726.74 1544.91 Z\" fill=\"#000000\" fill-rule=\"evenodd\" fill-opacity=\"1\" /><path clip-path=\"url(#clip300)\" d=\"M1249.09 1544.91 L1265.41 1544.91 L1265.41 1548.85 L1243.46 1548.85 L1243.46 1544.91 Q1246.12 1542.16 1250.71 1537.53 Q1255.31 1532.88 1256.49 1531.53 Q1258.74 1529.01 1259.62 1527.27 Q1260.52 1525.51 1260.52 1523.82 Q1260.52 1521.07 1258.58 1519.33 Q1256.66 1517.6 1253.55 1517.6 Q1251.36 1517.6 1248.9 1518.36 Q1246.47 1519.13 1243.69 1520.68 L1243.69 1515.95 Q1246.52 1514.82 1248.97 1514.24 Q1251.42 1513.66 1253.46 1513.66 Q1258.83 1513.66 1262.03 1516.35 Q1265.22 1519.03 1265.22 1523.52 Q1265.22 1525.65 1264.41 1527.57 Q1263.62 1529.47 1261.52 1532.07 Q1260.94 1532.74 1257.84 1535.95 Q1254.73 1539.15 1249.09 1544.91 Z\" fill=\"#000000\" fill-rule=\"evenodd\" fill-opacity=\"1\" /><path clip-path=\"url(#clip300)\" d=\"M1776.76 1530.21 Q1780.11 1530.93 1781.99 1533.2 Q1783.89 1535.47 1783.89 1538.8 Q1783.89 1543.92 1780.37 1546.72 Q1776.85 1549.52 1770.37 1549.52 Q1768.19 1549.52 1765.88 1549.08 Q1763.59 1548.66 1761.13 1547.81 L1761.13 1543.29 Q1763.08 1544.43 1765.39 1545.01 Q1767.71 1545.58 1770.23 1545.58 Q1774.63 1545.58 1776.92 1543.85 Q1779.23 1542.11 1779.23 1538.8 Q1779.23 1535.75 1777.08 1534.03 Q1774.95 1532.3 1771.13 1532.3 L1767.11 1532.3 L1767.11 1528.45 L1771.32 1528.45 Q1774.77 1528.45 1776.6 1527.09 Q1778.42 1525.7 1778.42 1523.11 Q1778.42 1520.45 1776.53 1519.03 Q1774.65 1517.6 1771.13 1517.6 Q1769.21 1517.6 1767.01 1518.01 Q1764.81 1518.43 1762.17 1519.31 L1762.17 1515.14 Q1764.84 1514.4 1767.15 1514.03 Q1769.49 1513.66 1771.55 1513.66 Q1776.87 1513.66 1779.98 1516.09 Q1783.08 1518.5 1783.08 1522.62 Q1783.08 1525.49 1781.43 1527.48 Q1779.79 1529.45 1776.76 1530.21 Z\" fill=\"#000000\" fill-rule=\"evenodd\" fill-opacity=\"1\" /><path clip-path=\"url(#clip300)\" d=\"M2293.6 1518.36 L2281.79 1536.81 L2293.6 1536.81 L2293.6 1518.36 M2292.37 1514.29 L2298.25 1514.29 L2298.25 1536.81 L2303.18 1536.81 L2303.18 1540.7 L2298.25 1540.7 L2298.25 1548.85 L2293.6 1548.85 L2293.6 1540.7 L2277.99 1540.7 L2277.99 1536.19 L2292.37 1514.29 Z\" fill=\"#000000\" fill-rule=\"evenodd\" fill-opacity=\"1\" /><polyline clip-path=\"url(#clip302)\" style=\"stroke:#000000; stroke-linecap:butt; stroke-linejoin:round; stroke-width:2; stroke-opacity:0.1; fill:none\" points=\"\n",
       "  156.112,1423.01 2352.76,1423.01 \n",
       "  \"/>\n",
       "<polyline clip-path=\"url(#clip302)\" style=\"stroke:#000000; stroke-linecap:butt; stroke-linejoin:round; stroke-width:2; stroke-opacity:0.1; fill:none\" points=\"\n",
       "  156.112,1129.59 2352.76,1129.59 \n",
       "  \"/>\n",
       "<polyline clip-path=\"url(#clip302)\" style=\"stroke:#000000; stroke-linecap:butt; stroke-linejoin:round; stroke-width:2; stroke-opacity:0.1; fill:none\" points=\"\n",
       "  156.112,836.167 2352.76,836.167 \n",
       "  \"/>\n",
       "<polyline clip-path=\"url(#clip302)\" style=\"stroke:#000000; stroke-linecap:butt; stroke-linejoin:round; stroke-width:2; stroke-opacity:0.1; fill:none\" points=\"\n",
       "  156.112,542.744 2352.76,542.744 \n",
       "  \"/>\n",
       "<polyline clip-path=\"url(#clip302)\" style=\"stroke:#000000; stroke-linecap:butt; stroke-linejoin:round; stroke-width:2; stroke-opacity:0.1; fill:none\" points=\"\n",
       "  156.112,249.321 2352.76,249.321 \n",
       "  \"/>\n",
       "<polyline clip-path=\"url(#clip300)\" style=\"stroke:#000000; stroke-linecap:butt; stroke-linejoin:round; stroke-width:4; stroke-opacity:1; fill:none\" points=\"\n",
       "  156.112,1486.45 156.112,47.2441 \n",
       "  \"/>\n",
       "<polyline clip-path=\"url(#clip300)\" style=\"stroke:#000000; stroke-linecap:butt; stroke-linejoin:round; stroke-width:4; stroke-opacity:1; fill:none\" points=\"\n",
       "  156.112,1423.01 175.01,1423.01 \n",
       "  \"/>\n",
       "<polyline clip-path=\"url(#clip300)\" style=\"stroke:#000000; stroke-linecap:butt; stroke-linejoin:round; stroke-width:4; stroke-opacity:1; fill:none\" points=\"\n",
       "  156.112,1129.59 175.01,1129.59 \n",
       "  \"/>\n",
       "<polyline clip-path=\"url(#clip300)\" style=\"stroke:#000000; stroke-linecap:butt; stroke-linejoin:round; stroke-width:4; stroke-opacity:1; fill:none\" points=\"\n",
       "  156.112,836.167 175.01,836.167 \n",
       "  \"/>\n",
       "<polyline clip-path=\"url(#clip300)\" style=\"stroke:#000000; stroke-linecap:butt; stroke-linejoin:round; stroke-width:4; stroke-opacity:1; fill:none\" points=\"\n",
       "  156.112,542.744 175.01,542.744 \n",
       "  \"/>\n",
       "<polyline clip-path=\"url(#clip300)\" style=\"stroke:#000000; stroke-linecap:butt; stroke-linejoin:round; stroke-width:4; stroke-opacity:1; fill:none\" points=\"\n",
       "  156.112,249.321 175.01,249.321 \n",
       "  \"/>\n",
       "<path clip-path=\"url(#clip300)\" d=\"M62.9365 1408.81 Q59.3254 1408.81 57.4967 1412.38 Q55.6912 1415.92 55.6912 1423.05 Q55.6912 1430.15 57.4967 1433.72 Q59.3254 1437.26 62.9365 1437.26 Q66.5707 1437.26 68.3763 1433.72 Q70.205 1430.15 70.205 1423.05 Q70.205 1415.92 68.3763 1412.38 Q66.5707 1408.81 62.9365 1408.81 M62.9365 1405.11 Q68.7467 1405.11 71.8022 1409.71 Q74.8809 1414.3 74.8809 1423.05 Q74.8809 1431.77 71.8022 1436.38 Q68.7467 1440.96 62.9365 1440.96 Q57.1264 1440.96 54.0477 1436.38 Q50.9921 1431.77 50.9921 1423.05 Q50.9921 1414.3 54.0477 1409.71 Q57.1264 1405.11 62.9365 1405.11 Z\" fill=\"#000000\" fill-rule=\"evenodd\" fill-opacity=\"1\" /><path clip-path=\"url(#clip300)\" d=\"M83.0984 1434.41 L87.9827 1434.41 L87.9827 1440.29 L83.0984 1440.29 L83.0984 1434.41 Z\" fill=\"#000000\" fill-rule=\"evenodd\" fill-opacity=\"1\" /><path clip-path=\"url(#clip300)\" d=\"M108.168 1408.81 Q104.557 1408.81 102.728 1412.38 Q100.922 1415.92 100.922 1423.05 Q100.922 1430.15 102.728 1433.72 Q104.557 1437.26 108.168 1437.26 Q111.802 1437.26 113.608 1433.72 Q115.436 1430.15 115.436 1423.05 Q115.436 1415.92 113.608 1412.38 Q111.802 1408.81 108.168 1408.81 M108.168 1405.11 Q113.978 1405.11 117.033 1409.71 Q120.112 1414.3 120.112 1423.05 Q120.112 1431.77 117.033 1436.38 Q113.978 1440.96 108.168 1440.96 Q102.358 1440.96 99.2789 1436.38 Q96.2234 1431.77 96.2234 1423.05 Q96.2234 1414.3 99.2789 1409.71 Q102.358 1405.11 108.168 1405.11 Z\" fill=\"#000000\" fill-rule=\"evenodd\" fill-opacity=\"1\" /><path clip-path=\"url(#clip300)\" d=\"M63.9319 1115.39 Q60.3208 1115.39 58.4921 1118.95 Q56.6865 1122.49 56.6865 1129.62 Q56.6865 1136.73 58.4921 1140.3 Q60.3208 1143.84 63.9319 1143.84 Q67.5661 1143.84 69.3717 1140.3 Q71.2004 1136.73 71.2004 1129.62 Q71.2004 1122.49 69.3717 1118.95 Q67.5661 1115.39 63.9319 1115.39 M63.9319 1111.68 Q69.742 1111.68 72.7976 1116.29 Q75.8763 1120.87 75.8763 1129.62 Q75.8763 1138.35 72.7976 1142.96 Q69.742 1147.54 63.9319 1147.54 Q58.1217 1147.54 55.043 1142.96 Q51.9875 1138.35 51.9875 1129.62 Q51.9875 1120.87 55.043 1116.29 Q58.1217 1111.68 63.9319 1111.68 Z\" fill=\"#000000\" fill-rule=\"evenodd\" fill-opacity=\"1\" /><path clip-path=\"url(#clip300)\" d=\"M84.0938 1140.99 L88.978 1140.99 L88.978 1146.87 L84.0938 1146.87 L84.0938 1140.99 Z\" fill=\"#000000\" fill-rule=\"evenodd\" fill-opacity=\"1\" /><path clip-path=\"url(#clip300)\" d=\"M99.2095 1112.31 L117.566 1112.31 L117.566 1116.24 L103.492 1116.24 L103.492 1124.72 Q104.51 1124.37 105.529 1124.21 Q106.547 1124.02 107.566 1124.02 Q113.353 1124.02 116.733 1127.19 Q120.112 1130.36 120.112 1135.78 Q120.112 1141.36 116.64 1144.46 Q113.168 1147.54 106.848 1147.54 Q104.672 1147.54 102.404 1147.17 Q100.159 1146.8 97.7511 1146.06 L97.7511 1141.36 Q99.8345 1142.49 102.057 1143.05 Q104.279 1143.61 106.756 1143.61 Q110.76 1143.61 113.098 1141.5 Q115.436 1139.39 115.436 1135.78 Q115.436 1132.17 113.098 1130.06 Q110.76 1127.96 106.756 1127.96 Q104.881 1127.96 103.006 1128.37 Q101.154 1128.79 99.2095 1129.67 L99.2095 1112.31 Z\" fill=\"#000000\" fill-rule=\"evenodd\" fill-opacity=\"1\" /><path clip-path=\"url(#clip300)\" d=\"M53.7467 849.511 L61.3856 849.511 L61.3856 823.146 L53.0754 824.812 L53.0754 820.553 L61.3393 818.887 L66.0152 818.887 L66.0152 849.511 L73.654 849.511 L73.654 853.447 L53.7467 853.447 L53.7467 849.511 Z\" fill=\"#000000\" fill-rule=\"evenodd\" fill-opacity=\"1\" /><path clip-path=\"url(#clip300)\" d=\"M83.0984 847.567 L87.9827 847.567 L87.9827 853.447 L83.0984 853.447 L83.0984 847.567 Z\" fill=\"#000000\" fill-rule=\"evenodd\" fill-opacity=\"1\" /><path clip-path=\"url(#clip300)\" d=\"M108.168 821.965 Q104.557 821.965 102.728 825.53 Q100.922 829.072 100.922 836.201 Q100.922 843.308 102.728 846.872 Q104.557 850.414 108.168 850.414 Q111.802 850.414 113.608 846.872 Q115.436 843.308 115.436 836.201 Q115.436 829.072 113.608 825.53 Q111.802 821.965 108.168 821.965 M108.168 818.262 Q113.978 818.262 117.033 822.868 Q120.112 827.451 120.112 836.201 Q120.112 844.928 117.033 849.534 Q113.978 854.118 108.168 854.118 Q102.358 854.118 99.2789 849.534 Q96.2234 844.928 96.2234 836.201 Q96.2234 827.451 99.2789 822.868 Q102.358 818.262 108.168 818.262 Z\" fill=\"#000000\" fill-rule=\"evenodd\" fill-opacity=\"1\" /><path clip-path=\"url(#clip300)\" d=\"M54.7421 556.089 L62.381 556.089 L62.381 529.723 L54.0708 531.39 L54.0708 527.13 L62.3347 525.464 L67.0106 525.464 L67.0106 556.089 L74.6494 556.089 L74.6494 560.024 L54.7421 560.024 L54.7421 556.089 Z\" fill=\"#000000\" fill-rule=\"evenodd\" fill-opacity=\"1\" /><path clip-path=\"url(#clip300)\" d=\"M84.0938 554.144 L88.978 554.144 L88.978 560.024 L84.0938 560.024 L84.0938 554.144 Z\" fill=\"#000000\" fill-rule=\"evenodd\" fill-opacity=\"1\" /><path clip-path=\"url(#clip300)\" d=\"M99.2095 525.464 L117.566 525.464 L117.566 529.399 L103.492 529.399 L103.492 537.871 Q104.51 537.524 105.529 537.362 Q106.547 537.177 107.566 537.177 Q113.353 537.177 116.733 540.348 Q120.112 543.519 120.112 548.936 Q120.112 554.515 116.64 557.616 Q113.168 560.695 106.848 560.695 Q104.672 560.695 102.404 560.325 Q100.159 559.954 97.7511 559.214 L97.7511 554.515 Q99.8345 555.649 102.057 556.204 Q104.279 556.76 106.756 556.76 Q110.76 556.76 113.098 554.653 Q115.436 552.547 115.436 548.936 Q115.436 545.325 113.098 543.218 Q110.76 541.112 106.756 541.112 Q104.881 541.112 103.006 541.528 Q101.154 541.945 99.2095 542.825 L99.2095 525.464 Z\" fill=\"#000000\" fill-rule=\"evenodd\" fill-opacity=\"1\" /><path clip-path=\"url(#clip300)\" d=\"M56.9643 262.666 L73.2837 262.666 L73.2837 266.601 L51.3393 266.601 L51.3393 262.666 Q54.0014 259.911 58.5847 255.282 Q63.1911 250.629 64.3717 249.286 Q66.617 246.763 67.4967 245.027 Q68.3994 243.268 68.3994 241.578 Q68.3994 238.823 66.455 237.087 Q64.5337 235.351 61.4319 235.351 Q59.2328 235.351 56.7791 236.115 Q54.3486 236.879 51.5708 238.43 L51.5708 233.708 Q54.3949 232.573 56.8486 231.995 Q59.3023 231.416 61.3393 231.416 Q66.7096 231.416 69.9041 234.101 Q73.0985 236.786 73.0985 241.277 Q73.0985 243.407 72.2883 245.328 Q71.5013 247.226 69.3948 249.819 Q68.8161 250.49 65.7143 253.708 Q62.6124 256.902 56.9643 262.666 Z\" fill=\"#000000\" fill-rule=\"evenodd\" fill-opacity=\"1\" /><path clip-path=\"url(#clip300)\" d=\"M83.0984 260.721 L87.9827 260.721 L87.9827 266.601 L83.0984 266.601 L83.0984 260.721 Z\" fill=\"#000000\" fill-rule=\"evenodd\" fill-opacity=\"1\" /><path clip-path=\"url(#clip300)\" d=\"M108.168 235.12 Q104.557 235.12 102.728 238.684 Q100.922 242.226 100.922 249.356 Q100.922 256.462 102.728 260.027 Q104.557 263.569 108.168 263.569 Q111.802 263.569 113.608 260.027 Q115.436 256.462 115.436 249.356 Q115.436 242.226 113.608 238.684 Q111.802 235.12 108.168 235.12 M108.168 231.416 Q113.978 231.416 117.033 236.022 Q120.112 240.606 120.112 249.356 Q120.112 258.083 117.033 262.689 Q113.978 267.272 108.168 267.272 Q102.358 267.272 99.2789 262.689 Q96.2234 258.083 96.2234 249.356 Q96.2234 240.606 99.2789 236.022 Q102.358 231.416 108.168 231.416 Z\" fill=\"#000000\" fill-rule=\"evenodd\" fill-opacity=\"1\" /><polyline clip-path=\"url(#clip302)\" style=\"stroke:#009af9; stroke-linecap:butt; stroke-linejoin:round; stroke-width:4; stroke-opacity:1; fill:none\" points=\"\n",
       "  218.281,1423.01 220.811,1409.71 223.341,1396.55 225.87,1383.52 228.4,1370.64 251.791,1257.94 275.182,1156.59 298.573,1066.15 321.964,986.184 336.021,942.991 \n",
       "  350.078,903.333 364.135,867.117 378.192,834.247 401.962,786.019 425.732,746.641 451.552,713.365 477.373,689.414 501.178,675.096 524.982,667.754 550.503,667.115 \n",
       "  576.024,673.411 605.593,688.639 635.161,711.55 661.439,737.653 687.716,768.522 710.758,799.03 733.801,832.319 784.046,912.553 834.59,1000.29 890.473,1100.26 \n",
       "  943.644,1193.06 998.929,1281.61 1045.47,1345.74 1073.88,1378.65 1102.29,1405.89 1128.99,1425.63 1155.7,1439.04 1177.09,1444.78 1198.48,1445.72 1219.87,1441.51 \n",
       "  1241.27,1431.83 1244.56,1429.84 1247.85,1427.7 1251.14,1425.43 1254.43,1423.01 \n",
       "  \"/>\n",
       "<polyline clip-path=\"url(#clip302)\" style=\"stroke:#e26f46; stroke-linecap:butt; stroke-linejoin:round; stroke-width:4; stroke-opacity:1; fill:none\" points=\"\n",
       "  1254.43,1423.01 1256.96,1421.06 1259.49,1419.02 1262.02,1416.91 1264.55,1414.71 1287.94,1390.61 1311.33,1360.1 1334.73,1323.73 1358.12,1282.04 1386.23,1225.65 \n",
       "  1414.34,1163.29 1438.11,1106.59 1461.88,1046.87 1513.53,909.375 1561.14,777.325 1612.18,635.435 1671.31,477.861 1723.87,350.689 1769.95,254.177 1795.08,209.027 \n",
       "  1820.2,169.998 1845.47,137.589 1870.74,112.732 1898.68,94.8616 1926.63,87.9763 1953.21,92.4645 1979.8,108.524 2007.44,138.345 2035.08,182.425 2058.35,231.239 \n",
       "  2081.62,291.32 2095.82,333.762 2110.03,380.722 2124.23,432.32 2138.44,488.679 2151.79,546.105 2165.14,607.945 2178.5,674.298 2191.85,745.266 2213.24,868.83 \n",
       "  2234.63,1004.91 2256.03,1153.92 2277.42,1316.26 2280.71,1342.46 2284,1368.98 2287.29,1395.83 2290.59,1423.01 \n",
       "  \"/>\n",
       "<path clip-path=\"url(#clip300)\" d=\"\n",
       "M1983.03 250.738 L2279.53 250.738 L2279.53 95.2176 L1983.03 95.2176  Z\n",
       "  \" fill=\"#ffffff\" fill-rule=\"evenodd\" fill-opacity=\"1\"/>\n",
       "<polyline clip-path=\"url(#clip300)\" style=\"stroke:#000000; stroke-linecap:butt; stroke-linejoin:round; stroke-width:4; stroke-opacity:1; fill:none\" points=\"\n",
       "  1983.03,250.738 2279.53,250.738 2279.53,95.2176 1983.03,95.2176 1983.03,250.738 \n",
       "  \"/>\n",
       "<polyline clip-path=\"url(#clip300)\" style=\"stroke:#009af9; stroke-linecap:butt; stroke-linejoin:round; stroke-width:4; stroke-opacity:1; fill:none\" points=\"\n",
       "  2007.44,147.058 2153.88,147.058 \n",
       "  \"/>\n",
       "<path clip-path=\"url(#clip300)\" d=\"M2192.13 166.745 Q2190.33 171.375 2188.61 172.787 Q2186.9 174.199 2184.03 174.199 L2180.63 174.199 L2180.63 170.634 L2183.13 170.634 Q2184.89 170.634 2185.86 169.8 Q2186.83 168.967 2188.01 165.865 L2188.78 163.921 L2178.29 138.412 L2182.8 138.412 L2190.91 158.689 L2199.01 138.412 L2203.52 138.412 L2192.13 166.745 Z\" fill=\"#000000\" fill-rule=\"evenodd\" fill-opacity=\"1\" /><path clip-path=\"url(#clip300)\" d=\"M2210.81 160.402 L2218.45 160.402 L2218.45 134.037 L2210.14 135.703 L2210.14 131.444 L2218.41 129.778 L2223.08 129.778 L2223.08 160.402 L2230.72 160.402 L2230.72 164.338 L2210.81 164.338 L2210.81 160.402 Z\" fill=\"#000000\" fill-rule=\"evenodd\" fill-opacity=\"1\" /><polyline clip-path=\"url(#clip300)\" style=\"stroke:#e26f46; stroke-linecap:butt; stroke-linejoin:round; stroke-width:4; stroke-opacity:1; fill:none\" points=\"\n",
       "  2007.44,198.898 2153.88,198.898 \n",
       "  \"/>\n",
       "<path clip-path=\"url(#clip300)\" d=\"M2192.13 218.585 Q2190.33 223.215 2188.61 224.627 Q2186.9 226.039 2184.03 226.039 L2180.63 226.039 L2180.63 222.474 L2183.13 222.474 Q2184.89 222.474 2185.86 221.64 Q2186.83 220.807 2188.01 217.705 L2188.78 215.761 L2178.29 190.252 L2182.8 190.252 L2190.91 210.529 L2199.01 190.252 L2203.52 190.252 L2192.13 218.585 Z\" fill=\"#000000\" fill-rule=\"evenodd\" fill-opacity=\"1\" /><path clip-path=\"url(#clip300)\" d=\"M2214.03 212.242 L2230.35 212.242 L2230.35 216.178 L2208.41 216.178 L2208.41 212.242 Q2211.07 209.488 2215.65 204.858 Q2220.26 200.205 2221.44 198.863 Q2223.68 196.34 2224.56 194.604 Q2225.47 192.844 2225.47 191.155 Q2225.47 188.4 2223.52 186.664 Q2221.6 184.928 2218.5 184.928 Q2216.3 184.928 2213.85 185.692 Q2211.41 186.455 2208.64 188.006 L2208.64 183.284 Q2211.46 182.15 2213.91 181.571 Q2216.37 180.993 2218.41 180.993 Q2223.78 180.993 2226.97 183.678 Q2230.16 186.363 2230.16 190.854 Q2230.16 192.983 2229.35 194.905 Q2228.57 196.803 2226.46 199.395 Q2225.88 200.067 2222.78 203.284 Q2219.68 206.479 2214.03 212.242 Z\" fill=\"#000000\" fill-rule=\"evenodd\" fill-opacity=\"1\" /></svg>\n"
      ]
     },
     "metadata": {},
     "output_type": "display_data"
    }
   ],
   "source": [
    "using Plots\n",
    "\n",
    "x = [0,1,2,3,4]\n",
    "y = [0,1,0,2,0]\n",
    "c = interpolacao_por_partes_cubica(x,y)\n",
    "f(x) = (c[4] * x^3)+(c[3] * x^2)+(c[2] * x)+(c[1])\n",
    "g(x) = (c[8] * x^3)+(c[7] * x^2)+(c[6] * x)+(c[5])\n",
    "plot(f, 0, 2)\n",
    "plot!(g, 2, 4)"
   ]
  }
 ],
 "metadata": {
  "kernelspec": {
   "display_name": "Julia 1.6.4",
   "language": "julia",
   "name": "julia-1.6"
  },
  "language_info": {
   "file_extension": ".jl",
   "mimetype": "application/julia",
   "name": "julia",
   "version": "1.6.4"
  }
 },
 "nbformat": 4,
 "nbformat_minor": 4
}
