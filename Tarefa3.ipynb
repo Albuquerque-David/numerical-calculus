{
 "cells": [
  {
   "cell_type": "markdown",
   "metadata": {},
   "source": [
    "# Cálculo Numérico - 2021.2 - Tarefa 3 - Professor João Paixão\n",
    "## Realizado por: David Rodrigues Albuquerque - 120047390\n",
    "## Questões discutidas com: Beatriz Almeira Ramos, Carlos Bravo, Matheus Barroso"
   ]
  },
  {
   "cell_type": "markdown",
   "metadata": {},
   "source": [
    "# Exercício 1.1\n",
    "\n",
    "Para o exercício proposto, devemos aproximar $\\sqrt{10}$ com o Método da Bissecção no intervalo $[0,20]$. Devemos também determinar quantos passos serão necessários caso seja necessário ter um erro máximo de $10^{-8}$. Para isto, devemos nos recordar que o erro do Método da Bissecção pode ser definido de duas formas.\n",
    "\n",
    "Erro no domínio: $x_{f} \\approx x_{c}$.\n",
    "\n",
    "Erro no contradomínio: $f(x_{f}) \\approx 0$\n",
    "\n",
    "Usaremos o erro no domínio, pois vamos encontrar $x$ tal que $f(x) = 0$.\n",
    "\n",
    "Para realizarmos nossa aproximação, devemos determinar inicialmente uma função sobre a qual aplicaremos o Método da Bissecção. Para isto, podemos procurar uma função tal que $f(\\sqrt{10}) = 0$. Trivialmente, podemos perceber que pode ser utilizada a função $f(x) = x^2 - 10$. Com isto, podemos fazer a aproximação do zero da função $f(x)$, que é o $\\sqrt{10}$. Podemos então aplicar diretamente o algoritmo para fazer uma aproximação.\n"
   ]
  },
  {
   "cell_type": "code",
   "execution_count": 106,
   "metadata": {},
   "outputs": [
    {
     "data": {
      "text/plain": [
       "tem_sinais_opostos (generic function with 1 method)"
      ]
     },
     "execution_count": 106,
     "metadata": {},
     "output_type": "execute_result"
    }
   ],
   "source": [
    "# Função auxiliar para verificar sinais opostos\n",
    "function tem_sinais_opostos(f,a,b) #função recebe f(a) e f(b) não nulos\n",
    "    return f(a)*f(b) < 0\n",
    "end"
   ]
  },
  {
   "cell_type": "code",
   "execution_count": 107,
   "metadata": {},
   "outputs": [
    {
     "data": {
      "text/plain": [
       "bissecao_raiz_10 (generic function with 1 method)"
      ]
     },
     "execution_count": 107,
     "metadata": {},
     "output_type": "execute_result"
    }
   ],
   "source": [
    "# Método da Bissecção para aproximar raiz de 10 usando o polinômio x²-10 no intervalo [0,20]\n",
    "# Como os intervalos não são raízes e já tem sinais opostos, não nos preocuparemos com isto\n",
    "function bissecao_raiz_10(tamanho_final_do_intervalo) \n",
    "    \n",
    "    # Intervalo [0,20]\n",
    "    a = 0 \n",
    "    b = 20 \n",
    "    f(x) = x^2-10 # Função x²-10\n",
    "    iteracoes = floor(log2((b-a)/tamanho_final_do_intervalo))+1\n",
    "    \n",
    "    for i=1:iteracoes\n",
    "        m=(a+b)/2\n",
    "        if f(m) == 0\n",
    "            return m\n",
    "        end\n",
    "        \n",
    "        if tem_sinais_opostos(f,a,m)\n",
    "            b=m\n",
    "        else\n",
    "            a=m\n",
    "        end\n",
    "    end\n",
    "    \n",
    "    x_final=(a+b)/2\n",
    "    return x_final, iteracoes\n",
    "end"
   ]
  },
  {
   "cell_type": "markdown",
   "metadata": {},
   "source": [
    "Com isto, podemos fazer a chamada do método passando o tamanho máximo do erro que o usuário solicita, pois o tamanho do intervalo final define uma distância ao $x$ real. Com isto, podemos obter o número de iterações necessárias para que o erro seja, no máximo, $10^{-8}$."
   ]
  },
  {
   "cell_type": "code",
   "execution_count": 108,
   "metadata": {},
   "outputs": [
    {
     "data": {
      "text/plain": [
       "(3.1622776621952653, 31.0)"
      ]
     },
     "execution_count": 108,
     "metadata": {},
     "output_type": "execute_result"
    }
   ],
   "source": [
    "bissecao_raiz_10(10^-8)"
   ]
  },
  {
   "cell_type": "markdown",
   "metadata": {},
   "source": [
    "Com isto, obtemos uma aproximação de $\\sqrt{10} \\approx 3.1622776621952653$ onde foram necessários $31$ passos para obter um erro máximo de $10^{-8}$. "
   ]
  },
  {
   "cell_type": "markdown",
   "metadata": {},
   "source": [
    "# Exercício 1.2)"
   ]
  },
  {
   "cell_type": "markdown",
   "metadata": {},
   "source": [
    "Para este exercício, faremos a implementação de 3 métodos. O primeiro método será responsável por nos indicar se as funções na bissecção tem sinais opostos. O segundo método é uma implementação genérica do Método de Newton, que receberá uma função, a derivada da função, a quantidade de iterações e o chute inicial como parâmetros, retornando assim uma aproximação do valor. O terceiro método será o Método da Bissecção, que receberá como parâmetro o polinômio de grau 5 e sua derivada. Esta última função realizará normalmente o cálculo através do Método da Bissecção deixando um intervalo de $10^{-2}$. Após isto, fará uma chamada para o Método de Newton passando como chute inicial essa aproximação e retornará esse valor final."
   ]
  },
  {
   "cell_type": "code",
   "execution_count": 109,
   "metadata": {},
   "outputs": [
    {
     "data": {
      "text/plain": [
       "tem_sinais_opostos (generic function with 1 method)"
      ]
     },
     "execution_count": 109,
     "metadata": {},
     "output_type": "execute_result"
    }
   ],
   "source": [
    "# Função auxiliar para verificar sinais opostos\n",
    "function tem_sinais_opostos(f,a,b) #função recebe f(a) e f(b) não nulos\n",
    "    return f(a)*f(b) < 0\n",
    "end"
   ]
  },
  {
   "cell_type": "code",
   "execution_count": 110,
   "metadata": {},
   "outputs": [
    {
     "data": {
      "text/plain": [
       "metodo_newton (generic function with 2 methods)"
      ]
     },
     "execution_count": 110,
     "metadata": {},
     "output_type": "execute_result"
    }
   ],
   "source": [
    "# Método de Newton para a função f e f'\n",
    "function metodo_newton(f, fd, iteracoes, chute) # Função f, f', número de iteracoes e chute inicial\n",
    "    for i=1:iteracoes\n",
    "        chute = chute - (f(chute))/(fd(chute)) # Chute - f(chute)/f'(chute)\n",
    "    end\n",
    "    return chute # Aproximação do resultado. Quanto mais iterações, maior a precisão.\n",
    "end"
   ]
  },
  {
   "cell_type": "code",
   "execution_count": 111,
   "metadata": {},
   "outputs": [
    {
     "data": {
      "text/plain": [
       "bissecao (generic function with 1 method)"
      ]
     },
     "execution_count": 111,
     "metadata": {},
     "output_type": "execute_result"
    }
   ],
   "source": [
    "# Método da Bissecção para retornar uma raíz de um polinômio de grau 5 usando o Método da Bissecção e o Método de Newton.\n",
    "function bissecao(f, fd) \n",
    "    \n",
    "    # Intervalo [-100, 100]\n",
    "    a = -100 \n",
    "    b = 100\n",
    "    tamanho_final_do_intervalo = 10^-2\n",
    "    iteracoes = floor(log2((b-a)/tamanho_final_do_intervalo))+1\n",
    "    \n",
    "    if !(tem_sinais_opostos(f,a,b)) # Verificação de sinais opostos\n",
    "        return \"Não tem sinais opostos\"\n",
    "    end\n",
    "    \n",
    "    for i=1:iteracoes\n",
    "        m=(a+b)/2\n",
    "        if f(m) == 0\n",
    "            return m\n",
    "        end\n",
    "        \n",
    "        if tem_sinais_opostos(f,a,m)\n",
    "            b=m\n",
    "        else\n",
    "            a=m\n",
    "        end\n",
    "    end\n",
    "    \n",
    "    chute=(a+b)/2\n",
    "    x_final = metodo_newton(f, fd, 20, chute)\n",
    "    return x_final\n",
    "end"
   ]
  },
  {
   "cell_type": "markdown",
   "metadata": {},
   "source": [
    "Com isto, realizaremos uso do Método da Bissecção em conjunto com o Método de Newton para calcular uma das raízes de $f(x) = x^{5}-25$. Este método deve então nos dar uma aproximação de $\\sqrt[5]{25}$."
   ]
  },
  {
   "cell_type": "code",
   "execution_count": 112,
   "metadata": {},
   "outputs": [
    {
     "data": {
      "text/plain": [
       "1.9036539387158784"
      ]
     },
     "execution_count": 112,
     "metadata": {},
     "output_type": "execute_result"
    }
   ],
   "source": [
    "f(x) = x^5-25\n",
    "fd(x) = 5x^4\n",
    "bissecao(f, fd)"
   ]
  },
  {
   "cell_type": "code",
   "execution_count": null,
   "metadata": {},
   "outputs": [],
   "source": []
  },
  {
   "cell_type": "markdown",
   "metadata": {},
   "source": [
    "# Exercício 1.3)"
   ]
  },
  {
   "cell_type": "markdown",
   "metadata": {},
   "source": [
    "Para este exercício, devemos escolher um dos métodos proposto e fazer uma aproximação de $ln(3)$. Usaremos o Método da Bissecção para realizar o cálculo. Devemos garantir também um intervalo menor que $10^{-3}$\n",
    "\n",
    "Para obtermos a aproximação, podemos utilizar uma aproximação pelo domínio, procurando alguma função tal que $f(ln(3)) = 0$. Para isto, como sabemos calcular $e^{x}$ para qualquer $x$ e sabemos as propriedades de $ln$, podemos utilizar a função $f(x) = x - ln(e^{ln(3)})$, pois assim procuraremos no domínio da função o valor da raíz $ln(3)$, obtendo uma aproximação desta.\n",
    "\n",
    "Para isto, construiremos primeiro o método auxiliar de sinais apostos. Após insto, faremos o Método da Bissecção para o caso proposto, utilizando o intervalo $[-5,5]$.\n",
    "\n",
    "\n",
    "\n"
   ]
  },
  {
   "cell_type": "code",
   "execution_count": 113,
   "metadata": {},
   "outputs": [
    {
     "data": {
      "text/plain": [
       "tem_sinais_opostos (generic function with 1 method)"
      ]
     },
     "execution_count": 113,
     "metadata": {},
     "output_type": "execute_result"
    }
   ],
   "source": [
    "# Função auxiliar para verificar sinais opostos\n",
    "function tem_sinais_opostos(f,a,b) #função recebe f(a) e f(b) não nulos\n",
    "    return f(a)*f(b) < 0\n",
    "end"
   ]
  },
  {
   "cell_type": "code",
   "execution_count": 114,
   "metadata": {},
   "outputs": [
    {
     "data": {
      "text/plain": [
       "bissecao_ln_3 (generic function with 1 method)"
      ]
     },
     "execution_count": 114,
     "metadata": {},
     "output_type": "execute_result"
    }
   ],
   "source": [
    "# Método da Bissecção para aproximar ln(3) usando o polinômio x-ln(e^{ln(3)}) no intervalo [0,20]\n",
    "# Como os intervalos não são raízes e já tem sinais opostos, não nos preocuparemos com isto\n",
    "function bissecao_ln_3(tamanho_final_do_intervalo) \n",
    "    \n",
    "    # Intervalo [-5,5]\n",
    "    a = -5\n",
    "    b = 5 \n",
    "    f(x) = x-log(MathConstants.e^(log(3))) # Função x-ln(e^(ln(3)))\n",
    "    iteracoes = floor(log2((b-a)/tamanho_final_do_intervalo))+1\n",
    "    \n",
    "    for i=1:iteracoes\n",
    "        m=(a+b)/2\n",
    "        if f(m) == 0\n",
    "            return m\n",
    "        end\n",
    "        \n",
    "        if tem_sinais_opostos(f,a,m)\n",
    "            b=m\n",
    "        else\n",
    "            a=m\n",
    "        end\n",
    "    end\n",
    "    \n",
    "    x_final=(a+b)/2\n",
    "    return x_final\n",
    "end"
   ]
  },
  {
   "cell_type": "markdown",
   "metadata": {},
   "source": [
    "Com isto, podemos utilizar a função do Método da Bissecção criado para este caso passando um tamanho de intervalo menor que $10^{-3}$ para nos dar uma aproximação de $ln(3)$"
   ]
  },
  {
   "cell_type": "code",
   "execution_count": 115,
   "metadata": {},
   "outputs": [
    {
     "data": {
      "text/plain": [
       "1.0985946655273438"
      ]
     },
     "execution_count": 115,
     "metadata": {},
     "output_type": "execute_result"
    }
   ],
   "source": [
    "bissecao_ln_3(10^-4)"
   ]
  },
  {
   "cell_type": "code",
   "execution_count": 116,
   "metadata": {},
   "outputs": [],
   "source": [
    "# Exercício 1.4)"
   ]
  },
  {
   "cell_type": "markdown",
   "metadata": {},
   "source": [
    "Para o exercício proposto, devemos obter uma aproximação de $cos(40)$ utilizando o método da interpolação polinomial. Utilizaremos então um conjunto de pontos afim de montar o sistema de equações que resultará na matriz de Vandermonde para encontrarmos uma função aproximada que nos dará o valor de $cos(40)$.\n",
    "\n",
    "Vamos utilizar apenas os valores entre cos(30) e cos(60), pois assim podemos tirar uma aproximação da função trigonométrica próxima de um polinômio de grau 2 utilizando valores já conhecidos, isto é, cos(30), cos(45) e cos(60). Com isto, teremos uma função que passa pelos pontos $(x_{1},y_{1}),(x_{2},y_{2}),(x_{3},y_{3})$ e que nos dará um polinômio na forma \n",
    "$$P = c_{2}x^2 + c_{1}x + c_{0}$$\n",
    "\n",
    "Com isto, podemos montar o seguinte sistema de equações\n",
    "\n",
    "$$\n",
    "\\begin{cases}\n",
    "c_{2}x_{0}^2 + c_{1}x_{0} + c_{0} = y_{0} \\\\\n",
    "c_{2}x_{1}^2 + c_{1}x_{1} + c_{0} = y_{1} \\\\\n",
    "c_{2}x_{2}^2 + c_{1}x_{2} + c_{0} = y_{2} \\\\\n",
    "\\end{cases}\n",
    "$$\n",
    "\n",
    "Usaremos então os pontos $(30,\\dfrac{\\sqrt{3}}{2}),(45,\\dfrac{\\sqrt{2}}{2}),(60, \\dfrac{1}{2})$. Portanto, temos que \n",
    "\n",
    "\\begin{cases}\n",
    "c_{2}30^2 + c_{1}30 + c_{0} = \\dfrac{\\sqrt{3}}{2} \\\\\n",
    "c_{2}45^2 + c_{1}45 + c_{0} = \\dfrac{\\sqrt{2}}{2} \\\\\n",
    "c_{2}60^2 + c_{1}60 + c_{0} = \\dfrac{1}{2} \\\\\n",
    "\\end{cases}\n",
    "\n",
    "Com isto, podemos modelar as matrizes da seguinte forma\n",
    "\n",
    "\n",
    "$$\n",
    "V = \\begin{bmatrix}\n",
    "1 & 30 & 30^2 \\\\\n",
    "1 & 45 & 45^2 \\\\\n",
    "1 & 60 & 60^2 \\\\\n",
    "\\end{bmatrix}\n",
    "$$\n",
    "\n",
    "$$\n",
    "y = \\begin{bmatrix}\n",
    "\\dfrac{\\sqrt{3}}{2} \\\\\n",
    "\\dfrac{\\sqrt{2}}{2} \\\\\n",
    "\\dfrac{1}{2} \\\\\n",
    "\\end{bmatrix}\n",
    "$$\n",
    "\n",
    "$$\n",
    "C = \\begin{bmatrix}\n",
    "c_{0} \\\\\n",
    "c_{1} \\\\\n",
    "c_{2} \\\\\n",
    "\\end{bmatrix}\n",
    "$$\n",
    "\n",
    "Devemos então resolver o sistema tal que $V \\cdot c = y$. Vamos então utilizar o método interpolacao_cosseno_40 descrito abaixo para resolver o sistema, retornando os coeficientes do polinômio de grau 2.\n",
    "\n"
   ]
  },
  {
   "cell_type": "code",
   "execution_count": 117,
   "metadata": {},
   "outputs": [
    {
     "data": {
      "text/plain": [
       "interpolacao_cosseno (generic function with 1 method)"
      ]
     },
     "execution_count": 117,
     "metadata": {},
     "output_type": "execute_result"
    }
   ],
   "source": [
    "function interpolacao_cosseno()\n",
    "    # Cria a matriz V\n",
    "    x = [deg2rad(30);deg2rad(45);deg2rad(60)]\n",
    "    y = [cos(deg2rad(30)); cos(deg2rad(45)); cos(deg2rad(60))]\n",
    "    V=[x.^0 x.^1 x.^2]\n",
    "    c=V\\y # Resolve o sistema linear Vc=y\n",
    "    return c #vetor de coeficientes\n",
    "end"
   ]
  },
  {
   "cell_type": "markdown",
   "metadata": {},
   "source": [
    "Com isto, podemos utilizar o método para achar os coeficientes da polinômio de grau 2 que nos dá uma aproximação da função original. Podemos então armazenar esses coeficientes, montar a função quadrática e calcular uma aproximação de cos(40) a partir desta função."
   ]
  },
  {
   "cell_type": "code",
   "execution_count": 118,
   "metadata": {},
   "outputs": [
    {
     "data": {
      "text/plain": [
       "0.7654338952290287"
      ]
     },
     "execution_count": 118,
     "metadata": {},
     "output_type": "execute_result"
    }
   ],
   "source": [
    "coefs = interpolacao_cosseno()\n",
    "c2 = coefs[3]\n",
    "c1 = coefs[2]\n",
    "c0 = coefs[1]\n",
    "f(x) = c2*(x^2) + c1*x + c0\n",
    "f(deg2rad(40))"
   ]
  },
  {
   "cell_type": "code",
   "execution_count": 119,
   "metadata": {},
   "outputs": [],
   "source": [
    "# Exercício 1.5)"
   ]
  },
  {
   "cell_type": "code",
   "execution_count": 120,
   "metadata": {},
   "outputs": [],
   "source": [
    "# Exercício 1.6)"
   ]
  },
  {
   "cell_type": "code",
   "execution_count": 121,
   "metadata": {},
   "outputs": [],
   "source": [
    "# Exercício 1.7)"
   ]
  }
 ],
 "metadata": {
  "kernelspec": {
   "display_name": "Julia 1.6.4",
   "language": "julia",
   "name": "julia-1.6"
  },
  "language_info": {
   "file_extension": ".jl",
   "mimetype": "application/julia",
   "name": "julia",
   "version": "1.6.4"
  }
 },
 "nbformat": 4,
 "nbformat_minor": 4
}
