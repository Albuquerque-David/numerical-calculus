{
 "cells": [
  {
   "cell_type": "markdown",
   "metadata": {},
   "source": [
    "# Cálculo Numérico - 2021.2 - Tarefa 6 - Professor João Paixão\n",
    "## Realizado por: David Rodrigues Albuquerque - 120047390\n",
    "## Questões discutidas com: Beatriz Almeida Ramos, Carlos Bravo, Matheus Barroso"
   ]
  },
  {
   "cell_type": "code",
   "execution_count": 1,
   "metadata": {},
   "outputs": [],
   "source": [
    "using Plots\n",
    "using LinearAlgebra"
   ]
  },
  {
   "cell_type": "markdown",
   "metadata": {},
   "source": [
    "# Exercício 1a)"
   ]
  },
  {
   "cell_type": "markdown",
   "metadata": {},
   "source": [
    "## I) Resolve_Diagonal"
   ]
  },
  {
   "cell_type": "markdown",
   "metadata": {},
   "source": [
    "## II) Resolve_Triangular_Superior"
   ]
  },
  {
   "cell_type": "code",
   "execution_count": 2,
   "metadata": {},
   "outputs": [
    {
     "data": {
      "text/plain": [
       "verifica_tamanho (generic function with 1 method)"
      ]
     },
     "metadata": {},
     "output_type": "display_data"
    }
   ],
   "source": [
    "# Verifica se a matriz A eh quadrada e se o numero de linhas da matriz B eh o mesmo numero de colunas da matriz A.\n",
    "function verifica_tamanho(A,b)\n",
    "    if (size(A)[1] != size(A)[2])\n",
    "        println(\"ERRO! Matriz A nao eh quadrada\")\n",
    "        return false\n",
    "    end\n",
    "\n",
    "    if (size(b)[1] != size(A)[2])\n",
    "        println(\"ERRO! O numero de linhas da matriz B não eh o mesmo do numero de colunas da matriz A\")\n",
    "        return false\n",
    "    end\n",
    "    \n",
    "    return true\n",
    "end"
   ]
  },
  {
   "cell_type": "code",
   "execution_count": 85,
   "metadata": {},
   "outputs": [
    {
     "data": {
      "text/plain": [
       "sistema_triangular_superior (generic function with 1 method)"
      ]
     },
     "metadata": {},
     "output_type": "display_data"
    }
   ],
   "source": [
    "function sistema_triangular_superior(A,b) #onde A é triangular superior aonde os elementos da diagonal são diferentes de zero\n",
    "  n,=size(A)\n",
    "  x = zeros(n, 1)\n",
    "\n",
    "  if (!verifica_tamanho(A,b))\n",
    "    return \"ERRO\"\n",
    "  end\n",
    "\n",
    "  for i in reverse(1:n)\n",
    "    soma = 0\n",
    "    for j in i+1:n\n",
    "        soma+=A[i, j]*x[j]\n",
    "    end \n",
    "    x[i] = (b[i] - soma)/(A[i,i])\n",
    "  end\n",
    "return x\n",
    "end\n"
   ]
  },
  {
   "cell_type": "code",
   "execution_count": 97,
   "metadata": {},
   "outputs": [
    {
     "data": {
      "text/plain": [
       "true"
      ]
     },
     "metadata": {},
     "output_type": "display_data"
    }
   ],
   "source": [
    "# Exemplo 1\n",
    "#A= [2 3 4;0 5 7;0 0 9]\n",
    "#x_verdadeiro=randn(3,1)\n",
    "#b=A*x_verdadeiro\n",
    "#x_calculado=sistema_triangular_superior(A,b)\n",
    "#norm(x_verdadeiro - x_calculado) < 0.0000000001\n",
    "\n",
    "# Exemplo 2\n",
    "#A= [342 455 555;645 121 733;455 666 777]\n",
    "#x_verdadeiro=randn(3,1)\n",
    "#b=A*x_verdadeiro\n",
    "#x_calculado=sistema_triangular_superior(A,b)\n",
    "#norm(x_verdadeiro - x_calculado) < 0.0000000001\n",
    "\n",
    "# Exemplo 3\n",
    "A= [423 834 -342 545;0 72 12 -14;0 0 4 5; 0 0 0 1]\n",
    "x_verdadeiro=randn(4,1)\n",
    "b=A*x_verdadeiro\n",
    "x_calculado=sistema_triangular_superior(A,b)\n",
    "norm(x_verdadeiro - x_calculado) < 10^-16"
   ]
  },
  {
   "cell_type": "markdown",
   "metadata": {},
   "source": [
    "## III) Resolve_Triangular_Inferior"
   ]
  },
  {
   "cell_type": "code",
   "execution_count": 6,
   "metadata": {},
   "outputs": [
    {
     "data": {
      "text/plain": [
       "sistema_triangular_inferior (generic function with 1 method)"
      ]
     },
     "metadata": {},
     "output_type": "display_data"
    }
   ],
   "source": [
    "function sistema_triangular_inferior(A,b) # onde A é triangular inferior aonde os elementos da diagonal são diferentes de zero\n",
    "    n= size(A)\n",
    "  #  x=zeros(n,1)\n",
    "  #  x[3] = b[3]/A[3,3]\n",
    "  #  x[2] = (b[2] - A[2,3]*x[3])/A[2,2]\n",
    "  #  x[1] = (b[1]-A[1,2]*x[2]-A[1,3]*x[3])/A[1,1]\n",
    "    #Qual é a complexidade se A_nxn? O(n^2)\n",
    "    return x\n",
    "end"
   ]
  },
  {
   "cell_type": "markdown",
   "metadata": {},
   "source": [
    "## IV) Decomposição_LU"
   ]
  },
  {
   "cell_type": "code",
   "execution_count": 7,
   "metadata": {},
   "outputs": [
    {
     "data": {
      "text/plain": [
       "sistema_denso (generic function with 1 method)"
      ]
     },
     "metadata": {},
     "output_type": "display_data"
    }
   ],
   "source": [
    "function sistema_denso(A,b)\n",
    "    L,U=lu(A)\n",
    "    y=sistema_triangular_inferior(L,b)\n",
    "    x=sistema_triangular_superior(U,y)\n",
    "    return x\n",
    "end"
   ]
  },
  {
   "cell_type": "markdown",
   "metadata": {},
   "source": [
    "## V) Complexidade"
   ]
  },
  {
   "cell_type": "markdown",
   "metadata": {},
   "source": [
    " \n",
    "  #  x=zeros(n,1)\n",
    "  #  x[3] = b[3]/A[3,3]\n",
    "  #  x[2] = (b[2] - A[2,3]*x[3])/A[2,2]\n",
    "  #  x[1] = (b[1]-A[1,2]*x[2]-A[1,3]*x[3])/A[1,1]\n",
    "  #  #Qual é a complexidade se A_nxn? O(n^2)"
   ]
  }
 ],
 "metadata": {
  "kernelspec": {
   "display_name": "Julia 1.5.3",
   "language": "julia",
   "name": "julia-1.5"
  },
  "language_info": {
   "file_extension": ".jl",
   "mimetype": "application/julia",
   "name": "julia",
   "version": "1.5.3"
  }
 },
 "nbformat": 4,
 "nbformat_minor": 4
}
